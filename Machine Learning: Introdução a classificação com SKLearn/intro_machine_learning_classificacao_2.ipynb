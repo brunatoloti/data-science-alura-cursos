{
  "nbformat": 4,
  "nbformat_minor": 0,
  "metadata": {
    "colab": {
      "name": "intro_machine_learning_classificacao_2.ipynb",
      "provenance": [],
      "authorship_tag": "ABX9TyNrkt24lHzu5wUTHHYUXyXN",
      "include_colab_link": true
    },
    "kernelspec": {
      "name": "python3",
      "display_name": "Python 3"
    },
    "language_info": {
      "name": "python"
    }
  },
  "cells": [
    {
      "cell_type": "markdown",
      "metadata": {
        "id": "view-in-github",
        "colab_type": "text"
      },
      "source": [
        "<a href=\"https://colab.research.google.com/github/brunatoloti/data-science-alura-cursos/blob/main/Machine%20Learning%3A%20Introdu%C3%A7%C3%A3o%20a%20classifica%C3%A7%C3%A3o%20com%20SKLearn/intro_machine_learning_classificacao_2.ipynb\" target=\"_parent\"><img src=\"https://colab.research.google.com/assets/colab-badge.svg\" alt=\"Open In Colab\"/></a>"
      ]
    },
    {
      "cell_type": "markdown",
      "metadata": {
        "id": "h0rUAkfgXt7S"
      },
      "source": [
        "Importando as bibliotecas"
      ]
    },
    {
      "cell_type": "code",
      "metadata": {
        "id": "Pu-TKZhtXn_G"
      },
      "source": [
        "import pandas as pd\n",
        "from sklearn.svm import LinearSVC\n",
        "from sklearn.metrics import accuracy_score\n",
        "from sklearn.model_selection import train_test_split"
      ],
      "execution_count": null,
      "outputs": []
    },
    {
      "cell_type": "markdown",
      "metadata": {
        "id": "4JfG8mmBX0Lq"
      },
      "source": [
        "# Testes replicáveis, estratificação e lendo dados da internet"
      ]
    },
    {
      "cell_type": "markdown",
      "metadata": {
        "id": "h6rJUakkX7dS"
      },
      "source": [
        "Importando a base de dados"
      ]
    },
    {
      "cell_type": "code",
      "metadata": {
        "colab": {
          "base_uri": "https://localhost:8080/",
          "height": 206
        },
        "id": "rxuBfgtjXxEf",
        "outputId": "3d6c91cd-67af-44f9-d5b6-3832404a8217"
      },
      "source": [
        "uri = 'https://gist.githubusercontent.com/guilhermesilveira/2d2efa37d66b6c84a722ea627a897ced/raw/10968b997d885cbded1c92938c7a9912ba41c615/tracking.csv'\n",
        "dados = pd.read_csv(uri)\n",
        "dados.head()"
      ],
      "execution_count": null,
      "outputs": [
        {
          "output_type": "execute_result",
          "data": {
            "text/html": [
              "<div>\n",
              "<style scoped>\n",
              "    .dataframe tbody tr th:only-of-type {\n",
              "        vertical-align: middle;\n",
              "    }\n",
              "\n",
              "    .dataframe tbody tr th {\n",
              "        vertical-align: top;\n",
              "    }\n",
              "\n",
              "    .dataframe thead th {\n",
              "        text-align: right;\n",
              "    }\n",
              "</style>\n",
              "<table border=\"1\" class=\"dataframe\">\n",
              "  <thead>\n",
              "    <tr style=\"text-align: right;\">\n",
              "      <th></th>\n",
              "      <th>home</th>\n",
              "      <th>how_it_works</th>\n",
              "      <th>contact</th>\n",
              "      <th>bought</th>\n",
              "    </tr>\n",
              "  </thead>\n",
              "  <tbody>\n",
              "    <tr>\n",
              "      <th>0</th>\n",
              "      <td>1</td>\n",
              "      <td>1</td>\n",
              "      <td>0</td>\n",
              "      <td>0</td>\n",
              "    </tr>\n",
              "    <tr>\n",
              "      <th>1</th>\n",
              "      <td>1</td>\n",
              "      <td>1</td>\n",
              "      <td>0</td>\n",
              "      <td>0</td>\n",
              "    </tr>\n",
              "    <tr>\n",
              "      <th>2</th>\n",
              "      <td>1</td>\n",
              "      <td>1</td>\n",
              "      <td>0</td>\n",
              "      <td>0</td>\n",
              "    </tr>\n",
              "    <tr>\n",
              "      <th>3</th>\n",
              "      <td>1</td>\n",
              "      <td>1</td>\n",
              "      <td>0</td>\n",
              "      <td>0</td>\n",
              "    </tr>\n",
              "    <tr>\n",
              "      <th>4</th>\n",
              "      <td>1</td>\n",
              "      <td>1</td>\n",
              "      <td>0</td>\n",
              "      <td>0</td>\n",
              "    </tr>\n",
              "  </tbody>\n",
              "</table>\n",
              "</div>"
            ],
            "text/plain": [
              "   home  how_it_works  contact  bought\n",
              "0     1             1        0       0\n",
              "1     1             1        0       0\n",
              "2     1             1        0       0\n",
              "3     1             1        0       0\n",
              "4     1             1        0       0"
            ]
          },
          "metadata": {},
          "execution_count": 2
        }
      ]
    },
    {
      "cell_type": "markdown",
      "metadata": {
        "id": "f7i43SDxZbTh"
      },
      "source": [
        "Visualizando o tamanho da base"
      ]
    },
    {
      "cell_type": "code",
      "metadata": {
        "colab": {
          "base_uri": "https://localhost:8080/"
        },
        "id": "Adeb2VrTZf84",
        "outputId": "5c908d4c-ebb1-43c8-c2f8-408460c32a6b"
      },
      "source": [
        "dados.shape"
      ],
      "execution_count": null,
      "outputs": [
        {
          "output_type": "execute_result",
          "data": {
            "text/plain": [
              "(99, 4)"
            ]
          },
          "metadata": {},
          "execution_count": 14
        }
      ]
    },
    {
      "cell_type": "markdown",
      "metadata": {
        "id": "7XekGT8MYwUi"
      },
      "source": [
        "Renomeando as colunas"
      ]
    },
    {
      "cell_type": "code",
      "metadata": {
        "id": "7iUkCJVcYmOZ"
      },
      "source": [
        "mapa = {\n",
        "    'home': 'principal',\n",
        "    'how_it_works': 'como_funciona',\n",
        "    'contact': 'contato',\n",
        "    'bought': 'comprou'\n",
        "}\n",
        "dados.rename(columns=mapa, inplace=True)"
      ],
      "execution_count": null,
      "outputs": []
    },
    {
      "cell_type": "markdown",
      "metadata": {
        "id": "hl2odQYpYOQp"
      },
      "source": [
        "Separando a coluna *bought* que representa as labels, das outras colunas que são as features."
      ]
    },
    {
      "cell_type": "code",
      "metadata": {
        "id": "jwxfbgsHYIVb"
      },
      "source": [
        "x = dados[['principal', 'como_funciona', 'contato']]\n",
        "y = dados['comprou']"
      ],
      "execution_count": null,
      "outputs": []
    },
    {
      "cell_type": "code",
      "metadata": {
        "colab": {
          "base_uri": "https://localhost:8080/",
          "height": 206
        },
        "id": "rs8Cn0yRYhco",
        "outputId": "3e883576-06ed-4a23-ea9d-934d56e5f689"
      },
      "source": [
        "x.head()"
      ],
      "execution_count": null,
      "outputs": [
        {
          "output_type": "execute_result",
          "data": {
            "text/html": [
              "<div>\n",
              "<style scoped>\n",
              "    .dataframe tbody tr th:only-of-type {\n",
              "        vertical-align: middle;\n",
              "    }\n",
              "\n",
              "    .dataframe tbody tr th {\n",
              "        vertical-align: top;\n",
              "    }\n",
              "\n",
              "    .dataframe thead th {\n",
              "        text-align: right;\n",
              "    }\n",
              "</style>\n",
              "<table border=\"1\" class=\"dataframe\">\n",
              "  <thead>\n",
              "    <tr style=\"text-align: right;\">\n",
              "      <th></th>\n",
              "      <th>principal</th>\n",
              "      <th>como_funciona</th>\n",
              "      <th>contato</th>\n",
              "    </tr>\n",
              "  </thead>\n",
              "  <tbody>\n",
              "    <tr>\n",
              "      <th>0</th>\n",
              "      <td>1</td>\n",
              "      <td>1</td>\n",
              "      <td>0</td>\n",
              "    </tr>\n",
              "    <tr>\n",
              "      <th>1</th>\n",
              "      <td>1</td>\n",
              "      <td>1</td>\n",
              "      <td>0</td>\n",
              "    </tr>\n",
              "    <tr>\n",
              "      <th>2</th>\n",
              "      <td>1</td>\n",
              "      <td>1</td>\n",
              "      <td>0</td>\n",
              "    </tr>\n",
              "    <tr>\n",
              "      <th>3</th>\n",
              "      <td>1</td>\n",
              "      <td>1</td>\n",
              "      <td>0</td>\n",
              "    </tr>\n",
              "    <tr>\n",
              "      <th>4</th>\n",
              "      <td>1</td>\n",
              "      <td>1</td>\n",
              "      <td>0</td>\n",
              "    </tr>\n",
              "  </tbody>\n",
              "</table>\n",
              "</div>"
            ],
            "text/plain": [
              "   principal  como_funciona  contato\n",
              "0          1              1        0\n",
              "1          1              1        0\n",
              "2          1              1        0\n",
              "3          1              1        0\n",
              "4          1              1        0"
            ]
          },
          "metadata": {},
          "execution_count": 12
        }
      ]
    },
    {
      "cell_type": "code",
      "metadata": {
        "colab": {
          "base_uri": "https://localhost:8080/"
        },
        "id": "FsT4-iP1YiCJ",
        "outputId": "8110e08c-8fd9-4adc-99da-f7bbe91a54fc"
      },
      "source": [
        "y.head()"
      ],
      "execution_count": null,
      "outputs": [
        {
          "output_type": "execute_result",
          "data": {
            "text/plain": [
              "0    0\n",
              "1    0\n",
              "2    0\n",
              "3    0\n",
              "4    0\n",
              "Name: comprou, dtype: int64"
            ]
          },
          "metadata": {},
          "execution_count": 13
        }
      ]
    },
    {
      "cell_type": "markdown",
      "metadata": {
        "id": "PNpBM5ESZSqo"
      },
      "source": [
        "### Separando os dados de treino e teste de forma manual"
      ]
    },
    {
      "cell_type": "markdown",
      "metadata": {
        "id": "FDgcAUYgZi_A"
      },
      "source": [
        "Para treino, mais ou menos 75% dos dados. Para teste, mais ou menos 25% dos dados.\n",
        "\n",
        "Como a base de dados possui 99 linhas, podemos pegar as 75 primeiras linhas para treino e 24 para teste."
      ]
    },
    {
      "cell_type": "code",
      "metadata": {
        "colab": {
          "base_uri": "https://localhost:8080/"
        },
        "id": "tojxsuubZLSB",
        "outputId": "6dc0ec5e-81d8-4120-ec5b-1aa2bbb2bd8e"
      },
      "source": [
        "x_treino = x[:75]\n",
        "y_treino = y[:75]\n",
        "x_teste = x[75:]\n",
        "y_teste = y[75:]\n",
        "\n",
        "print(f'Tamanho x_treino: {x_treino.shape}')\n",
        "print(f'Tamanho y_treino: {y_treino.shape}')\n",
        "print(f'Tamanho x_teste: {x_teste.shape}')\n",
        "print(f'Tamanho y_teste: {y_teste.shape}')\n",
        "print('\\n')\n",
        "print(f\"Treinaremos com {len(x_treino)} elementos e testaremos com {len(x_teste)} elementos\")"
      ],
      "execution_count": null,
      "outputs": [
        {
          "output_type": "stream",
          "name": "stdout",
          "text": [
            "Tamanho x_treino: (75, 3)\n",
            "Tamanho y_treino: (75,)\n",
            "Tamanho x_teste: (24, 3)\n",
            "Tamanho y_teste: (24,)\n",
            "\n",
            "\n",
            "Treinaremos com 75 elementos e testaremos com 24 elementos\n"
          ]
        }
      ]
    },
    {
      "cell_type": "markdown",
      "metadata": {
        "id": "oZa8oakGa79q"
      },
      "source": [
        "Instanciando o modelo e treinando com os dados de treino"
      ]
    },
    {
      "cell_type": "code",
      "metadata": {
        "colab": {
          "base_uri": "https://localhost:8080/"
        },
        "id": "9mKTiB9faXph",
        "outputId": "85035efb-67f5-4b63-9d35-c5662340259f"
      },
      "source": [
        "modelo = LinearSVC()\n",
        "modelo.fit(x_treino, y_treino)"
      ],
      "execution_count": null,
      "outputs": [
        {
          "output_type": "execute_result",
          "data": {
            "text/plain": [
              "LinearSVC(C=1.0, class_weight=None, dual=True, fit_intercept=True,\n",
              "          intercept_scaling=1, loss='squared_hinge', max_iter=1000,\n",
              "          multi_class='ovr', penalty='l2', random_state=None, tol=0.0001,\n",
              "          verbose=0)"
            ]
          },
          "metadata": {},
          "execution_count": 21
        }
      ]
    },
    {
      "cell_type": "markdown",
      "metadata": {
        "id": "Nw9gxB3EbNDR"
      },
      "source": [
        "Testando o modelo com os dados de teste"
      ]
    },
    {
      "cell_type": "code",
      "metadata": {
        "id": "khtYktEEbKNE"
      },
      "source": [
        "previsoes = modelo.predict(x_teste)"
      ],
      "execution_count": null,
      "outputs": []
    },
    {
      "cell_type": "markdown",
      "metadata": {
        "id": "HD8TfmyUbYGY"
      },
      "source": [
        "Obtendo a taxa de acerto, a acurácia"
      ]
    },
    {
      "cell_type": "code",
      "metadata": {
        "colab": {
          "base_uri": "https://localhost:8080/"
        },
        "id": "JuJ_iqcsbW5_",
        "outputId": "24642ecb-f41a-4436-9b30-83ea9ffa9c50"
      },
      "source": [
        "acuracia = accuracy_score(y_teste, previsoes)*100\n",
        "print(f\"A acurácia foi {round(acuracia, 2)}%\")"
      ],
      "execution_count": null,
      "outputs": [
        {
          "output_type": "stream",
          "name": "stdout",
          "text": [
            "A acurácia foi 95.83%\n"
          ]
        }
      ]
    },
    {
      "cell_type": "markdown",
      "metadata": {
        "id": "6Cyle5rjg2Zc"
      },
      "source": [
        "### Separando os dados de treino e teste usando o método *train_test_split* da *sklearn*, ao invés de fazer manualmente como fizemos acima"
      ]
    },
    {
      "cell_type": "markdown",
      "metadata": {
        "id": "9R9MCqN0iMUs"
      },
      "source": [
        "Declarando SEED para remover a aleatoriedade da separação do treino e do teste\n",
        "Importante fazer isso para podermos replicar esse teste diversas vezes"
      ]
    },
    {
      "cell_type": "code",
      "metadata": {
        "id": "bMoiVRlkhpC6"
      },
      "source": [
        "SEED = 20"
      ],
      "execution_count": null,
      "outputs": []
    },
    {
      "cell_type": "markdown",
      "metadata": {
        "id": "f5eO2YLBiR08"
      },
      "source": [
        "Separando os dados de treino e teste"
      ]
    },
    {
      "cell_type": "code",
      "metadata": {
        "colab": {
          "base_uri": "https://localhost:8080/"
        },
        "id": "W_EBj3Gmbor2",
        "outputId": "2bbd4f61-9c5d-48b3-d51e-58459a7b22bf"
      },
      "source": [
        "x_treino, x_teste, y_treino, y_teste = train_test_split(x, y, random_state = SEED, test_size = 0.25)\n",
        "\n",
        "print(f'Tamanho x_treino: {x_treino.shape}')\n",
        "print(f'Tamanho y_treino: {y_treino.shape}')\n",
        "print(f'Tamanho x_teste: {x_teste.shape}')\n",
        "print(f'Tamanho y_teste: {y_teste.shape}')\n",
        "print('\\n')\n",
        "print(f\"Treinaremos com {len(x_treino)} elementos e testaremos com {len(x_teste)} elementos\")"
      ],
      "execution_count": null,
      "outputs": [
        {
          "output_type": "stream",
          "name": "stdout",
          "text": [
            "Tamanho x_treino: (74, 3)\n",
            "Tamanho y_treino: (74,)\n",
            "Tamanho x_teste: (25, 3)\n",
            "Tamanho y_teste: (25,)\n",
            "\n",
            "\n",
            "Treinaremos com 74 elementos e testaremos com 25 elementos\n"
          ]
        }
      ]
    },
    {
      "cell_type": "markdown",
      "metadata": {
        "id": "CZzQfa4riXLz"
      },
      "source": [
        "Instanciando o modelo e treinando com os dados de treino\n"
      ]
    },
    {
      "cell_type": "code",
      "metadata": {
        "colab": {
          "base_uri": "https://localhost:8080/"
        },
        "id": "9FClUeE4hNfb",
        "outputId": "235ae3e2-3d33-4419-e043-95af45c47e82"
      },
      "source": [
        "modelo = LinearSVC()\n",
        "modelo.fit(x_treino, y_treino)"
      ],
      "execution_count": null,
      "outputs": [
        {
          "output_type": "execute_result",
          "data": {
            "text/plain": [
              "LinearSVC(C=1.0, class_weight=None, dual=True, fit_intercept=True,\n",
              "          intercept_scaling=1, loss='squared_hinge', max_iter=1000,\n",
              "          multi_class='ovr', penalty='l2', random_state=None, tol=0.0001,\n",
              "          verbose=0)"
            ]
          },
          "metadata": {},
          "execution_count": 34
        }
      ]
    },
    {
      "cell_type": "markdown",
      "metadata": {
        "id": "Pz6IGxa8iX1D"
      },
      "source": [
        "Testando o modelo com os dados de teste"
      ]
    },
    {
      "cell_type": "code",
      "metadata": {
        "id": "FZnZg8jChSjh"
      },
      "source": [
        "previsoes = modelo.predict(x_teste)"
      ],
      "execution_count": null,
      "outputs": []
    },
    {
      "cell_type": "markdown",
      "metadata": {
        "id": "3AspsWK_ibDD"
      },
      "source": [
        "Obtendo a taxa de acerto, a acurácia"
      ]
    },
    {
      "cell_type": "code",
      "metadata": {
        "colab": {
          "base_uri": "https://localhost:8080/"
        },
        "id": "sQTR-9fGhVcC",
        "outputId": "575f4449-bceb-47e4-954a-34857718799b"
      },
      "source": [
        "acuracia = accuracy_score(y_teste, previsoes)*100\n",
        "print(f\"A acurácia foi {round(acuracia, 2)}%\")"
      ],
      "execution_count": null,
      "outputs": [
        {
          "output_type": "stream",
          "name": "stdout",
          "text": [
            "A acurácia foi 96.0%\n"
          ]
        }
      ]
    },
    {
      "cell_type": "markdown",
      "metadata": {
        "id": "2w8lEOnAizwS"
      },
      "source": [
        "### As classes estão proporcionais entre os conjuntos de treino e teste?"
      ]
    },
    {
      "cell_type": "code",
      "metadata": {
        "colab": {
          "base_uri": "https://localhost:8080/"
        },
        "id": "LHjMjfgNhXQS",
        "outputId": "3f6e3288-62cf-4d36-a9de-6705aaa1b203"
      },
      "source": [
        "y_treino.value_counts()"
      ],
      "execution_count": null,
      "outputs": [
        {
          "output_type": "execute_result",
          "data": {
            "text/plain": [
              "0    47\n",
              "1    27\n",
              "Name: comprou, dtype: int64"
            ]
          },
          "metadata": {},
          "execution_count": 39
        }
      ]
    },
    {
      "cell_type": "code",
      "metadata": {
        "colab": {
          "base_uri": "https://localhost:8080/"
        },
        "id": "mcFTdvYiisCR",
        "outputId": "79112110-5977-4e4b-921e-6d6c912b4301"
      },
      "source": [
        "y_teste.value_counts()"
      ],
      "execution_count": null,
      "outputs": [
        {
          "output_type": "execute_result",
          "data": {
            "text/plain": [
              "0    19\n",
              "1     6\n",
              "Name: comprou, dtype: int64"
            ]
          },
          "metadata": {},
          "execution_count": 40
        }
      ]
    },
    {
      "cell_type": "markdown",
      "metadata": {
        "id": "7LrqY_68jJST"
      },
      "source": [
        "Vemos que não! De fato, no treino 47/27 = 1.74, ou seja, são quase 2 pessoas que não compraram pra 1 que comprou; já no teste, 19/6 = 3.16, ou seja, são 3 pessoas que não compraram pra 1 que comprou. Porém, é importante termos essa proporcionalidade no treino e teste"
      ]
    },
    {
      "cell_type": "markdown",
      "metadata": {
        "id": "SDms6Mz0jYrr"
      },
      "source": [
        "### Separando os dados de treino e teste usando o método *train_test_split* da *sklearn* e garantindo a proporcionalidade"
      ]
    },
    {
      "cell_type": "code",
      "metadata": {
        "colab": {
          "base_uri": "https://localhost:8080/"
        },
        "id": "Dfz6jouGivYB",
        "outputId": "4d46ec76-21c5-4ca2-b3b8-6debe46e7e43"
      },
      "source": [
        "x_treino, x_teste, y_treino, y_teste = train_test_split(x, y, \n",
        "                                                        random_state = SEED,\n",
        "                                                        test_size = 0.25,\n",
        "                                                        stratify = y)\n",
        "\n",
        "print(f'Tamanho x_treino: {x_treino.shape}')\n",
        "print(f'Tamanho y_treino: {y_treino.shape}')\n",
        "print(f'Tamanho x_teste: {x_teste.shape}')\n",
        "print(f'Tamanho y_teste: {y_teste.shape}')\n",
        "print('\\n')\n",
        "print(f\"Treinaremos com {len(x_treino)} elementos e testaremos com {len(x_teste)} elementos\")"
      ],
      "execution_count": null,
      "outputs": [
        {
          "output_type": "stream",
          "name": "stdout",
          "text": [
            "Tamanho x_treino: (74, 3)\n",
            "Tamanho y_treino: (74,)\n",
            "Tamanho x_teste: (25, 3)\n",
            "Tamanho y_teste: (25,)\n",
            "\n",
            "\n",
            "Treinaremos com 74 elementos e testaremos com 25 elementos\n"
          ]
        }
      ]
    },
    {
      "cell_type": "markdown",
      "metadata": {
        "id": "3Gx_hePjlNN4"
      },
      "source": [
        "Instanciando o modelo e treinando com os dados de treino\n"
      ]
    },
    {
      "cell_type": "code",
      "metadata": {
        "colab": {
          "base_uri": "https://localhost:8080/"
        },
        "id": "CcdtQ00Fjmf4",
        "outputId": "bbfec57c-686e-4ab9-fa05-b21f168c70c0"
      },
      "source": [
        "modelo = LinearSVC()\n",
        "modelo.fit(x_treino, y_treino)"
      ],
      "execution_count": null,
      "outputs": [
        {
          "output_type": "execute_result",
          "data": {
            "text/plain": [
              "LinearSVC(C=1.0, class_weight=None, dual=True, fit_intercept=True,\n",
              "          intercept_scaling=1, loss='squared_hinge', max_iter=1000,\n",
              "          multi_class='ovr', penalty='l2', random_state=None, tol=0.0001,\n",
              "          verbose=0)"
            ]
          },
          "metadata": {},
          "execution_count": 42
        }
      ]
    },
    {
      "cell_type": "markdown",
      "metadata": {
        "id": "i-DhjTNClPRP"
      },
      "source": [
        "Testando o modelo com os dados de teste"
      ]
    },
    {
      "cell_type": "code",
      "metadata": {
        "id": "7KBP9bqTjp6Q"
      },
      "source": [
        "previsoes = modelo.predict(x_teste)"
      ],
      "execution_count": null,
      "outputs": []
    },
    {
      "cell_type": "markdown",
      "metadata": {
        "id": "tjKEfsS2lR9T"
      },
      "source": [
        "Obtendo a taxa de acerto, a acurácia"
      ]
    },
    {
      "cell_type": "code",
      "metadata": {
        "colab": {
          "base_uri": "https://localhost:8080/"
        },
        "id": "JErj8ArnjruA",
        "outputId": "f2c11032-d532-4895-a858-d665b9fb7faf"
      },
      "source": [
        "acuracia = accuracy_score(y_teste, previsoes)*100\n",
        "print(f\"A acurácia foi {round(acuracia, 2)}%\")"
      ],
      "execution_count": null,
      "outputs": [
        {
          "output_type": "stream",
          "name": "stdout",
          "text": [
            "A acurácia foi 96.0%\n"
          ]
        }
      ]
    },
    {
      "cell_type": "markdown",
      "metadata": {
        "id": "N0zHxIoGjusR"
      },
      "source": [
        "Vejamos se, agora, a proporcionalidade, de fato, foi mantida"
      ]
    },
    {
      "cell_type": "code",
      "metadata": {
        "colab": {
          "base_uri": "https://localhost:8080/"
        },
        "id": "7lm-OVa8jtwQ",
        "outputId": "013b292b-02b2-45ff-ad31-1ebd2fc8cf30"
      },
      "source": [
        "y_treino.value_counts()"
      ],
      "execution_count": null,
      "outputs": [
        {
          "output_type": "execute_result",
          "data": {
            "text/plain": [
              "0    49\n",
              "1    25\n",
              "Name: comprou, dtype: int64"
            ]
          },
          "metadata": {},
          "execution_count": 45
        }
      ]
    },
    {
      "cell_type": "code",
      "metadata": {
        "colab": {
          "base_uri": "https://localhost:8080/"
        },
        "id": "6oCcPHjDj1Fg",
        "outputId": "91447818-318d-49d3-ad25-5526448e8f6e"
      },
      "source": [
        "y_teste.value_counts()"
      ],
      "execution_count": null,
      "outputs": [
        {
          "output_type": "execute_result",
          "data": {
            "text/plain": [
              "0    17\n",
              "1     8\n",
              "Name: comprou, dtype: int64"
            ]
          },
          "metadata": {},
          "execution_count": 46
        }
      ]
    },
    {
      "cell_type": "markdown",
      "metadata": {
        "id": "OWJDZvxbkYo6"
      },
      "source": [
        "Aqui, de fato, a proporcionalidade foi mantida! Observe que, no treino 49/25 = 1.96, ou seja, são quase 2 pessoas que não compraram pra 1 que comprou; enquanto que no teste, 17/8 = 2.13, ou seja, são 2 pessoas que não compraram pra 1 que comprou. Logo, podemos notar que a proporcionalidade das classes foi mantida entre o conjunto de treino e teste (proporção 2 pra 1)."
      ]
    },
    {
      "cell_type": "code",
      "metadata": {
        "id": "9RLsyn7qj2zw"
      },
      "source": [
        ""
      ],
      "execution_count": null,
      "outputs": []
    }
  ]
}