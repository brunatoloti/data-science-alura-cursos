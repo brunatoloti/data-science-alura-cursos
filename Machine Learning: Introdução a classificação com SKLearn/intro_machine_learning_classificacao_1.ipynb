{
  "nbformat": 4,
  "nbformat_minor": 0,
  "metadata": {
    "colab": {
      "name": "intro_machine_learning_classificacao_1.ipynb",
      "provenance": [],
      "authorship_tag": "ABX9TyPost7jSQA+mJvNiAbYk9fP",
      "include_colab_link": true
    },
    "kernelspec": {
      "name": "python3",
      "display_name": "Python 3"
    },
    "language_info": {
      "name": "python"
    }
  },
  "cells": [
    {
      "cell_type": "markdown",
      "metadata": {
        "id": "view-in-github",
        "colab_type": "text"
      },
      "source": [
        "<a href=\"https://colab.research.google.com/github/brunatoloti/data-science-alura-cursos/blob/main/Machine%20Learning%3A%20Introdu%C3%A7%C3%A3o%20a%20classifica%C3%A7%C3%A3o%20com%20SKLearn/intro_machine_learning_classificacao_1.ipynb\" target=\"_parent\"><img src=\"https://colab.research.google.com/assets/colab-badge.svg\" alt=\"Open In Colab\"/></a>"
      ]
    },
    {
      "cell_type": "markdown",
      "metadata": {
        "id": "neDp1-FD-h_Q"
      },
      "source": [
        "Importando as bibliotecas"
      ]
    },
    {
      "cell_type": "code",
      "metadata": {
        "id": "Wwu-7fMB6ufM"
      },
      "source": [
        "from sklearn.svm import LinearSVC\n",
        "from sklearn.metrics import accuracy_score\n",
        "import pandas as pd"
      ],
      "execution_count": null,
      "outputs": []
    },
    {
      "cell_type": "markdown",
      "metadata": {
        "id": "fHxefxeh-loX"
      },
      "source": [
        "# Primeiro treino e teste de um modelo de classificação\n",
        "\n",
        "### Simples, com poucos dados."
      ]
    },
    {
      "cell_type": "markdown",
      "metadata": {
        "id": "Nxx1gCnD_pc_"
      },
      "source": [
        "Classificação de porcos e cachorros.\n",
        "\n",
        "Features (1 sim, 0 não):\n",
        "*   pelo longo?\n",
        "*   perna curta?\n",
        "*   faz auau?\n",
        "\n",
        "Classificação:\n",
        "*   1 => porco\n",
        "*   0 => cachorro"
      ]
    },
    {
      "cell_type": "code",
      "metadata": {
        "id": "l2zKPrK58Dav"
      },
      "source": [
        "porco1 = [0, 1, 0]\n",
        "porco2 = [0, 1, 1]\n",
        "porco3 = [1, 1, 0]\n",
        "\n",
        "cachorro1 = [0, 1, 1]\n",
        "cachorro2 = [1, 0, 1]\n",
        "cachorro3 = [1, 1, 1]\n",
        "\n",
        "# 1 => porco, 0 => cachorro\n",
        "x_treino = [porco1, porco2, porco3, cachorro1, cachorro2, cachorro3]\n",
        "y_treino = [1,1,1,0,0,0] #Labels, classes"
      ],
      "execution_count": null,
      "outputs": []
    },
    {
      "cell_type": "markdown",
      "metadata": {
        "id": "34svt41yAOEv"
      },
      "source": [
        "Instanciando o estimador e ajustando o modelo aos dados."
      ]
    },
    {
      "cell_type": "code",
      "metadata": {
        "colab": {
          "base_uri": "https://localhost:8080/"
        },
        "id": "IdwOGR-L-xiN",
        "outputId": "02b6f16c-7e7f-45ba-e312-6a5768d41faa"
      },
      "source": [
        "model = LinearSVC()\n",
        "model.fit(x_treino, y_treino)"
      ],
      "execution_count": null,
      "outputs": [
        {
          "output_type": "execute_result",
          "data": {
            "text/plain": [
              "LinearSVC(C=1.0, class_weight=None, dual=True, fit_intercept=True,\n",
              "          intercept_scaling=1, loss='squared_hinge', max_iter=1000,\n",
              "          multi_class='ovr', penalty='l2', random_state=None, tol=0.0001,\n",
              "          verbose=0)"
            ]
          },
          "metadata": {},
          "execution_count": 3
        }
      ]
    },
    {
      "cell_type": "markdown",
      "metadata": {
        "id": "zFYG0OIBAWTl"
      },
      "source": [
        "Fazendo um teste simples com um animal misterioso."
      ]
    },
    {
      "cell_type": "code",
      "metadata": {
        "colab": {
          "base_uri": "https://localhost:8080/"
        },
        "id": "cBCfCqIh-0Lu",
        "outputId": "3f6d33fa-aa6c-4006-abb6-3e1a7be2b05c"
      },
      "source": [
        "animal_misterioso = [1,1,1]\n",
        "model.predict([animal_misterioso])"
      ],
      "execution_count": null,
      "outputs": [
        {
          "output_type": "execute_result",
          "data": {
            "text/plain": [
              "array([0])"
            ]
          },
          "metadata": {},
          "execution_count": 4
        }
      ]
    },
    {
      "cell_type": "markdown",
      "metadata": {
        "id": "FGXSVHihAbBF"
      },
      "source": [
        "O resultado obtido foi 0, ou seja, o modelo classificou esse animal misterioso como sendo um cachorro."
      ]
    },
    {
      "cell_type": "markdown",
      "metadata": {
        "id": "irv-OcEWAhX8"
      },
      "source": [
        "Pegando mais 3 animais misteriosos para fazer o teste."
      ]
    },
    {
      "cell_type": "code",
      "metadata": {
        "id": "O4pw8xPb-3vn"
      },
      "source": [
        "misterio1 = [1,1,1]\n",
        "misterio2 = [1,1,0]\n",
        "misterio3 = [0,1,1]\n",
        "\n",
        "x_teste = [misterio1, misterio2, misterio3]\n",
        "y_teste = [0, 1, 1]  #classes verdadeiras\n",
        "\n",
        "previsoes = model.predict(x_teste)"
      ],
      "execution_count": null,
      "outputs": []
    },
    {
      "cell_type": "code",
      "metadata": {
        "colab": {
          "base_uri": "https://localhost:8080/"
        },
        "id": "i46XGRTH-7uu",
        "outputId": "92a862f8-aa00-4dc5-d89f-93bfdd5aeace"
      },
      "source": [
        "previsoes == y_teste"
      ],
      "execution_count": null,
      "outputs": [
        {
          "output_type": "execute_result",
          "data": {
            "text/plain": [
              "array([ True,  True, False])"
            ]
          },
          "metadata": {},
          "execution_count": 6
        }
      ]
    },
    {
      "cell_type": "markdown",
      "metadata": {
        "id": "zwZ4sy_EAvwV"
      },
      "source": [
        "Obtendo a taxa de acerto do modelo. \n",
        "\n",
        "Aqui, fazendo de forma manual."
      ]
    },
    {
      "cell_type": "code",
      "metadata": {
        "colab": {
          "base_uri": "https://localhost:8080/"
        },
        "id": "ACQq8R3h--jm",
        "outputId": "8242dc2a-54e3-4e17-94b9-bdff6df72b6d"
      },
      "source": [
        "corretos = (previsoes == y_teste).sum()\n",
        "total = len(x_teste)\n",
        "taxa_de_acerto = corretos/total\n",
        "print(f\"Taxa de acerto: {round(taxa_de_acerto*100, 2)}%\")"
      ],
      "execution_count": null,
      "outputs": [
        {
          "output_type": "stream",
          "name": "stdout",
          "text": [
            "Taxa de acerto: 66.67%\n"
          ]
        }
      ]
    },
    {
      "cell_type": "markdown",
      "metadata": {
        "id": "cGkU_zJqA2BL"
      },
      "source": [
        "Utilizando o método *accuracy_score* para obter a taxa de acerto."
      ]
    },
    {
      "cell_type": "code",
      "metadata": {
        "colab": {
          "base_uri": "https://localhost:8080/"
        },
        "id": "Pval1cDf_AHu",
        "outputId": "77a25fc3-8fd5-4b15-80f5-a1dcd9222ca2"
      },
      "source": [
        "taxa_de_acerto = accuracy_score(y_teste, previsoes)\n",
        "print(f\"Taxa de acerto: {round(taxa_de_acerto*100, 2)}%\")"
      ],
      "execution_count": null,
      "outputs": [
        {
          "output_type": "stream",
          "name": "stdout",
          "text": [
            "Taxa de acerto: 66.67%\n"
          ]
        }
      ]
    }
  ]
}