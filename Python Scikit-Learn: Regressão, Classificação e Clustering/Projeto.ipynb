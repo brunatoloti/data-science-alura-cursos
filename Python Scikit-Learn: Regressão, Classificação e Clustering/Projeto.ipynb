{
  "nbformat": 4,
  "nbformat_minor": 0,
  "metadata": {
    "colab": {
      "name": "Projeto.ipynb",
      "provenance": [],
      "collapsed_sections": [],
      "mount_file_id": "1JFSH7P7SazN-4iU_oMRSrMpZrNiM-R3_",
      "authorship_tag": "ABX9TyObYYDYTkmRIPiPG7Qrx8+c",
      "include_colab_link": true
    },
    "kernelspec": {
      "name": "python3",
      "display_name": "Python 3"
    },
    "language_info": {
      "name": "python"
    }
  },
  "cells": [
    {
      "cell_type": "markdown",
      "metadata": {
        "id": "view-in-github",
        "colab_type": "text"
      },
      "source": [
        "<a href=\"https://colab.research.google.com/github/brunatoloti/data-science-alura-cursos/blob/main/Python%20Scikit-Learn%3A%20Regress%C3%A3o%2C%20Classifica%C3%A7%C3%A3o%20e%20Clustering/Projeto.ipynb\" target=\"_parent\"><img src=\"https://colab.research.google.com/assets/colab-badge.svg\" alt=\"Open In Colab\"/></a>"
      ]
    },
    {
      "cell_type": "markdown",
      "metadata": {
        "id": "2jzC590XhmYP"
      },
      "source": [
        "#Scikit-Learn: Regressão, classificação e clustering"
      ]
    },
    {
      "cell_type": "markdown",
      "metadata": {
        "id": "91-u1-eqh_hP"
      },
      "source": [
        "###Importando as bibliotecas"
      ]
    },
    {
      "cell_type": "code",
      "metadata": {
        "id": "jMr3M3nOhfrw"
      },
      "source": [
        "import sklearn\n",
        "import pandas as pd\n",
        "from sklearn.model_selection import train_test_split"
      ],
      "execution_count": null,
      "outputs": []
    },
    {
      "cell_type": "markdown",
      "metadata": {
        "id": "c1jzQxrAiG3v"
      },
      "source": [
        "###Carregando as bases de dados"
      ]
    },
    {
      "cell_type": "markdown",
      "metadata": {
        "id": "ioZ0rnOziJYf"
      },
      "source": [
        "Base de dados de diabetes fornecida pelo curso."
      ]
    },
    {
      "cell_type": "code",
      "metadata": {
        "colab": {
          "base_uri": "https://localhost:8080/",
          "height": 204
        },
        "id": "txvaQUxniDI9",
        "outputId": "3a91c9c0-8793-4506-e8e7-046dd454f08e"
      },
      "source": [
        "diabetes = pd.read_csv('/content/drive/MyDrive/Curso Alura/Python Scikit-Learn: Regressão, classificação e clustering/Dados/diabetes.csv')\n",
        "diabetes.head()"
      ],
      "execution_count": null,
      "outputs": [
        {
          "output_type": "execute_result",
          "data": {
            "text/html": [
              "<div>\n",
              "<style scoped>\n",
              "    .dataframe tbody tr th:only-of-type {\n",
              "        vertical-align: middle;\n",
              "    }\n",
              "\n",
              "    .dataframe tbody tr th {\n",
              "        vertical-align: top;\n",
              "    }\n",
              "\n",
              "    .dataframe thead th {\n",
              "        text-align: right;\n",
              "    }\n",
              "</style>\n",
              "<table border=\"1\" class=\"dataframe\">\n",
              "  <thead>\n",
              "    <tr style=\"text-align: right;\">\n",
              "      <th></th>\n",
              "      <th>quantidade_gravidez</th>\n",
              "      <th>concentracao_glicose</th>\n",
              "      <th>pressao</th>\n",
              "      <th>espessura_triceps</th>\n",
              "      <th>insulina</th>\n",
              "      <th>imc</th>\n",
              "      <th>diabetes_pedigree</th>\n",
              "      <th>idade</th>\n",
              "      <th>resultado</th>\n",
              "    </tr>\n",
              "  </thead>\n",
              "  <tbody>\n",
              "    <tr>\n",
              "      <th>0</th>\n",
              "      <td>6</td>\n",
              "      <td>148</td>\n",
              "      <td>72</td>\n",
              "      <td>35</td>\n",
              "      <td>0</td>\n",
              "      <td>33.6</td>\n",
              "      <td>0.627</td>\n",
              "      <td>50</td>\n",
              "      <td>testado_positivo</td>\n",
              "    </tr>\n",
              "    <tr>\n",
              "      <th>1</th>\n",
              "      <td>1</td>\n",
              "      <td>85</td>\n",
              "      <td>66</td>\n",
              "      <td>29</td>\n",
              "      <td>0</td>\n",
              "      <td>26.6</td>\n",
              "      <td>0.351</td>\n",
              "      <td>31</td>\n",
              "      <td>testado_negativo</td>\n",
              "    </tr>\n",
              "    <tr>\n",
              "      <th>2</th>\n",
              "      <td>8</td>\n",
              "      <td>183</td>\n",
              "      <td>64</td>\n",
              "      <td>0</td>\n",
              "      <td>0</td>\n",
              "      <td>23.3</td>\n",
              "      <td>0.672</td>\n",
              "      <td>32</td>\n",
              "      <td>testado_positivo</td>\n",
              "    </tr>\n",
              "    <tr>\n",
              "      <th>3</th>\n",
              "      <td>1</td>\n",
              "      <td>89</td>\n",
              "      <td>66</td>\n",
              "      <td>23</td>\n",
              "      <td>94</td>\n",
              "      <td>28.1</td>\n",
              "      <td>0.167</td>\n",
              "      <td>21</td>\n",
              "      <td>testado_negativo</td>\n",
              "    </tr>\n",
              "    <tr>\n",
              "      <th>4</th>\n",
              "      <td>0</td>\n",
              "      <td>137</td>\n",
              "      <td>40</td>\n",
              "      <td>35</td>\n",
              "      <td>168</td>\n",
              "      <td>43.1</td>\n",
              "      <td>2.288</td>\n",
              "      <td>33</td>\n",
              "      <td>testado_positivo</td>\n",
              "    </tr>\n",
              "  </tbody>\n",
              "</table>\n",
              "</div>"
            ],
            "text/plain": [
              "   quantidade_gravidez  concentracao_glicose  ...  idade         resultado\n",
              "0                    6                   148  ...     50  testado_positivo\n",
              "1                    1                    85  ...     31  testado_negativo\n",
              "2                    8                   183  ...     32  testado_positivo\n",
              "3                    1                    89  ...     21  testado_negativo\n",
              "4                    0                   137  ...     33  testado_positivo\n",
              "\n",
              "[5 rows x 9 columns]"
            ]
          },
          "metadata": {
            "tags": []
          },
          "execution_count": 2
        }
      ]
    },
    {
      "cell_type": "markdown",
      "metadata": {
        "id": "jSrFnrghicQg"
      },
      "source": [
        "Base de dados de batimentos cardíacos fornecida pelo curso."
      ]
    },
    {
      "cell_type": "code",
      "metadata": {
        "colab": {
          "base_uri": "https://localhost:8080/",
          "height": 204
        },
        "id": "DUdQpVfniZBZ",
        "outputId": "b5f54330-0155-4510-d7a7-af5804e4d561"
      },
      "source": [
        "batimentos = pd.read_csv('/content/drive/MyDrive/Curso Alura/Python Scikit-Learn: Regressão, classificação e clustering/Dados/batimentos cardiacos.csv')\n",
        "batimentos.head()"
      ],
      "execution_count": null,
      "outputs": [
        {
          "output_type": "execute_result",
          "data": {
            "text/html": [
              "<div>\n",
              "<style scoped>\n",
              "    .dataframe tbody tr th:only-of-type {\n",
              "        vertical-align: middle;\n",
              "    }\n",
              "\n",
              "    .dataframe tbody tr th {\n",
              "        vertical-align: top;\n",
              "    }\n",
              "\n",
              "    .dataframe thead th {\n",
              "        text-align: right;\n",
              "    }\n",
              "</style>\n",
              "<table border=\"1\" class=\"dataframe\">\n",
              "  <thead>\n",
              "    <tr style=\"text-align: right;\">\n",
              "      <th></th>\n",
              "      <th>Idade</th>\n",
              "      <th>Peso</th>\n",
              "      <th>Horas de atividade</th>\n",
              "      <th>Batimentos cardiacos</th>\n",
              "    </tr>\n",
              "  </thead>\n",
              "  <tbody>\n",
              "    <tr>\n",
              "      <th>0</th>\n",
              "      <td>44.247295</td>\n",
              "      <td>53.591343</td>\n",
              "      <td>3.397836</td>\n",
              "      <td>82.307425</td>\n",
              "    </tr>\n",
              "    <tr>\n",
              "      <th>1</th>\n",
              "      <td>81.427930</td>\n",
              "      <td>172.569375</td>\n",
              "      <td>33.142344</td>\n",
              "      <td>179.045377</td>\n",
              "    </tr>\n",
              "    <tr>\n",
              "      <th>2</th>\n",
              "      <td>50.807130</td>\n",
              "      <td>74.582817</td>\n",
              "      <td>8.645704</td>\n",
              "      <td>103.522796</td>\n",
              "    </tr>\n",
              "    <tr>\n",
              "      <th>3</th>\n",
              "      <td>55.778712</td>\n",
              "      <td>90.491878</td>\n",
              "      <td>12.622969</td>\n",
              "      <td>114.239779</td>\n",
              "    </tr>\n",
              "    <tr>\n",
              "      <th>4</th>\n",
              "      <td>53.790400</td>\n",
              "      <td>84.129280</td>\n",
              "      <td>11.032320</td>\n",
              "      <td>107.184063</td>\n",
              "    </tr>\n",
              "  </tbody>\n",
              "</table>\n",
              "</div>"
            ],
            "text/plain": [
              "       Idade        Peso  Horas de atividade  Batimentos cardiacos\n",
              "0  44.247295   53.591343            3.397836             82.307425\n",
              "1  81.427930  172.569375           33.142344            179.045377\n",
              "2  50.807130   74.582817            8.645704            103.522796\n",
              "3  55.778712   90.491878           12.622969            114.239779\n",
              "4  53.790400   84.129280           11.032320            107.184063"
            ]
          },
          "metadata": {
            "tags": []
          },
          "execution_count": 3
        }
      ]
    },
    {
      "cell_type": "markdown",
      "metadata": {
        "id": "Aba4AuJIi2Gp"
      },
      "source": [
        "Base de dados de colesterol fornecida pelo curso."
      ]
    },
    {
      "cell_type": "code",
      "metadata": {
        "colab": {
          "base_uri": "https://localhost:8080/",
          "height": 204
        },
        "id": "HyXGq78dikb3",
        "outputId": "b00ce5eb-86c3-4915-fd6b-71280f6ea42e"
      },
      "source": [
        "colesterol = pd.read_csv('/content/drive/MyDrive/Curso Alura/Python Scikit-Learn: Regressão, classificação e clustering/Dados/colesterol.csv')\n",
        "colesterol.head()"
      ],
      "execution_count": null,
      "outputs": [
        {
          "output_type": "execute_result",
          "data": {
            "text/html": [
              "<div>\n",
              "<style scoped>\n",
              "    .dataframe tbody tr th:only-of-type {\n",
              "        vertical-align: middle;\n",
              "    }\n",
              "\n",
              "    .dataframe tbody tr th {\n",
              "        vertical-align: top;\n",
              "    }\n",
              "\n",
              "    .dataframe thead th {\n",
              "        text-align: right;\n",
              "    }\n",
              "</style>\n",
              "<table border=\"1\" class=\"dataframe\">\n",
              "  <thead>\n",
              "    <tr style=\"text-align: right;\">\n",
              "      <th></th>\n",
              "      <th>idade</th>\n",
              "      <th>genero</th>\n",
              "      <th>tipo_dor_peito</th>\n",
              "      <th>pressao_sanguinea_repouso</th>\n",
              "      <th>acucar_jejum</th>\n",
              "      <th>resultado_eletrocardio</th>\n",
              "      <th>freq_cardio_max</th>\n",
              "      <th>angina_exercicio</th>\n",
              "      <th>depressao_induzida_exercicio</th>\n",
              "      <th>inclinacao</th>\n",
              "      <th>num_princ_vasos</th>\n",
              "      <th>thal</th>\n",
              "      <th>diag_doenca_cardiaca</th>\n",
              "      <th>colesterol</th>\n",
              "    </tr>\n",
              "  </thead>\n",
              "  <tbody>\n",
              "    <tr>\n",
              "      <th>0</th>\n",
              "      <td>63</td>\n",
              "      <td>1</td>\n",
              "      <td>1</td>\n",
              "      <td>145</td>\n",
              "      <td>1</td>\n",
              "      <td>2</td>\n",
              "      <td>150</td>\n",
              "      <td>0</td>\n",
              "      <td>2.3</td>\n",
              "      <td>3</td>\n",
              "      <td>0</td>\n",
              "      <td>6</td>\n",
              "      <td>0</td>\n",
              "      <td>233</td>\n",
              "    </tr>\n",
              "    <tr>\n",
              "      <th>1</th>\n",
              "      <td>67</td>\n",
              "      <td>1</td>\n",
              "      <td>4</td>\n",
              "      <td>160</td>\n",
              "      <td>0</td>\n",
              "      <td>2</td>\n",
              "      <td>108</td>\n",
              "      <td>1</td>\n",
              "      <td>1.5</td>\n",
              "      <td>2</td>\n",
              "      <td>3</td>\n",
              "      <td>3</td>\n",
              "      <td>2</td>\n",
              "      <td>286</td>\n",
              "    </tr>\n",
              "    <tr>\n",
              "      <th>2</th>\n",
              "      <td>67</td>\n",
              "      <td>1</td>\n",
              "      <td>4</td>\n",
              "      <td>120</td>\n",
              "      <td>0</td>\n",
              "      <td>2</td>\n",
              "      <td>129</td>\n",
              "      <td>1</td>\n",
              "      <td>2.6</td>\n",
              "      <td>2</td>\n",
              "      <td>2</td>\n",
              "      <td>7</td>\n",
              "      <td>1</td>\n",
              "      <td>229</td>\n",
              "    </tr>\n",
              "    <tr>\n",
              "      <th>3</th>\n",
              "      <td>37</td>\n",
              "      <td>1</td>\n",
              "      <td>3</td>\n",
              "      <td>130</td>\n",
              "      <td>0</td>\n",
              "      <td>0</td>\n",
              "      <td>187</td>\n",
              "      <td>0</td>\n",
              "      <td>3.5</td>\n",
              "      <td>3</td>\n",
              "      <td>0</td>\n",
              "      <td>3</td>\n",
              "      <td>0</td>\n",
              "      <td>250</td>\n",
              "    </tr>\n",
              "    <tr>\n",
              "      <th>4</th>\n",
              "      <td>41</td>\n",
              "      <td>0</td>\n",
              "      <td>2</td>\n",
              "      <td>130</td>\n",
              "      <td>0</td>\n",
              "      <td>2</td>\n",
              "      <td>172</td>\n",
              "      <td>0</td>\n",
              "      <td>1.4</td>\n",
              "      <td>1</td>\n",
              "      <td>0</td>\n",
              "      <td>3</td>\n",
              "      <td>0</td>\n",
              "      <td>204</td>\n",
              "    </tr>\n",
              "  </tbody>\n",
              "</table>\n",
              "</div>"
            ],
            "text/plain": [
              "   idade  genero  tipo_dor_peito  ...  thal  diag_doenca_cardiaca  colesterol\n",
              "0     63       1               1  ...     6                     0         233\n",
              "1     67       1               4  ...     3                     2         286\n",
              "2     67       1               4  ...     7                     1         229\n",
              "3     37       1               3  ...     3                     0         250\n",
              "4     41       0               2  ...     3                     0         204\n",
              "\n",
              "[5 rows x 14 columns]"
            ]
          },
          "metadata": {
            "tags": []
          },
          "execution_count": 4
        }
      ]
    },
    {
      "cell_type": "markdown",
      "metadata": {
        "id": "rQqV87HHxAEX"
      },
      "source": [
        "##Classificação"
      ]
    },
    {
      "cell_type": "markdown",
      "metadata": {
        "id": "rT1OAx6Ej5zq"
      },
      "source": [
        "###Separando os dados da base de dados de diabetes em dados de treino e teste"
      ]
    },
    {
      "cell_type": "markdown",
      "metadata": {
        "id": "tOu6gsK_k93r"
      },
      "source": [
        "Definindo o x e o y. Feature e label, respectivamente."
      ]
    },
    {
      "cell_type": "code",
      "metadata": {
        "id": "zQraEParkbN5"
      },
      "source": [
        "x = diabetes.drop(columns='resultado')   #o que fornecemos ao modelo, features\n",
        "y = diabetes['resultado']   #o que queremos prever, variável alvo, variável dependente, label"
      ],
      "execution_count": null,
      "outputs": []
    },
    {
      "cell_type": "markdown",
      "metadata": {
        "id": "k6BpvWvsk6jC"
      },
      "source": [
        "Separando os dados em treino e teste"
      ]
    },
    {
      "cell_type": "code",
      "metadata": {
        "id": "oQi7QZP3i_3Y"
      },
      "source": [
        "SEED = 4121988\n",
        "\n",
        "x_treino, x_teste, y_treino, y_teste = train_test_split(x, y, random_state=SEED)"
      ],
      "execution_count": null,
      "outputs": []
    },
    {
      "cell_type": "markdown",
      "metadata": {
        "id": "819kPsSblyBy"
      },
      "source": [
        "###Instanciando o objeto e treinando o modelo\n",
        "\n",
        "**Usando o modelo Decision Tree, no primeiro momento**"
      ]
    },
    {
      "cell_type": "markdown",
      "metadata": {
        "id": "HK6CYXYE_uI8"
      },
      "source": [
        "Instanciando o objeto"
      ]
    },
    {
      "cell_type": "code",
      "metadata": {
        "id": "dM_Vx_xHk2aV"
      },
      "source": [
        "from sklearn.tree import DecisionTreeClassifier"
      ],
      "execution_count": null,
      "outputs": []
    },
    {
      "cell_type": "code",
      "metadata": {
        "id": "G7XZDxKWkkSN"
      },
      "source": [
        "clf_arvore = DecisionTreeClassifier(max_depth=3)  #max_depth -> profundidade da arvore"
      ],
      "execution_count": null,
      "outputs": []
    },
    {
      "cell_type": "markdown",
      "metadata": {
        "id": "U-vguxhLl0ap"
      },
      "source": [
        "Treinando o modelo"
      ]
    },
    {
      "cell_type": "code",
      "metadata": {
        "colab": {
          "base_uri": "https://localhost:8080/"
        },
        "id": "uNnELlWglFHK",
        "outputId": "525d1e77-7821-4afd-a1ad-818cdb1c0a3a"
      },
      "source": [
        "clf_arvore.fit(x_treino, y_treino)"
      ],
      "execution_count": null,
      "outputs": [
        {
          "output_type": "execute_result",
          "data": {
            "text/plain": [
              "DecisionTreeClassifier(ccp_alpha=0.0, class_weight=None, criterion='gini',\n",
              "                       max_depth=3, max_features=None, max_leaf_nodes=None,\n",
              "                       min_impurity_decrease=0.0, min_impurity_split=None,\n",
              "                       min_samples_leaf=1, min_samples_split=2,\n",
              "                       min_weight_fraction_leaf=0.0, presort='deprecated',\n",
              "                       random_state=None, splitter='best')"
            ]
          },
          "metadata": {
            "tags": []
          },
          "execution_count": 37
        }
      ]
    },
    {
      "cell_type": "markdown",
      "metadata": {
        "id": "6i2Y5Y2gmQ6m"
      },
      "source": [
        "Obtendo a acurácia do modelo"
      ]
    },
    {
      "cell_type": "code",
      "metadata": {
        "colab": {
          "base_uri": "https://localhost:8080/"
        },
        "id": "4u-ez8OQlMr1",
        "outputId": "c937dc12-8bad-43e6-9d84-ae82f6a5a15a"
      },
      "source": [
        "clf_arvore.score(x_teste, y_teste)"
      ],
      "execution_count": null,
      "outputs": [
        {
          "output_type": "execute_result",
          "data": {
            "text/plain": [
              "0.7239583333333334"
            ]
          },
          "metadata": {
            "tags": []
          },
          "execution_count": 38
        }
      ]
    },
    {
      "cell_type": "markdown",
      "metadata": {
        "id": "8GFUaXtJlho1"
      },
      "source": [
        "**Usando um Classificador Dummy**\n",
        "\n",
        "Dessa forma, se o resultado da árvore de decisão for menor que o resultado do Dummy, concluimos que, de fato, usar árvore de decisão nesse caso não é uma boa ideia."
      ]
    },
    {
      "cell_type": "markdown",
      "metadata": {
        "id": "EhLs6PqN_2H7"
      },
      "source": [
        "Instanciando o objeto"
      ]
    },
    {
      "cell_type": "code",
      "metadata": {
        "id": "Hde83weulTBV"
      },
      "source": [
        "from sklearn.dummy import DummyClassifier"
      ],
      "execution_count": null,
      "outputs": []
    },
    {
      "cell_type": "code",
      "metadata": {
        "id": "2kh09rrPl9ju"
      },
      "source": [
        "clf_dummy = DummyClassifier(strategy='most_frequent')"
      ],
      "execution_count": null,
      "outputs": []
    },
    {
      "cell_type": "markdown",
      "metadata": {
        "id": "Uf4I_bwrmU7G"
      },
      "source": [
        "Treinando o modelo"
      ]
    },
    {
      "cell_type": "code",
      "metadata": {
        "colab": {
          "base_uri": "https://localhost:8080/"
        },
        "id": "cc5TRGSmmHCd",
        "outputId": "40bcd365-c7a6-4a1f-f9f6-a032c85b30b5"
      },
      "source": [
        "clf_dummy.fit(x_treino, y_treino)"
      ],
      "execution_count": null,
      "outputs": [
        {
          "output_type": "execute_result",
          "data": {
            "text/plain": [
              "DummyClassifier(constant=None, random_state=None, strategy='most_frequent')"
            ]
          },
          "metadata": {
            "tags": []
          },
          "execution_count": 41
        }
      ]
    },
    {
      "cell_type": "markdown",
      "metadata": {
        "id": "R5yE0MzxmWef"
      },
      "source": [
        "Obtendo a acurácia do modelo"
      ]
    },
    {
      "cell_type": "code",
      "metadata": {
        "colab": {
          "base_uri": "https://localhost:8080/"
        },
        "id": "cxaxiiMcmLP9",
        "outputId": "1c1811a6-7dbd-43a6-99f7-be3bd0fa3419"
      },
      "source": [
        "clf_dummy.score(x_teste, y_teste)"
      ],
      "execution_count": null,
      "outputs": [
        {
          "output_type": "execute_result",
          "data": {
            "text/plain": [
              "0.6770833333333334"
            ]
          },
          "metadata": {
            "tags": []
          },
          "execution_count": 42
        }
      ]
    },
    {
      "cell_type": "markdown",
      "metadata": {
        "id": "XdMZnIAHmaoX"
      },
      "source": [
        "Observe que o resultado da acurácia do Classificador Dummy foi menor do que o resultado da acurácia da Árvore de Decisão!\n",
        "\n",
        "Por mais que a acurácia da Árvore de Decisão não tenha sido tão boa quanto o esperado, pelo menos ela foi maior do que do Classificador Dummy.\n",
        "\n",
        "Podemos testar com outros classificadores."
      ]
    },
    {
      "cell_type": "markdown",
      "metadata": {
        "id": "TDId87p7xDPZ"
      },
      "source": [
        "##Regressão"
      ]
    },
    {
      "cell_type": "markdown",
      "metadata": {
        "id": "lGyv6rtOxQK3"
      },
      "source": [
        "Usando a base de dados de batimentos cardíacos, usaremos as colunas *Idade*, *Peso* e *Horas de atividade* para prever os *Batimentos cardíacos*.\n",
        "\n",
        "Para isso, usaremos o algoritmo de Regressão Linear."
      ]
    },
    {
      "cell_type": "markdown",
      "metadata": {
        "id": "WU0_S9MRyZEn"
      },
      "source": [
        "###Visualizando a base de dados de batimentos cardíacos"
      ]
    },
    {
      "cell_type": "code",
      "metadata": {
        "id": "7Y_leffGmPR1",
        "colab": {
          "base_uri": "https://localhost:8080/",
          "height": 204
        },
        "outputId": "ceefc231-86c5-424a-872c-8d10c58f878a"
      },
      "source": [
        "batimentos.head()"
      ],
      "execution_count": null,
      "outputs": [
        {
          "output_type": "execute_result",
          "data": {
            "text/html": [
              "<div>\n",
              "<style scoped>\n",
              "    .dataframe tbody tr th:only-of-type {\n",
              "        vertical-align: middle;\n",
              "    }\n",
              "\n",
              "    .dataframe tbody tr th {\n",
              "        vertical-align: top;\n",
              "    }\n",
              "\n",
              "    .dataframe thead th {\n",
              "        text-align: right;\n",
              "    }\n",
              "</style>\n",
              "<table border=\"1\" class=\"dataframe\">\n",
              "  <thead>\n",
              "    <tr style=\"text-align: right;\">\n",
              "      <th></th>\n",
              "      <th>Idade</th>\n",
              "      <th>Peso</th>\n",
              "      <th>Horas de atividade</th>\n",
              "      <th>Batimentos cardiacos</th>\n",
              "    </tr>\n",
              "  </thead>\n",
              "  <tbody>\n",
              "    <tr>\n",
              "      <th>0</th>\n",
              "      <td>44.247295</td>\n",
              "      <td>53.591343</td>\n",
              "      <td>3.397836</td>\n",
              "      <td>82.307425</td>\n",
              "    </tr>\n",
              "    <tr>\n",
              "      <th>1</th>\n",
              "      <td>81.427930</td>\n",
              "      <td>172.569375</td>\n",
              "      <td>33.142344</td>\n",
              "      <td>179.045377</td>\n",
              "    </tr>\n",
              "    <tr>\n",
              "      <th>2</th>\n",
              "      <td>50.807130</td>\n",
              "      <td>74.582817</td>\n",
              "      <td>8.645704</td>\n",
              "      <td>103.522796</td>\n",
              "    </tr>\n",
              "    <tr>\n",
              "      <th>3</th>\n",
              "      <td>55.778712</td>\n",
              "      <td>90.491878</td>\n",
              "      <td>12.622969</td>\n",
              "      <td>114.239779</td>\n",
              "    </tr>\n",
              "    <tr>\n",
              "      <th>4</th>\n",
              "      <td>53.790400</td>\n",
              "      <td>84.129280</td>\n",
              "      <td>11.032320</td>\n",
              "      <td>107.184063</td>\n",
              "    </tr>\n",
              "  </tbody>\n",
              "</table>\n",
              "</div>"
            ],
            "text/plain": [
              "       Idade        Peso  Horas de atividade  Batimentos cardiacos\n",
              "0  44.247295   53.591343            3.397836             82.307425\n",
              "1  81.427930  172.569375           33.142344            179.045377\n",
              "2  50.807130   74.582817            8.645704            103.522796\n",
              "3  55.778712   90.491878           12.622969            114.239779\n",
              "4  53.790400   84.129280           11.032320            107.184063"
            ]
          },
          "metadata": {
            "tags": []
          },
          "execution_count": 15
        }
      ]
    },
    {
      "cell_type": "markdown",
      "metadata": {
        "id": "p_3F0J_CygNe"
      },
      "source": [
        "###Visualizando graficamente"
      ]
    },
    {
      "cell_type": "markdown",
      "metadata": {
        "id": "tLgpTZxty58A"
      },
      "source": [
        "Usando as colunas *Peso* e *Batimentos cardiacos*"
      ]
    },
    {
      "cell_type": "code",
      "metadata": {
        "colab": {
          "base_uri": "https://localhost:8080/",
          "height": 399
        },
        "id": "l0iYepAhyed4",
        "outputId": "523df7b5-1dc3-4417-fcff-739351360954"
      },
      "source": [
        "import matplotlib.pyplot as plt\n",
        "import seaborn as sns\n",
        "\n",
        "sns.set()\n",
        "plt.figure(figsize=(100,50))\n",
        "\n",
        "sns.lmplot(x='Peso', y='Batimentos cardiacos', data=batimentos, line_kws={'color': 'red'})\n",
        "plt.show()"
      ],
      "execution_count": null,
      "outputs": [
        {
          "output_type": "display_data",
          "data": {
            "text/plain": [
              "<Figure size 7200x3600 with 0 Axes>"
            ]
          },
          "metadata": {
            "tags": []
          }
        },
        {
          "output_type": "display_data",
          "data": {
            "image/png": "[encoded data removed]",
            "text/plain": [
              "<Figure size 360x360 with 1 Axes>"
            ]
          },
          "metadata": {
            "tags": []
          }
        }
      ]
    },
    {
      "cell_type": "markdown",
      "metadata": {
        "id": "ksIeUOSBzDBf"
      },
      "source": [
        "###Separando os dados da base de dados de batimentos em dados de treino e teste"
      ]
    },
    {
      "cell_type": "markdown",
      "metadata": {
        "id": "yzvYaEN6zTwm"
      },
      "source": [
        "Definindo x e y"
      ]
    },
    {
      "cell_type": "code",
      "metadata": {
        "id": "jbLIU6Y4y2i_"
      },
      "source": [
        "x = batimentos[['Peso', 'Idade']]\n",
        "y = batimentos['Batimentos cardiacos']"
      ],
      "execution_count": null,
      "outputs": []
    },
    {
      "cell_type": "markdown",
      "metadata": {
        "id": "ZizphpIBzVm3"
      },
      "source": [
        "Separando os dados em treino e teste"
      ]
    },
    {
      "cell_type": "code",
      "metadata": {
        "id": "RtZKNudpzOkU"
      },
      "source": [
        "SEED = 4500\n",
        "\n",
        "x_treino, x_teste, y_treino, y_teste = train_test_split(x, y, random_state=SEED)"
      ],
      "execution_count": null,
      "outputs": []
    },
    {
      "cell_type": "markdown",
      "metadata": {
        "id": "aRe-Eu3SzrMP"
      },
      "source": [
        "###Instanciando o objeto e treinando o modelo"
      ]
    },
    {
      "cell_type": "markdown",
      "metadata": {
        "id": "UrSSDZNZ_7mS"
      },
      "source": [
        "Instanciando o objeto"
      ]
    },
    {
      "cell_type": "code",
      "metadata": {
        "id": "IXq3xAKMz2Z3"
      },
      "source": [
        "from sklearn import linear_model"
      ],
      "execution_count": null,
      "outputs": []
    },
    {
      "cell_type": "code",
      "metadata": {
        "id": "gYxgwQ67zlBP"
      },
      "source": [
        "rgs = linear_model.LinearRegression(fit_intercept=False, normalize=True)"
      ],
      "execution_count": null,
      "outputs": []
    },
    {
      "cell_type": "markdown",
      "metadata": {
        "id": "ODLqCHtSz_Yx"
      },
      "source": [
        "Treinando o modelo"
      ]
    },
    {
      "cell_type": "code",
      "metadata": {
        "colab": {
          "base_uri": "https://localhost:8080/"
        },
        "id": "VWj6hXQjz-12",
        "outputId": "9b314153-583f-4f2b-d602-aa42a4acb46e"
      },
      "source": [
        "rgs.fit(x_treino, y_treino)"
      ],
      "execution_count": null,
      "outputs": [
        {
          "output_type": "execute_result",
          "data": {
            "text/plain": [
              "LinearRegression(copy_X=True, fit_intercept=False, n_jobs=None, normalize=True)"
            ]
          },
          "metadata": {
            "tags": []
          },
          "execution_count": 21
        }
      ]
    },
    {
      "cell_type": "markdown",
      "metadata": {
        "id": "Y5ru4Rea0F_H"
      },
      "source": [
        "Obtendo a acurácia do modelo"
      ]
    },
    {
      "cell_type": "code",
      "metadata": {
        "colab": {
          "base_uri": "https://localhost:8080/"
        },
        "id": "Wfrh9UkJ0DIX",
        "outputId": "76f7d8a2-59d2-4e56-f11d-3eae3bb28f78"
      },
      "source": [
        "rgs.score(x_teste, y_teste)"
      ],
      "execution_count": null,
      "outputs": [
        {
          "output_type": "execute_result",
          "data": {
            "text/plain": [
              "0.9872272899997122"
            ]
          },
          "metadata": {
            "tags": []
          },
          "execution_count": 22
        }
      ]
    },
    {
      "cell_type": "markdown",
      "metadata": {
        "id": "6xgPSx120NKv"
      },
      "source": [
        "A acurácia está extremamente satisfatória!"
      ]
    },
    {
      "cell_type": "markdown",
      "metadata": {
        "id": "ORvW4Dnb1jDg"
      },
      "source": [
        "##Clustering"
      ]
    },
    {
      "cell_type": "markdown",
      "metadata": {
        "id": "iVbFeOG32VTw"
      },
      "source": [
        "Usaremos a base de dados de colesterol.\n",
        "\n",
        "Para isso, usaremos o algoritmo KMeans."
      ]
    },
    {
      "cell_type": "markdown",
      "metadata": {
        "id": "jUzBHpY82kOI"
      },
      "source": [
        "###Visualizando a base de dados de colesterol"
      ]
    },
    {
      "cell_type": "code",
      "metadata": {
        "colab": {
          "base_uri": "https://localhost:8080/",
          "height": 204
        },
        "id": "vlNdKjry0KGX",
        "outputId": "500fbfa0-b83c-4d3a-fd44-56d32724a4e6"
      },
      "source": [
        "colesterol.head()"
      ],
      "execution_count": null,
      "outputs": [
        {
          "output_type": "execute_result",
          "data": {
            "text/html": [
              "<div>\n",
              "<style scoped>\n",
              "    .dataframe tbody tr th:only-of-type {\n",
              "        vertical-align: middle;\n",
              "    }\n",
              "\n",
              "    .dataframe tbody tr th {\n",
              "        vertical-align: top;\n",
              "    }\n",
              "\n",
              "    .dataframe thead th {\n",
              "        text-align: right;\n",
              "    }\n",
              "</style>\n",
              "<table border=\"1\" class=\"dataframe\">\n",
              "  <thead>\n",
              "    <tr style=\"text-align: right;\">\n",
              "      <th></th>\n",
              "      <th>idade</th>\n",
              "      <th>genero</th>\n",
              "      <th>tipo_dor_peito</th>\n",
              "      <th>pressao_sanguinea_repouso</th>\n",
              "      <th>acucar_jejum</th>\n",
              "      <th>resultado_eletrocardio</th>\n",
              "      <th>freq_cardio_max</th>\n",
              "      <th>angina_exercicio</th>\n",
              "      <th>depressao_induzida_exercicio</th>\n",
              "      <th>inclinacao</th>\n",
              "      <th>num_princ_vasos</th>\n",
              "      <th>thal</th>\n",
              "      <th>diag_doenca_cardiaca</th>\n",
              "      <th>colesterol</th>\n",
              "    </tr>\n",
              "  </thead>\n",
              "  <tbody>\n",
              "    <tr>\n",
              "      <th>0</th>\n",
              "      <td>63</td>\n",
              "      <td>1</td>\n",
              "      <td>1</td>\n",
              "      <td>145</td>\n",
              "      <td>1</td>\n",
              "      <td>2</td>\n",
              "      <td>150</td>\n",
              "      <td>0</td>\n",
              "      <td>2.3</td>\n",
              "      <td>3</td>\n",
              "      <td>0</td>\n",
              "      <td>6</td>\n",
              "      <td>0</td>\n",
              "      <td>233</td>\n",
              "    </tr>\n",
              "    <tr>\n",
              "      <th>1</th>\n",
              "      <td>67</td>\n",
              "      <td>1</td>\n",
              "      <td>4</td>\n",
              "      <td>160</td>\n",
              "      <td>0</td>\n",
              "      <td>2</td>\n",
              "      <td>108</td>\n",
              "      <td>1</td>\n",
              "      <td>1.5</td>\n",
              "      <td>2</td>\n",
              "      <td>3</td>\n",
              "      <td>3</td>\n",
              "      <td>2</td>\n",
              "      <td>286</td>\n",
              "    </tr>\n",
              "    <tr>\n",
              "      <th>2</th>\n",
              "      <td>67</td>\n",
              "      <td>1</td>\n",
              "      <td>4</td>\n",
              "      <td>120</td>\n",
              "      <td>0</td>\n",
              "      <td>2</td>\n",
              "      <td>129</td>\n",
              "      <td>1</td>\n",
              "      <td>2.6</td>\n",
              "      <td>2</td>\n",
              "      <td>2</td>\n",
              "      <td>7</td>\n",
              "      <td>1</td>\n",
              "      <td>229</td>\n",
              "    </tr>\n",
              "    <tr>\n",
              "      <th>3</th>\n",
              "      <td>37</td>\n",
              "      <td>1</td>\n",
              "      <td>3</td>\n",
              "      <td>130</td>\n",
              "      <td>0</td>\n",
              "      <td>0</td>\n",
              "      <td>187</td>\n",
              "      <td>0</td>\n",
              "      <td>3.5</td>\n",
              "      <td>3</td>\n",
              "      <td>0</td>\n",
              "      <td>3</td>\n",
              "      <td>0</td>\n",
              "      <td>250</td>\n",
              "    </tr>\n",
              "    <tr>\n",
              "      <th>4</th>\n",
              "      <td>41</td>\n",
              "      <td>0</td>\n",
              "      <td>2</td>\n",
              "      <td>130</td>\n",
              "      <td>0</td>\n",
              "      <td>2</td>\n",
              "      <td>172</td>\n",
              "      <td>0</td>\n",
              "      <td>1.4</td>\n",
              "      <td>1</td>\n",
              "      <td>0</td>\n",
              "      <td>3</td>\n",
              "      <td>0</td>\n",
              "      <td>204</td>\n",
              "    </tr>\n",
              "  </tbody>\n",
              "</table>\n",
              "</div>"
            ],
            "text/plain": [
              "   idade  genero  tipo_dor_peito  ...  thal  diag_doenca_cardiaca  colesterol\n",
              "0     63       1               1  ...     6                     0         233\n",
              "1     67       1               4  ...     3                     2         286\n",
              "2     67       1               4  ...     7                     1         229\n",
              "3     37       1               3  ...     3                     0         250\n",
              "4     41       0               2  ...     3                     0         204\n",
              "\n",
              "[5 rows x 14 columns]"
            ]
          },
          "metadata": {
            "tags": []
          },
          "execution_count": 43
        }
      ]
    },
    {
      "cell_type": "markdown",
      "metadata": {
        "id": "hcDs4I_h2p05"
      },
      "source": [
        "###Visualizando graficamente"
      ]
    },
    {
      "cell_type": "markdown",
      "metadata": {
        "id": "a8OtK2WQ2s9D"
      },
      "source": [
        "Como essa base de dados possui muitas colunas, veremos a relação entre apenas duas colunas: *pressao_sanguinea_repouso* e *colesterol*."
      ]
    },
    {
      "cell_type": "code",
      "metadata": {
        "colab": {
          "base_uri": "https://localhost:8080/",
          "height": 302
        },
        "id": "h_LJzAaI2nl_",
        "outputId": "c264b569-625e-4bd5-ae20-631772b0fc8f"
      },
      "source": [
        "import seaborn as sns\n",
        "\n",
        "sns.scatterplot(x='pressao_sanguinea_repouso', y='colesterol', data=colesterol)"
      ],
      "execution_count": null,
      "outputs": [
        {
          "output_type": "execute_result",
          "data": {
            "text/plain": [
              "<matplotlib.axes._subplots.AxesSubplot at 0x7f32256fa250>"
            ]
          },
          "metadata": {
            "tags": []
          },
          "execution_count": 44
        },
        {
          "output_type": "display_data",
          "data": {
            "image/png": "[encoded data removed]",
            "text/plain": [
              "<Figure size 432x288 with 1 Axes>"
            ]
          },
          "metadata": {
            "tags": []
          }
        }
      ]
    },
    {
      "cell_type": "markdown",
      "metadata": {
        "id": "QRCOFTF-_njt"
      },
      "source": [
        "###Instanciando o objeto"
      ]
    },
    {
      "cell_type": "code",
      "metadata": {
        "id": "6Pw1BgG82_7X"
      },
      "source": [
        "from sklearn.cluster import KMeans\n",
        "\n",
        "kmeans = KMeans(n_clusters=2, random_state=9)"
      ],
      "execution_count": null,
      "outputs": []
    },
    {
      "cell_type": "markdown",
      "metadata": {
        "id": "usEq7LVD389J"
      },
      "source": [
        "###Definindo x"
      ]
    },
    {
      "cell_type": "markdown",
      "metadata": {
        "id": "IY2yKCSi3_0w"
      },
      "source": [
        "Como o clustering é um aprendizado não supervisionado, não declaramos o y, apenas o x.\n",
        "\n",
        "Verificando as informações do dataframe de colesterol. (O KMeans não entende strings, portanto, precisamos verificar se na base de dados possuimos alguma coluna que possui strings)."
      ]
    },
    {
      "cell_type": "code",
      "metadata": {
        "colab": {
          "base_uri": "https://localhost:8080/"
        },
        "id": "vVJhcbrl4fzw",
        "outputId": "0d3e4e6c-6d3b-4663-d236-c7e7882269a2"
      },
      "source": [
        "x.info()"
      ],
      "execution_count": null,
      "outputs": [
        {
          "output_type": "stream",
          "text": [
            "<class 'pandas.core.frame.DataFrame'>\n",
            "RangeIndex: 303 entries, 0 to 302\n",
            "Data columns (total 14 columns):\n",
            " #   Column                        Non-Null Count  Dtype  \n",
            "---  ------                        --------------  -----  \n",
            " 0   idade                         303 non-null    int64  \n",
            " 1   genero                        303 non-null    int64  \n",
            " 2   tipo_dor_peito                303 non-null    int64  \n",
            " 3   pressao_sanguinea_repouso     303 non-null    int64  \n",
            " 4   acucar_jejum                  303 non-null    int64  \n",
            " 5   resultado_eletrocardio        303 non-null    int64  \n",
            " 6   freq_cardio_max               303 non-null    int64  \n",
            " 7   angina_exercicio              303 non-null    int64  \n",
            " 8   depressao_induzida_exercicio  303 non-null    float64\n",
            " 9   inclinacao                    303 non-null    int64  \n",
            " 10  num_princ_vasos               303 non-null    object \n",
            " 11  thal                          303 non-null    object \n",
            " 12  diag_doenca_cardiaca          303 non-null    int64  \n",
            " 13  colesterol                    303 non-null    int64  \n",
            "dtypes: float64(1), int64(11), object(2)\n",
            "memory usage: 33.3+ KB\n"
          ],
          "name": "stdout"
        }
      ]
    },
    {
      "cell_type": "markdown",
      "metadata": {
        "id": "JgOLmBhk4j2J"
      },
      "source": [
        "Observe que temos duas colunas do tipo *object*, portanto, possuem strings.\n",
        "\n",
        "Optando então por pegarmos apenas as colunas que são do tipo *int64* como sendo o x."
      ]
    },
    {
      "cell_type": "code",
      "metadata": {
        "id": "NTLaRTsx31Lg"
      },
      "source": [
        "x = colesterol.select_dtypes('int64')"
      ],
      "execution_count": null,
      "outputs": []
    },
    {
      "cell_type": "markdown",
      "metadata": {
        "id": "WQ23_pwR4MWq"
      },
      "source": [
        "###Treinando o algoritmo"
      ]
    },
    {
      "cell_type": "code",
      "metadata": {
        "colab": {
          "base_uri": "https://localhost:8080/"
        },
        "id": "GYTwOuXy4LCv",
        "outputId": "0ec75515-2d14-415a-cfd1-67eac42ab3d7"
      },
      "source": [
        "kmeans.fit(x)"
      ],
      "execution_count": null,
      "outputs": [
        {
          "output_type": "execute_result",
          "data": {
            "text/plain": [
              "KMeans(algorithm='auto', copy_x=True, init='k-means++', max_iter=300,\n",
              "       n_clusters=2, n_init=10, n_jobs=None, precompute_distances='auto',\n",
              "       random_state=9, tol=0.0001, verbose=0)"
            ]
          },
          "metadata": {
            "tags": []
          },
          "execution_count": 50
        }
      ]
    },
    {
      "cell_type": "markdown",
      "metadata": {
        "id": "oKgZERNf5R5R"
      },
      "source": [
        "###Verificando as separações"
      ]
    },
    {
      "cell_type": "code",
      "metadata": {
        "colab": {
          "base_uri": "https://localhost:8080/"
        },
        "id": "X6dfuasB5K-Q",
        "outputId": "0465665a-b737-4515-88e6-ff0f7192921b"
      },
      "source": [
        "kmeans.labels_"
      ],
      "execution_count": null,
      "outputs": [
        {
          "output_type": "execute_result",
          "data": {
            "text/plain": [
              "array([0, 1, 0, 0, 0, 0, 1, 1, 0, 0, 0, 1, 0, 1, 0, 0, 0, 0, 1, 1, 0, 1,\n",
              "       1, 0, 0, 0, 1, 0, 0, 0, 0, 0, 1, 0, 0, 0, 0, 1, 1, 0, 0, 0, 1, 0,\n",
              "       1, 0, 0, 0, 1, 0, 0, 0, 1, 0, 0, 1, 0, 0, 1, 0, 1, 0, 0, 1, 0, 1,\n",
              "       0, 0, 1, 0, 1, 0, 1, 0, 0, 1, 1, 1, 0, 1, 0, 1, 1, 1, 1, 0, 0, 0,\n",
              "       0, 0, 1, 0, 0, 0, 0, 0, 0, 1, 0, 0, 0, 0, 1, 1, 0, 1, 0, 0, 1, 0,\n",
              "       1, 0, 0, 1, 1, 0, 0, 0, 1, 0, 0, 1, 0, 0, 1, 0, 1, 0, 0, 0, 0, 0,\n",
              "       0, 1, 0, 0, 0, 1, 0, 0, 0, 1, 0, 1, 0, 0, 1, 0, 1, 1, 1, 1, 1, 1,\n",
              "       0, 1, 1, 1, 1, 1, 0, 1, 0, 0, 0, 0, 0, 1, 1, 0, 1, 0, 0, 1, 0, 1,\n",
              "       0, 0, 1, 0, 1, 1, 0, 1, 1, 0, 0, 0, 1, 0, 0, 1, 0, 1, 0, 1, 0, 0,\n",
              "       0, 1, 0, 1, 0, 1, 0, 1, 1, 0, 1, 0, 0, 0, 0, 0, 0, 0, 0, 0, 1, 1,\n",
              "       1, 1, 0, 1, 1, 0, 0, 1, 0, 0, 0, 1, 0, 1, 0, 1, 1, 0, 1, 1, 0, 1,\n",
              "       1, 0, 0, 0, 0, 1, 0, 0, 0, 0, 1, 1, 1, 0, 0, 0, 0, 1, 0, 1, 0, 0,\n",
              "       0, 1, 0, 0, 0, 0, 0, 0, 1, 0, 0, 0, 1, 0, 0, 0, 1, 0, 0, 0, 0, 1,\n",
              "       0, 0, 0, 0, 0, 1, 0, 0, 0, 0, 0, 0, 1, 0, 0, 0, 0], dtype=int32)"
            ]
          },
          "metadata": {
            "tags": []
          },
          "execution_count": 51
        }
      ]
    },
    {
      "cell_type": "markdown",
      "metadata": {
        "id": "6VrS7A_W5sLZ"
      },
      "source": [
        "Visualizando graficamente a relação entre as colunas  *pressao_sanguinea_repouso* e *colesterol*, verificando a separação feita."
      ]
    },
    {
      "cell_type": "code",
      "metadata": {
        "colab": {
          "base_uri": "https://localhost:8080/",
          "height": 302
        },
        "id": "N7ixYeii5XH_",
        "outputId": "c487e30c-866d-4994-f130-d5571811b4c3"
      },
      "source": [
        "sns.scatterplot(x='pressao_sanguinea_repouso', y='colesterol', data=colesterol, hue=kmeans.labels_)"
      ],
      "execution_count": null,
      "outputs": [
        {
          "output_type": "execute_result",
          "data": {
            "text/plain": [
              "<matplotlib.axes._subplots.AxesSubplot at 0x7f3223152350>"
            ]
          },
          "metadata": {
            "tags": []
          },
          "execution_count": 53
        },
        {
          "output_type": "display_data",
          "data": {
            "image/png": "[encoded data removed]",
            "text/plain": [
              "<Figure size 432x288 with 1 Axes>"
            ]
          },
          "metadata": {
            "tags": []
          }
        }
      ]
    },
    {
      "cell_type": "markdown",
      "metadata": {
        "id": "lCKHQwFA6TH7"
      },
      "source": [
        "###Obtendo a média do colesterol de cada grupo criado"
      ]
    },
    {
      "cell_type": "markdown",
      "metadata": {
        "id": "2Rd4LKD66YyR"
      },
      "source": [
        "Para isso, criaremos uma coluna de clusters"
      ]
    },
    {
      "cell_type": "code",
      "metadata": {
        "colab": {
          "base_uri": "https://localhost:8080/",
          "height": 204
        },
        "id": "Zen74K2-5i9X",
        "outputId": "e415d11e-613b-48db-a530-bdce29417f47"
      },
      "source": [
        "colesterol['clusters'] = kmeans.labels_\n",
        "colesterol.head()"
      ],
      "execution_count": null,
      "outputs": [
        {
          "output_type": "execute_result",
          "data": {
            "text/html": [
              "<div>\n",
              "<style scoped>\n",
              "    .dataframe tbody tr th:only-of-type {\n",
              "        vertical-align: middle;\n",
              "    }\n",
              "\n",
              "    .dataframe tbody tr th {\n",
              "        vertical-align: top;\n",
              "    }\n",
              "\n",
              "    .dataframe thead th {\n",
              "        text-align: right;\n",
              "    }\n",
              "</style>\n",
              "<table border=\"1\" class=\"dataframe\">\n",
              "  <thead>\n",
              "    <tr style=\"text-align: right;\">\n",
              "      <th></th>\n",
              "      <th>idade</th>\n",
              "      <th>genero</th>\n",
              "      <th>tipo_dor_peito</th>\n",
              "      <th>pressao_sanguinea_repouso</th>\n",
              "      <th>acucar_jejum</th>\n",
              "      <th>resultado_eletrocardio</th>\n",
              "      <th>freq_cardio_max</th>\n",
              "      <th>angina_exercicio</th>\n",
              "      <th>depressao_induzida_exercicio</th>\n",
              "      <th>inclinacao</th>\n",
              "      <th>num_princ_vasos</th>\n",
              "      <th>thal</th>\n",
              "      <th>diag_doenca_cardiaca</th>\n",
              "      <th>colesterol</th>\n",
              "      <th>clusters</th>\n",
              "    </tr>\n",
              "  </thead>\n",
              "  <tbody>\n",
              "    <tr>\n",
              "      <th>0</th>\n",
              "      <td>63</td>\n",
              "      <td>1</td>\n",
              "      <td>1</td>\n",
              "      <td>145</td>\n",
              "      <td>1</td>\n",
              "      <td>2</td>\n",
              "      <td>150</td>\n",
              "      <td>0</td>\n",
              "      <td>2.3</td>\n",
              "      <td>3</td>\n",
              "      <td>0</td>\n",
              "      <td>6</td>\n",
              "      <td>0</td>\n",
              "      <td>233</td>\n",
              "      <td>0</td>\n",
              "    </tr>\n",
              "    <tr>\n",
              "      <th>1</th>\n",
              "      <td>67</td>\n",
              "      <td>1</td>\n",
              "      <td>4</td>\n",
              "      <td>160</td>\n",
              "      <td>0</td>\n",
              "      <td>2</td>\n",
              "      <td>108</td>\n",
              "      <td>1</td>\n",
              "      <td>1.5</td>\n",
              "      <td>2</td>\n",
              "      <td>3</td>\n",
              "      <td>3</td>\n",
              "      <td>2</td>\n",
              "      <td>286</td>\n",
              "      <td>1</td>\n",
              "    </tr>\n",
              "    <tr>\n",
              "      <th>2</th>\n",
              "      <td>67</td>\n",
              "      <td>1</td>\n",
              "      <td>4</td>\n",
              "      <td>120</td>\n",
              "      <td>0</td>\n",
              "      <td>2</td>\n",
              "      <td>129</td>\n",
              "      <td>1</td>\n",
              "      <td>2.6</td>\n",
              "      <td>2</td>\n",
              "      <td>2</td>\n",
              "      <td>7</td>\n",
              "      <td>1</td>\n",
              "      <td>229</td>\n",
              "      <td>0</td>\n",
              "    </tr>\n",
              "    <tr>\n",
              "      <th>3</th>\n",
              "      <td>37</td>\n",
              "      <td>1</td>\n",
              "      <td>3</td>\n",
              "      <td>130</td>\n",
              "      <td>0</td>\n",
              "      <td>0</td>\n",
              "      <td>187</td>\n",
              "      <td>0</td>\n",
              "      <td>3.5</td>\n",
              "      <td>3</td>\n",
              "      <td>0</td>\n",
              "      <td>3</td>\n",
              "      <td>0</td>\n",
              "      <td>250</td>\n",
              "      <td>0</td>\n",
              "    </tr>\n",
              "    <tr>\n",
              "      <th>4</th>\n",
              "      <td>41</td>\n",
              "      <td>0</td>\n",
              "      <td>2</td>\n",
              "      <td>130</td>\n",
              "      <td>0</td>\n",
              "      <td>2</td>\n",
              "      <td>172</td>\n",
              "      <td>0</td>\n",
              "      <td>1.4</td>\n",
              "      <td>1</td>\n",
              "      <td>0</td>\n",
              "      <td>3</td>\n",
              "      <td>0</td>\n",
              "      <td>204</td>\n",
              "      <td>0</td>\n",
              "    </tr>\n",
              "  </tbody>\n",
              "</table>\n",
              "</div>"
            ],
            "text/plain": [
              "   idade  genero  tipo_dor_peito  ...  diag_doenca_cardiaca  colesterol  clusters\n",
              "0     63       1               1  ...                     0         233         0\n",
              "1     67       1               4  ...                     2         286         1\n",
              "2     67       1               4  ...                     1         229         0\n",
              "3     37       1               3  ...                     0         250         0\n",
              "4     41       0               2  ...                     0         204         0\n",
              "\n",
              "[5 rows x 15 columns]"
            ]
          },
          "metadata": {
            "tags": []
          },
          "execution_count": 54
        }
      ]
    },
    {
      "cell_type": "code",
      "metadata": {
        "colab": {
          "base_uri": "https://localhost:8080/"
        },
        "id": "RCDxi8x26F8g",
        "outputId": "e0f863dd-f7bc-4e95-af42-a0c4abc25c12"
      },
      "source": [
        "colesterol.groupby('clusters')['colesterol'].mean()"
      ],
      "execution_count": null,
      "outputs": [
        {
          "output_type": "execute_result",
          "data": {
            "text/plain": [
              "clusters\n",
              "0    216.473958\n",
              "1    298.963964\n",
              "Name: colesterol, dtype: float64"
            ]
          },
          "metadata": {
            "tags": []
          },
          "execution_count": 55
        }
      ]
    },
    {
      "cell_type": "markdown",
      "metadata": {
        "id": "r4wIfYyt-DRT"
      },
      "source": [
        "Observe que a média de colesterol das pessoas do cluster/grupo 0 é 216 e a média de colesterol das pessoas do cluster/grupo 1 é 298."
      ]
    }
  ]
}