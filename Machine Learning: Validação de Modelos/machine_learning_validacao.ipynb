{
  "nbformat": 4,
  "nbformat_minor": 0,
  "metadata": {
    "colab": {
      "name": "machine_learning_validacao.ipynb",
      "provenance": [],
      "authorship_tag": "ABX9TyNnOsvlfJlkYzInwXWdv5R0",
      "include_colab_link": true
    },
    "kernelspec": {
      "name": "python3",
      "display_name": "Python 3"
    },
    "language_info": {
      "name": "python"
    }
  },
  "cells": [
    {
      "cell_type": "markdown",
      "metadata": {
        "id": "view-in-github",
        "colab_type": "text"
      },
      "source": [
        "<a href=\"https://colab.research.google.com/github/brunatoloti/data-science-alura-cursos/blob/main/Machine%20Learning%3A%20Valida%C3%A7%C3%A3o%20de%20Modelos/machine_learning_validacao.ipynb\" target=\"_parent\"><img src=\"https://colab.research.google.com/assets/colab-badge.svg\" alt=\"Open In Colab\"/></a>"
      ]
    },
    {
      "cell_type": "markdown",
      "metadata": {
        "id": "2Me2Ljhu-bml"
      },
      "source": [
        "# Machine Learning: Validação de Modelos"
      ]
    },
    {
      "cell_type": "markdown",
      "metadata": {
        "id": "KRqpiKeg-WAG"
      },
      "source": [
        "Importando as bibliotecas"
      ]
    },
    {
      "cell_type": "code",
      "metadata": {
        "id": "jHNhRdTm-N9r"
      },
      "source": [
        "import pandas as pd\n",
        "import numpy as np\n",
        "from sklearn.model_selection import train_test_split\n",
        "from sklearn.svm import LinearSVC\n",
        "from sklearn.metrics import accuracy_score\n",
        "from sklearn.dummy import DummyClassifier\n",
        "from sklearn.tree import DecisionTreeClassifier\n",
        "from sklearn.model_selection import cross_validate \n",
        "from sklearn.model_selection import KFold\n",
        "from sklearn.model_selection import StratifiedKFold\n",
        "from sklearn.model_selection import GroupKFold\n",
        "from sklearn.preprocessing import StandardScaler\n",
        "from sklearn.svm import SVC\n",
        "from sklearn.pipeline import Pipeline"
      ],
      "execution_count": null,
      "outputs": []
    },
    {
      "cell_type": "markdown",
      "metadata": {
        "id": "-2nEP0yeAUNG"
      },
      "source": [
        "Importando a base de dados"
      ]
    },
    {
      "cell_type": "code",
      "metadata": {
        "colab": {
          "base_uri": "https://localhost:8080/",
          "height": 204
        },
        "id": "csTNjYIM-Xhf",
        "outputId": "b6fc1999-7229-4345-fb2a-734df65e7c4e"
      },
      "source": [
        "uri = \"https://gist.githubusercontent.com/guilhermesilveira/e99a526b2e7ccc6c3b70f53db43a87d2/raw/1605fc74aa778066bf2e6695e24d53cf65f2f447/machine-learning-carros-simulacao.csv\"\n",
        "dados = pd.read_csv(uri).drop(columns=[\"Unnamed: 0\"], axis=1)\n",
        "dados.head()"
      ],
      "execution_count": null,
      "outputs": [
        {
          "output_type": "execute_result",
          "data": {
            "text/html": [
              "<div>\n",
              "<style scoped>\n",
              "    .dataframe tbody tr th:only-of-type {\n",
              "        vertical-align: middle;\n",
              "    }\n",
              "\n",
              "    .dataframe tbody tr th {\n",
              "        vertical-align: top;\n",
              "    }\n",
              "\n",
              "    .dataframe thead th {\n",
              "        text-align: right;\n",
              "    }\n",
              "</style>\n",
              "<table border=\"1\" class=\"dataframe\">\n",
              "  <thead>\n",
              "    <tr style=\"text-align: right;\">\n",
              "      <th></th>\n",
              "      <th>preco</th>\n",
              "      <th>vendido</th>\n",
              "      <th>idade_do_modelo</th>\n",
              "      <th>km_por_ano</th>\n",
              "    </tr>\n",
              "  </thead>\n",
              "  <tbody>\n",
              "    <tr>\n",
              "      <th>0</th>\n",
              "      <td>30941.02</td>\n",
              "      <td>1</td>\n",
              "      <td>18</td>\n",
              "      <td>35085.22134</td>\n",
              "    </tr>\n",
              "    <tr>\n",
              "      <th>1</th>\n",
              "      <td>40557.96</td>\n",
              "      <td>1</td>\n",
              "      <td>20</td>\n",
              "      <td>12622.05362</td>\n",
              "    </tr>\n",
              "    <tr>\n",
              "      <th>2</th>\n",
              "      <td>89627.50</td>\n",
              "      <td>0</td>\n",
              "      <td>12</td>\n",
              "      <td>11440.79806</td>\n",
              "    </tr>\n",
              "    <tr>\n",
              "      <th>3</th>\n",
              "      <td>95276.14</td>\n",
              "      <td>0</td>\n",
              "      <td>3</td>\n",
              "      <td>43167.32682</td>\n",
              "    </tr>\n",
              "    <tr>\n",
              "      <th>4</th>\n",
              "      <td>117384.68</td>\n",
              "      <td>1</td>\n",
              "      <td>4</td>\n",
              "      <td>12770.11290</td>\n",
              "    </tr>\n",
              "  </tbody>\n",
              "</table>\n",
              "</div>"
            ],
            "text/plain": [
              "       preco  vendido  idade_do_modelo   km_por_ano\n",
              "0   30941.02        1               18  35085.22134\n",
              "1   40557.96        1               20  12622.05362\n",
              "2   89627.50        0               12  11440.79806\n",
              "3   95276.14        0                3  43167.32682\n",
              "4  117384.68        1                4  12770.11290"
            ]
          },
          "metadata": {},
          "execution_count": 2
        }
      ]
    },
    {
      "cell_type": "markdown",
      "metadata": {
        "id": "eYK5C20QAbns"
      },
      "source": [
        "## A influência da aleatoriedade na validação do modelo"
      ]
    },
    {
      "cell_type": "markdown",
      "metadata": {
        "id": "cV3k3xPxAgDN"
      },
      "source": [
        "Definindo x e y e separando os dados entre treino e teste. Além disso, definindo o SEED"
      ]
    },
    {
      "cell_type": "code",
      "metadata": {
        "colab": {
          "base_uri": "https://localhost:8080/"
        },
        "id": "9nGf59ZZ-j01",
        "outputId": "4a660c42-c981-4a04-95a3-21ac532703a4"
      },
      "source": [
        "x = dados[[\"preco\", \"idade_do_modelo\",\"km_por_ano\"]]\n",
        "y = dados[\"vendido\"]\n",
        "\n",
        "SEED = 158020\n",
        "np.random.seed(SEED)\n",
        "treino_x, teste_x, treino_y, teste_y = train_test_split(x, y, test_size = 0.25,\n",
        "                                                         stratify = y)\n",
        "print(\"Treinaremos com %d elementos e testaremos com %d elementos\" % (len(treino_x), len(teste_x)))"
      ],
      "execution_count": null,
      "outputs": [
        {
          "output_type": "stream",
          "name": "stdout",
          "text": [
            "Treinaremos com 7500 elementos e testaremos com 2500 elementos\n"
          ]
        }
      ]
    },
    {
      "cell_type": "markdown",
      "metadata": {
        "id": "L_CQoWVkAk6r"
      },
      "source": [
        "Utilizando um classificador Dummy para decidir uma taxa de acerto aceitável"
      ]
    },
    {
      "cell_type": "code",
      "metadata": {
        "colab": {
          "base_uri": "https://localhost:8080/"
        },
        "id": "WGVWiv-p-vze",
        "outputId": "3957f311-1436-4b57-e4d9-51187cb71de7"
      },
      "source": [
        "dummy_stratified = DummyClassifier()\n",
        "dummy_stratified.fit(treino_x, treino_y)\n",
        "acuracia = dummy_stratified.score(teste_x, teste_y) * 100\n",
        "\n",
        "print(\"A acurácia do dummy stratified foi de %.2f%%\" % acuracia)"
      ],
      "execution_count": null,
      "outputs": [
        {
          "output_type": "stream",
          "name": "stdout",
          "text": [
            "A acurácia do dummy stratified foi de 50.96%\n"
          ]
        },
        {
          "output_type": "stream",
          "name": "stderr",
          "text": [
            "/usr/local/lib/python3.7/dist-packages/sklearn/dummy.py:132: FutureWarning: The default value of strategy will change from stratified to prior in 0.24.\n",
            "  \"stratified to prior in 0.24.\", FutureWarning)\n"
          ]
        }
      ]
    },
    {
      "cell_type": "markdown",
      "metadata": {
        "id": "P5s7wdwQBEdE"
      },
      "source": [
        "Agora, rodando um classificador de Árvore de Decisão, com profundidade máxima igual a 2"
      ]
    },
    {
      "cell_type": "code",
      "metadata": {
        "colab": {
          "base_uri": "https://localhost:8080/"
        },
        "id": "h-3MBp6q-_P-",
        "outputId": "f6f728a9-b1f5-402c-9e4d-cf7301a8578d"
      },
      "source": [
        "SEED = 158020\n",
        "np.random.seed(SEED)\n",
        "modelo = DecisionTreeClassifier(max_depth=2)\n",
        "modelo.fit(treino_x, treino_y)\n",
        "previsoes = modelo.predict(teste_x)\n",
        "\n",
        "acuracia = accuracy_score(teste_y, previsoes) * 100\n",
        "print (\"A acurácia foi %.2f%%\" % acuracia)"
      ],
      "execution_count": null,
      "outputs": [
        {
          "output_type": "stream",
          "name": "stdout",
          "text": [
            "A acurácia foi 71.92%\n"
          ]
        }
      ]
    },
    {
      "cell_type": "markdown",
      "metadata": {
        "id": "7TF8alBEBMmV"
      },
      "source": [
        "Vemos que a Árvore de Decisão, nessas condições, obteve uma acurácia maior do que o classificador Dummy, o que é muito bom!\n",
        "\n",
        "Mas, e se mudarmos o SEED?"
      ]
    },
    {
      "cell_type": "markdown",
      "metadata": {
        "id": "tsnAjF2GBdtl"
      },
      "source": [
        "Fazendo esse teste com um novo SEED"
      ]
    },
    {
      "cell_type": "code",
      "metadata": {
        "colab": {
          "base_uri": "https://localhost:8080/"
        },
        "id": "5dW7Cv17_bv1",
        "outputId": "157b6c74-8177-4052-93f3-8758de6806b9"
      },
      "source": [
        "x = dados[[\"preco\", \"idade_do_modelo\",\"km_por_ano\"]]\n",
        "y = dados[\"vendido\"]\n",
        "\n",
        "SEED = 5\n",
        "np.random.seed(SEED)\n",
        "treino_x, teste_x, treino_y, teste_y = train_test_split(x, y, test_size = 0.25,\n",
        "                                                         stratify = y)\n",
        "print(\"Treinaremos com %d elementos e testaremos com %d elementos\" % (len(treino_x), len(teste_x)))\n",
        "\n",
        "modelo = DecisionTreeClassifier(max_depth=2)\n",
        "modelo.fit(treino_x, treino_y)\n",
        "previsoes = modelo.predict(teste_x)\n",
        "\n",
        "acuracia = accuracy_score(teste_y, previsoes) * 100\n",
        "print(\"A acurácia do dummy stratified foi %.2f%%\" % acuracia)"
      ],
      "execution_count": null,
      "outputs": [
        {
          "output_type": "stream",
          "name": "stdout",
          "text": [
            "Treinaremos com 7500 elementos e testaremos com 2500 elementos\n",
            "A acurácia do dummy stratified foi 76.84%\n"
          ]
        }
      ]
    },
    {
      "cell_type": "markdown",
      "metadata": {
        "id": "rloOpX7YBit1"
      },
      "source": [
        "A acurácia, mudando o SEED de 158020 para 5, aumentou!\n",
        "\n",
        "Então, aquela decisão de julgar isso como bom ou ruim em comparação ao que obtínhamos com o classificador Dummy está melhor, entretanto, ainda estamos vulneráveis a tomar uma decisão baseada em uma aleatoriedade. Não faz sentido validar, julgar se é bom ou ruim, de acordo com um número aleatório. Queremos minimizar o efeito dessa aleatoriedade, dessa escolha aleatória do treino, do teste e da classificação de Árvore de Decisão, na nossa decisão.\n",
        "\n",
        "No entanto, se rodamos o treino e o teste uma única vez, corremos o risco de os ter separado mal. Precisamos de outra forma de treinar e testar mais de uma vez para que não tenhamos uma estimativa única, uma maneira que permita rodar o treino e o teste diversas vezes e, a partir disso, obter uma estimativa.\n",
        "\n",
        "Em vez de um ponto, queremos um intervalo. Precisamos encontrar um método, um algoritimo para isso. "
      ]
    },
    {
      "cell_type": "markdown",
      "metadata": {
        "id": "XcJPJqxQpkVf"
      },
      "source": [
        "## Usando e avaliando com Cross Validation"
      ]
    },
    {
      "cell_type": "code",
      "metadata": {
        "id": "XcQseqQ0Bh2k",
        "colab": {
          "base_uri": "https://localhost:8080/"
        },
        "outputId": "5dabe082-3910-462e-8919-df06768eca65"
      },
      "source": [
        "SEED = 158020\n",
        "np.random.seed(SEED)\n",
        "modelo = DecisionTreeClassifier(max_depth=2)\n",
        "results = cross_validate(modelo, x, y, cv = 3, return_train_score=False)\n",
        "media = results['test_score'].mean()\n",
        "desvio_padrao = results['test_score'].std()\n",
        "print(\"Acurácia com cross validation 3 =  [%.2f, %.2f]\" % ((media - 2 * desvio_padrao)*100, (media + 2 * desvio_padrao)*100))"
      ],
      "execution_count": null,
      "outputs": [
        {
          "output_type": "stream",
          "name": "stdout",
          "text": [
            "Acurácia com cross validation 3 =  [74.99, 76.57]\n"
          ]
        }
      ]
    },
    {
      "cell_type": "markdown",
      "metadata": {
        "id": "8do-bavOu8hU"
      },
      "source": [
        "Se mudarmos o valor de SEED — número aleatório que influencia o algoritmo —, a acurácia se mantém. Podemos alterar o SEED para qualquer valor e o intervalo permanecerá o mesmo, de 74.99 a 76.57. Ou seja, nosso algoritmo não está mais tão suscetível a essa aleatoriedade! (Podemos testar com SEEDs diferentes para ver que, de fato, isso ocorre!). Contudo, estamos suscetíveis ao número de cv.\n",
        "\n",
        "Dependendo do número de cv (que é a quantidade de vezes que será feito o treino e teste), podemos ter um intervalo diferente. Por exemplo, fazendo o mesmo código para cv=10."
      ]
    },
    {
      "cell_type": "code",
      "metadata": {
        "colab": {
          "base_uri": "https://localhost:8080/"
        },
        "id": "KcqVaF_4sl-_",
        "outputId": "0812cea5-a1b9-4e3f-9425-5cacb1d7dbb9"
      },
      "source": [
        "SEED = 158020\n",
        "np.random.seed(SEED)\n",
        "modelo = DecisionTreeClassifier(max_depth=2)\n",
        "results = cross_validate(modelo, x, y, cv = 10, return_train_score=False)\n",
        "media = results['test_score'].mean()\n",
        "desvio_padrao = results['test_score'].std()\n",
        "print(\"Acurácia com cross validation 10 =  [%.2f, %.2f]\" % ((media - 2 * desvio_padrao)*100, (media + 2 * desvio_padrao)*100))"
      ],
      "execution_count": null,
      "outputs": [
        {
          "output_type": "stream",
          "name": "stdout",
          "text": [
            "Acurácia com cross validation 10 =  [74.24, 77.32]\n"
          ]
        }
      ]
    },
    {
      "cell_type": "markdown",
      "metadata": {
        "id": "YG9k6CZcvtFC"
      },
      "source": [
        "Ou, fazendo o mesmo código para cv = 5"
      ]
    },
    {
      "cell_type": "code",
      "metadata": {
        "colab": {
          "base_uri": "https://localhost:8080/"
        },
        "id": "whFMaEnnvn1l",
        "outputId": "762135d7-4451-4e13-94fb-3ee98e718fc5"
      },
      "source": [
        "SEED = 158020\n",
        "np.random.seed(SEED)\n",
        "modelo = DecisionTreeClassifier(max_depth=2)\n",
        "results = cross_validate(modelo, x, y, cv = 5, return_train_score=False)\n",
        "media = results['test_score'].mean()\n",
        "desvio_padrao = results['test_score'].std()\n",
        "print(\"Acurácia com cross validation 5 =  [%.2f, %.2f]\" % ((media - 2 * desvio_padrao)*100, (media + 2 * desvio_padrao)*100))"
      ],
      "execution_count": null,
      "outputs": [
        {
          "output_type": "stream",
          "name": "stdout",
          "text": [
            "Acurácia com cross validation 5 =  [75.21, 76.35]\n"
          ]
        }
      ]
    },
    {
      "cell_type": "markdown",
      "metadata": {
        "id": "YcSoTWLLvxDB"
      },
      "source": [
        "Podemos ver que, de fato, o intervalo depende do valor de cv."
      ]
    },
    {
      "cell_type": "markdown",
      "metadata": {
        "id": "WDpTH7LNwJzx"
      },
      "source": [
        "Então, qual número devemos usar para o cross validation (cv)? Alguns papers científicos apontam que escolher 5 ou 10 para cv já é o suficiente. Sendo assim, vamos manter o valor de cv do nosso código como 5, que gerou o intervalo de 75.21 a 76.35, para a taxa de acerto que acreditamos alcançar com o algoritmo que estamos utilizando."
      ]
    },
    {
      "cell_type": "markdown",
      "metadata": {
        "id": "EUKvRZ6ZFZce"
      },
      "source": [
        "## Aleatoriedade no Cross Validate"
      ]
    },
    {
      "cell_type": "markdown",
      "metadata": {
        "id": "2FCxVsFbIhZq"
      },
      "source": [
        "O cross_validate() não recebe o parâmetro de aleatoriedade, e esse é o padrão. Da maneira utilizada aqui, ele é determinístico e sabemos em quantos pedaços ele quebrará os dados, porque somos quem decidimos essa quantidade. Portanto, a realidade é que a aleatoriedade (random) só é aplicada em DecisionTreeClassifier(). E, por padrão, ele só a usará em um caso específico e raro. Por estas razões, mesmo que mudemos constantemente o valor de SEED, obteremos basicamente sempre os mesmos números.\n",
        "\n",
        "A ideia é rodar aleatoriamente, de fato. Por mais que recebamos todos os dados em uma sequência, não queremos quebrar eles em 5 pedaços e, a partir disso, fazer o cross_validate. O ideal seria embaralhar estes dados e, então, executar a validação cruzada. O algoritmo pode fazer isso de maneira mais inteligente, sem embaralhar e copiar todo o espaço de memória e todos os objetos que estiverem dentro, e assim por diante. Mas o importante é a ideia de embaralhar esses dados de alguma maneira, e o cross_validate não faz isso de verdade."
      ]
    },
    {
      "cell_type": "markdown",
      "metadata": {
        "id": "YnxDn2UUGE6d"
      },
      "source": [
        "Primeiramente, fazendo uma função para imprimir os resultados, ao invés de sempre ficar colocando os códigos diversas vezes."
      ]
    },
    {
      "cell_type": "code",
      "metadata": {
        "id": "YBXNuyJbF3B7"
      },
      "source": [
        "def imprime_resultados(results):\n",
        "    media = results['test_score'].mean()\n",
        "    desvio_padrao = results['test_score'].std()\n",
        "    print(f\"Acurácia média = {round(media*100, 2)}\")\n",
        "    print(f\"Acurácia intervalo =  [{round((media - 2 * desvio_padrao)*100, 2)}, {round((media + 2 * desvio_padrao)*100, 2)}]\")"
      ],
      "execution_count": null,
      "outputs": []
    },
    {
      "cell_type": "markdown",
      "metadata": {
        "id": "qcz1UPANJQJS"
      },
      "source": [
        "O que desejamos modificar é a aleatoriedade, desejamos que ele embaralhe nossos dados, entretanto, não existe um parâmetro para isto. Todavia, o cv aceita como parâmetro, tanto números, quanto geradores de validação cruzada. E existem diversos geradores de validação cruzada. O que estamos usando, por baixo dos panos, é o KFold, que \"corta\" nossos dados em K pedaços. E o SKLearn possui o KFold.\n",
        "\n",
        "Para determinarmos o número de vezes de treino e teste, o parâmetro do KFold a ser preenchido é o *n_splits*, ou seja, o cross_validate é um KFold de *n_splits*, nesse caso abaixo igual a 10. Além disso, para embaralhar os dados, usamos o parâmetro *shuffle=True*, pois ele tem um randon_state para ser setado."
      ]
    },
    {
      "cell_type": "code",
      "metadata": {
        "colab": {
          "base_uri": "https://localhost:8080/"
        },
        "id": "ziImXYHdvsXg",
        "outputId": "7d67fc13-f4b7-480b-fda0-235d6e5ac96f"
      },
      "source": [
        "SEED = 301\n",
        "np.random.seed(SEED)\n",
        "cv = KFold(n_splits=10)\n",
        "modelo = DecisionTreeClassifier(max_depth=2)\n",
        "results = cross_validate(modelo, x, y, cv = cv, return_train_score=False)\n",
        "imprime_resultados(results)"
      ],
      "execution_count": null,
      "outputs": [
        {
          "output_type": "stream",
          "name": "stdout",
          "text": [
            "Acurácia média = 75.78\n",
            "Acurácia intervalo =  [74.37, 77.19]\n"
          ]
        }
      ]
    },
    {
      "cell_type": "markdown",
      "metadata": {
        "id": "fSZQ3AyKHyfS"
      },
      "source": [
        "Bagunçando/Embaralhando os dados com o parâmetro *shuffle*"
      ]
    },
    {
      "cell_type": "code",
      "metadata": {
        "colab": {
          "base_uri": "https://localhost:8080/"
        },
        "id": "FW3QupnJG8d7",
        "outputId": "e6fc38e2-4fef-4a61-ebcd-1fd11b761883"
      },
      "source": [
        "SEED = 301\n",
        "np.random.seed(SEED)\n",
        "cv = KFold(n_splits=10, shuffle=True)\n",
        "modelo = DecisionTreeClassifier(max_depth=2)\n",
        "results = cross_validate(modelo, x, y, cv = cv, return_train_score=False)\n",
        "imprime_resultados(results)"
      ],
      "execution_count": null,
      "outputs": [
        {
          "output_type": "stream",
          "name": "stdout",
          "text": [
            "Acurácia média = 75.76\n",
            "Acurácia intervalo =  [73.26, 78.26]\n"
          ]
        }
      ]
    },
    {
      "cell_type": "markdown",
      "metadata": {
        "id": "vvaCTSfpH-d_"
      },
      "source": [
        "Repare que os valores do intervalo são diferentes dos obtidos anteriormente e o valor da média é bem próximo."
      ]
    },
    {
      "cell_type": "markdown",
      "metadata": {
        "id": "2p5Acv9YKbl4"
      },
      "source": [
        "Se rodarmos diversas vezes, a acurácia se mantém, pois continua sendo determinística. Mas, ainda assim, é diferente dos valores apresentados sem o *shuffle*. No entanto, repare que a média obtida por meio dos dois algoritmos é bastante próxima, mas o intervalo é diferente. Na prática, se os dados não possuem alguma estrutura interna, como uma sequência por datas, por exemplo, primeiro gera-se um sequência aleatória desses dados e, em seguida, quebra-se em 10 pedaços ou faz-se ambos ao mesmo tempo. Esta é a forma tradicional de execução com *shuffle* e *n_splits*."
      ]
    },
    {
      "cell_type": "markdown",
      "metadata": {
        "id": "KQhoh6XNSrLp"
      },
      "source": [
        "## Estratificação com Validação Cruzada"
      ]
    },
    {
      "cell_type": "markdown",
      "metadata": {
        "id": "whOSzSxWUjCJ"
      },
      "source": [
        "O parâmetro *stratify*  não existe no cross_validate do KFold, que possui apenas os parâmetros *n_splits*, *shuffle* e *random_state*. Sendo assim, não está estratificando.\n",
        "\n",
        "Então, vamos simular uma situação de azar."
      ]
    },
    {
      "cell_type": "markdown",
      "metadata": {
        "id": "kzK6SWokSwwL"
      },
      "source": [
        "### Simulando situação de azar\n",
        "\n",
        "Pode ser *azar* como pode ser uma proporção de exemplos desbalanceados entre as classes."
      ]
    },
    {
      "cell_type": "markdown",
      "metadata": {
        "id": "GrnGPXOdUzLY"
      },
      "source": [
        "Pegando os dados (dados.sort_values()) do nosso dataframe e ordenando pela classe vendido, crescente (ascending=True), ou seja, primeiro 0 e depois 1. Assim, o \"não vendido\" virá antes do \"vendido\". Essa é a separação estabelecida."
      ]
    },
    {
      "cell_type": "code",
      "metadata": {
        "colab": {
          "base_uri": "https://localhost:8080/",
          "height": 204
        },
        "id": "zB4vPVrNH8LB",
        "outputId": "f6e17df2-b176-46cc-96f5-93eb9b0b946b"
      },
      "source": [
        "dados_azar = dados.sort_values(\"vendido\", ascending=True)\n",
        "x_azar = dados_azar[[\"preco\", \"idade_do_modelo\", \"km_por_ano\"]]\n",
        "y_azar = dados_azar[\"vendido\"]\n",
        "dados_azar.head()"
      ],
      "execution_count": null,
      "outputs": [
        {
          "output_type": "execute_result",
          "data": {
            "text/html": [
              "<div>\n",
              "<style scoped>\n",
              "    .dataframe tbody tr th:only-of-type {\n",
              "        vertical-align: middle;\n",
              "    }\n",
              "\n",
              "    .dataframe tbody tr th {\n",
              "        vertical-align: top;\n",
              "    }\n",
              "\n",
              "    .dataframe thead th {\n",
              "        text-align: right;\n",
              "    }\n",
              "</style>\n",
              "<table border=\"1\" class=\"dataframe\">\n",
              "  <thead>\n",
              "    <tr style=\"text-align: right;\">\n",
              "      <th></th>\n",
              "      <th>preco</th>\n",
              "      <th>vendido</th>\n",
              "      <th>idade_do_modelo</th>\n",
              "      <th>km_por_ano</th>\n",
              "    </tr>\n",
              "  </thead>\n",
              "  <tbody>\n",
              "    <tr>\n",
              "      <th>4999</th>\n",
              "      <td>74023.29</td>\n",
              "      <td>0</td>\n",
              "      <td>12</td>\n",
              "      <td>24812.80412</td>\n",
              "    </tr>\n",
              "    <tr>\n",
              "      <th>5322</th>\n",
              "      <td>84843.49</td>\n",
              "      <td>0</td>\n",
              "      <td>13</td>\n",
              "      <td>23095.63834</td>\n",
              "    </tr>\n",
              "    <tr>\n",
              "      <th>5319</th>\n",
              "      <td>83100.27</td>\n",
              "      <td>0</td>\n",
              "      <td>19</td>\n",
              "      <td>36240.72746</td>\n",
              "    </tr>\n",
              "    <tr>\n",
              "      <th>5316</th>\n",
              "      <td>87932.13</td>\n",
              "      <td>0</td>\n",
              "      <td>16</td>\n",
              "      <td>32249.56426</td>\n",
              "    </tr>\n",
              "    <tr>\n",
              "      <th>5315</th>\n",
              "      <td>77937.01</td>\n",
              "      <td>0</td>\n",
              "      <td>15</td>\n",
              "      <td>28414.50704</td>\n",
              "    </tr>\n",
              "  </tbody>\n",
              "</table>\n",
              "</div>"
            ],
            "text/plain": [
              "         preco  vendido  idade_do_modelo   km_por_ano\n",
              "4999  74023.29        0               12  24812.80412\n",
              "5322  84843.49        0               13  23095.63834\n",
              "5319  83100.27        0               19  36240.72746\n",
              "5316  87932.13        0               16  32249.56426\n",
              "5315  77937.01        0               15  28414.50704"
            ]
          },
          "metadata": {},
          "execution_count": 13
        }
      ]
    },
    {
      "cell_type": "markdown",
      "metadata": {
        "id": "_Kt4uXSPTcNo"
      },
      "source": [
        "Rodando, primeiramente, sem o parâmetro *shuffle*"
      ]
    },
    {
      "cell_type": "code",
      "metadata": {
        "colab": {
          "base_uri": "https://localhost:8080/"
        },
        "id": "wQFN4NFJTRuF",
        "outputId": "90335eca-a58d-4315-b129-687e1e3dfd9c"
      },
      "source": [
        "SEED = 301\n",
        "np.random.seed(SEED)\n",
        "\n",
        "cv = KFold(n_splits = 10)\n",
        "modelo = DecisionTreeClassifier(max_depth=2)\n",
        "results = cross_validate(modelo, x_azar, y_azar, cv = cv, return_train_score=False)\n",
        "imprime_resultados(results)"
      ],
      "execution_count": null,
      "outputs": [
        {
          "output_type": "stream",
          "name": "stdout",
          "text": [
            "Acurácia média = 57.84\n",
            "Acurácia intervalo =  [34.29, 81.39]\n"
          ]
        }
      ]
    },
    {
      "cell_type": "markdown",
      "metadata": {
        "id": "8-Ahs7f7VAZi"
      },
      "source": [
        "Note que a acurácia é baixíssima e o intervalo é bem grande!"
      ]
    },
    {
      "cell_type": "markdown",
      "metadata": {
        "id": "NHOlDj_0TkDh"
      },
      "source": [
        "Rodando, agora, com o parâmetro *shuffle*"
      ]
    },
    {
      "cell_type": "code",
      "metadata": {
        "colab": {
          "base_uri": "https://localhost:8080/"
        },
        "id": "08FssblBTge5",
        "outputId": "8fd4cfa8-63fe-4c52-8f28-f92aa581e7f3"
      },
      "source": [
        "SEED = 301\n",
        "np.random.seed(SEED)\n",
        "\n",
        "cv = KFold(n_splits = 10, shuffle=True)\n",
        "modelo = DecisionTreeClassifier(max_depth=2)\n",
        "results = cross_validate(modelo, x_azar, y_azar, cv = cv, return_train_score=False)\n",
        "imprime_resultados(results)"
      ],
      "execution_count": null,
      "outputs": [
        {
          "output_type": "stream",
          "name": "stdout",
          "text": [
            "Acurácia média = 75.78\n",
            "Acurácia intervalo =  [72.3, 79.26]\n"
          ]
        }
      ]
    },
    {
      "cell_type": "markdown",
      "metadata": {
        "id": "8Ggsmx0-VHC4"
      },
      "source": [
        "Já utilizando o *shuffle*, obtemos um resultado suficientemente bom. Ou seja, apenas usando o *shuffle* (embaralhando os dados) em situações desbalanceadas, conseguimos bons resultados.\n",
        "\n",
        "Porém, e se quiséssemos, mesmo assim, fazer a estratificação?\n",
        "\n",
        "Podemos usar outro gerador de grupo de separação, o StratifiedKFold, que recebe um número de n_splits, shuffle e depois separa, mantendo a proporção entre as classes."
      ]
    },
    {
      "cell_type": "code",
      "metadata": {
        "colab": {
          "base_uri": "https://localhost:8080/"
        },
        "id": "uT3jTHpKTnUw",
        "outputId": "93d06886-d5aa-41ce-e61c-050619e0136f"
      },
      "source": [
        "SEED = 301\n",
        "np.random.seed(SEED)\n",
        "\n",
        "cv = StratifiedKFold(n_splits = 10, shuffle=True)\n",
        "modelo = DecisionTreeClassifier(max_depth=2)\n",
        "results = cross_validate(modelo, x_azar, y_azar, cv = cv, return_train_score=False)\n",
        "imprime_resultados(results)"
      ],
      "execution_count": null,
      "outputs": [
        {
          "output_type": "stream",
          "name": "stdout",
          "text": [
            "Acurácia média = 75.78\n",
            "Acurácia intervalo =  [73.55, 78.01]\n"
          ]
        }
      ]
    },
    {
      "cell_type": "markdown",
      "metadata": {
        "id": "5NLCr0JlV4kw"
      },
      "source": [
        "Embora o resultado seja mais fechado, é o mais recomendado. Principalmente quando há um desbalanço entre duas ou mais classes, é interessante utilizar o StratifiedKFold."
      ]
    },
    {
      "cell_type": "markdown",
      "metadata": {
        "id": "9IyiaATWdXDJ"
      },
      "source": [
        "## Dados Agrupáveis"
      ]
    },
    {
      "cell_type": "markdown",
      "metadata": {
        "id": "5EIzVJJzf7V3"
      },
      "source": [
        "Se nós temos diversos carros para os quais o nosso algoritmo, nosso estimador, funcionou bem no passado, quando surgir um novo modelo de carro, o algoritmo funcionará bem para esse último? Não dá pra saber com certeza! Do modo como estamos fazendo, treinamos todos os carros. No treino, nós temos todos os modelos de carro e no teste nós temos todos os modelos de carro aleatorizados e separado por classes, mas não agrupados por modelos. Ou seja, não agrupado pela característica que define o novo tipo de dado. Ou seja, é possível que o algorítimo não generalize bem, para novos carros.\n",
        "\n",
        "Então, temos que pegar essa característica de agrupamento e tentar trabalhar nos dados. Ou seja, no caso dos carros, trata-se do modelo do veículo. Logo, no momento em que formos treinar, precisaremos agrupar por modelo e separar a validação cruzada por modelos, para depois testar modelos novos.\n",
        "\n",
        "Contudo, nota-se que nossos dados (preco, vendido, idade_do_modelo e km_por_ano) não têm a categoria modelo_do_carro. Então, vamos ter que gerar uma nova coluna de dados para explorarmos esses dados aleatórios."
      ]
    },
    {
      "cell_type": "markdown",
      "metadata": {
        "id": "J8zRDoGAdZrR"
      },
      "source": [
        "### Gerando dados aleatórios"
      ]
    },
    {
      "cell_type": "markdown",
      "metadata": {
        "id": "3kN0opfwgjYP"
      },
      "source": [
        "A maneira mais simples seria usar dados.idade_do_modelo, isto é, o modelo do carro seria a idade_do_modelo desse carro. Entretanto, essa é uma premissa falsa, uma vez que nem todos os carros que tem 20 anos necessariamente são do mesmo modelo. Em vez disso, temos que injetar aleatoriedade. Por exemplo, se o carro foi criado há 18 anos, talvez esse carro seja de um modelo A, B ou C. Um modelo do ano 18, 17 ou 19 — com margem um pouco para trás e um pouco para frente. "
      ]
    },
    {
      "cell_type": "code",
      "metadata": {
        "colab": {
          "base_uri": "https://localhost:8080/",
          "height": 204
        },
        "id": "-mXN5eexURi2",
        "outputId": "a7944fca-90ef-49f6-9ee4-3e45886fd2d8"
      },
      "source": [
        "np.random.seed(SEED)\n",
        "dados['modelo'] = dados.idade_do_modelo + np.random.randint(-2, 3, size=len(dados))\n",
        "dados.head()"
      ],
      "execution_count": null,
      "outputs": [
        {
          "output_type": "execute_result",
          "data": {
            "text/html": [
              "<div>\n",
              "<style scoped>\n",
              "    .dataframe tbody tr th:only-of-type {\n",
              "        vertical-align: middle;\n",
              "    }\n",
              "\n",
              "    .dataframe tbody tr th {\n",
              "        vertical-align: top;\n",
              "    }\n",
              "\n",
              "    .dataframe thead th {\n",
              "        text-align: right;\n",
              "    }\n",
              "</style>\n",
              "<table border=\"1\" class=\"dataframe\">\n",
              "  <thead>\n",
              "    <tr style=\"text-align: right;\">\n",
              "      <th></th>\n",
              "      <th>preco</th>\n",
              "      <th>vendido</th>\n",
              "      <th>idade_do_modelo</th>\n",
              "      <th>km_por_ano</th>\n",
              "      <th>modelo</th>\n",
              "    </tr>\n",
              "  </thead>\n",
              "  <tbody>\n",
              "    <tr>\n",
              "      <th>0</th>\n",
              "      <td>30941.02</td>\n",
              "      <td>1</td>\n",
              "      <td>18</td>\n",
              "      <td>35085.22134</td>\n",
              "      <td>16</td>\n",
              "    </tr>\n",
              "    <tr>\n",
              "      <th>1</th>\n",
              "      <td>40557.96</td>\n",
              "      <td>1</td>\n",
              "      <td>20</td>\n",
              "      <td>12622.05362</td>\n",
              "      <td>22</td>\n",
              "    </tr>\n",
              "    <tr>\n",
              "      <th>2</th>\n",
              "      <td>89627.50</td>\n",
              "      <td>0</td>\n",
              "      <td>12</td>\n",
              "      <td>11440.79806</td>\n",
              "      <td>12</td>\n",
              "    </tr>\n",
              "    <tr>\n",
              "      <th>3</th>\n",
              "      <td>95276.14</td>\n",
              "      <td>0</td>\n",
              "      <td>3</td>\n",
              "      <td>43167.32682</td>\n",
              "      <td>4</td>\n",
              "    </tr>\n",
              "    <tr>\n",
              "      <th>4</th>\n",
              "      <td>117384.68</td>\n",
              "      <td>1</td>\n",
              "      <td>4</td>\n",
              "      <td>12770.11290</td>\n",
              "      <td>3</td>\n",
              "    </tr>\n",
              "  </tbody>\n",
              "</table>\n",
              "</div>"
            ],
            "text/plain": [
              "       preco  vendido  idade_do_modelo   km_por_ano  modelo\n",
              "0   30941.02        1               18  35085.22134      16\n",
              "1   40557.96        1               20  12622.05362      22\n",
              "2   89627.50        0               12  11440.79806      12\n",
              "3   95276.14        0                3  43167.32682       4\n",
              "4  117384.68        1                4  12770.11290       3"
            ]
          },
          "metadata": {},
          "execution_count": 17
        }
      ]
    },
    {
      "cell_type": "markdown",
      "metadata": {
        "id": "-RRqlbGAgukt"
      },
      "source": [
        "Visualizando os valores únicos da coluna *modelo*"
      ]
    },
    {
      "cell_type": "code",
      "metadata": {
        "colab": {
          "base_uri": "https://localhost:8080/"
        },
        "id": "5nQczvqJec_y",
        "outputId": "ecb340c9-72fb-4644-9767-873683556095"
      },
      "source": [
        "dados.modelo.unique()"
      ],
      "execution_count": null,
      "outputs": [
        {
          "output_type": "execute_result",
          "data": {
            "text/plain": [
              "array([16, 22, 12,  4,  3, 11, 18, 17, 13,  0, 15, 10,  9, 14,  1,  5, 19,\n",
              "       21,  8,  7, 20,  6,  2, -1])"
            ]
          },
          "metadata": {},
          "execution_count": 18
        }
      ]
    },
    {
      "cell_type": "markdown",
      "metadata": {
        "id": "2s9MYeyqgzje"
      },
      "source": [
        "Note que um dos números é *-1*, o que é meio estranho. Então, fazendo mais algumas modificações na coluna *modelo*."
      ]
    },
    {
      "cell_type": "code",
      "metadata": {
        "colab": {
          "base_uri": "https://localhost:8080/",
          "height": 204
        },
        "id": "8whHM9jDepTW",
        "outputId": "15509ab4-f50b-46d1-b2a0-ba784342fde1"
      },
      "source": [
        "dados.modelo = dados.modelo + abs(dados.modelo.min()) + 1\n",
        "dados.head()"
      ],
      "execution_count": null,
      "outputs": [
        {
          "output_type": "execute_result",
          "data": {
            "text/html": [
              "<div>\n",
              "<style scoped>\n",
              "    .dataframe tbody tr th:only-of-type {\n",
              "        vertical-align: middle;\n",
              "    }\n",
              "\n",
              "    .dataframe tbody tr th {\n",
              "        vertical-align: top;\n",
              "    }\n",
              "\n",
              "    .dataframe thead th {\n",
              "        text-align: right;\n",
              "    }\n",
              "</style>\n",
              "<table border=\"1\" class=\"dataframe\">\n",
              "  <thead>\n",
              "    <tr style=\"text-align: right;\">\n",
              "      <th></th>\n",
              "      <th>preco</th>\n",
              "      <th>vendido</th>\n",
              "      <th>idade_do_modelo</th>\n",
              "      <th>km_por_ano</th>\n",
              "      <th>modelo</th>\n",
              "    </tr>\n",
              "  </thead>\n",
              "  <tbody>\n",
              "    <tr>\n",
              "      <th>0</th>\n",
              "      <td>30941.02</td>\n",
              "      <td>1</td>\n",
              "      <td>18</td>\n",
              "      <td>35085.22134</td>\n",
              "      <td>18</td>\n",
              "    </tr>\n",
              "    <tr>\n",
              "      <th>1</th>\n",
              "      <td>40557.96</td>\n",
              "      <td>1</td>\n",
              "      <td>20</td>\n",
              "      <td>12622.05362</td>\n",
              "      <td>24</td>\n",
              "    </tr>\n",
              "    <tr>\n",
              "      <th>2</th>\n",
              "      <td>89627.50</td>\n",
              "      <td>0</td>\n",
              "      <td>12</td>\n",
              "      <td>11440.79806</td>\n",
              "      <td>14</td>\n",
              "    </tr>\n",
              "    <tr>\n",
              "      <th>3</th>\n",
              "      <td>95276.14</td>\n",
              "      <td>0</td>\n",
              "      <td>3</td>\n",
              "      <td>43167.32682</td>\n",
              "      <td>6</td>\n",
              "    </tr>\n",
              "    <tr>\n",
              "      <th>4</th>\n",
              "      <td>117384.68</td>\n",
              "      <td>1</td>\n",
              "      <td>4</td>\n",
              "      <td>12770.11290</td>\n",
              "      <td>5</td>\n",
              "    </tr>\n",
              "  </tbody>\n",
              "</table>\n",
              "</div>"
            ],
            "text/plain": [
              "       preco  vendido  idade_do_modelo   km_por_ano  modelo\n",
              "0   30941.02        1               18  35085.22134      18\n",
              "1   40557.96        1               20  12622.05362      24\n",
              "2   89627.50        0               12  11440.79806      14\n",
              "3   95276.14        0                3  43167.32682       6\n",
              "4  117384.68        1                4  12770.11290       5"
            ]
          },
          "metadata": {},
          "execution_count": 19
        }
      ]
    },
    {
      "cell_type": "code",
      "metadata": {
        "colab": {
          "base_uri": "https://localhost:8080/"
        },
        "id": "f61g2AR3fBP8",
        "outputId": "c5a31ad1-0af6-4be7-b96f-f2c4ca5234fb"
      },
      "source": [
        "dados.modelo.unique()"
      ],
      "execution_count": null,
      "outputs": [
        {
          "output_type": "execute_result",
          "data": {
            "text/plain": [
              "array([18, 24, 14,  6,  5, 13, 20, 19, 15,  2, 17, 12, 11, 16,  3,  7, 21,\n",
              "       23, 10,  9, 22,  8,  4,  1])"
            ]
          },
          "metadata": {},
          "execution_count": 20
        }
      ]
    },
    {
      "cell_type": "markdown",
      "metadata": {
        "id": "R_GK1qIchBHl"
      },
      "source": [
        "Visualizando quantas vezes cada modelo apareceu na coluna"
      ]
    },
    {
      "cell_type": "code",
      "metadata": {
        "colab": {
          "base_uri": "https://localhost:8080/"
        },
        "id": "KNgT2TFrfJCW",
        "outputId": "4679c026-a2d2-4cfe-8eac-79a7c7398375"
      },
      "source": [
        "dados.modelo.value_counts()"
      ],
      "execution_count": null,
      "outputs": [
        {
          "output_type": "execute_result",
          "data": {
            "text/plain": [
              "20    901\n",
              "19    798\n",
              "18    771\n",
              "21    723\n",
              "17    709\n",
              "16    668\n",
              "14    621\n",
              "22    575\n",
              "15    573\n",
              "13    557\n",
              "12    511\n",
              "11    401\n",
              "10    371\n",
              "23    370\n",
              "9     336\n",
              "8     278\n",
              "7     206\n",
              "24    199\n",
              "6     181\n",
              "5     108\n",
              "4      76\n",
              "3      44\n",
              "2      17\n",
              "1       6\n",
              "Name: modelo, dtype: int64"
            ]
          },
          "metadata": {},
          "execution_count": 21
        }
      ]
    },
    {
      "cell_type": "markdown",
      "metadata": {
        "id": "o3P2-rwjo8Zl"
      },
      "source": [
        "### Validação Cruzada usando grupos"
      ]
    },
    {
      "cell_type": "markdown",
      "metadata": {
        "id": "lmxTX7VEq0Vk"
      },
      "source": [
        "Precisamos testar nosso estimador. Para isto, é muito importante pensar qual tipo de teste e treino será utilizado, pois se escolhermos um tipo inapropriado, obteremos uma estimativa irreal de como esse estimador funcionará no mundo real.\n",
        "\n",
        "O que realmente precisamos é: de capacidade para separar treino e teste na validação cruzada, de acordo com os grupos. Por isso, não podemos utilizar o KFold ou o StratifiedKFold (que foram os que usamos anteriormente), pois eles utilizam todos os modelos de carro para prever todos os modelos de carro (o que é uma situação irreal), não conseguindo lidar da melhor forma quando aparece um novo modelo de carro.\n",
        "\n",
        "Pesquisando na documentação, podemos ver que o GroupKFold funciona bem para o que queremos."
      ]
    },
    {
      "cell_type": "code",
      "metadata": {
        "id": "InShpQK7fKpl",
        "colab": {
          "base_uri": "https://localhost:8080/"
        },
        "outputId": "60552efd-b76c-4fc5-f2da-3145884d5aeb"
      },
      "source": [
        "SEED = 301\n",
        "np.random.seed(SEED)\n",
        "\n",
        "cv = GroupKFold(n_splits = 10)\n",
        "modelo = DecisionTreeClassifier(max_depth=2)\n",
        "results = cross_validate(modelo, x_azar, y_azar, cv = cv, groups = dados.modelo, return_train_score=False)\n",
        "imprime_resultados(results)"
      ],
      "execution_count": null,
      "outputs": [
        {
          "output_type": "stream",
          "name": "stdout",
          "text": [
            "Acurácia média = 75.78\n",
            "Acurácia intervalo =  [73.67, 77.9]\n"
          ]
        }
      ]
    },
    {
      "cell_type": "markdown",
      "metadata": {
        "id": "9wnm172Drpgd"
      },
      "source": [
        "O valor da média obtida é próximo ao de StratifiedKFold, porque os dados de um modelo de carro estão funcionando de maneria muito parecida, mas isso não é regra. \n",
        "\n",
        "Neste caso, de modo geral, os carros se comportam indiferentemente do modelo. Então, nossa classificação foi próxima, levando em consideração ou não o modelo do carro. Quando é dito \"levando em consideração\" não é para estimar, mas sim para treinar e testar. Lembrando que para classificar só usamos as colunas *preco*, *idade_do_modelo* e *km_por_ano*."
      ]
    },
    {
      "cell_type": "markdown",
      "metadata": {
        "id": "5-dTnUFB0Wzt"
      },
      "source": [
        "# Pipeline de treino e validação"
      ]
    },
    {
      "cell_type": "markdown",
      "metadata": {
        "id": "PdWOWvnE0tZD"
      },
      "source": [
        "### Cross Validation com StandardScaler"
      ]
    },
    {
      "cell_type": "markdown",
      "metadata": {
        "id": "bYFFs8Sf6XpH"
      },
      "source": [
        "A árvore de decisão não precisa primeiramente balancear, escalar, as nossas features. Alguns algoritmos precisam, como o SVM. Eles são muito influenciáveis e sensíveis à escala de cada uma das features. \n",
        "\n",
        "Se *idade_do_modelo* tem valores entre 0 e 20 e a *preco* tem entre 0 e 90 mil, a influência dessas features em nosso algoritmo, no SVM, por exemplo, será muito diferente entre uma e outra. Então, reescalamos as features quando usamos os algoritmos que são sensíveis à escala, à grandeza dos dados."
      ]
    },
    {
      "cell_type": "markdown",
      "metadata": {
        "id": "SVp4PWIf3YVh"
      },
      "source": [
        "Rodando com train_test_split"
      ]
    },
    {
      "cell_type": "code",
      "metadata": {
        "colab": {
          "base_uri": "https://localhost:8080/"
        },
        "id": "G8y43CIIqAzq",
        "outputId": "3696fc29-2f2b-4ab6-e9d4-be7981edbc01"
      },
      "source": [
        "scaler = StandardScaler()\n",
        "scaler.fit(treino_x)\n",
        "scaler.fit(teste_x)\n",
        "treino_x_escalado = scaler.transform(treino_x)\n",
        "teste_x_escalado = scaler.transform(teste_x)\n",
        "\n",
        "SEED = 301\n",
        "np.random.seed(SEED)\n",
        "modelo = SVC()\n",
        "modelo.fit(treino_x_escalado, treino_y)\n",
        "previsoes = modelo.predict(teste_x_escalado)\n",
        "\n",
        "acuracia = accuracy_score(teste_y, previsoes)*100\n",
        "print(f\"A acurácia foi {round(acuracia, 2)}%\")"
      ],
      "execution_count": null,
      "outputs": [
        {
          "output_type": "stream",
          "name": "stdout",
          "text": [
            "A acurácia foi 77.48%\n"
          ]
        }
      ]
    },
    {
      "cell_type": "markdown",
      "metadata": {
        "id": "5sFn9LxD2vLb"
      },
      "source": [
        "Rodando agora com o cross validate"
      ]
    },
    {
      "cell_type": "code",
      "metadata": {
        "colab": {
          "base_uri": "https://localhost:8080/"
        },
        "id": "MUgf3C9-2b94",
        "outputId": "4f24e590-d430-4372-d2b7-9e8092a3a2e9"
      },
      "source": [
        "SEED = 301\n",
        "np.random.seed(SEED)\n",
        "\n",
        "cv = GroupKFold(n_splits=10)\n",
        "modelo = SVC()\n",
        "results = cross_validate(modelo, x_azar, y_azar, cv=cv, groups=dados.modelo, return_train_score=False)\n",
        "imprime_resultados(results)"
      ],
      "execution_count": null,
      "outputs": [
        {
          "output_type": "stream",
          "name": "stdout",
          "text": [
            "Acurácia média = 77.27\n",
            "Acurácia intervalo =  [74.35, 80.2]\n"
          ]
        }
      ]
    },
    {
      "cell_type": "markdown",
      "metadata": {
        "id": "8sGnxVY84lNr"
      },
      "source": [
        "Mas, observe acima que não fizemos o scaler dos dados pra rodar com o cross validate. Vamos fazer isso.\n",
        "\n",
        "Como precisamos de um processo, ou seja, toda vez que for rodar precisa ter escalado a nova porção dos dados de treino (pois não podemos escalar todo o conjunto de dados), usaremos o Pipeline do sklearn.\n",
        "\n",
        "Além disso, o Pipeline funciona como se fosse um estimador. Logo, podemos passá-lo para o processo de cross validate."
      ]
    },
    {
      "cell_type": "code",
      "metadata": {
        "colab": {
          "base_uri": "https://localhost:8080/"
        },
        "id": "N_EV_6ep3SYD",
        "outputId": "432d2358-b842-4aff-b96e-22c1b0387057"
      },
      "source": [
        "SEED = 301\n",
        "np.random.seed(SEED)\n",
        "\n",
        "scaler = StandardScaler()\n",
        "modelo = SVC()\n",
        "\n",
        "pipeline = Pipeline([('transformacao', scaler), ('estimador', modelo)])\n",
        "\n",
        "cv = GroupKFold(n_splits=10)\n",
        "results = cross_validate(pipeline, x_azar, y_azar, cv=cv, groups=dados.modelo, return_train_score=False)\n",
        "imprime_resultados(results)"
      ],
      "execution_count": null,
      "outputs": [
        {
          "output_type": "stream",
          "name": "stdout",
          "text": [
            "Acurácia média = 76.68\n",
            "Acurácia intervalo =  [74.28, 79.08]\n"
          ]
        }
      ]
    },
    {
      "cell_type": "markdown",
      "metadata": {
        "id": "ktgd3zQH7DX_"
      },
      "source": [
        "Para cada um dos processos de fold, rodou tanto a transformacao, quanto o estimador.\n",
        "\n",
        "Observe que os resultados não ficaram muito distantes uns dos outros, porém, se precisamos reescalar e usar o cross validate, essa é a forma correta.\n"
      ]
    }
  ]
}