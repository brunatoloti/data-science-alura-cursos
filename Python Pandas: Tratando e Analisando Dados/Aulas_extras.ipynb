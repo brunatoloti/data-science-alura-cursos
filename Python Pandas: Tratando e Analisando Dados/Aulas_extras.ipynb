{
  "nbformat": 4,
  "nbformat_minor": 0,
  "metadata": {
    "colab": {
      "name": "Aulas extras.ipynb",
      "provenance": [],
      "collapsed_sections": [],
      "mount_file_id": "1ixeuDLXKM1q6f87xm-9cjD_xD58a7yjx",
      "authorship_tag": "ABX9TyPZ+rhyfalZ4/EagwwXZfF6",
      "include_colab_link": true
    },
    "kernelspec": {
      "name": "python3",
      "display_name": "Python 3"
    },
    "language_info": {
      "name": "python"
    }
  },
  "cells": [
    {
      "cell_type": "markdown",
      "metadata": {
        "id": "view-in-github",
        "colab_type": "text"
      },
      "source": [
        "<a href=\"https://colab.research.google.com/github/brunatoloti/data-science-alura-cursos/blob/main/Python%20Pandas%3A%20Tratando%20e%20Analisando%20Dados/Aulas_extras.ipynb\" target=\"_parent\"><img src=\"https://colab.research.google.com/assets/colab-badge.svg\" alt=\"Open In Colab\"/></a>"
      ]
    },
    {
      "cell_type": "markdown",
      "metadata": {
        "id": "jaEWq2rqyb3w"
      },
      "source": [
        "#PYTHON PANDAS: TRATANDO E ANALISANDO DADOS\n",
        "##AULAS EXTRAS"
      ]
    },
    {
      "cell_type": "markdown",
      "metadata": {
        "id": "OIpnxtDx2KtJ"
      },
      "source": [
        "##AULA EXTRA 1"
      ]
    },
    {
      "cell_type": "markdown",
      "metadata": {
        "id": "ReONbYsk2NXl"
      },
      "source": [
        "O pandas disponibiliza um conjunto bastante amplo de funções que possibilitam a obtenção de informações a partir de diversos formatos de arquivos. Estas funções importam dados tabulares a partir de arquivos em formatos diversos (csv, xlsx, txt, etc) para dentro das estruturas de dados do pandas (Series e DataFrames)."
      ]
    },
    {
      "cell_type": "markdown",
      "metadata": {
        "id": "y_mTl0frzC70"
      },
      "source": [
        "###Importando os pacotes"
      ]
    },
    {
      "cell_type": "code",
      "metadata": {
        "id": "9v9PPWAjySvX"
      },
      "source": [
        "import pandas as pd"
      ],
      "execution_count": null,
      "outputs": []
    },
    {
      "cell_type": "markdown",
      "metadata": {
        "id": "VLkux37BzFBS"
      },
      "source": [
        "###Carregando a base de dados no formato json"
      ]
    },
    {
      "cell_type": "code",
      "metadata": {
        "id": "7n-aGVsayZxY"
      },
      "source": [
        "json = open('/content/drive/MyDrive/Curso Alura/Python Pandas: Tratando e Analisando Dados/extras/dados/aluguel.json')"
      ],
      "execution_count": null,
      "outputs": []
    },
    {
      "cell_type": "markdown",
      "metadata": {
        "id": "w6BMVm34y4vr"
      },
      "source": [
        "Imprimindo os registros do arquivo json de aluguel"
      ]
    },
    {
      "cell_type": "code",
      "metadata": {
        "colab": {
          "base_uri": "https://localhost:8080/"
        },
        "id": "FK8R3Z_lyt1g",
        "outputId": "7dfd5247-c4a7-48d0-b30d-402b4cca3f75"
      },
      "source": [
        "print(json.read())"
      ],
      "execution_count": null,
      "outputs": [
        {
          "output_type": "stream",
          "text": [
            "[{\"Tipo\":\"Quitinete\",\"Bairro\":\"Copacabana\",\"Quartos\":1,\"Vagas\":0,\"Suites\":0,\"Area\":40,\"Valor\":1700.0,\"Condominio\":500.0,\"IPTU\":60.0},\n",
            "{\"Tipo\":\"Casa\",\"Bairro\":\"Jardim Bot\\u00e2nico\",\"Quartos\":2,\"Vagas\":0,\"Suites\":1,\"Area\":100,\"Valor\":7000.0,\"Condominio\":null,\"IPTU\":null},\n",
            "{\"Tipo\":\"Conjunto Comercial\\/Sala\",\"Bairro\":\"Barra da Tijuca\",\"Quartos\":0,\"Vagas\":4,\"Suites\":0,\"Area\":150,\"Valor\":5200.0,\"Condominio\":4020.0,\"IPTU\":1111.0},\n",
            "{\"Tipo\":\"Apartamento\",\"Bairro\":\"Centro\",\"Quartos\":1,\"Vagas\":0,\"Suites\":0,\"Area\":15,\"Valor\":800.0,\"Condominio\":390.0,\"IPTU\":20.0},\n",
            "{\"Tipo\":\"Apartamento\",\"Bairro\":\"Higien\\u00f3polis\",\"Quartos\":1,\"Vagas\":0,\"Suites\":0,\"Area\":48,\"Valor\":800.0,\"Condominio\":230.0,\"IPTU\":null},\n",
            "{\"Tipo\":\"Apartamento\",\"Bairro\":\"Vista Alegre\",\"Quartos\":3,\"Vagas\":1,\"Suites\":0,\"Area\":70,\"Valor\":1200.0,\"Condominio\":null,\"IPTU\":null},\n",
            "{\"Tipo\":\"Apartamento\",\"Bairro\":\"Cachambi\",\"Quartos\":2,\"Vagas\":0,\"Suites\":0,\"Area\":50,\"Valor\":1300.0,\"Condominio\":301.0,\"IPTU\":17.0},\n",
            "{\"Tipo\":\"Casa de Condom\\u00ednio\",\"Bairro\":\"Barra da Tijuca\",\"Quartos\":5,\"Vagas\":4,\"Suites\":5,\"Area\":750,\"Valor\":22000.0,\"Condominio\":null,\"IPTU\":null},\n",
            "{\"Tipo\":\"Casa de Condom\\u00ednio\",\"Bairro\":\"Ramos\",\"Quartos\":2,\"Vagas\":2,\"Suites\":0,\"Area\":65,\"Valor\":1000.0,\"Condominio\":null,\"IPTU\":null},\n",
            "{\"Tipo\":\"Conjunto Comercial\\/Sala\",\"Bairro\":\"Centro\",\"Quartos\":0,\"Vagas\":3,\"Suites\":0,\"Area\":695,\"Valor\":35000.0,\"Condominio\":19193.0,\"IPTU\":3030.0}]\n"
          ],
          "name": "stdout"
        }
      ]
    },
    {
      "cell_type": "markdown",
      "metadata": {
        "id": "B1DWRzS6zVjB"
      },
      "source": [
        "###Importando os dados do arquivo json para o pandas"
      ]
    },
    {
      "cell_type": "markdown",
      "metadata": {
        "id": "lckjXlsk3aI9"
      },
      "source": [
        "*read_json()*\n",
        "\n",
        "[Documentação](https://pandas.pydata.org/docs/reference/api/pandas.read_json.html)"
      ]
    },
    {
      "cell_type": "code",
      "metadata": {
        "colab": {
          "base_uri": "https://localhost:8080/",
          "height": 359
        },
        "id": "IubM8RLqy4Eh",
        "outputId": "05c40e00-8a29-405d-f4a3-18aa74bda979"
      },
      "source": [
        "df_json = pd.read_json('/content/drive/MyDrive/Curso Alura/Python Pandas: Tratando e Analisando Dados/extras/dados/aluguel.json')\n",
        "df_json"
      ],
      "execution_count": null,
      "outputs": [
        {
          "output_type": "execute_result",
          "data": {
            "text/html": [
              "<div>\n",
              "<style scoped>\n",
              "    .dataframe tbody tr th:only-of-type {\n",
              "        vertical-align: middle;\n",
              "    }\n",
              "\n",
              "    .dataframe tbody tr th {\n",
              "        vertical-align: top;\n",
              "    }\n",
              "\n",
              "    .dataframe thead th {\n",
              "        text-align: right;\n",
              "    }\n",
              "</style>\n",
              "<table border=\"1\" class=\"dataframe\">\n",
              "  <thead>\n",
              "    <tr style=\"text-align: right;\">\n",
              "      <th></th>\n",
              "      <th>Tipo</th>\n",
              "      <th>Bairro</th>\n",
              "      <th>Quartos</th>\n",
              "      <th>Vagas</th>\n",
              "      <th>Suites</th>\n",
              "      <th>Area</th>\n",
              "      <th>Valor</th>\n",
              "      <th>Condominio</th>\n",
              "      <th>IPTU</th>\n",
              "    </tr>\n",
              "  </thead>\n",
              "  <tbody>\n",
              "    <tr>\n",
              "      <th>0</th>\n",
              "      <td>Quitinete</td>\n",
              "      <td>Copacabana</td>\n",
              "      <td>1</td>\n",
              "      <td>0</td>\n",
              "      <td>0</td>\n",
              "      <td>40</td>\n",
              "      <td>1700</td>\n",
              "      <td>500.0</td>\n",
              "      <td>60.0</td>\n",
              "    </tr>\n",
              "    <tr>\n",
              "      <th>1</th>\n",
              "      <td>Casa</td>\n",
              "      <td>Jardim Botânico</td>\n",
              "      <td>2</td>\n",
              "      <td>0</td>\n",
              "      <td>1</td>\n",
              "      <td>100</td>\n",
              "      <td>7000</td>\n",
              "      <td>NaN</td>\n",
              "      <td>NaN</td>\n",
              "    </tr>\n",
              "    <tr>\n",
              "      <th>2</th>\n",
              "      <td>Conjunto Comercial/Sala</td>\n",
              "      <td>Barra da Tijuca</td>\n",
              "      <td>0</td>\n",
              "      <td>4</td>\n",
              "      <td>0</td>\n",
              "      <td>150</td>\n",
              "      <td>5200</td>\n",
              "      <td>4020.0</td>\n",
              "      <td>1111.0</td>\n",
              "    </tr>\n",
              "    <tr>\n",
              "      <th>3</th>\n",
              "      <td>Apartamento</td>\n",
              "      <td>Centro</td>\n",
              "      <td>1</td>\n",
              "      <td>0</td>\n",
              "      <td>0</td>\n",
              "      <td>15</td>\n",
              "      <td>800</td>\n",
              "      <td>390.0</td>\n",
              "      <td>20.0</td>\n",
              "    </tr>\n",
              "    <tr>\n",
              "      <th>4</th>\n",
              "      <td>Apartamento</td>\n",
              "      <td>Higienópolis</td>\n",
              "      <td>1</td>\n",
              "      <td>0</td>\n",
              "      <td>0</td>\n",
              "      <td>48</td>\n",
              "      <td>800</td>\n",
              "      <td>230.0</td>\n",
              "      <td>NaN</td>\n",
              "    </tr>\n",
              "    <tr>\n",
              "      <th>5</th>\n",
              "      <td>Apartamento</td>\n",
              "      <td>Vista Alegre</td>\n",
              "      <td>3</td>\n",
              "      <td>1</td>\n",
              "      <td>0</td>\n",
              "      <td>70</td>\n",
              "      <td>1200</td>\n",
              "      <td>NaN</td>\n",
              "      <td>NaN</td>\n",
              "    </tr>\n",
              "    <tr>\n",
              "      <th>6</th>\n",
              "      <td>Apartamento</td>\n",
              "      <td>Cachambi</td>\n",
              "      <td>2</td>\n",
              "      <td>0</td>\n",
              "      <td>0</td>\n",
              "      <td>50</td>\n",
              "      <td>1300</td>\n",
              "      <td>301.0</td>\n",
              "      <td>17.0</td>\n",
              "    </tr>\n",
              "    <tr>\n",
              "      <th>7</th>\n",
              "      <td>Casa de Condomínio</td>\n",
              "      <td>Barra da Tijuca</td>\n",
              "      <td>5</td>\n",
              "      <td>4</td>\n",
              "      <td>5</td>\n",
              "      <td>750</td>\n",
              "      <td>22000</td>\n",
              "      <td>NaN</td>\n",
              "      <td>NaN</td>\n",
              "    </tr>\n",
              "    <tr>\n",
              "      <th>8</th>\n",
              "      <td>Casa de Condomínio</td>\n",
              "      <td>Ramos</td>\n",
              "      <td>2</td>\n",
              "      <td>2</td>\n",
              "      <td>0</td>\n",
              "      <td>65</td>\n",
              "      <td>1000</td>\n",
              "      <td>NaN</td>\n",
              "      <td>NaN</td>\n",
              "    </tr>\n",
              "    <tr>\n",
              "      <th>9</th>\n",
              "      <td>Conjunto Comercial/Sala</td>\n",
              "      <td>Centro</td>\n",
              "      <td>0</td>\n",
              "      <td>3</td>\n",
              "      <td>0</td>\n",
              "      <td>695</td>\n",
              "      <td>35000</td>\n",
              "      <td>19193.0</td>\n",
              "      <td>3030.0</td>\n",
              "    </tr>\n",
              "  </tbody>\n",
              "</table>\n",
              "</div>"
            ],
            "text/plain": [
              "                      Tipo           Bairro  Quartos  ...  Valor  Condominio    IPTU\n",
              "0                Quitinete       Copacabana        1  ...   1700       500.0    60.0\n",
              "1                     Casa  Jardim Botânico        2  ...   7000         NaN     NaN\n",
              "2  Conjunto Comercial/Sala  Barra da Tijuca        0  ...   5200      4020.0  1111.0\n",
              "3              Apartamento           Centro        1  ...    800       390.0    20.0\n",
              "4              Apartamento     Higienópolis        1  ...    800       230.0     NaN\n",
              "5              Apartamento     Vista Alegre        3  ...   1200         NaN     NaN\n",
              "6              Apartamento         Cachambi        2  ...   1300       301.0    17.0\n",
              "7       Casa de Condomínio  Barra da Tijuca        5  ...  22000         NaN     NaN\n",
              "8       Casa de Condomínio            Ramos        2  ...   1000         NaN     NaN\n",
              "9  Conjunto Comercial/Sala           Centro        0  ...  35000     19193.0  3030.0\n",
              "\n",
              "[10 rows x 9 columns]"
            ]
          },
          "metadata": {
            "tags": []
          },
          "execution_count": 4
        }
      ]
    },
    {
      "cell_type": "markdown",
      "metadata": {
        "id": "jKyqauZp1arC"
      },
      "source": [
        "###Carregando a base de dados no formato txt"
      ]
    },
    {
      "cell_type": "code",
      "metadata": {
        "id": "bvuFf1JYzmjB"
      },
      "source": [
        "txt = open('/content/drive/MyDrive/Curso Alura/Python Pandas: Tratando e Analisando Dados/extras/dados/aluguel.txt')"
      ],
      "execution_count": null,
      "outputs": []
    },
    {
      "cell_type": "code",
      "metadata": {
        "colab": {
          "base_uri": "https://localhost:8080/"
        },
        "id": "ow17o62ozw6K",
        "outputId": "9eb30464-fc59-47b6-f5ff-70edd818c26e"
      },
      "source": [
        "print(txt.read())"
      ],
      "execution_count": null,
      "outputs": [
        {
          "output_type": "stream",
          "text": [
            "Tipo\tBairro\tQuartos\tVagas\tSuites\tArea\tValor\tCondominio\tIPTU\n",
            "Quitinete\tCopacabana\t1\t0\t0\t40\t1700\t500\t60\n",
            "Casa\tJardim Botânico\t2\t0\t1\t100\t7000\t\t\n",
            "Conjunto Comercial/Sala\tBarra da Tijuca\t0\t4\t0\t150\t5200\t4020\t1111\n",
            "Apartamento\tCentro\t1\t0\t0\t15\t800\t390\t20\n",
            "Apartamento\tHigienópolis\t1\t0\t0\t48\t800\t230\t\n",
            "Apartamento\tVista Alegre\t3\t1\t0\t70\t1200\t\t\n",
            "Apartamento\tCachambi\t2\t0\t0\t50\t1300\t301\t17\n",
            "Casa de Condomínio\tBarra da Tijuca\t5\t4\t5\t750\t22000\t\t\n",
            "Casa de Condomínio\tRamos\t2\t2\t0\t65\t1000\t\t\n",
            "Conjunto Comercial/Sala\tCentro\t0\t3\t0\t695\t35000\t19193\t3030\n",
            "\n"
          ],
          "name": "stdout"
        }
      ]
    },
    {
      "cell_type": "markdown",
      "metadata": {
        "id": "bTh2Rjnm1eyB"
      },
      "source": [
        "###Importando os dados do arquivo txt para o pandas"
      ]
    },
    {
      "cell_type": "markdown",
      "metadata": {
        "id": "2TaM84o33qvJ"
      },
      "source": [
        "*read_table()*\n",
        "\n",
        "[Documentação](https://pandas.pydata.org/docs/reference/api/pandas.read_table.html)"
      ]
    },
    {
      "cell_type": "code",
      "metadata": {
        "colab": {
          "base_uri": "https://localhost:8080/",
          "height": 359
        },
        "id": "N7aMSV8TzyyB",
        "outputId": "b4cd6723-5158-44de-b229-612cb0946c71"
      },
      "source": [
        "df_txt = pd.read_table('/content/drive/MyDrive/Curso Alura/Python Pandas: Tratando e Analisando Dados/extras/dados/aluguel.txt')\n",
        "df_txt"
      ],
      "execution_count": null,
      "outputs": [
        {
          "output_type": "execute_result",
          "data": {
            "text/html": [
              "<div>\n",
              "<style scoped>\n",
              "    .dataframe tbody tr th:only-of-type {\n",
              "        vertical-align: middle;\n",
              "    }\n",
              "\n",
              "    .dataframe tbody tr th {\n",
              "        vertical-align: top;\n",
              "    }\n",
              "\n",
              "    .dataframe thead th {\n",
              "        text-align: right;\n",
              "    }\n",
              "</style>\n",
              "<table border=\"1\" class=\"dataframe\">\n",
              "  <thead>\n",
              "    <tr style=\"text-align: right;\">\n",
              "      <th></th>\n",
              "      <th>Tipo</th>\n",
              "      <th>Bairro</th>\n",
              "      <th>Quartos</th>\n",
              "      <th>Vagas</th>\n",
              "      <th>Suites</th>\n",
              "      <th>Area</th>\n",
              "      <th>Valor</th>\n",
              "      <th>Condominio</th>\n",
              "      <th>IPTU</th>\n",
              "    </tr>\n",
              "  </thead>\n",
              "  <tbody>\n",
              "    <tr>\n",
              "      <th>0</th>\n",
              "      <td>Quitinete</td>\n",
              "      <td>Copacabana</td>\n",
              "      <td>1</td>\n",
              "      <td>0</td>\n",
              "      <td>0</td>\n",
              "      <td>40</td>\n",
              "      <td>1700</td>\n",
              "      <td>500.0</td>\n",
              "      <td>60.0</td>\n",
              "    </tr>\n",
              "    <tr>\n",
              "      <th>1</th>\n",
              "      <td>Casa</td>\n",
              "      <td>Jardim Botânico</td>\n",
              "      <td>2</td>\n",
              "      <td>0</td>\n",
              "      <td>1</td>\n",
              "      <td>100</td>\n",
              "      <td>7000</td>\n",
              "      <td>NaN</td>\n",
              "      <td>NaN</td>\n",
              "    </tr>\n",
              "    <tr>\n",
              "      <th>2</th>\n",
              "      <td>Conjunto Comercial/Sala</td>\n",
              "      <td>Barra da Tijuca</td>\n",
              "      <td>0</td>\n",
              "      <td>4</td>\n",
              "      <td>0</td>\n",
              "      <td>150</td>\n",
              "      <td>5200</td>\n",
              "      <td>4020.0</td>\n",
              "      <td>1111.0</td>\n",
              "    </tr>\n",
              "    <tr>\n",
              "      <th>3</th>\n",
              "      <td>Apartamento</td>\n",
              "      <td>Centro</td>\n",
              "      <td>1</td>\n",
              "      <td>0</td>\n",
              "      <td>0</td>\n",
              "      <td>15</td>\n",
              "      <td>800</td>\n",
              "      <td>390.0</td>\n",
              "      <td>20.0</td>\n",
              "    </tr>\n",
              "    <tr>\n",
              "      <th>4</th>\n",
              "      <td>Apartamento</td>\n",
              "      <td>Higienópolis</td>\n",
              "      <td>1</td>\n",
              "      <td>0</td>\n",
              "      <td>0</td>\n",
              "      <td>48</td>\n",
              "      <td>800</td>\n",
              "      <td>230.0</td>\n",
              "      <td>NaN</td>\n",
              "    </tr>\n",
              "    <tr>\n",
              "      <th>5</th>\n",
              "      <td>Apartamento</td>\n",
              "      <td>Vista Alegre</td>\n",
              "      <td>3</td>\n",
              "      <td>1</td>\n",
              "      <td>0</td>\n",
              "      <td>70</td>\n",
              "      <td>1200</td>\n",
              "      <td>NaN</td>\n",
              "      <td>NaN</td>\n",
              "    </tr>\n",
              "    <tr>\n",
              "      <th>6</th>\n",
              "      <td>Apartamento</td>\n",
              "      <td>Cachambi</td>\n",
              "      <td>2</td>\n",
              "      <td>0</td>\n",
              "      <td>0</td>\n",
              "      <td>50</td>\n",
              "      <td>1300</td>\n",
              "      <td>301.0</td>\n",
              "      <td>17.0</td>\n",
              "    </tr>\n",
              "    <tr>\n",
              "      <th>7</th>\n",
              "      <td>Casa de Condomínio</td>\n",
              "      <td>Barra da Tijuca</td>\n",
              "      <td>5</td>\n",
              "      <td>4</td>\n",
              "      <td>5</td>\n",
              "      <td>750</td>\n",
              "      <td>22000</td>\n",
              "      <td>NaN</td>\n",
              "      <td>NaN</td>\n",
              "    </tr>\n",
              "    <tr>\n",
              "      <th>8</th>\n",
              "      <td>Casa de Condomínio</td>\n",
              "      <td>Ramos</td>\n",
              "      <td>2</td>\n",
              "      <td>2</td>\n",
              "      <td>0</td>\n",
              "      <td>65</td>\n",
              "      <td>1000</td>\n",
              "      <td>NaN</td>\n",
              "      <td>NaN</td>\n",
              "    </tr>\n",
              "    <tr>\n",
              "      <th>9</th>\n",
              "      <td>Conjunto Comercial/Sala</td>\n",
              "      <td>Centro</td>\n",
              "      <td>0</td>\n",
              "      <td>3</td>\n",
              "      <td>0</td>\n",
              "      <td>695</td>\n",
              "      <td>35000</td>\n",
              "      <td>19193.0</td>\n",
              "      <td>3030.0</td>\n",
              "    </tr>\n",
              "  </tbody>\n",
              "</table>\n",
              "</div>"
            ],
            "text/plain": [
              "                      Tipo           Bairro  Quartos  ...  Valor  Condominio    IPTU\n",
              "0                Quitinete       Copacabana        1  ...   1700       500.0    60.0\n",
              "1                     Casa  Jardim Botânico        2  ...   7000         NaN     NaN\n",
              "2  Conjunto Comercial/Sala  Barra da Tijuca        0  ...   5200      4020.0  1111.0\n",
              "3              Apartamento           Centro        1  ...    800       390.0    20.0\n",
              "4              Apartamento     Higienópolis        1  ...    800       230.0     NaN\n",
              "5              Apartamento     Vista Alegre        3  ...   1200         NaN     NaN\n",
              "6              Apartamento         Cachambi        2  ...   1300       301.0    17.0\n",
              "7       Casa de Condomínio  Barra da Tijuca        5  ...  22000         NaN     NaN\n",
              "8       Casa de Condomínio            Ramos        2  ...   1000         NaN     NaN\n",
              "9  Conjunto Comercial/Sala           Centro        0  ...  35000     19193.0  3030.0\n",
              "\n",
              "[10 rows x 9 columns]"
            ]
          },
          "metadata": {
            "tags": []
          },
          "execution_count": 7
        }
      ]
    },
    {
      "cell_type": "markdown",
      "metadata": {
        "id": "KlohBrCN1hHE"
      },
      "source": [
        "###Importando os dados do arquivo xlsx para o pandas"
      ]
    },
    {
      "cell_type": "markdown",
      "metadata": {
        "id": "CK62ioLq3zqR"
      },
      "source": [
        "*read_excel()*\n",
        "\n",
        "[Documentação](https://pandas.pydata.org/docs/reference/api/pandas.read_excel.html)"
      ]
    },
    {
      "cell_type": "code",
      "metadata": {
        "colab": {
          "base_uri": "https://localhost:8080/",
          "height": 359
        },
        "id": "uun0sPsQz69Y",
        "outputId": "abe38173-aa1f-4a66-8d43-cc80ae99f676"
      },
      "source": [
        "df_xlsx = pd.read_excel('/content/drive/MyDrive/Curso Alura/Python Pandas: Tratando e Analisando Dados/extras/dados/aluguel.xlsx')\n",
        "df_xlsx"
      ],
      "execution_count": null,
      "outputs": [
        {
          "output_type": "execute_result",
          "data": {
            "text/html": [
              "<div>\n",
              "<style scoped>\n",
              "    .dataframe tbody tr th:only-of-type {\n",
              "        vertical-align: middle;\n",
              "    }\n",
              "\n",
              "    .dataframe tbody tr th {\n",
              "        vertical-align: top;\n",
              "    }\n",
              "\n",
              "    .dataframe thead th {\n",
              "        text-align: right;\n",
              "    }\n",
              "</style>\n",
              "<table border=\"1\" class=\"dataframe\">\n",
              "  <thead>\n",
              "    <tr style=\"text-align: right;\">\n",
              "      <th></th>\n",
              "      <th>Tipo</th>\n",
              "      <th>Bairro</th>\n",
              "      <th>Quartos</th>\n",
              "      <th>Vagas</th>\n",
              "      <th>Suites</th>\n",
              "      <th>Area</th>\n",
              "      <th>Valor</th>\n",
              "      <th>Condominio</th>\n",
              "      <th>IPTU</th>\n",
              "    </tr>\n",
              "  </thead>\n",
              "  <tbody>\n",
              "    <tr>\n",
              "      <th>0</th>\n",
              "      <td>Quitinete</td>\n",
              "      <td>Copacabana</td>\n",
              "      <td>1</td>\n",
              "      <td>0</td>\n",
              "      <td>0</td>\n",
              "      <td>40</td>\n",
              "      <td>1700</td>\n",
              "      <td>500.0</td>\n",
              "      <td>60.0</td>\n",
              "    </tr>\n",
              "    <tr>\n",
              "      <th>1</th>\n",
              "      <td>Casa</td>\n",
              "      <td>Jardim Botânico</td>\n",
              "      <td>2</td>\n",
              "      <td>0</td>\n",
              "      <td>1</td>\n",
              "      <td>100</td>\n",
              "      <td>7000</td>\n",
              "      <td>NaN</td>\n",
              "      <td>NaN</td>\n",
              "    </tr>\n",
              "    <tr>\n",
              "      <th>2</th>\n",
              "      <td>Conjunto Comercial/Sala</td>\n",
              "      <td>Barra da Tijuca</td>\n",
              "      <td>0</td>\n",
              "      <td>4</td>\n",
              "      <td>0</td>\n",
              "      <td>150</td>\n",
              "      <td>5200</td>\n",
              "      <td>4020.0</td>\n",
              "      <td>1111.0</td>\n",
              "    </tr>\n",
              "    <tr>\n",
              "      <th>3</th>\n",
              "      <td>Apartamento</td>\n",
              "      <td>Centro</td>\n",
              "      <td>1</td>\n",
              "      <td>0</td>\n",
              "      <td>0</td>\n",
              "      <td>15</td>\n",
              "      <td>800</td>\n",
              "      <td>390.0</td>\n",
              "      <td>20.0</td>\n",
              "    </tr>\n",
              "    <tr>\n",
              "      <th>4</th>\n",
              "      <td>Apartamento</td>\n",
              "      <td>Higienópolis</td>\n",
              "      <td>1</td>\n",
              "      <td>0</td>\n",
              "      <td>0</td>\n",
              "      <td>48</td>\n",
              "      <td>800</td>\n",
              "      <td>230.0</td>\n",
              "      <td>NaN</td>\n",
              "    </tr>\n",
              "    <tr>\n",
              "      <th>5</th>\n",
              "      <td>Apartamento</td>\n",
              "      <td>Vista Alegre</td>\n",
              "      <td>3</td>\n",
              "      <td>1</td>\n",
              "      <td>0</td>\n",
              "      <td>70</td>\n",
              "      <td>1200</td>\n",
              "      <td>NaN</td>\n",
              "      <td>NaN</td>\n",
              "    </tr>\n",
              "    <tr>\n",
              "      <th>6</th>\n",
              "      <td>Apartamento</td>\n",
              "      <td>Cachambi</td>\n",
              "      <td>2</td>\n",
              "      <td>0</td>\n",
              "      <td>0</td>\n",
              "      <td>50</td>\n",
              "      <td>1300</td>\n",
              "      <td>301.0</td>\n",
              "      <td>17.0</td>\n",
              "    </tr>\n",
              "    <tr>\n",
              "      <th>7</th>\n",
              "      <td>Casa de Condomínio</td>\n",
              "      <td>Barra da Tijuca</td>\n",
              "      <td>5</td>\n",
              "      <td>4</td>\n",
              "      <td>5</td>\n",
              "      <td>750</td>\n",
              "      <td>22000</td>\n",
              "      <td>NaN</td>\n",
              "      <td>NaN</td>\n",
              "    </tr>\n",
              "    <tr>\n",
              "      <th>8</th>\n",
              "      <td>Casa de Condomínio</td>\n",
              "      <td>Ramos</td>\n",
              "      <td>2</td>\n",
              "      <td>2</td>\n",
              "      <td>0</td>\n",
              "      <td>65</td>\n",
              "      <td>1000</td>\n",
              "      <td>NaN</td>\n",
              "      <td>NaN</td>\n",
              "    </tr>\n",
              "    <tr>\n",
              "      <th>9</th>\n",
              "      <td>Conjunto Comercial/Sala</td>\n",
              "      <td>Centro</td>\n",
              "      <td>0</td>\n",
              "      <td>3</td>\n",
              "      <td>0</td>\n",
              "      <td>695</td>\n",
              "      <td>35000</td>\n",
              "      <td>19193.0</td>\n",
              "      <td>3030.0</td>\n",
              "    </tr>\n",
              "  </tbody>\n",
              "</table>\n",
              "</div>"
            ],
            "text/plain": [
              "                      Tipo           Bairro  Quartos  ...  Valor  Condominio    IPTU\n",
              "0                Quitinete       Copacabana        1  ...   1700       500.0    60.0\n",
              "1                     Casa  Jardim Botânico        2  ...   7000         NaN     NaN\n",
              "2  Conjunto Comercial/Sala  Barra da Tijuca        0  ...   5200      4020.0  1111.0\n",
              "3              Apartamento           Centro        1  ...    800       390.0    20.0\n",
              "4              Apartamento     Higienópolis        1  ...    800       230.0     NaN\n",
              "5              Apartamento     Vista Alegre        3  ...   1200         NaN     NaN\n",
              "6              Apartamento         Cachambi        2  ...   1300       301.0    17.0\n",
              "7       Casa de Condomínio  Barra da Tijuca        5  ...  22000         NaN     NaN\n",
              "8       Casa de Condomínio            Ramos        2  ...   1000         NaN     NaN\n",
              "9  Conjunto Comercial/Sala           Centro        0  ...  35000     19193.0  3030.0\n",
              "\n",
              "[10 rows x 9 columns]"
            ]
          },
          "metadata": {
            "tags": []
          },
          "execution_count": 8
        }
      ]
    },
    {
      "cell_type": "markdown",
      "metadata": {
        "id": "iMpvzT461lZJ"
      },
      "source": [
        "###Importando os dados do arquivo html para o pandas"
      ]
    },
    {
      "cell_type": "markdown",
      "metadata": {
        "id": "dyBdjipw37qY"
      },
      "source": [
        "*read_html()*\n",
        "\n",
        "[Documentação](https://pandas.pydata.org/docs/reference/api/pandas.read_html.html)"
      ]
    },
    {
      "cell_type": "markdown",
      "metadata": {
        "id": "ABAVMKnf1nTb"
      },
      "source": [
        "Ao utilizar a função *read_html()*, é possível passar como parâmetro de entrada (fonte dos dados) tanto um arquivo HTML quanto uma URL."
      ]
    },
    {
      "cell_type": "markdown",
      "metadata": {
        "id": "e1zGWOPv1zCp"
      },
      "source": [
        "Primeiramente, fazendo via um arquivo HTML."
      ]
    },
    {
      "cell_type": "code",
      "metadata": {
        "colab": {
          "base_uri": "https://localhost:8080/"
        },
        "id": "RI6YMNrc0HFI",
        "outputId": "2542f8fb-4fe8-4202-d45b-01ec7434d5f0"
      },
      "source": [
        "df_html = pd.read_html('/content/drive/MyDrive/Curso Alura/Python Pandas: Tratando e Analisando Dados/extras/dados/dados_html_2.html')\n",
        "df_html"
      ],
      "execution_count": null,
      "outputs": [
        {
          "output_type": "execute_result",
          "data": {
            "text/plain": [
              "[                  Date  ...                                       Reserve balances maintained 4\n",
              "                   Date  ... Balances maintained that exceed the top of the penalty- free band 6\n",
              " 0              Month 7  ...                                            Month 7                 \n",
              " 1            Apr. 2017  ...                                            2157202                 \n",
              " 2             May 2017  ...                                            2099222                 \n",
              " 3            June 2017  ...                                            2076852                 \n",
              " 4            July 2017  ...                                            2101027                 \n",
              " 5            Aug. 2017  ...                                            2212375                 \n",
              " 6           Sept. 2017  ...                                            2161785                 \n",
              " 7            Oct. 2017  ...                                            2117497                 \n",
              " 8            Nov. 2017  ...                                            2179474                 \n",
              " 9            Dec. 2017  ...                                            2108555                 \n",
              " 10           Jan. 2018  ...                                            2075794                 \n",
              " 11           Feb. 2018  ...                                            2102989                 \n",
              " 12           Mar. 2018  ...                                            2035232                 \n",
              " 13           Apr. 2018  ...                                            1947710                 \n",
              " 14                 NaN  ...                                                NaN                 \n",
              " 15  Two weeks ending 8  ...                                 Two weeks ending 8                 \n",
              " 16       Mar. 14, 2018  ...                                            2098542                 \n",
              " 17       Mar. 28, 2018  ...                                            1985086                 \n",
              " 18       Apr. 11, 2018  ...                                            1973798                 \n",
              " 19       Apr. 25, 2018  ...                                            1956249                 \n",
              " 20         May 9, 2018  ...                                            1866409                 \n",
              " \n",
              " [21 rows x 7 columns],                   Date  ...           Monetary base\n",
              "                   Date  ... Currency in circulation\n",
              " 0              Month 7  ...                 Month 7\n",
              " 1            Apr. 2017  ...                 1540277\n",
              " 2             May 2017  ...                 1548643\n",
              " 3            June 2017  ...                 1556234\n",
              " 4            July 2017  ...                 1562107\n",
              " 5            Aug. 2017  ...                 1566007\n",
              " 6           Sept. 2017  ...                 1578756\n",
              " 7            Oct. 2017  ...                 1584208\n",
              " 8            Nov. 2017  ...                 1593280\n",
              " 9            Dec. 2017  ...                 1606695\n",
              " 10           Jan. 2018  ...                 1610195\n",
              " 11           Feb. 2018  ...                 1616316\n",
              " 12           Mar. 2018  ...                 1633651\n",
              " 13           Apr. 2018  ...                 1640991\n",
              " 14                 NaN  ...                     NaN\n",
              " 15  Two weeks ending 8  ...      Two weeks ending 8\n",
              " 16       Mar. 14, 2018  ...                 1631428\n",
              " 17       Mar. 28, 2018  ...                 1634753\n",
              " 18       Apr. 11, 2018  ...                 1638884\n",
              " 19       Apr. 25, 2018  ...                 1641137\n",
              " 20         May 9, 2018  ...                 1645219\n",
              " \n",
              " [21 rows x 9 columns],                   Date  ... Nonborrowed reserves 1\n",
              "                   Date  ... Nonborrowed reserves 1\n",
              " 0              Month 2  ...                Month 2\n",
              " 1            Apr. 2017  ...                2344767\n",
              " 2             May 2017  ...                2288880\n",
              " 3            June 2017  ...                2269588\n",
              " 4            July 2017  ...                2296763\n",
              " 5            Aug. 2017  ...                2406953\n",
              " 6           Sept. 2017  ...                2357651\n",
              " 7            Oct. 2017  ...                2310751\n",
              " 8            Nov. 2017  ...                2378217\n",
              " 9            Dec. 2017  ...                2309747\n",
              " 10           Jan. 2018  ...                2280960\n",
              " 11           Feb. 2018  ...                2305236\n",
              " 12           Mar. 2018  ...                2230859\n",
              " 13           Apr. 2018  ...                2150996\n",
              " 14                 NaN  ...                    NaN\n",
              " 15  Two weeks ending 3  ...     Two weeks ending 3\n",
              " 16       Mar. 14, 2018  ...                2290422\n",
              " 17       Mar. 28, 2018  ...                2184197\n",
              " 18       Apr. 11, 2018  ...                2170661\n",
              " 19       Apr. 25, 2018  ...                2162585\n",
              " 20         May 9, 2018  ...                2075288\n",
              " \n",
              " [21 rows x 7 columns]]"
            ]
          },
          "metadata": {
            "tags": []
          },
          "execution_count": 9
        }
      ]
    },
    {
      "cell_type": "markdown",
      "metadata": {
        "id": "NtRbDbxG12Yg"
      },
      "source": [
        "Agora, via página web, URL."
      ]
    },
    {
      "cell_type": "code",
      "metadata": {
        "id": "TrRm4eUq0ZAQ"
      },
      "source": [
        "df_html = pd.read_html('https://www.federalreserve.gov/releases/h3/current/default.htm')"
      ],
      "execution_count": null,
      "outputs": []
    },
    {
      "cell_type": "markdown",
      "metadata": {
        "id": "dlUXS2Cp2f98"
      },
      "source": [
        "Quando utilizamos a função *read_html()* em uma URL ou arquivo HTML que contenha mais de uma tabela, cada uma é convertida em um DataFrame e são todas armazenadas em uma lista do Python, ou seja, a função *read_html()* retorna uma lista de DataFrames."
      ]
    },
    {
      "cell_type": "markdown",
      "metadata": {
        "id": "_kebdgqv0z9W"
      },
      "source": [
        "Vejamos quantos dataframes estão dentro da lista retornada pelo df_html (o df_html retorna uma lista de dataframes)"
      ]
    },
    {
      "cell_type": "code",
      "metadata": {
        "colab": {
          "base_uri": "https://localhost:8080/"
        },
        "id": "Lrj5ry_50uaf",
        "outputId": "8904b135-9c2c-4327-d468-875bc90c0da5"
      },
      "source": [
        "len(df_html)"
      ],
      "execution_count": null,
      "outputs": [
        {
          "output_type": "execute_result",
          "data": {
            "text/plain": [
              "3"
            ]
          },
          "metadata": {
            "tags": []
          },
          "execution_count": 11
        }
      ]
    },
    {
      "cell_type": "markdown",
      "metadata": {
        "id": "M78S_u2q1NrT"
      },
      "source": [
        "Vejamos cada um dos 3 dataframes retornados nessa lista"
      ]
    },
    {
      "cell_type": "code",
      "metadata": {
        "colab": {
          "base_uri": "https://localhost:8080/",
          "height": 867
        },
        "id": "QFhCblHx0xph",
        "outputId": "23db2933-a42e-4e91-9f11-c6c1ebfb930f"
      },
      "source": [
        "df_html[0]"
      ],
      "execution_count": null,
      "outputs": [
        {
          "output_type": "execute_result",
          "data": {
            "text/html": [
              "<div>\n",
              "<style scoped>\n",
              "    .dataframe tbody tr th:only-of-type {\n",
              "        vertical-align: middle;\n",
              "    }\n",
              "\n",
              "    .dataframe tbody tr th {\n",
              "        vertical-align: top;\n",
              "    }\n",
              "\n",
              "    .dataframe thead tr th {\n",
              "        text-align: left;\n",
              "    }\n",
              "</style>\n",
              "<table border=\"1\" class=\"dataframe\">\n",
              "  <thead>\n",
              "    <tr>\n",
              "      <th></th>\n",
              "      <th>Date</th>\n",
              "      <th colspan=\"3\" halign=\"left\">Reserve balances required</th>\n",
              "      <th colspan=\"3\" halign=\"left\">Reserve balances maintained 4</th>\n",
              "    </tr>\n",
              "    <tr>\n",
              "      <th></th>\n",
              "      <th>Date</th>\n",
              "      <th>Reserve balance requirements 1</th>\n",
              "      <th>Top of penalty- free band 2</th>\n",
              "      <th>Bottom of penalty- free band 3</th>\n",
              "      <th>Total</th>\n",
              "      <th>Balances maintained to satisfy reserve balance requirements 5</th>\n",
              "      <th>Balances maintained that exceed the top of the penalty- free band 6</th>\n",
              "    </tr>\n",
              "  </thead>\n",
              "  <tbody>\n",
              "    <tr>\n",
              "      <th>0</th>\n",
              "      <td>Month 7</td>\n",
              "      <td>Month 7</td>\n",
              "      <td>Month 7</td>\n",
              "      <td>Month 7</td>\n",
              "      <td>Month 7</td>\n",
              "      <td>Month 7</td>\n",
              "      <td>Month 7</td>\n",
              "    </tr>\n",
              "    <tr>\n",
              "      <th>1</th>\n",
              "      <td>Aug. 2019</td>\n",
              "      <td>134639</td>\n",
              "      <td>148114</td>\n",
              "      <td>121167</td>\n",
              "      <td>1520876</td>\n",
              "      <td>147555</td>\n",
              "      <td>1373321</td>\n",
              "    </tr>\n",
              "    <tr>\n",
              "      <th>2</th>\n",
              "      <td>Sept. 2019</td>\n",
              "      <td>134707</td>\n",
              "      <td>148188</td>\n",
              "      <td>121227</td>\n",
              "      <td>1439771</td>\n",
              "      <td>147498</td>\n",
              "      <td>1292273</td>\n",
              "    </tr>\n",
              "    <tr>\n",
              "      <th>3</th>\n",
              "      <td>Oct. 2019</td>\n",
              "      <td>134998</td>\n",
              "      <td>148509</td>\n",
              "      <td>121489</td>\n",
              "      <td>1481513</td>\n",
              "      <td>148050</td>\n",
              "      <td>1333462</td>\n",
              "    </tr>\n",
              "    <tr>\n",
              "      <th>4</th>\n",
              "      <td>Nov. 2019</td>\n",
              "      <td>140705</td>\n",
              "      <td>154787</td>\n",
              "      <td>126625</td>\n",
              "      <td>1529341</td>\n",
              "      <td>154256</td>\n",
              "      <td>1375085</td>\n",
              "    </tr>\n",
              "    <tr>\n",
              "      <th>5</th>\n",
              "      <td>Dec. 2019</td>\n",
              "      <td>138984</td>\n",
              "      <td>152893</td>\n",
              "      <td>125076</td>\n",
              "      <td>1630090</td>\n",
              "      <td>152562</td>\n",
              "      <td>1477528</td>\n",
              "    </tr>\n",
              "    <tr>\n",
              "      <th>6</th>\n",
              "      <td>Jan. 2020</td>\n",
              "      <td>144816</td>\n",
              "      <td>159309</td>\n",
              "      <td>130326</td>\n",
              "      <td>1645384</td>\n",
              "      <td>158765</td>\n",
              "      <td>1486619</td>\n",
              "    </tr>\n",
              "    <tr>\n",
              "      <th>7</th>\n",
              "      <td>Feb. 2020</td>\n",
              "      <td>138370</td>\n",
              "      <td>152218</td>\n",
              "      <td>124524</td>\n",
              "      <td>1656989</td>\n",
              "      <td>151612</td>\n",
              "      <td>1505377</td>\n",
              "    </tr>\n",
              "    <tr>\n",
              "      <th>8</th>\n",
              "      <td>Mar. 2020</td>\n",
              "      <td>113139</td>\n",
              "      <td>124461</td>\n",
              "      <td>101817</td>\n",
              "      <td>2045148</td>\n",
              "      <td>124147</td>\n",
              "      <td>1921000</td>\n",
              "    </tr>\n",
              "    <tr>\n",
              "      <th>9</th>\n",
              "      <td>Apr. 2020</td>\n",
              "      <td>0</td>\n",
              "      <td>0</td>\n",
              "      <td>0</td>\n",
              "      <td>2953586</td>\n",
              "      <td>0</td>\n",
              "      <td>2953586</td>\n",
              "    </tr>\n",
              "    <tr>\n",
              "      <th>10</th>\n",
              "      <td>May 2020</td>\n",
              "      <td>0</td>\n",
              "      <td>0</td>\n",
              "      <td>0</td>\n",
              "      <td>3217635</td>\n",
              "      <td>0</td>\n",
              "      <td>3217635</td>\n",
              "    </tr>\n",
              "    <tr>\n",
              "      <th>11</th>\n",
              "      <td>June 2020</td>\n",
              "      <td>0</td>\n",
              "      <td>0</td>\n",
              "      <td>0</td>\n",
              "      <td>3043556</td>\n",
              "      <td>0</td>\n",
              "      <td>3043556</td>\n",
              "    </tr>\n",
              "    <tr>\n",
              "      <th>12</th>\n",
              "      <td>July 2020</td>\n",
              "      <td>0</td>\n",
              "      <td>0</td>\n",
              "      <td>0</td>\n",
              "      <td>2718529</td>\n",
              "      <td>0</td>\n",
              "      <td>2718529</td>\n",
              "    </tr>\n",
              "    <tr>\n",
              "      <th>13</th>\n",
              "      <td>Aug. 2020</td>\n",
              "      <td>0</td>\n",
              "      <td>0</td>\n",
              "      <td>0</td>\n",
              "      <td>2799719</td>\n",
              "      <td>0</td>\n",
              "      <td>2799719</td>\n",
              "    </tr>\n",
              "    <tr>\n",
              "      <th>14</th>\n",
              "      <td>NaN</td>\n",
              "      <td>NaN</td>\n",
              "      <td>NaN</td>\n",
              "      <td>NaN</td>\n",
              "      <td>NaN</td>\n",
              "      <td>NaN</td>\n",
              "      <td>NaN</td>\n",
              "    </tr>\n",
              "    <tr>\n",
              "      <th>15</th>\n",
              "      <td>Two weeks ending 8</td>\n",
              "      <td>Two weeks ending 8</td>\n",
              "      <td>Two weeks ending 8</td>\n",
              "      <td>Two weeks ending 8</td>\n",
              "      <td>Two weeks ending 8</td>\n",
              "      <td>Two weeks ending 8</td>\n",
              "      <td>Two weeks ending 8</td>\n",
              "    </tr>\n",
              "    <tr>\n",
              "      <th>16</th>\n",
              "      <td>July 15, 2020</td>\n",
              "      <td>0</td>\n",
              "      <td>0</td>\n",
              "      <td>0</td>\n",
              "      <td>2795785</td>\n",
              "      <td>0</td>\n",
              "      <td>2795785</td>\n",
              "    </tr>\n",
              "    <tr>\n",
              "      <th>17</th>\n",
              "      <td>July 29, 2020</td>\n",
              "      <td>0</td>\n",
              "      <td>0</td>\n",
              "      <td>0</td>\n",
              "      <td>2623526</td>\n",
              "      <td>0</td>\n",
              "      <td>2623526</td>\n",
              "    </tr>\n",
              "    <tr>\n",
              "      <th>18</th>\n",
              "      <td>Aug. 12, 2020</td>\n",
              "      <td>0</td>\n",
              "      <td>0</td>\n",
              "      <td>0</td>\n",
              "      <td>2751124</td>\n",
              "      <td>0</td>\n",
              "      <td>2751124</td>\n",
              "    </tr>\n",
              "    <tr>\n",
              "      <th>19</th>\n",
              "      <td>Aug. 26, 2020</td>\n",
              "      <td>0</td>\n",
              "      <td>0</td>\n",
              "      <td>0</td>\n",
              "      <td>2821740</td>\n",
              "      <td>0</td>\n",
              "      <td>2821740</td>\n",
              "    </tr>\n",
              "    <tr>\n",
              "      <th>20</th>\n",
              "      <td>Sept. 9, 2020</td>\n",
              "      <td>0</td>\n",
              "      <td>0</td>\n",
              "      <td>0</td>\n",
              "      <td>2854690</td>\n",
              "      <td>0</td>\n",
              "      <td>2854690</td>\n",
              "    </tr>\n",
              "  </tbody>\n",
              "</table>\n",
              "</div>"
            ],
            "text/plain": [
              "                  Date  ...                                       Reserve balances maintained 4\n",
              "                  Date  ... Balances maintained that exceed the top of the penalty- free band 6\n",
              "0              Month 7  ...                                            Month 7                 \n",
              "1            Aug. 2019  ...                                            1373321                 \n",
              "2           Sept. 2019  ...                                            1292273                 \n",
              "3            Oct. 2019  ...                                            1333462                 \n",
              "4            Nov. 2019  ...                                            1375085                 \n",
              "5            Dec. 2019  ...                                            1477528                 \n",
              "6            Jan. 2020  ...                                            1486619                 \n",
              "7            Feb. 2020  ...                                            1505377                 \n",
              "8            Mar. 2020  ...                                            1921000                 \n",
              "9            Apr. 2020  ...                                            2953586                 \n",
              "10            May 2020  ...                                            3217635                 \n",
              "11           June 2020  ...                                            3043556                 \n",
              "12           July 2020  ...                                            2718529                 \n",
              "13           Aug. 2020  ...                                            2799719                 \n",
              "14                 NaN  ...                                                NaN                 \n",
              "15  Two weeks ending 8  ...                                 Two weeks ending 8                 \n",
              "16       July 15, 2020  ...                                            2795785                 \n",
              "17       July 29, 2020  ...                                            2623526                 \n",
              "18       Aug. 12, 2020  ...                                            2751124                 \n",
              "19       Aug. 26, 2020  ...                                            2821740                 \n",
              "20       Sept. 9, 2020  ...                                            2854690                 \n",
              "\n",
              "[21 rows x 7 columns]"
            ]
          },
          "metadata": {
            "tags": []
          },
          "execution_count": 12
        }
      ]
    },
    {
      "cell_type": "code",
      "metadata": {
        "colab": {
          "base_uri": "https://localhost:8080/",
          "height": 850
        },
        "id": "D_sZiryJ1MyI",
        "outputId": "1255cdf7-14f2-4ab5-8222-c4fafe520be7"
      },
      "source": [
        "df_html[1]"
      ],
      "execution_count": null,
      "outputs": [
        {
          "output_type": "execute_result",
          "data": {
            "text/html": [
              "<div>\n",
              "<style scoped>\n",
              "    .dataframe tbody tr th:only-of-type {\n",
              "        vertical-align: middle;\n",
              "    }\n",
              "\n",
              "    .dataframe tbody tr th {\n",
              "        vertical-align: top;\n",
              "    }\n",
              "\n",
              "    .dataframe thead tr th {\n",
              "        text-align: left;\n",
              "    }\n",
              "</style>\n",
              "<table border=\"1\" class=\"dataframe\">\n",
              "  <thead>\n",
              "    <tr>\n",
              "      <th></th>\n",
              "      <th>Date</th>\n",
              "      <th colspan=\"2\" halign=\"left\">Reserves</th>\n",
              "      <th colspan=\"3\" halign=\"left\">Vault cash 2</th>\n",
              "      <th colspan=\"3\" halign=\"left\">Monetary base</th>\n",
              "    </tr>\n",
              "    <tr>\n",
              "      <th></th>\n",
              "      <th>Date</th>\n",
              "      <th>Total 1</th>\n",
              "      <th>Required</th>\n",
              "      <th>Total</th>\n",
              "      <th>Used to satisfy required reserves 3</th>\n",
              "      <th>Surplus 4</th>\n",
              "      <th>Total 5</th>\n",
              "      <th>Total balances maintained 6</th>\n",
              "      <th>Currency in circulation</th>\n",
              "    </tr>\n",
              "  </thead>\n",
              "  <tbody>\n",
              "    <tr>\n",
              "      <th>0</th>\n",
              "      <td>Month 7</td>\n",
              "      <td>Month 7</td>\n",
              "      <td>Month 7</td>\n",
              "      <td>Month 7</td>\n",
              "      <td>Month 7</td>\n",
              "      <td>Month 7</td>\n",
              "      <td>Month 7</td>\n",
              "      <td>Month 7</td>\n",
              "      <td>Month 7</td>\n",
              "    </tr>\n",
              "    <tr>\n",
              "      <th>1</th>\n",
              "      <td>Aug. 2019</td>\n",
              "      <td>1586844</td>\n",
              "      <td>200608</td>\n",
              "      <td>78451</td>\n",
              "      <td>65969</td>\n",
              "      <td>12483</td>\n",
              "      <td>3271378</td>\n",
              "      <td>1520876</td>\n",
              "      <td>1750502</td>\n",
              "    </tr>\n",
              "    <tr>\n",
              "      <th>2</th>\n",
              "      <td>Sept. 2019</td>\n",
              "      <td>1504805</td>\n",
              "      <td>199741</td>\n",
              "      <td>76550</td>\n",
              "      <td>65035</td>\n",
              "      <td>11516</td>\n",
              "      <td>3202668</td>\n",
              "      <td>1439771</td>\n",
              "      <td>1762898</td>\n",
              "    </tr>\n",
              "    <tr>\n",
              "      <th>3</th>\n",
              "      <td>Oct. 2019</td>\n",
              "      <td>1547136</td>\n",
              "      <td>200621</td>\n",
              "      <td>76660</td>\n",
              "      <td>65623</td>\n",
              "      <td>11037</td>\n",
              "      <td>3252807</td>\n",
              "      <td>1481513</td>\n",
              "      <td>1771294</td>\n",
              "    </tr>\n",
              "    <tr>\n",
              "      <th>4</th>\n",
              "      <td>Nov. 2019</td>\n",
              "      <td>1595222</td>\n",
              "      <td>206586</td>\n",
              "      <td>76921</td>\n",
              "      <td>65881</td>\n",
              "      <td>11040</td>\n",
              "      <td>3315551</td>\n",
              "      <td>1529341</td>\n",
              "      <td>1786209</td>\n",
              "    </tr>\n",
              "    <tr>\n",
              "      <th>5</th>\n",
              "      <td>Dec. 2019</td>\n",
              "      <td>1698344</td>\n",
              "      <td>207239</td>\n",
              "      <td>80168</td>\n",
              "      <td>68255</td>\n",
              "      <td>11914</td>\n",
              "      <td>3426464</td>\n",
              "      <td>1630090</td>\n",
              "      <td>1796375</td>\n",
              "    </tr>\n",
              "    <tr>\n",
              "      <th>6</th>\n",
              "      <td>Jan. 2020</td>\n",
              "      <td>1715219</td>\n",
              "      <td>214652</td>\n",
              "      <td>81216</td>\n",
              "      <td>69835</td>\n",
              "      <td>11381</td>\n",
              "      <td>3442569</td>\n",
              "      <td>1645384</td>\n",
              "      <td>1797185</td>\n",
              "    </tr>\n",
              "    <tr>\n",
              "      <th>7</th>\n",
              "      <td>Feb. 2020</td>\n",
              "      <td>1726943</td>\n",
              "      <td>208324</td>\n",
              "      <td>80735</td>\n",
              "      <td>69954</td>\n",
              "      <td>10781</td>\n",
              "      <td>3454474</td>\n",
              "      <td>1656989</td>\n",
              "      <td>1797485</td>\n",
              "    </tr>\n",
              "    <tr>\n",
              "      <th>8</th>\n",
              "      <td>Mar. 2020</td>\n",
              "      <td>2099369</td>\n",
              "      <td>167360</td>\n",
              "      <td>77114</td>\n",
              "      <td>54222</td>\n",
              "      <td>22892</td>\n",
              "      <td>3883155</td>\n",
              "      <td>2045148</td>\n",
              "      <td>1838007</td>\n",
              "    </tr>\n",
              "    <tr>\n",
              "      <th>9</th>\n",
              "      <td>Apr. 2020</td>\n",
              "      <td>2953586</td>\n",
              "      <td>0</td>\n",
              "      <td>88104</td>\n",
              "      <td>0</td>\n",
              "      <td>88104</td>\n",
              "      <td>4844940</td>\n",
              "      <td>2953586</td>\n",
              "      <td>1891355</td>\n",
              "    </tr>\n",
              "    <tr>\n",
              "      <th>10</th>\n",
              "      <td>May 2020</td>\n",
              "      <td>3217635</td>\n",
              "      <td>0</td>\n",
              "      <td>101345</td>\n",
              "      <td>0</td>\n",
              "      <td>101345</td>\n",
              "      <td>5149527</td>\n",
              "      <td>3217635</td>\n",
              "      <td>1931891</td>\n",
              "    </tr>\n",
              "    <tr>\n",
              "      <th>11</th>\n",
              "      <td>June 2020</td>\n",
              "      <td>3043556</td>\n",
              "      <td>0</td>\n",
              "      <td>104201</td>\n",
              "      <td>0</td>\n",
              "      <td>104201</td>\n",
              "      <td>5001978</td>\n",
              "      <td>3043556</td>\n",
              "      <td>1958422</td>\n",
              "    </tr>\n",
              "    <tr>\n",
              "      <th>12</th>\n",
              "      <td>July 2020</td>\n",
              "      <td>2718529</td>\n",
              "      <td>0</td>\n",
              "      <td>98392</td>\n",
              "      <td>0</td>\n",
              "      <td>98392</td>\n",
              "      <td>4700365</td>\n",
              "      <td>2718529</td>\n",
              "      <td>1981836</td>\n",
              "    </tr>\n",
              "    <tr>\n",
              "      <th>13</th>\n",
              "      <td>Aug. 2020</td>\n",
              "      <td>2799719</td>\n",
              "      <td>0</td>\n",
              "      <td>95327</td>\n",
              "      <td>0</td>\n",
              "      <td>95327</td>\n",
              "      <td>4807394</td>\n",
              "      <td>2799719</td>\n",
              "      <td>2007675</td>\n",
              "    </tr>\n",
              "    <tr>\n",
              "      <th>14</th>\n",
              "      <td>NaN</td>\n",
              "      <td>NaN</td>\n",
              "      <td>NaN</td>\n",
              "      <td>NaN</td>\n",
              "      <td>NaN</td>\n",
              "      <td>NaN</td>\n",
              "      <td>NaN</td>\n",
              "      <td>NaN</td>\n",
              "      <td>NaN</td>\n",
              "    </tr>\n",
              "    <tr>\n",
              "      <th>15</th>\n",
              "      <td>Two weeks ending 8</td>\n",
              "      <td>Two weeks ending 8</td>\n",
              "      <td>Two weeks ending 8</td>\n",
              "      <td>Two weeks ending 8</td>\n",
              "      <td>Two weeks ending 8</td>\n",
              "      <td>Two weeks ending 8</td>\n",
              "      <td>Two weeks ending 8</td>\n",
              "      <td>Two weeks ending 8</td>\n",
              "      <td>Two weeks ending 8</td>\n",
              "    </tr>\n",
              "    <tr>\n",
              "      <th>16</th>\n",
              "      <td>July 15, 2020</td>\n",
              "      <td>2795785</td>\n",
              "      <td>0</td>\n",
              "      <td>99459</td>\n",
              "      <td>0</td>\n",
              "      <td>99459</td>\n",
              "      <td>4772522</td>\n",
              "      <td>2795785</td>\n",
              "      <td>1976737</td>\n",
              "    </tr>\n",
              "    <tr>\n",
              "      <th>17</th>\n",
              "      <td>July 29, 2020</td>\n",
              "      <td>2623526</td>\n",
              "      <td>0</td>\n",
              "      <td>97225</td>\n",
              "      <td>0</td>\n",
              "      <td>97225</td>\n",
              "      <td>4609143</td>\n",
              "      <td>2623526</td>\n",
              "      <td>1985617</td>\n",
              "    </tr>\n",
              "    <tr>\n",
              "      <th>18</th>\n",
              "      <td>Aug. 12, 2020</td>\n",
              "      <td>2751124</td>\n",
              "      <td>0</td>\n",
              "      <td>95638</td>\n",
              "      <td>0</td>\n",
              "      <td>95638</td>\n",
              "      <td>4750981</td>\n",
              "      <td>2751124</td>\n",
              "      <td>1999857</td>\n",
              "    </tr>\n",
              "    <tr>\n",
              "      <th>19</th>\n",
              "      <td>Aug. 26, 2020</td>\n",
              "      <td>2821740</td>\n",
              "      <td>0</td>\n",
              "      <td>95066</td>\n",
              "      <td>0</td>\n",
              "      <td>95066</td>\n",
              "      <td>4830999</td>\n",
              "      <td>2821740</td>\n",
              "      <td>2009260</td>\n",
              "    </tr>\n",
              "    <tr>\n",
              "      <th>20</th>\n",
              "      <td>Sept. 9, 2020</td>\n",
              "      <td>2854690</td>\n",
              "      <td>0</td>\n",
              "      <td>95313</td>\n",
              "      <td>0</td>\n",
              "      <td>95313</td>\n",
              "      <td>4876690</td>\n",
              "      <td>2854690</td>\n",
              "      <td>2022000</td>\n",
              "    </tr>\n",
              "  </tbody>\n",
              "</table>\n",
              "</div>"
            ],
            "text/plain": [
              "                  Date  ...           Monetary base\n",
              "                  Date  ... Currency in circulation\n",
              "0              Month 7  ...                 Month 7\n",
              "1            Aug. 2019  ...                 1750502\n",
              "2           Sept. 2019  ...                 1762898\n",
              "3            Oct. 2019  ...                 1771294\n",
              "4            Nov. 2019  ...                 1786209\n",
              "5            Dec. 2019  ...                 1796375\n",
              "6            Jan. 2020  ...                 1797185\n",
              "7            Feb. 2020  ...                 1797485\n",
              "8            Mar. 2020  ...                 1838007\n",
              "9            Apr. 2020  ...                 1891355\n",
              "10            May 2020  ...                 1931891\n",
              "11           June 2020  ...                 1958422\n",
              "12           July 2020  ...                 1981836\n",
              "13           Aug. 2020  ...                 2007675\n",
              "14                 NaN  ...                     NaN\n",
              "15  Two weeks ending 8  ...      Two weeks ending 8\n",
              "16       July 15, 2020  ...                 1976737\n",
              "17       July 29, 2020  ...                 1985617\n",
              "18       Aug. 12, 2020  ...                 1999857\n",
              "19       Aug. 26, 2020  ...                 2009260\n",
              "20       Sept. 9, 2020  ...                 2022000\n",
              "\n",
              "[21 rows x 9 columns]"
            ]
          },
          "metadata": {
            "tags": []
          },
          "execution_count": 13
        }
      ]
    },
    {
      "cell_type": "code",
      "metadata": {
        "colab": {
          "base_uri": "https://localhost:8080/",
          "height": 782
        },
        "id": "UHlz6Ij41T5A",
        "outputId": "996d2017-810b-4ab3-d139-dc6925ae7d09"
      },
      "source": [
        "df_html[2]"
      ],
      "execution_count": null,
      "outputs": [
        {
          "output_type": "execute_result",
          "data": {
            "text/html": [
              "<div>\n",
              "<style scoped>\n",
              "    .dataframe tbody tr th:only-of-type {\n",
              "        vertical-align: middle;\n",
              "    }\n",
              "\n",
              "    .dataframe tbody tr th {\n",
              "        vertical-align: top;\n",
              "    }\n",
              "\n",
              "    .dataframe thead tr th {\n",
              "        text-align: left;\n",
              "    }\n",
              "</style>\n",
              "<table border=\"1\" class=\"dataframe\">\n",
              "  <thead>\n",
              "    <tr>\n",
              "      <th></th>\n",
              "      <th>Date</th>\n",
              "      <th colspan=\"5\" halign=\"left\">Borrowings from the Federal Reserve</th>\n",
              "      <th>Nonborrowed reserves 2</th>\n",
              "    </tr>\n",
              "    <tr>\n",
              "      <th></th>\n",
              "      <th>Date</th>\n",
              "      <th>Total</th>\n",
              "      <th>Primary</th>\n",
              "      <th>Secondary</th>\n",
              "      <th>Seasonal</th>\n",
              "      <th>Other credit extensions 1</th>\n",
              "      <th>Nonborrowed reserves 2</th>\n",
              "    </tr>\n",
              "  </thead>\n",
              "  <tbody>\n",
              "    <tr>\n",
              "      <th>0</th>\n",
              "      <td>Month 3</td>\n",
              "      <td>Month 3</td>\n",
              "      <td>Month 3</td>\n",
              "      <td>Month 3</td>\n",
              "      <td>Month 3</td>\n",
              "      <td>Month 3</td>\n",
              "      <td>Month 3</td>\n",
              "    </tr>\n",
              "    <tr>\n",
              "      <th>1</th>\n",
              "      <td>Aug. 2019</td>\n",
              "      <td>117</td>\n",
              "      <td>16</td>\n",
              "      <td>0</td>\n",
              "      <td>101</td>\n",
              "      <td>0</td>\n",
              "      <td>1586727</td>\n",
              "    </tr>\n",
              "    <tr>\n",
              "      <th>2</th>\n",
              "      <td>Sept. 2019</td>\n",
              "      <td>101</td>\n",
              "      <td>15</td>\n",
              "      <td>0</td>\n",
              "      <td>86</td>\n",
              "      <td>0</td>\n",
              "      <td>1504704</td>\n",
              "    </tr>\n",
              "    <tr>\n",
              "      <th>3</th>\n",
              "      <td>Oct. 2019</td>\n",
              "      <td>63</td>\n",
              "      <td>4</td>\n",
              "      <td>0</td>\n",
              "      <td>59</td>\n",
              "      <td>0</td>\n",
              "      <td>1547073</td>\n",
              "    </tr>\n",
              "    <tr>\n",
              "      <th>4</th>\n",
              "      <td>Nov. 2019</td>\n",
              "      <td>26</td>\n",
              "      <td>4</td>\n",
              "      <td>0</td>\n",
              "      <td>22</td>\n",
              "      <td>0</td>\n",
              "      <td>1595196</td>\n",
              "    </tr>\n",
              "    <tr>\n",
              "      <th>5</th>\n",
              "      <td>Dec. 2019</td>\n",
              "      <td>21</td>\n",
              "      <td>10</td>\n",
              "      <td>0</td>\n",
              "      <td>11</td>\n",
              "      <td>0</td>\n",
              "      <td>1698323</td>\n",
              "    </tr>\n",
              "    <tr>\n",
              "      <th>6</th>\n",
              "      <td>Jan. 2020</td>\n",
              "      <td>6</td>\n",
              "      <td>5</td>\n",
              "      <td>0</td>\n",
              "      <td>1</td>\n",
              "      <td>0</td>\n",
              "      <td>1715213</td>\n",
              "    </tr>\n",
              "    <tr>\n",
              "      <th>7</th>\n",
              "      <td>Feb. 2020</td>\n",
              "      <td>3</td>\n",
              "      <td>3</td>\n",
              "      <td>0</td>\n",
              "      <td>0</td>\n",
              "      <td>0</td>\n",
              "      <td>1726939</td>\n",
              "    </tr>\n",
              "    <tr>\n",
              "      <th>8</th>\n",
              "      <td>Mar. 2020</td>\n",
              "      <td>40554</td>\n",
              "      <td>19538</td>\n",
              "      <td>0</td>\n",
              "      <td>0</td>\n",
              "      <td>21015</td>\n",
              "      <td>2058816</td>\n",
              "    </tr>\n",
              "    <tr>\n",
              "      <th>9</th>\n",
              "      <td>Apr. 2020</td>\n",
              "      <td>124461</td>\n",
              "      <td>38299</td>\n",
              "      <td>0</td>\n",
              "      <td>0</td>\n",
              "      <td>86162</td>\n",
              "      <td>2829125</td>\n",
              "    </tr>\n",
              "    <tr>\n",
              "      <th>10</th>\n",
              "      <td>May 2020</td>\n",
              "      <td>111845</td>\n",
              "      <td>22180</td>\n",
              "      <td>0</td>\n",
              "      <td>2</td>\n",
              "      <td>89663</td>\n",
              "      <td>3105791</td>\n",
              "    </tr>\n",
              "    <tr>\n",
              "      <th>11</th>\n",
              "      <td>June 2020</td>\n",
              "      <td>97671</td>\n",
              "      <td>8456</td>\n",
              "      <td>0</td>\n",
              "      <td>11</td>\n",
              "      <td>89204</td>\n",
              "      <td>2945885</td>\n",
              "    </tr>\n",
              "    <tr>\n",
              "      <th>12</th>\n",
              "      <td>July 2020</td>\n",
              "      <td>92943</td>\n",
              "      <td>4670</td>\n",
              "      <td>0</td>\n",
              "      <td>26</td>\n",
              "      <td>88248</td>\n",
              "      <td>2625585</td>\n",
              "    </tr>\n",
              "    <tr>\n",
              "      <th>13</th>\n",
              "      <td>Aug. 2020</td>\n",
              "      <td>83126</td>\n",
              "      <td>2851</td>\n",
              "      <td>0</td>\n",
              "      <td>38</td>\n",
              "      <td>80237</td>\n",
              "      <td>2716593</td>\n",
              "    </tr>\n",
              "    <tr>\n",
              "      <th>14</th>\n",
              "      <td>NaN</td>\n",
              "      <td>NaN</td>\n",
              "      <td>NaN</td>\n",
              "      <td>NaN</td>\n",
              "      <td>NaN</td>\n",
              "      <td>NaN</td>\n",
              "      <td>NaN</td>\n",
              "    </tr>\n",
              "    <tr>\n",
              "      <th>15</th>\n",
              "      <td>Two weeks ending 4</td>\n",
              "      <td>Two weeks ending 4</td>\n",
              "      <td>Two weeks ending 4</td>\n",
              "      <td>Two weeks ending 4</td>\n",
              "      <td>Two weeks ending 4</td>\n",
              "      <td>Two weeks ending 4</td>\n",
              "      <td>Two weeks ending 4</td>\n",
              "    </tr>\n",
              "    <tr>\n",
              "      <th>16</th>\n",
              "      <td>July 15, 2020</td>\n",
              "      <td>94326</td>\n",
              "      <td>5055</td>\n",
              "      <td>0</td>\n",
              "      <td>21</td>\n",
              "      <td>89251</td>\n",
              "      <td>2701459</td>\n",
              "    </tr>\n",
              "    <tr>\n",
              "      <th>17</th>\n",
              "      <td>July 29, 2020</td>\n",
              "      <td>92428</td>\n",
              "      <td>4376</td>\n",
              "      <td>0</td>\n",
              "      <td>31</td>\n",
              "      <td>88021</td>\n",
              "      <td>2531099</td>\n",
              "    </tr>\n",
              "    <tr>\n",
              "      <th>18</th>\n",
              "      <td>Aug. 12, 2020</td>\n",
              "      <td>85636</td>\n",
              "      <td>3111</td>\n",
              "      <td>0</td>\n",
              "      <td>37</td>\n",
              "      <td>82488</td>\n",
              "      <td>2665489</td>\n",
              "    </tr>\n",
              "    <tr>\n",
              "      <th>19</th>\n",
              "      <td>Aug. 26, 2020</td>\n",
              "      <td>82030</td>\n",
              "      <td>2651</td>\n",
              "      <td>0</td>\n",
              "      <td>41</td>\n",
              "      <td>79339</td>\n",
              "      <td>2739710</td>\n",
              "    </tr>\n",
              "    <tr>\n",
              "      <th>20</th>\n",
              "      <td>Sept. 9, 2020</td>\n",
              "      <td>80170</td>\n",
              "      <td>2786</td>\n",
              "      <td>0</td>\n",
              "      <td>34</td>\n",
              "      <td>77350</td>\n",
              "      <td>2774520</td>\n",
              "    </tr>\n",
              "  </tbody>\n",
              "</table>\n",
              "</div>"
            ],
            "text/plain": [
              "                  Date  ... Nonborrowed reserves 2\n",
              "                  Date  ... Nonborrowed reserves 2\n",
              "0              Month 3  ...                Month 3\n",
              "1            Aug. 2019  ...                1586727\n",
              "2           Sept. 2019  ...                1504704\n",
              "3            Oct. 2019  ...                1547073\n",
              "4            Nov. 2019  ...                1595196\n",
              "5            Dec. 2019  ...                1698323\n",
              "6            Jan. 2020  ...                1715213\n",
              "7            Feb. 2020  ...                1726939\n",
              "8            Mar. 2020  ...                2058816\n",
              "9            Apr. 2020  ...                2829125\n",
              "10            May 2020  ...                3105791\n",
              "11           June 2020  ...                2945885\n",
              "12           July 2020  ...                2625585\n",
              "13           Aug. 2020  ...                2716593\n",
              "14                 NaN  ...                    NaN\n",
              "15  Two weeks ending 4  ...     Two weeks ending 4\n",
              "16       July 15, 2020  ...                2701459\n",
              "17       July 29, 2020  ...                2531099\n",
              "18       Aug. 12, 2020  ...                2665489\n",
              "19       Aug. 26, 2020  ...                2739710\n",
              "20       Sept. 9, 2020  ...                2774520\n",
              "\n",
              "[21 rows x 7 columns]"
            ]
          },
          "metadata": {
            "tags": []
          },
          "execution_count": 14
        }
      ]
    },
    {
      "cell_type": "markdown",
      "metadata": {
        "id": "aGGGElK2ZKq0"
      },
      "source": [
        "##AULA EXTRA 2"
      ]
    },
    {
      "cell_type": "markdown",
      "metadata": {
        "id": "Bsq3mwS9ZYE7"
      },
      "source": [
        "### Importando os pacotes"
      ]
    },
    {
      "cell_type": "code",
      "metadata": {
        "id": "x1t6LZT0ZLLj"
      },
      "source": [
        "import pandas as pd"
      ],
      "execution_count": null,
      "outputs": []
    },
    {
      "cell_type": "markdown",
      "metadata": {
        "id": "jbo5DanmZb_E"
      },
      "source": [
        "###Series"
      ]
    },
    {
      "cell_type": "code",
      "metadata": {
        "colab": {
          "base_uri": "https://localhost:8080/"
        },
        "id": "Qs4LZJWQZNpk",
        "outputId": "419b9f49-9ec5-474a-a4cc-9c93563b111d"
      },
      "source": [
        "data = [1, 2, 3, 4, 5]\n",
        "s = pd.Series(data)\n",
        "s"
      ],
      "execution_count": null,
      "outputs": [
        {
          "output_type": "execute_result",
          "data": {
            "text/plain": [
              "0    1\n",
              "1    2\n",
              "2    3\n",
              "3    4\n",
              "4    5\n",
              "dtype: int64"
            ]
          },
          "metadata": {
            "tags": []
          },
          "execution_count": 16
        }
      ]
    },
    {
      "cell_type": "code",
      "metadata": {
        "colab": {
          "base_uri": "https://localhost:8080/"
        },
        "id": "Vgs3l_2WZiwr",
        "outputId": "84281ead-ac3d-4698-9249-552aaed7c33a"
      },
      "source": [
        "index = ['Linha' + str(i) for i in range(len(data))]\n",
        "index"
      ],
      "execution_count": null,
      "outputs": [
        {
          "output_type": "execute_result",
          "data": {
            "text/plain": [
              "['Linha0', 'Linha1', 'Linha2', 'Linha3', 'Linha4']"
            ]
          },
          "metadata": {
            "tags": []
          },
          "execution_count": 17
        }
      ]
    },
    {
      "cell_type": "code",
      "metadata": {
        "colab": {
          "base_uri": "https://localhost:8080/"
        },
        "id": "5PutZ5Z2ZtsS",
        "outputId": "8b23251a-9f72-4889-9fab-ac8962507520"
      },
      "source": [
        "s = pd.Series(data=data, index=index)\n",
        "s"
      ],
      "execution_count": null,
      "outputs": [
        {
          "output_type": "execute_result",
          "data": {
            "text/plain": [
              "Linha0    1\n",
              "Linha1    2\n",
              "Linha2    3\n",
              "Linha3    4\n",
              "Linha4    5\n",
              "dtype: int64"
            ]
          },
          "metadata": {
            "tags": []
          },
          "execution_count": 18
        }
      ]
    },
    {
      "cell_type": "code",
      "metadata": {
        "colab": {
          "base_uri": "https://localhost:8080/"
        },
        "id": "ZNV9ZV4OZ2Uj",
        "outputId": "abc98bb5-774f-43ac-9bc0-6a161153be4f"
      },
      "source": [
        "data = {'Linha' + str(i): i + 1 for i in range(5)}\n",
        "data"
      ],
      "execution_count": null,
      "outputs": [
        {
          "output_type": "execute_result",
          "data": {
            "text/plain": [
              "{'Linha0': 1, 'Linha1': 2, 'Linha2': 3, 'Linha3': 4, 'Linha4': 5}"
            ]
          },
          "metadata": {
            "tags": []
          },
          "execution_count": 19
        }
      ]
    },
    {
      "cell_type": "code",
      "metadata": {
        "colab": {
          "base_uri": "https://localhost:8080/"
        },
        "id": "amJxXh6uaGdK",
        "outputId": "84280abe-e224-4beb-adb6-3f55c128e215"
      },
      "source": [
        "s = pd.Series(data=data)\n",
        "s"
      ],
      "execution_count": null,
      "outputs": [
        {
          "output_type": "execute_result",
          "data": {
            "text/plain": [
              "Linha0    1\n",
              "Linha1    2\n",
              "Linha2    3\n",
              "Linha3    4\n",
              "Linha4    5\n",
              "dtype: int64"
            ]
          },
          "metadata": {
            "tags": []
          },
          "execution_count": 20
        }
      ]
    },
    {
      "cell_type": "markdown",
      "metadata": {
        "id": "-ACmLuLnaRwD"
      },
      "source": [
        "Podemos fazer operações nas linhas das *Series* da forma:"
      ]
    },
    {
      "cell_type": "code",
      "metadata": {
        "colab": {
          "base_uri": "https://localhost:8080/"
        },
        "id": "xQJ3gjhUaKta",
        "outputId": "d6e02268-cd2f-4608-bd5b-ffa888f7e053"
      },
      "source": [
        "s1 = s + 2\n",
        "s1"
      ],
      "execution_count": null,
      "outputs": [
        {
          "output_type": "execute_result",
          "data": {
            "text/plain": [
              "Linha0    3\n",
              "Linha1    4\n",
              "Linha2    5\n",
              "Linha3    6\n",
              "Linha4    7\n",
              "dtype: int64"
            ]
          },
          "metadata": {
            "tags": []
          },
          "execution_count": 21
        }
      ]
    },
    {
      "cell_type": "code",
      "metadata": {
        "colab": {
          "base_uri": "https://localhost:8080/"
        },
        "id": "G7wgHdVAaXEq",
        "outputId": "f6a20a69-a50c-420d-e09e-cdb46b7c031f"
      },
      "source": [
        "s2 = s + s1 \n",
        "s2"
      ],
      "execution_count": null,
      "outputs": [
        {
          "output_type": "execute_result",
          "data": {
            "text/plain": [
              "Linha0     4\n",
              "Linha1     6\n",
              "Linha2     8\n",
              "Linha3    10\n",
              "Linha4    12\n",
              "dtype: int64"
            ]
          },
          "metadata": {
            "tags": []
          },
          "execution_count": 22
        }
      ]
    },
    {
      "cell_type": "markdown",
      "metadata": {
        "id": "Z3cNMJ5_aoiK"
      },
      "source": [
        "Essa última operação (soma de duas *Series*), caso seja somada uma linha que não seja compatível, será obtido um valor nulo. Da forma:"
      ]
    },
    {
      "cell_type": "code",
      "metadata": {
        "colab": {
          "base_uri": "https://localhost:8080/"
        },
        "id": "d6RItbV8aaKL",
        "outputId": "6fc35903-00fe-40bf-f5dc-c1ade627a2f7"
      },
      "source": [
        "s3 = pd.Series({'Linha' + str(i): i + 4 for i in range(6)})\n",
        "s3"
      ],
      "execution_count": null,
      "outputs": [
        {
          "output_type": "execute_result",
          "data": {
            "text/plain": [
              "Linha0    4\n",
              "Linha1    5\n",
              "Linha2    6\n",
              "Linha3    7\n",
              "Linha4    8\n",
              "Linha5    9\n",
              "dtype: int64"
            ]
          },
          "metadata": {
            "tags": []
          },
          "execution_count": 23
        }
      ]
    },
    {
      "cell_type": "code",
      "metadata": {
        "colab": {
          "base_uri": "https://localhost:8080/"
        },
        "id": "arby6olPa6hC",
        "outputId": "d6768e2e-6848-4162-f474-da15663999d6"
      },
      "source": [
        "s4 = s1 + s3\n",
        "s4"
      ],
      "execution_count": null,
      "outputs": [
        {
          "output_type": "execute_result",
          "data": {
            "text/plain": [
              "Linha0     7.0\n",
              "Linha1     9.0\n",
              "Linha2    11.0\n",
              "Linha3    13.0\n",
              "Linha4    15.0\n",
              "Linha5     NaN\n",
              "dtype: float64"
            ]
          },
          "metadata": {
            "tags": []
          },
          "execution_count": 24
        }
      ]
    },
    {
      "cell_type": "markdown",
      "metadata": {
        "id": "8iw4s6OMbLxF"
      },
      "source": [
        "###DataFrame"
      ]
    },
    {
      "cell_type": "code",
      "metadata": {
        "colab": {
          "base_uri": "https://localhost:8080/"
        },
        "id": "ZYqxTyosa9YT",
        "outputId": "74f6c585-cb26-4405-a544-7aafd2cae44a"
      },
      "source": [
        "data = [[1, 2, 3],\n",
        "        [4, 5, 6],\n",
        "        [7, 8, 9]]\n",
        "data"
      ],
      "execution_count": null,
      "outputs": [
        {
          "output_type": "execute_result",
          "data": {
            "text/plain": [
              "[[1, 2, 3], [4, 5, 6], [7, 8, 9]]"
            ]
          },
          "metadata": {
            "tags": []
          },
          "execution_count": 25
        }
      ]
    },
    {
      "cell_type": "code",
      "metadata": {
        "colab": {
          "base_uri": "https://localhost:8080/",
          "height": 142
        },
        "id": "CfG2wGx0bTKi",
        "outputId": "0201a37f-742a-4e3b-8ea7-5013eb512ef0"
      },
      "source": [
        "df1 = pd.DataFrame(data = data)\n",
        "df1"
      ],
      "execution_count": null,
      "outputs": [
        {
          "output_type": "execute_result",
          "data": {
            "text/html": [
              "<div>\n",
              "<style scoped>\n",
              "    .dataframe tbody tr th:only-of-type {\n",
              "        vertical-align: middle;\n",
              "    }\n",
              "\n",
              "    .dataframe tbody tr th {\n",
              "        vertical-align: top;\n",
              "    }\n",
              "\n",
              "    .dataframe thead th {\n",
              "        text-align: right;\n",
              "    }\n",
              "</style>\n",
              "<table border=\"1\" class=\"dataframe\">\n",
              "  <thead>\n",
              "    <tr style=\"text-align: right;\">\n",
              "      <th></th>\n",
              "      <th>0</th>\n",
              "      <th>1</th>\n",
              "      <th>2</th>\n",
              "    </tr>\n",
              "  </thead>\n",
              "  <tbody>\n",
              "    <tr>\n",
              "      <th>0</th>\n",
              "      <td>1</td>\n",
              "      <td>2</td>\n",
              "      <td>3</td>\n",
              "    </tr>\n",
              "    <tr>\n",
              "      <th>1</th>\n",
              "      <td>4</td>\n",
              "      <td>5</td>\n",
              "      <td>6</td>\n",
              "    </tr>\n",
              "    <tr>\n",
              "      <th>2</th>\n",
              "      <td>7</td>\n",
              "      <td>8</td>\n",
              "      <td>9</td>\n",
              "    </tr>\n",
              "  </tbody>\n",
              "</table>\n",
              "</div>"
            ],
            "text/plain": [
              "   0  1  2\n",
              "0  1  2  3\n",
              "1  4  5  6\n",
              "2  7  8  9"
            ]
          },
          "metadata": {
            "tags": []
          },
          "execution_count": 26
        }
      ]
    },
    {
      "cell_type": "code",
      "metadata": {
        "colab": {
          "base_uri": "https://localhost:8080/"
        },
        "id": "SNXE3_r2bW8h",
        "outputId": "416211f3-428a-41dc-8813-8759fe50d7da"
      },
      "source": [
        "index = ['Linha' + str(i) for i in range(df1.shape[0])]\n",
        "index"
      ],
      "execution_count": null,
      "outputs": [
        {
          "output_type": "execute_result",
          "data": {
            "text/plain": [
              "['Linha0', 'Linha1', 'Linha2']"
            ]
          },
          "metadata": {
            "tags": []
          },
          "execution_count": 27
        }
      ]
    },
    {
      "cell_type": "code",
      "metadata": {
        "colab": {
          "base_uri": "https://localhost:8080/",
          "height": 142
        },
        "id": "dCXkD4PtbjCx",
        "outputId": "bda3b6ce-8177-4b7a-ab93-74c3cfbf1197"
      },
      "source": [
        "df1 = pd.DataFrame(data=data, index=index)\n",
        "df1"
      ],
      "execution_count": null,
      "outputs": [
        {
          "output_type": "execute_result",
          "data": {
            "text/html": [
              "<div>\n",
              "<style scoped>\n",
              "    .dataframe tbody tr th:only-of-type {\n",
              "        vertical-align: middle;\n",
              "    }\n",
              "\n",
              "    .dataframe tbody tr th {\n",
              "        vertical-align: top;\n",
              "    }\n",
              "\n",
              "    .dataframe thead th {\n",
              "        text-align: right;\n",
              "    }\n",
              "</style>\n",
              "<table border=\"1\" class=\"dataframe\">\n",
              "  <thead>\n",
              "    <tr style=\"text-align: right;\">\n",
              "      <th></th>\n",
              "      <th>0</th>\n",
              "      <th>1</th>\n",
              "      <th>2</th>\n",
              "    </tr>\n",
              "  </thead>\n",
              "  <tbody>\n",
              "    <tr>\n",
              "      <th>Linha0</th>\n",
              "      <td>1</td>\n",
              "      <td>2</td>\n",
              "      <td>3</td>\n",
              "    </tr>\n",
              "    <tr>\n",
              "      <th>Linha1</th>\n",
              "      <td>4</td>\n",
              "      <td>5</td>\n",
              "      <td>6</td>\n",
              "    </tr>\n",
              "    <tr>\n",
              "      <th>Linha2</th>\n",
              "      <td>7</td>\n",
              "      <td>8</td>\n",
              "      <td>9</td>\n",
              "    </tr>\n",
              "  </tbody>\n",
              "</table>\n",
              "</div>"
            ],
            "text/plain": [
              "        0  1  2\n",
              "Linha0  1  2  3\n",
              "Linha1  4  5  6\n",
              "Linha2  7  8  9"
            ]
          },
          "metadata": {
            "tags": []
          },
          "execution_count": 28
        }
      ]
    },
    {
      "cell_type": "code",
      "metadata": {
        "colab": {
          "base_uri": "https://localhost:8080/"
        },
        "id": "CC79VQ0fbmu6",
        "outputId": "147e5b53-37fc-44a0-b218-7b11c195b9d6"
      },
      "source": [
        "columns = ['Coluna' + str(i) for i in range(df1.shape[1])]\n",
        "columns"
      ],
      "execution_count": null,
      "outputs": [
        {
          "output_type": "execute_result",
          "data": {
            "text/plain": [
              "['Coluna0', 'Coluna1', 'Coluna2']"
            ]
          },
          "metadata": {
            "tags": []
          },
          "execution_count": 29
        }
      ]
    },
    {
      "cell_type": "code",
      "metadata": {
        "colab": {
          "base_uri": "https://localhost:8080/",
          "height": 142
        },
        "id": "iM2SOOfYbtR6",
        "outputId": "b69cc40c-7854-45c6-de31-13b30cdb766a"
      },
      "source": [
        "df1 = pd.DataFrame(data=data, index=index, columns=columns)\n",
        "df1"
      ],
      "execution_count": null,
      "outputs": [
        {
          "output_type": "execute_result",
          "data": {
            "text/html": [
              "<div>\n",
              "<style scoped>\n",
              "    .dataframe tbody tr th:only-of-type {\n",
              "        vertical-align: middle;\n",
              "    }\n",
              "\n",
              "    .dataframe tbody tr th {\n",
              "        vertical-align: top;\n",
              "    }\n",
              "\n",
              "    .dataframe thead th {\n",
              "        text-align: right;\n",
              "    }\n",
              "</style>\n",
              "<table border=\"1\" class=\"dataframe\">\n",
              "  <thead>\n",
              "    <tr style=\"text-align: right;\">\n",
              "      <th></th>\n",
              "      <th>Coluna0</th>\n",
              "      <th>Coluna1</th>\n",
              "      <th>Coluna2</th>\n",
              "    </tr>\n",
              "  </thead>\n",
              "  <tbody>\n",
              "    <tr>\n",
              "      <th>Linha0</th>\n",
              "      <td>1</td>\n",
              "      <td>2</td>\n",
              "      <td>3</td>\n",
              "    </tr>\n",
              "    <tr>\n",
              "      <th>Linha1</th>\n",
              "      <td>4</td>\n",
              "      <td>5</td>\n",
              "      <td>6</td>\n",
              "    </tr>\n",
              "    <tr>\n",
              "      <th>Linha2</th>\n",
              "      <td>7</td>\n",
              "      <td>8</td>\n",
              "      <td>9</td>\n",
              "    </tr>\n",
              "  </tbody>\n",
              "</table>\n",
              "</div>"
            ],
            "text/plain": [
              "        Coluna0  Coluna1  Coluna2\n",
              "Linha0        1        2        3\n",
              "Linha1        4        5        6\n",
              "Linha2        7        8        9"
            ]
          },
          "metadata": {
            "tags": []
          },
          "execution_count": 30
        }
      ]
    },
    {
      "cell_type": "code",
      "metadata": {
        "colab": {
          "base_uri": "https://localhost:8080/"
        },
        "id": "OilkJvYMbwwS",
        "outputId": "f4b416c8-e39f-4cc3-d9a6-e11784d9f3f2"
      },
      "source": [
        "data = {'Coluna0': {'Linha0': 1, 'Linha1': 4, 'Linha2': 7},\n",
        "        'Coluna1': {'Linha0': 2, 'Linha1': 5, 'Linha2': 8},\n",
        "        'Coluna2': {'Linha0': 3, 'Linha1': 6, 'Linha2': 9}}\n",
        "data"
      ],
      "execution_count": null,
      "outputs": [
        {
          "output_type": "execute_result",
          "data": {
            "text/plain": [
              "{'Coluna0': {'Linha0': 1, 'Linha1': 4, 'Linha2': 7},\n",
              " 'Coluna1': {'Linha0': 2, 'Linha1': 5, 'Linha2': 8},\n",
              " 'Coluna2': {'Linha0': 3, 'Linha1': 6, 'Linha2': 9}}"
            ]
          },
          "metadata": {
            "tags": []
          },
          "execution_count": 31
        }
      ]
    },
    {
      "cell_type": "code",
      "metadata": {
        "colab": {
          "base_uri": "https://localhost:8080/",
          "height": 142
        },
        "id": "8f0UE4jgb3La",
        "outputId": "08d621eb-8741-4c09-ffa9-e5d8521e2cb0"
      },
      "source": [
        "df2 = pd.DataFrame(data)\n",
        "df2"
      ],
      "execution_count": null,
      "outputs": [
        {
          "output_type": "execute_result",
          "data": {
            "text/html": [
              "<div>\n",
              "<style scoped>\n",
              "    .dataframe tbody tr th:only-of-type {\n",
              "        vertical-align: middle;\n",
              "    }\n",
              "\n",
              "    .dataframe tbody tr th {\n",
              "        vertical-align: top;\n",
              "    }\n",
              "\n",
              "    .dataframe thead th {\n",
              "        text-align: right;\n",
              "    }\n",
              "</style>\n",
              "<table border=\"1\" class=\"dataframe\">\n",
              "  <thead>\n",
              "    <tr style=\"text-align: right;\">\n",
              "      <th></th>\n",
              "      <th>Coluna0</th>\n",
              "      <th>Coluna1</th>\n",
              "      <th>Coluna2</th>\n",
              "    </tr>\n",
              "  </thead>\n",
              "  <tbody>\n",
              "    <tr>\n",
              "      <th>Linha0</th>\n",
              "      <td>1</td>\n",
              "      <td>2</td>\n",
              "      <td>3</td>\n",
              "    </tr>\n",
              "    <tr>\n",
              "      <th>Linha1</th>\n",
              "      <td>4</td>\n",
              "      <td>5</td>\n",
              "      <td>6</td>\n",
              "    </tr>\n",
              "    <tr>\n",
              "      <th>Linha2</th>\n",
              "      <td>7</td>\n",
              "      <td>8</td>\n",
              "      <td>9</td>\n",
              "    </tr>\n",
              "  </tbody>\n",
              "</table>\n",
              "</div>"
            ],
            "text/plain": [
              "        Coluna0  Coluna1  Coluna2\n",
              "Linha0        1        2        3\n",
              "Linha1        4        5        6\n",
              "Linha2        7        8        9"
            ]
          },
          "metadata": {
            "tags": []
          },
          "execution_count": 32
        }
      ]
    },
    {
      "cell_type": "code",
      "metadata": {
        "colab": {
          "base_uri": "https://localhost:8080/"
        },
        "id": "njKUn8yGb66Z",
        "outputId": "cd510b9e-4066-4bc9-f197-c2732616a41c"
      },
      "source": [
        "data = [(1, 2, 3),\n",
        "        (4, 5, 6),\n",
        "        (7, 8, 9)]\n",
        "data"
      ],
      "execution_count": null,
      "outputs": [
        {
          "output_type": "execute_result",
          "data": {
            "text/plain": [
              "[(1, 2, 3), (4, 5, 6), (7, 8, 9)]"
            ]
          },
          "metadata": {
            "tags": []
          },
          "execution_count": 33
        }
      ]
    },
    {
      "cell_type": "code",
      "metadata": {
        "colab": {
          "base_uri": "https://localhost:8080/",
          "height": 142
        },
        "id": "Z8L4IdyXcFyJ",
        "outputId": "2844d2c3-3361-435e-fbc6-46007ecb62b4"
      },
      "source": [
        "df3 = pd.DataFrame(data=data, index=index, columns=columns)\n",
        "df3"
      ],
      "execution_count": null,
      "outputs": [
        {
          "output_type": "execute_result",
          "data": {
            "text/html": [
              "<div>\n",
              "<style scoped>\n",
              "    .dataframe tbody tr th:only-of-type {\n",
              "        vertical-align: middle;\n",
              "    }\n",
              "\n",
              "    .dataframe tbody tr th {\n",
              "        vertical-align: top;\n",
              "    }\n",
              "\n",
              "    .dataframe thead th {\n",
              "        text-align: right;\n",
              "    }\n",
              "</style>\n",
              "<table border=\"1\" class=\"dataframe\">\n",
              "  <thead>\n",
              "    <tr style=\"text-align: right;\">\n",
              "      <th></th>\n",
              "      <th>Coluna0</th>\n",
              "      <th>Coluna1</th>\n",
              "      <th>Coluna2</th>\n",
              "    </tr>\n",
              "  </thead>\n",
              "  <tbody>\n",
              "    <tr>\n",
              "      <th>Linha0</th>\n",
              "      <td>1</td>\n",
              "      <td>2</td>\n",
              "      <td>3</td>\n",
              "    </tr>\n",
              "    <tr>\n",
              "      <th>Linha1</th>\n",
              "      <td>4</td>\n",
              "      <td>5</td>\n",
              "      <td>6</td>\n",
              "    </tr>\n",
              "    <tr>\n",
              "      <th>Linha2</th>\n",
              "      <td>7</td>\n",
              "      <td>8</td>\n",
              "      <td>9</td>\n",
              "    </tr>\n",
              "  </tbody>\n",
              "</table>\n",
              "</div>"
            ],
            "text/plain": [
              "        Coluna0  Coluna1  Coluna2\n",
              "Linha0        1        2        3\n",
              "Linha1        4        5        6\n",
              "Linha2        7        8        9"
            ]
          },
          "metadata": {
            "tags": []
          },
          "execution_count": 34
        }
      ]
    },
    {
      "cell_type": "code",
      "metadata": {
        "colab": {
          "base_uri": "https://localhost:8080/",
          "height": 142
        },
        "id": "FCr-yKpfcK0q",
        "outputId": "94923e41-363b-4c29-c0b2-4384c63765de"
      },
      "source": [
        "df1[df1 > 0] = 'A'\n",
        "df1"
      ],
      "execution_count": null,
      "outputs": [
        {
          "output_type": "execute_result",
          "data": {
            "text/html": [
              "<div>\n",
              "<style scoped>\n",
              "    .dataframe tbody tr th:only-of-type {\n",
              "        vertical-align: middle;\n",
              "    }\n",
              "\n",
              "    .dataframe tbody tr th {\n",
              "        vertical-align: top;\n",
              "    }\n",
              "\n",
              "    .dataframe thead th {\n",
              "        text-align: right;\n",
              "    }\n",
              "</style>\n",
              "<table border=\"1\" class=\"dataframe\">\n",
              "  <thead>\n",
              "    <tr style=\"text-align: right;\">\n",
              "      <th></th>\n",
              "      <th>Coluna0</th>\n",
              "      <th>Coluna1</th>\n",
              "      <th>Coluna2</th>\n",
              "    </tr>\n",
              "  </thead>\n",
              "  <tbody>\n",
              "    <tr>\n",
              "      <th>Linha0</th>\n",
              "      <td>A</td>\n",
              "      <td>A</td>\n",
              "      <td>A</td>\n",
              "    </tr>\n",
              "    <tr>\n",
              "      <th>Linha1</th>\n",
              "      <td>A</td>\n",
              "      <td>A</td>\n",
              "      <td>A</td>\n",
              "    </tr>\n",
              "    <tr>\n",
              "      <th>Linha2</th>\n",
              "      <td>A</td>\n",
              "      <td>A</td>\n",
              "      <td>A</td>\n",
              "    </tr>\n",
              "  </tbody>\n",
              "</table>\n",
              "</div>"
            ],
            "text/plain": [
              "       Coluna0 Coluna1 Coluna2\n",
              "Linha0       A       A       A\n",
              "Linha1       A       A       A\n",
              "Linha2       A       A       A"
            ]
          },
          "metadata": {
            "tags": []
          },
          "execution_count": 35
        }
      ]
    },
    {
      "cell_type": "code",
      "metadata": {
        "colab": {
          "base_uri": "https://localhost:8080/",
          "height": 142
        },
        "id": "4CdffW_AcZ1R",
        "outputId": "bc08f9cc-bf6f-4bfa-b828-ebe962e8847d"
      },
      "source": [
        "df2[df2 > 0] = 'B'\n",
        "df2"
      ],
      "execution_count": null,
      "outputs": [
        {
          "output_type": "execute_result",
          "data": {
            "text/html": [
              "<div>\n",
              "<style scoped>\n",
              "    .dataframe tbody tr th:only-of-type {\n",
              "        vertical-align: middle;\n",
              "    }\n",
              "\n",
              "    .dataframe tbody tr th {\n",
              "        vertical-align: top;\n",
              "    }\n",
              "\n",
              "    .dataframe thead th {\n",
              "        text-align: right;\n",
              "    }\n",
              "</style>\n",
              "<table border=\"1\" class=\"dataframe\">\n",
              "  <thead>\n",
              "    <tr style=\"text-align: right;\">\n",
              "      <th></th>\n",
              "      <th>Coluna0</th>\n",
              "      <th>Coluna1</th>\n",
              "      <th>Coluna2</th>\n",
              "    </tr>\n",
              "  </thead>\n",
              "  <tbody>\n",
              "    <tr>\n",
              "      <th>Linha0</th>\n",
              "      <td>B</td>\n",
              "      <td>B</td>\n",
              "      <td>B</td>\n",
              "    </tr>\n",
              "    <tr>\n",
              "      <th>Linha1</th>\n",
              "      <td>B</td>\n",
              "      <td>B</td>\n",
              "      <td>B</td>\n",
              "    </tr>\n",
              "    <tr>\n",
              "      <th>Linha2</th>\n",
              "      <td>B</td>\n",
              "      <td>B</td>\n",
              "      <td>B</td>\n",
              "    </tr>\n",
              "  </tbody>\n",
              "</table>\n",
              "</div>"
            ],
            "text/plain": [
              "       Coluna0 Coluna1 Coluna2\n",
              "Linha0       B       B       B\n",
              "Linha1       B       B       B\n",
              "Linha2       B       B       B"
            ]
          },
          "metadata": {
            "tags": []
          },
          "execution_count": 36
        }
      ]
    },
    {
      "cell_type": "code",
      "metadata": {
        "colab": {
          "base_uri": "https://localhost:8080/",
          "height": 142
        },
        "id": "PI3UINL8cdYK",
        "outputId": "8dec4a32-7cb0-44b9-8b6c-18b9288a58e6"
      },
      "source": [
        "df3[df3 > 0] = 'C'\n",
        "df3"
      ],
      "execution_count": null,
      "outputs": [
        {
          "output_type": "execute_result",
          "data": {
            "text/html": [
              "<div>\n",
              "<style scoped>\n",
              "    .dataframe tbody tr th:only-of-type {\n",
              "        vertical-align: middle;\n",
              "    }\n",
              "\n",
              "    .dataframe tbody tr th {\n",
              "        vertical-align: top;\n",
              "    }\n",
              "\n",
              "    .dataframe thead th {\n",
              "        text-align: right;\n",
              "    }\n",
              "</style>\n",
              "<table border=\"1\" class=\"dataframe\">\n",
              "  <thead>\n",
              "    <tr style=\"text-align: right;\">\n",
              "      <th></th>\n",
              "      <th>Coluna0</th>\n",
              "      <th>Coluna1</th>\n",
              "      <th>Coluna2</th>\n",
              "    </tr>\n",
              "  </thead>\n",
              "  <tbody>\n",
              "    <tr>\n",
              "      <th>Linha0</th>\n",
              "      <td>C</td>\n",
              "      <td>C</td>\n",
              "      <td>C</td>\n",
              "    </tr>\n",
              "    <tr>\n",
              "      <th>Linha1</th>\n",
              "      <td>C</td>\n",
              "      <td>C</td>\n",
              "      <td>C</td>\n",
              "    </tr>\n",
              "    <tr>\n",
              "      <th>Linha2</th>\n",
              "      <td>C</td>\n",
              "      <td>C</td>\n",
              "      <td>C</td>\n",
              "    </tr>\n",
              "  </tbody>\n",
              "</table>\n",
              "</div>"
            ],
            "text/plain": [
              "       Coluna0 Coluna1 Coluna2\n",
              "Linha0       C       C       C\n",
              "Linha1       C       C       C\n",
              "Linha2       C       C       C"
            ]
          },
          "metadata": {
            "tags": []
          },
          "execution_count": 37
        }
      ]
    },
    {
      "cell_type": "code",
      "metadata": {
        "colab": {
          "base_uri": "https://localhost:8080/",
          "height": 328
        },
        "id": "ShOYf_6lcgpy",
        "outputId": "7c7a09a8-746e-4582-d9a4-05d9d6d5bc66"
      },
      "source": [
        "df4 = pd.concat([df1, df2, df3])\n",
        "df4"
      ],
      "execution_count": null,
      "outputs": [
        {
          "output_type": "execute_result",
          "data": {
            "text/html": [
              "<div>\n",
              "<style scoped>\n",
              "    .dataframe tbody tr th:only-of-type {\n",
              "        vertical-align: middle;\n",
              "    }\n",
              "\n",
              "    .dataframe tbody tr th {\n",
              "        vertical-align: top;\n",
              "    }\n",
              "\n",
              "    .dataframe thead th {\n",
              "        text-align: right;\n",
              "    }\n",
              "</style>\n",
              "<table border=\"1\" class=\"dataframe\">\n",
              "  <thead>\n",
              "    <tr style=\"text-align: right;\">\n",
              "      <th></th>\n",
              "      <th>Coluna0</th>\n",
              "      <th>Coluna1</th>\n",
              "      <th>Coluna2</th>\n",
              "    </tr>\n",
              "  </thead>\n",
              "  <tbody>\n",
              "    <tr>\n",
              "      <th>Linha0</th>\n",
              "      <td>A</td>\n",
              "      <td>A</td>\n",
              "      <td>A</td>\n",
              "    </tr>\n",
              "    <tr>\n",
              "      <th>Linha1</th>\n",
              "      <td>A</td>\n",
              "      <td>A</td>\n",
              "      <td>A</td>\n",
              "    </tr>\n",
              "    <tr>\n",
              "      <th>Linha2</th>\n",
              "      <td>A</td>\n",
              "      <td>A</td>\n",
              "      <td>A</td>\n",
              "    </tr>\n",
              "    <tr>\n",
              "      <th>Linha0</th>\n",
              "      <td>B</td>\n",
              "      <td>B</td>\n",
              "      <td>B</td>\n",
              "    </tr>\n",
              "    <tr>\n",
              "      <th>Linha1</th>\n",
              "      <td>B</td>\n",
              "      <td>B</td>\n",
              "      <td>B</td>\n",
              "    </tr>\n",
              "    <tr>\n",
              "      <th>Linha2</th>\n",
              "      <td>B</td>\n",
              "      <td>B</td>\n",
              "      <td>B</td>\n",
              "    </tr>\n",
              "    <tr>\n",
              "      <th>Linha0</th>\n",
              "      <td>C</td>\n",
              "      <td>C</td>\n",
              "      <td>C</td>\n",
              "    </tr>\n",
              "    <tr>\n",
              "      <th>Linha1</th>\n",
              "      <td>C</td>\n",
              "      <td>C</td>\n",
              "      <td>C</td>\n",
              "    </tr>\n",
              "    <tr>\n",
              "      <th>Linha2</th>\n",
              "      <td>C</td>\n",
              "      <td>C</td>\n",
              "      <td>C</td>\n",
              "    </tr>\n",
              "  </tbody>\n",
              "</table>\n",
              "</div>"
            ],
            "text/plain": [
              "       Coluna0 Coluna1 Coluna2\n",
              "Linha0       A       A       A\n",
              "Linha1       A       A       A\n",
              "Linha2       A       A       A\n",
              "Linha0       B       B       B\n",
              "Linha1       B       B       B\n",
              "Linha2       B       B       B\n",
              "Linha0       C       C       C\n",
              "Linha1       C       C       C\n",
              "Linha2       C       C       C"
            ]
          },
          "metadata": {
            "tags": []
          },
          "execution_count": 38
        }
      ]
    },
    {
      "cell_type": "code",
      "metadata": {
        "colab": {
          "base_uri": "https://localhost:8080/",
          "height": 142
        },
        "id": "qI27IGGUcmKy",
        "outputId": "8d386fe7-52e5-41e2-adc5-78c53fac5715"
      },
      "source": [
        "df4 = pd.concat([df1, df2, df3], axis=1)\n",
        "df4"
      ],
      "execution_count": null,
      "outputs": [
        {
          "output_type": "execute_result",
          "data": {
            "text/html": [
              "<div>\n",
              "<style scoped>\n",
              "    .dataframe tbody tr th:only-of-type {\n",
              "        vertical-align: middle;\n",
              "    }\n",
              "\n",
              "    .dataframe tbody tr th {\n",
              "        vertical-align: top;\n",
              "    }\n",
              "\n",
              "    .dataframe thead th {\n",
              "        text-align: right;\n",
              "    }\n",
              "</style>\n",
              "<table border=\"1\" class=\"dataframe\">\n",
              "  <thead>\n",
              "    <tr style=\"text-align: right;\">\n",
              "      <th></th>\n",
              "      <th>Coluna0</th>\n",
              "      <th>Coluna1</th>\n",
              "      <th>Coluna2</th>\n",
              "      <th>Coluna0</th>\n",
              "      <th>Coluna1</th>\n",
              "      <th>Coluna2</th>\n",
              "      <th>Coluna0</th>\n",
              "      <th>Coluna1</th>\n",
              "      <th>Coluna2</th>\n",
              "    </tr>\n",
              "  </thead>\n",
              "  <tbody>\n",
              "    <tr>\n",
              "      <th>Linha0</th>\n",
              "      <td>A</td>\n",
              "      <td>A</td>\n",
              "      <td>A</td>\n",
              "      <td>B</td>\n",
              "      <td>B</td>\n",
              "      <td>B</td>\n",
              "      <td>C</td>\n",
              "      <td>C</td>\n",
              "      <td>C</td>\n",
              "    </tr>\n",
              "    <tr>\n",
              "      <th>Linha1</th>\n",
              "      <td>A</td>\n",
              "      <td>A</td>\n",
              "      <td>A</td>\n",
              "      <td>B</td>\n",
              "      <td>B</td>\n",
              "      <td>B</td>\n",
              "      <td>C</td>\n",
              "      <td>C</td>\n",
              "      <td>C</td>\n",
              "    </tr>\n",
              "    <tr>\n",
              "      <th>Linha2</th>\n",
              "      <td>A</td>\n",
              "      <td>A</td>\n",
              "      <td>A</td>\n",
              "      <td>B</td>\n",
              "      <td>B</td>\n",
              "      <td>B</td>\n",
              "      <td>C</td>\n",
              "      <td>C</td>\n",
              "      <td>C</td>\n",
              "    </tr>\n",
              "  </tbody>\n",
              "</table>\n",
              "</div>"
            ],
            "text/plain": [
              "       Coluna0 Coluna1 Coluna2 Coluna0 Coluna1 Coluna2 Coluna0 Coluna1 Coluna2\n",
              "Linha0       A       A       A       B       B       B       C       C       C\n",
              "Linha1       A       A       A       B       B       B       C       C       C\n",
              "Linha2       A       A       A       B       B       B       C       C       C"
            ]
          },
          "metadata": {
            "tags": []
          },
          "execution_count": 39
        }
      ]
    },
    {
      "cell_type": "markdown",
      "metadata": {
        "id": "1kOdWMnHnmBs"
      },
      "source": [
        "##AULA EXTRA 3"
      ]
    },
    {
      "cell_type": "markdown",
      "metadata": {
        "id": "4DmtnGhrnsgc"
      },
      "source": [
        "Organizando *DataFrames* (Sort)"
      ]
    },
    {
      "cell_type": "markdown",
      "metadata": {
        "id": "JWFPBHSOnyRB"
      },
      "source": [
        "###Importando os pacotes"
      ]
    },
    {
      "cell_type": "code",
      "metadata": {
        "id": "SynEInq6nmwB"
      },
      "source": [
        "import pandas as pd"
      ],
      "execution_count": null,
      "outputs": []
    },
    {
      "cell_type": "markdown",
      "metadata": {
        "id": "pvDdm4mfn5ki"
      },
      "source": [
        "###Criando um *DataFrame* simples"
      ]
    },
    {
      "cell_type": "code",
      "metadata": {
        "colab": {
          "base_uri": "https://localhost:8080/"
        },
        "id": "8sYg6IyMn0h2",
        "outputId": "3d9f7d4f-263b-4f80-fad9-3ae283779fab"
      },
      "source": [
        "data = [[1, 2, 3], [4, 5, 6], [7, 8, 9]]\n",
        "data"
      ],
      "execution_count": null,
      "outputs": [
        {
          "output_type": "execute_result",
          "data": {
            "text/plain": [
              "[[1, 2, 3], [4, 5, 6], [7, 8, 9]]"
            ]
          },
          "metadata": {
            "tags": []
          },
          "execution_count": 41
        }
      ]
    },
    {
      "cell_type": "markdown",
      "metadata": {
        "id": "qnOnUNPZoGps"
      },
      "source": [
        "Sabendo que:"
      ]
    },
    {
      "cell_type": "code",
      "metadata": {
        "colab": {
          "base_uri": "https://localhost:8080/"
        },
        "id": "QPZy1N2doCco",
        "outputId": "e2bd2d81-6adb-4655-830c-159a25ac9345"
      },
      "source": [
        "list('321')"
      ],
      "execution_count": null,
      "outputs": [
        {
          "output_type": "execute_result",
          "data": {
            "text/plain": [
              "['3', '2', '1']"
            ]
          },
          "metadata": {
            "tags": []
          },
          "execution_count": 42
        }
      ]
    },
    {
      "cell_type": "markdown",
      "metadata": {
        "id": "INbXUCPPoLny"
      },
      "source": [
        "Criando o *DataFrame*"
      ]
    },
    {
      "cell_type": "code",
      "metadata": {
        "colab": {
          "base_uri": "https://localhost:8080/",
          "height": 142
        },
        "id": "pWioh2QioJNP",
        "outputId": "40795e46-c093-458b-ffa2-7648e58e5dd6"
      },
      "source": [
        "df = pd.DataFrame(data, list('321'), list('ZYX'))\n",
        "df"
      ],
      "execution_count": null,
      "outputs": [
        {
          "output_type": "execute_result",
          "data": {
            "text/html": [
              "<div>\n",
              "<style scoped>\n",
              "    .dataframe tbody tr th:only-of-type {\n",
              "        vertical-align: middle;\n",
              "    }\n",
              "\n",
              "    .dataframe tbody tr th {\n",
              "        vertical-align: top;\n",
              "    }\n",
              "\n",
              "    .dataframe thead th {\n",
              "        text-align: right;\n",
              "    }\n",
              "</style>\n",
              "<table border=\"1\" class=\"dataframe\">\n",
              "  <thead>\n",
              "    <tr style=\"text-align: right;\">\n",
              "      <th></th>\n",
              "      <th>Z</th>\n",
              "      <th>Y</th>\n",
              "      <th>X</th>\n",
              "    </tr>\n",
              "  </thead>\n",
              "  <tbody>\n",
              "    <tr>\n",
              "      <th>3</th>\n",
              "      <td>1</td>\n",
              "      <td>2</td>\n",
              "      <td>3</td>\n",
              "    </tr>\n",
              "    <tr>\n",
              "      <th>2</th>\n",
              "      <td>4</td>\n",
              "      <td>5</td>\n",
              "      <td>6</td>\n",
              "    </tr>\n",
              "    <tr>\n",
              "      <th>1</th>\n",
              "      <td>7</td>\n",
              "      <td>8</td>\n",
              "      <td>9</td>\n",
              "    </tr>\n",
              "  </tbody>\n",
              "</table>\n",
              "</div>"
            ],
            "text/plain": [
              "   Z  Y  X\n",
              "3  1  2  3\n",
              "2  4  5  6\n",
              "1  7  8  9"
            ]
          },
          "metadata": {
            "tags": []
          },
          "execution_count": 43
        }
      ]
    },
    {
      "cell_type": "markdown",
      "metadata": {
        "id": "N-QGUAAAoULJ"
      },
      "source": [
        "Podemos ordenar o index"
      ]
    },
    {
      "cell_type": "code",
      "metadata": {
        "colab": {
          "base_uri": "https://localhost:8080/",
          "height": 142
        },
        "id": "lE8bH43uoSqH",
        "outputId": "6437dcba-0085-42ce-d769-afd80759efd5"
      },
      "source": [
        "df.sort_index(inplace=True)\n",
        "df"
      ],
      "execution_count": null,
      "outputs": [
        {
          "output_type": "execute_result",
          "data": {
            "text/html": [
              "<div>\n",
              "<style scoped>\n",
              "    .dataframe tbody tr th:only-of-type {\n",
              "        vertical-align: middle;\n",
              "    }\n",
              "\n",
              "    .dataframe tbody tr th {\n",
              "        vertical-align: top;\n",
              "    }\n",
              "\n",
              "    .dataframe thead th {\n",
              "        text-align: right;\n",
              "    }\n",
              "</style>\n",
              "<table border=\"1\" class=\"dataframe\">\n",
              "  <thead>\n",
              "    <tr style=\"text-align: right;\">\n",
              "      <th></th>\n",
              "      <th>Z</th>\n",
              "      <th>Y</th>\n",
              "      <th>X</th>\n",
              "    </tr>\n",
              "  </thead>\n",
              "  <tbody>\n",
              "    <tr>\n",
              "      <th>1</th>\n",
              "      <td>7</td>\n",
              "      <td>8</td>\n",
              "      <td>9</td>\n",
              "    </tr>\n",
              "    <tr>\n",
              "      <th>2</th>\n",
              "      <td>4</td>\n",
              "      <td>5</td>\n",
              "      <td>6</td>\n",
              "    </tr>\n",
              "    <tr>\n",
              "      <th>3</th>\n",
              "      <td>1</td>\n",
              "      <td>2</td>\n",
              "      <td>3</td>\n",
              "    </tr>\n",
              "  </tbody>\n",
              "</table>\n",
              "</div>"
            ],
            "text/plain": [
              "   Z  Y  X\n",
              "1  7  8  9\n",
              "2  4  5  6\n",
              "3  1  2  3"
            ]
          },
          "metadata": {
            "tags": []
          },
          "execution_count": 44
        }
      ]
    },
    {
      "cell_type": "markdown",
      "metadata": {
        "id": "oQ1ouEw8oalZ"
      },
      "source": [
        "Podemos ordenar também as colunas"
      ]
    },
    {
      "cell_type": "code",
      "metadata": {
        "colab": {
          "base_uri": "https://localhost:8080/",
          "height": 142
        },
        "id": "-Ic54bo4oZBo",
        "outputId": "cd6bb835-6401-49c0-f228-f64ec8041417"
      },
      "source": [
        "df.sort_index(inplace=True, axis=1)\n",
        "df"
      ],
      "execution_count": null,
      "outputs": [
        {
          "output_type": "execute_result",
          "data": {
            "text/html": [
              "<div>\n",
              "<style scoped>\n",
              "    .dataframe tbody tr th:only-of-type {\n",
              "        vertical-align: middle;\n",
              "    }\n",
              "\n",
              "    .dataframe tbody tr th {\n",
              "        vertical-align: top;\n",
              "    }\n",
              "\n",
              "    .dataframe thead th {\n",
              "        text-align: right;\n",
              "    }\n",
              "</style>\n",
              "<table border=\"1\" class=\"dataframe\">\n",
              "  <thead>\n",
              "    <tr style=\"text-align: right;\">\n",
              "      <th></th>\n",
              "      <th>X</th>\n",
              "      <th>Y</th>\n",
              "      <th>Z</th>\n",
              "    </tr>\n",
              "  </thead>\n",
              "  <tbody>\n",
              "    <tr>\n",
              "      <th>1</th>\n",
              "      <td>9</td>\n",
              "      <td>8</td>\n",
              "      <td>7</td>\n",
              "    </tr>\n",
              "    <tr>\n",
              "      <th>2</th>\n",
              "      <td>6</td>\n",
              "      <td>5</td>\n",
              "      <td>4</td>\n",
              "    </tr>\n",
              "    <tr>\n",
              "      <th>3</th>\n",
              "      <td>3</td>\n",
              "      <td>2</td>\n",
              "      <td>1</td>\n",
              "    </tr>\n",
              "  </tbody>\n",
              "</table>\n",
              "</div>"
            ],
            "text/plain": [
              "   X  Y  Z\n",
              "1  9  8  7\n",
              "2  6  5  4\n",
              "3  3  2  1"
            ]
          },
          "metadata": {
            "tags": []
          },
          "execution_count": 45
        }
      ]
    },
    {
      "cell_type": "markdown",
      "metadata": {
        "id": "bGKbKpMcohz0"
      },
      "source": [
        "Podemos ordenar os valores a partir de uma ou mais variáveis"
      ]
    },
    {
      "cell_type": "code",
      "metadata": {
        "colab": {
          "base_uri": "https://localhost:8080/",
          "height": 142
        },
        "id": "a95cD4SwogR3",
        "outputId": "4fec8410-9a1a-4f25-de54-0113bfbd9249"
      },
      "source": [
        "df.sort_values(by='X', inplace=True)\n",
        "df"
      ],
      "execution_count": null,
      "outputs": [
        {
          "output_type": "execute_result",
          "data": {
            "text/html": [
              "<div>\n",
              "<style scoped>\n",
              "    .dataframe tbody tr th:only-of-type {\n",
              "        vertical-align: middle;\n",
              "    }\n",
              "\n",
              "    .dataframe tbody tr th {\n",
              "        vertical-align: top;\n",
              "    }\n",
              "\n",
              "    .dataframe thead th {\n",
              "        text-align: right;\n",
              "    }\n",
              "</style>\n",
              "<table border=\"1\" class=\"dataframe\">\n",
              "  <thead>\n",
              "    <tr style=\"text-align: right;\">\n",
              "      <th></th>\n",
              "      <th>X</th>\n",
              "      <th>Y</th>\n",
              "      <th>Z</th>\n",
              "    </tr>\n",
              "  </thead>\n",
              "  <tbody>\n",
              "    <tr>\n",
              "      <th>3</th>\n",
              "      <td>3</td>\n",
              "      <td>2</td>\n",
              "      <td>1</td>\n",
              "    </tr>\n",
              "    <tr>\n",
              "      <th>2</th>\n",
              "      <td>6</td>\n",
              "      <td>5</td>\n",
              "      <td>4</td>\n",
              "    </tr>\n",
              "    <tr>\n",
              "      <th>1</th>\n",
              "      <td>9</td>\n",
              "      <td>8</td>\n",
              "      <td>7</td>\n",
              "    </tr>\n",
              "  </tbody>\n",
              "</table>\n",
              "</div>"
            ],
            "text/plain": [
              "   X  Y  Z\n",
              "3  3  2  1\n",
              "2  6  5  4\n",
              "1  9  8  7"
            ]
          },
          "metadata": {
            "tags": []
          },
          "execution_count": 46
        }
      ]
    },
    {
      "cell_type": "code",
      "metadata": {
        "colab": {
          "base_uri": "https://localhost:8080/",
          "height": 142
        },
        "id": "xyprekX-oqWv",
        "outputId": "4c01fac3-511c-4213-dede-592ebe6b8695"
      },
      "source": [
        "df.sort_values(by='3', axis=1, inplace=True)\n",
        "df"
      ],
      "execution_count": null,
      "outputs": [
        {
          "output_type": "execute_result",
          "data": {
            "text/html": [
              "<div>\n",
              "<style scoped>\n",
              "    .dataframe tbody tr th:only-of-type {\n",
              "        vertical-align: middle;\n",
              "    }\n",
              "\n",
              "    .dataframe tbody tr th {\n",
              "        vertical-align: top;\n",
              "    }\n",
              "\n",
              "    .dataframe thead th {\n",
              "        text-align: right;\n",
              "    }\n",
              "</style>\n",
              "<table border=\"1\" class=\"dataframe\">\n",
              "  <thead>\n",
              "    <tr style=\"text-align: right;\">\n",
              "      <th></th>\n",
              "      <th>Z</th>\n",
              "      <th>Y</th>\n",
              "      <th>X</th>\n",
              "    </tr>\n",
              "  </thead>\n",
              "  <tbody>\n",
              "    <tr>\n",
              "      <th>3</th>\n",
              "      <td>1</td>\n",
              "      <td>2</td>\n",
              "      <td>3</td>\n",
              "    </tr>\n",
              "    <tr>\n",
              "      <th>2</th>\n",
              "      <td>4</td>\n",
              "      <td>5</td>\n",
              "      <td>6</td>\n",
              "    </tr>\n",
              "    <tr>\n",
              "      <th>1</th>\n",
              "      <td>7</td>\n",
              "      <td>8</td>\n",
              "      <td>9</td>\n",
              "    </tr>\n",
              "  </tbody>\n",
              "</table>\n",
              "</div>"
            ],
            "text/plain": [
              "   Z  Y  X\n",
              "3  1  2  3\n",
              "2  4  5  6\n",
              "1  7  8  9"
            ]
          },
          "metadata": {
            "tags": []
          },
          "execution_count": 47
        }
      ]
    },
    {
      "cell_type": "markdown",
      "metadata": {
        "id": "hOEkwiOMo5mj"
      },
      "source": [
        "Se quisermos ordenar por mais de uma coluna ou linha por vez, podemos fazer da forma:"
      ]
    },
    {
      "cell_type": "code",
      "metadata": {
        "colab": {
          "base_uri": "https://localhost:8080/",
          "height": 142
        },
        "id": "kebNHOnpoyAg",
        "outputId": "43f6ac50-dcee-46e7-a971-4250a3c7f993"
      },
      "source": [
        "df.sort_values(by=['X', 'Y'], inplace=True)\n",
        "df"
      ],
      "execution_count": null,
      "outputs": [
        {
          "output_type": "execute_result",
          "data": {
            "text/html": [
              "<div>\n",
              "<style scoped>\n",
              "    .dataframe tbody tr th:only-of-type {\n",
              "        vertical-align: middle;\n",
              "    }\n",
              "\n",
              "    .dataframe tbody tr th {\n",
              "        vertical-align: top;\n",
              "    }\n",
              "\n",
              "    .dataframe thead th {\n",
              "        text-align: right;\n",
              "    }\n",
              "</style>\n",
              "<table border=\"1\" class=\"dataframe\">\n",
              "  <thead>\n",
              "    <tr style=\"text-align: right;\">\n",
              "      <th></th>\n",
              "      <th>Z</th>\n",
              "      <th>Y</th>\n",
              "      <th>X</th>\n",
              "    </tr>\n",
              "  </thead>\n",
              "  <tbody>\n",
              "    <tr>\n",
              "      <th>3</th>\n",
              "      <td>1</td>\n",
              "      <td>2</td>\n",
              "      <td>3</td>\n",
              "    </tr>\n",
              "    <tr>\n",
              "      <th>2</th>\n",
              "      <td>4</td>\n",
              "      <td>5</td>\n",
              "      <td>6</td>\n",
              "    </tr>\n",
              "    <tr>\n",
              "      <th>1</th>\n",
              "      <td>7</td>\n",
              "      <td>8</td>\n",
              "      <td>9</td>\n",
              "    </tr>\n",
              "  </tbody>\n",
              "</table>\n",
              "</div>"
            ],
            "text/plain": [
              "   Z  Y  X\n",
              "3  1  2  3\n",
              "2  4  5  6\n",
              "1  7  8  9"
            ]
          },
          "metadata": {
            "tags": []
          },
          "execution_count": 48
        }
      ]
    },
    {
      "cell_type": "markdown",
      "metadata": {
        "id": "ljbvVl3-iuqi"
      },
      "source": [
        "##AULA EXTRA 4"
      ]
    },
    {
      "cell_type": "markdown",
      "metadata": {
        "id": "Aio29w0ci-q7"
      },
      "source": [
        "Formas de seleção"
      ]
    },
    {
      "cell_type": "markdown",
      "metadata": {
        "id": "d7oQVkG7ivn5"
      },
      "source": [
        "###Importando os pacotes"
      ]
    },
    {
      "cell_type": "code",
      "metadata": {
        "id": "GWBJOLmppAQ4"
      },
      "source": [
        "import pandas as pd"
      ],
      "execution_count": null,
      "outputs": []
    },
    {
      "cell_type": "markdown",
      "metadata": {
        "id": "WxBCudVRi1BZ"
      },
      "source": [
        "###Construindo um *DataFrame* simples"
      ]
    },
    {
      "cell_type": "code",
      "metadata": {
        "colab": {
          "base_uri": "https://localhost:8080/",
          "height": 173
        },
        "id": "s8iy1aOUi0YZ",
        "outputId": "d51a8149-1c4b-48f7-b44b-1ddd2e3780c3"
      },
      "source": [
        "data = [(1, 2, 3, 4),\n",
        "        (5, 6, 7, 8),\n",
        "        (9, 10, 11, 12),\n",
        "        (13, 14, 15, 16)]\n",
        "df = pd.DataFrame(data, 'l1 l2 l3 l4'.split(), 'c1 c2 c3 c4'.split())\n",
        "df"
      ],
      "execution_count": null,
      "outputs": [
        {
          "output_type": "execute_result",
          "data": {
            "text/html": [
              "<div>\n",
              "<style scoped>\n",
              "    .dataframe tbody tr th:only-of-type {\n",
              "        vertical-align: middle;\n",
              "    }\n",
              "\n",
              "    .dataframe tbody tr th {\n",
              "        vertical-align: top;\n",
              "    }\n",
              "\n",
              "    .dataframe thead th {\n",
              "        text-align: right;\n",
              "    }\n",
              "</style>\n",
              "<table border=\"1\" class=\"dataframe\">\n",
              "  <thead>\n",
              "    <tr style=\"text-align: right;\">\n",
              "      <th></th>\n",
              "      <th>c1</th>\n",
              "      <th>c2</th>\n",
              "      <th>c3</th>\n",
              "      <th>c4</th>\n",
              "    </tr>\n",
              "  </thead>\n",
              "  <tbody>\n",
              "    <tr>\n",
              "      <th>l1</th>\n",
              "      <td>1</td>\n",
              "      <td>2</td>\n",
              "      <td>3</td>\n",
              "      <td>4</td>\n",
              "    </tr>\n",
              "    <tr>\n",
              "      <th>l2</th>\n",
              "      <td>5</td>\n",
              "      <td>6</td>\n",
              "      <td>7</td>\n",
              "      <td>8</td>\n",
              "    </tr>\n",
              "    <tr>\n",
              "      <th>l3</th>\n",
              "      <td>9</td>\n",
              "      <td>10</td>\n",
              "      <td>11</td>\n",
              "      <td>12</td>\n",
              "    </tr>\n",
              "    <tr>\n",
              "      <th>l4</th>\n",
              "      <td>13</td>\n",
              "      <td>14</td>\n",
              "      <td>15</td>\n",
              "      <td>16</td>\n",
              "    </tr>\n",
              "  </tbody>\n",
              "</table>\n",
              "</div>"
            ],
            "text/plain": [
              "    c1  c2  c3  c4\n",
              "l1   1   2   3   4\n",
              "l2   5   6   7   8\n",
              "l3   9  10  11  12\n",
              "l4  13  14  15  16"
            ]
          },
          "metadata": {
            "tags": []
          },
          "execution_count": 50
        }
      ]
    },
    {
      "cell_type": "markdown",
      "metadata": {
        "id": "96YQR1ZmjRJK"
      },
      "source": [
        "###Fazendo algumas seleções"
      ]
    },
    {
      "cell_type": "markdown",
      "metadata": {
        "id": "Mmnt9SMukD7h"
      },
      "source": [
        "**Seleções com slice**"
      ]
    },
    {
      "cell_type": "code",
      "metadata": {
        "colab": {
          "base_uri": "https://localhost:8080/"
        },
        "id": "nvHDtROYjNlH",
        "outputId": "f8ef676f-d09d-4828-a3a7-d6b2f4dd63d5"
      },
      "source": [
        "df['c1']"
      ],
      "execution_count": null,
      "outputs": [
        {
          "output_type": "execute_result",
          "data": {
            "text/plain": [
              "l1     1\n",
              "l2     5\n",
              "l3     9\n",
              "l4    13\n",
              "Name: c1, dtype: int64"
            ]
          },
          "metadata": {
            "tags": []
          },
          "execution_count": 51
        }
      ]
    },
    {
      "cell_type": "code",
      "metadata": {
        "colab": {
          "base_uri": "https://localhost:8080/"
        },
        "id": "IHIujgOAjZs4",
        "outputId": "23b880be-c2dd-4a04-f11a-4205d7b4fd27"
      },
      "source": [
        "type(df['c1'])"
      ],
      "execution_count": null,
      "outputs": [
        {
          "output_type": "execute_result",
          "data": {
            "text/plain": [
              "pandas.core.series.Series"
            ]
          },
          "metadata": {
            "tags": []
          },
          "execution_count": 52
        }
      ]
    },
    {
      "cell_type": "code",
      "metadata": {
        "colab": {
          "base_uri": "https://localhost:8080/",
          "height": 173
        },
        "id": "xdarV2r2jcY4",
        "outputId": "3bf043e2-09cf-440f-ec83-235282408e39"
      },
      "source": [
        "df[['c3', 'c1']]"
      ],
      "execution_count": null,
      "outputs": [
        {
          "output_type": "execute_result",
          "data": {
            "text/html": [
              "<div>\n",
              "<style scoped>\n",
              "    .dataframe tbody tr th:only-of-type {\n",
              "        vertical-align: middle;\n",
              "    }\n",
              "\n",
              "    .dataframe tbody tr th {\n",
              "        vertical-align: top;\n",
              "    }\n",
              "\n",
              "    .dataframe thead th {\n",
              "        text-align: right;\n",
              "    }\n",
              "</style>\n",
              "<table border=\"1\" class=\"dataframe\">\n",
              "  <thead>\n",
              "    <tr style=\"text-align: right;\">\n",
              "      <th></th>\n",
              "      <th>c3</th>\n",
              "      <th>c1</th>\n",
              "    </tr>\n",
              "  </thead>\n",
              "  <tbody>\n",
              "    <tr>\n",
              "      <th>l1</th>\n",
              "      <td>3</td>\n",
              "      <td>1</td>\n",
              "    </tr>\n",
              "    <tr>\n",
              "      <th>l2</th>\n",
              "      <td>7</td>\n",
              "      <td>5</td>\n",
              "    </tr>\n",
              "    <tr>\n",
              "      <th>l3</th>\n",
              "      <td>11</td>\n",
              "      <td>9</td>\n",
              "    </tr>\n",
              "    <tr>\n",
              "      <th>l4</th>\n",
              "      <td>15</td>\n",
              "      <td>13</td>\n",
              "    </tr>\n",
              "  </tbody>\n",
              "</table>\n",
              "</div>"
            ],
            "text/plain": [
              "    c3  c1\n",
              "l1   3   1\n",
              "l2   7   5\n",
              "l3  11   9\n",
              "l4  15  13"
            ]
          },
          "metadata": {
            "tags": []
          },
          "execution_count": 53
        }
      ]
    },
    {
      "cell_type": "code",
      "metadata": {
        "colab": {
          "base_uri": "https://localhost:8080/"
        },
        "id": "t_cAYkYMjedo",
        "outputId": "c0c14eb4-5528-497c-c23d-85002742e30a"
      },
      "source": [
        "type(df[['c3', 'c1']])"
      ],
      "execution_count": null,
      "outputs": [
        {
          "output_type": "execute_result",
          "data": {
            "text/plain": [
              "pandas.core.frame.DataFrame"
            ]
          },
          "metadata": {
            "tags": []
          },
          "execution_count": 54
        }
      ]
    },
    {
      "cell_type": "markdown",
      "metadata": {
        "id": "HSMsXMBgjn8b"
      },
      "source": [
        "Selecionando todas as linhas"
      ]
    },
    {
      "cell_type": "code",
      "metadata": {
        "colab": {
          "base_uri": "https://localhost:8080/",
          "height": 173
        },
        "id": "dUhHCs4ejg6v",
        "outputId": "50f81d02-7af4-49bc-88e4-0625ba7f5232"
      },
      "source": [
        "df[:]"
      ],
      "execution_count": null,
      "outputs": [
        {
          "output_type": "execute_result",
          "data": {
            "text/html": [
              "<div>\n",
              "<style scoped>\n",
              "    .dataframe tbody tr th:only-of-type {\n",
              "        vertical-align: middle;\n",
              "    }\n",
              "\n",
              "    .dataframe tbody tr th {\n",
              "        vertical-align: top;\n",
              "    }\n",
              "\n",
              "    .dataframe thead th {\n",
              "        text-align: right;\n",
              "    }\n",
              "</style>\n",
              "<table border=\"1\" class=\"dataframe\">\n",
              "  <thead>\n",
              "    <tr style=\"text-align: right;\">\n",
              "      <th></th>\n",
              "      <th>c1</th>\n",
              "      <th>c2</th>\n",
              "      <th>c3</th>\n",
              "      <th>c4</th>\n",
              "    </tr>\n",
              "  </thead>\n",
              "  <tbody>\n",
              "    <tr>\n",
              "      <th>l1</th>\n",
              "      <td>1</td>\n",
              "      <td>2</td>\n",
              "      <td>3</td>\n",
              "      <td>4</td>\n",
              "    </tr>\n",
              "    <tr>\n",
              "      <th>l2</th>\n",
              "      <td>5</td>\n",
              "      <td>6</td>\n",
              "      <td>7</td>\n",
              "      <td>8</td>\n",
              "    </tr>\n",
              "    <tr>\n",
              "      <th>l3</th>\n",
              "      <td>9</td>\n",
              "      <td>10</td>\n",
              "      <td>11</td>\n",
              "      <td>12</td>\n",
              "    </tr>\n",
              "    <tr>\n",
              "      <th>l4</th>\n",
              "      <td>13</td>\n",
              "      <td>14</td>\n",
              "      <td>15</td>\n",
              "      <td>16</td>\n",
              "    </tr>\n",
              "  </tbody>\n",
              "</table>\n",
              "</div>"
            ],
            "text/plain": [
              "    c1  c2  c3  c4\n",
              "l1   1   2   3   4\n",
              "l2   5   6   7   8\n",
              "l3   9  10  11  12\n",
              "l4  13  14  15  16"
            ]
          },
          "metadata": {
            "tags": []
          },
          "execution_count": 55
        }
      ]
    },
    {
      "cell_type": "markdown",
      "metadata": {
        "id": "KeR8EB-YjqV0"
      },
      "source": [
        "Selecionando a partir da linha 1"
      ]
    },
    {
      "cell_type": "code",
      "metadata": {
        "colab": {
          "base_uri": "https://localhost:8080/",
          "height": 142
        },
        "id": "SRU6gCY2jnEn",
        "outputId": "778a9428-a509-4518-b810-13c66a900164"
      },
      "source": [
        "df[1:]"
      ],
      "execution_count": null,
      "outputs": [
        {
          "output_type": "execute_result",
          "data": {
            "text/html": [
              "<div>\n",
              "<style scoped>\n",
              "    .dataframe tbody tr th:only-of-type {\n",
              "        vertical-align: middle;\n",
              "    }\n",
              "\n",
              "    .dataframe tbody tr th {\n",
              "        vertical-align: top;\n",
              "    }\n",
              "\n",
              "    .dataframe thead th {\n",
              "        text-align: right;\n",
              "    }\n",
              "</style>\n",
              "<table border=\"1\" class=\"dataframe\">\n",
              "  <thead>\n",
              "    <tr style=\"text-align: right;\">\n",
              "      <th></th>\n",
              "      <th>c1</th>\n",
              "      <th>c2</th>\n",
              "      <th>c3</th>\n",
              "      <th>c4</th>\n",
              "    </tr>\n",
              "  </thead>\n",
              "  <tbody>\n",
              "    <tr>\n",
              "      <th>l2</th>\n",
              "      <td>5</td>\n",
              "      <td>6</td>\n",
              "      <td>7</td>\n",
              "      <td>8</td>\n",
              "    </tr>\n",
              "    <tr>\n",
              "      <th>l3</th>\n",
              "      <td>9</td>\n",
              "      <td>10</td>\n",
              "      <td>11</td>\n",
              "      <td>12</td>\n",
              "    </tr>\n",
              "    <tr>\n",
              "      <th>l4</th>\n",
              "      <td>13</td>\n",
              "      <td>14</td>\n",
              "      <td>15</td>\n",
              "      <td>16</td>\n",
              "    </tr>\n",
              "  </tbody>\n",
              "</table>\n",
              "</div>"
            ],
            "text/plain": [
              "    c1  c2  c3  c4\n",
              "l2   5   6   7   8\n",
              "l3   9  10  11  12\n",
              "l4  13  14  15  16"
            ]
          },
          "metadata": {
            "tags": []
          },
          "execution_count": 56
        }
      ]
    },
    {
      "cell_type": "markdown",
      "metadata": {
        "id": "oCyq0FQajxKR"
      },
      "source": [
        "Selecionando apenas as linhas 2 e 3"
      ]
    },
    {
      "cell_type": "code",
      "metadata": {
        "colab": {
          "base_uri": "https://localhost:8080/",
          "height": 111
        },
        "id": "NphyOluojtpe",
        "outputId": "80cf3346-6018-4f39-820c-ff1524d5b7d2"
      },
      "source": [
        "df[1:3]"
      ],
      "execution_count": null,
      "outputs": [
        {
          "output_type": "execute_result",
          "data": {
            "text/html": [
              "<div>\n",
              "<style scoped>\n",
              "    .dataframe tbody tr th:only-of-type {\n",
              "        vertical-align: middle;\n",
              "    }\n",
              "\n",
              "    .dataframe tbody tr th {\n",
              "        vertical-align: top;\n",
              "    }\n",
              "\n",
              "    .dataframe thead th {\n",
              "        text-align: right;\n",
              "    }\n",
              "</style>\n",
              "<table border=\"1\" class=\"dataframe\">\n",
              "  <thead>\n",
              "    <tr style=\"text-align: right;\">\n",
              "      <th></th>\n",
              "      <th>c1</th>\n",
              "      <th>c2</th>\n",
              "      <th>c3</th>\n",
              "      <th>c4</th>\n",
              "    </tr>\n",
              "  </thead>\n",
              "  <tbody>\n",
              "    <tr>\n",
              "      <th>l2</th>\n",
              "      <td>5</td>\n",
              "      <td>6</td>\n",
              "      <td>7</td>\n",
              "      <td>8</td>\n",
              "    </tr>\n",
              "    <tr>\n",
              "      <th>l3</th>\n",
              "      <td>9</td>\n",
              "      <td>10</td>\n",
              "      <td>11</td>\n",
              "      <td>12</td>\n",
              "    </tr>\n",
              "  </tbody>\n",
              "</table>\n",
              "</div>"
            ],
            "text/plain": [
              "    c1  c2  c3  c4\n",
              "l2   5   6   7   8\n",
              "l3   9  10  11  12"
            ]
          },
          "metadata": {
            "tags": []
          },
          "execution_count": 57
        }
      ]
    },
    {
      "cell_type": "markdown",
      "metadata": {
        "id": "gUX1rhugj7Wc"
      },
      "source": [
        "Selecionando a partir da linha 1 apenas as colunas 3 e 1"
      ]
    },
    {
      "cell_type": "code",
      "metadata": {
        "colab": {
          "base_uri": "https://localhost:8080/",
          "height": 142
        },
        "id": "lC-pS0Qmj0-P",
        "outputId": "84393659-81df-4716-bb25-840ddb6caac6"
      },
      "source": [
        "df[1:][['c3', 'c1']]"
      ],
      "execution_count": null,
      "outputs": [
        {
          "output_type": "execute_result",
          "data": {
            "text/html": [
              "<div>\n",
              "<style scoped>\n",
              "    .dataframe tbody tr th:only-of-type {\n",
              "        vertical-align: middle;\n",
              "    }\n",
              "\n",
              "    .dataframe tbody tr th {\n",
              "        vertical-align: top;\n",
              "    }\n",
              "\n",
              "    .dataframe thead th {\n",
              "        text-align: right;\n",
              "    }\n",
              "</style>\n",
              "<table border=\"1\" class=\"dataframe\">\n",
              "  <thead>\n",
              "    <tr style=\"text-align: right;\">\n",
              "      <th></th>\n",
              "      <th>c3</th>\n",
              "      <th>c1</th>\n",
              "    </tr>\n",
              "  </thead>\n",
              "  <tbody>\n",
              "    <tr>\n",
              "      <th>l2</th>\n",
              "      <td>7</td>\n",
              "      <td>5</td>\n",
              "    </tr>\n",
              "    <tr>\n",
              "      <th>l3</th>\n",
              "      <td>11</td>\n",
              "      <td>9</td>\n",
              "    </tr>\n",
              "    <tr>\n",
              "      <th>l4</th>\n",
              "      <td>15</td>\n",
              "      <td>13</td>\n",
              "    </tr>\n",
              "  </tbody>\n",
              "</table>\n",
              "</div>"
            ],
            "text/plain": [
              "    c3  c1\n",
              "l2   7   5\n",
              "l3  11   9\n",
              "l4  15  13"
            ]
          },
          "metadata": {
            "tags": []
          },
          "execution_count": 58
        }
      ]
    },
    {
      "cell_type": "markdown",
      "metadata": {
        "id": "FVv8r4XekGah"
      },
      "source": [
        "**Seleções com loc**\n",
        "\n",
        "Usa os rótulos das colunas e linhas"
      ]
    },
    {
      "cell_type": "markdown",
      "metadata": {
        "id": "xVQfne-zkJnq"
      },
      "source": [
        "Selecionando apenas a linha 3"
      ]
    },
    {
      "cell_type": "code",
      "metadata": {
        "colab": {
          "base_uri": "https://localhost:8080/"
        },
        "id": "RTDFTF0NkA5H",
        "outputId": "e2920241-8cc0-4a08-af26-b18f24b1d970"
      },
      "source": [
        "df.loc['l3']"
      ],
      "execution_count": null,
      "outputs": [
        {
          "output_type": "execute_result",
          "data": {
            "text/plain": [
              "c1     9\n",
              "c2    10\n",
              "c3    11\n",
              "c4    12\n",
              "Name: l3, dtype: int64"
            ]
          },
          "metadata": {
            "tags": []
          },
          "execution_count": 59
        }
      ]
    },
    {
      "cell_type": "markdown",
      "metadata": {
        "id": "sblHdwfTkSil"
      },
      "source": [
        "Selecionando apenas as linhas 3 e 2"
      ]
    },
    {
      "cell_type": "code",
      "metadata": {
        "colab": {
          "base_uri": "https://localhost:8080/",
          "height": 111
        },
        "id": "gR8fnY-3kPh3",
        "outputId": "37da3c9e-dbb4-47f0-847b-8bfdb92cd1c8"
      },
      "source": [
        "df.loc[['l3', 'l2']]"
      ],
      "execution_count": null,
      "outputs": [
        {
          "output_type": "execute_result",
          "data": {
            "text/html": [
              "<div>\n",
              "<style scoped>\n",
              "    .dataframe tbody tr th:only-of-type {\n",
              "        vertical-align: middle;\n",
              "    }\n",
              "\n",
              "    .dataframe tbody tr th {\n",
              "        vertical-align: top;\n",
              "    }\n",
              "\n",
              "    .dataframe thead th {\n",
              "        text-align: right;\n",
              "    }\n",
              "</style>\n",
              "<table border=\"1\" class=\"dataframe\">\n",
              "  <thead>\n",
              "    <tr style=\"text-align: right;\">\n",
              "      <th></th>\n",
              "      <th>c1</th>\n",
              "      <th>c2</th>\n",
              "      <th>c3</th>\n",
              "      <th>c4</th>\n",
              "    </tr>\n",
              "  </thead>\n",
              "  <tbody>\n",
              "    <tr>\n",
              "      <th>l3</th>\n",
              "      <td>9</td>\n",
              "      <td>10</td>\n",
              "      <td>11</td>\n",
              "      <td>12</td>\n",
              "    </tr>\n",
              "    <tr>\n",
              "      <th>l2</th>\n",
              "      <td>5</td>\n",
              "      <td>6</td>\n",
              "      <td>7</td>\n",
              "      <td>8</td>\n",
              "    </tr>\n",
              "  </tbody>\n",
              "</table>\n",
              "</div>"
            ],
            "text/plain": [
              "    c1  c2  c3  c4\n",
              "l3   9  10  11  12\n",
              "l2   5   6   7   8"
            ]
          },
          "metadata": {
            "tags": []
          },
          "execution_count": 60
        }
      ]
    },
    {
      "cell_type": "markdown",
      "metadata": {
        "id": "BX1G4DGskb-R"
      },
      "source": [
        "Selecionando o valor que está na linha 1 e coluna 2"
      ]
    },
    {
      "cell_type": "code",
      "metadata": {
        "colab": {
          "base_uri": "https://localhost:8080/"
        },
        "id": "nJBR_kQ4kWlv",
        "outputId": "a8e33e24-0433-4725-edd1-fef03420d87f"
      },
      "source": [
        "df.loc['l1', 'c2']"
      ],
      "execution_count": null,
      "outputs": [
        {
          "output_type": "execute_result",
          "data": {
            "text/plain": [
              "2"
            ]
          },
          "metadata": {
            "tags": []
          },
          "execution_count": 61
        }
      ]
    },
    {
      "cell_type": "markdown",
      "metadata": {
        "id": "1okqmwFfk0I6"
      },
      "source": [
        "Selecionando os valores que estão nas linhas 3 e 1 e colunas 4 e 1"
      ]
    },
    {
      "cell_type": "code",
      "metadata": {
        "colab": {
          "base_uri": "https://localhost:8080/",
          "height": 111
        },
        "id": "jJ0yz0jlk7Dd",
        "outputId": "559b5b0b-0131-42df-8cdb-bf1739e0649b"
      },
      "source": [
        "df.loc[['l3', 'l1'], ['c4', 'c1']]"
      ],
      "execution_count": null,
      "outputs": [
        {
          "output_type": "execute_result",
          "data": {
            "text/html": [
              "<div>\n",
              "<style scoped>\n",
              "    .dataframe tbody tr th:only-of-type {\n",
              "        vertical-align: middle;\n",
              "    }\n",
              "\n",
              "    .dataframe tbody tr th {\n",
              "        vertical-align: top;\n",
              "    }\n",
              "\n",
              "    .dataframe thead th {\n",
              "        text-align: right;\n",
              "    }\n",
              "</style>\n",
              "<table border=\"1\" class=\"dataframe\">\n",
              "  <thead>\n",
              "    <tr style=\"text-align: right;\">\n",
              "      <th></th>\n",
              "      <th>c4</th>\n",
              "      <th>c1</th>\n",
              "    </tr>\n",
              "  </thead>\n",
              "  <tbody>\n",
              "    <tr>\n",
              "      <th>l3</th>\n",
              "      <td>12</td>\n",
              "      <td>9</td>\n",
              "    </tr>\n",
              "    <tr>\n",
              "      <th>l1</th>\n",
              "      <td>4</td>\n",
              "      <td>1</td>\n",
              "    </tr>\n",
              "  </tbody>\n",
              "</table>\n",
              "</div>"
            ],
            "text/plain": [
              "    c4  c1\n",
              "l3  12   9\n",
              "l1   4   1"
            ]
          },
          "metadata": {
            "tags": []
          },
          "execution_count": 62
        }
      ]
    },
    {
      "cell_type": "markdown",
      "metadata": {
        "id": "BtqESmpckfiL"
      },
      "source": [
        "**Seleções com iloc**\n",
        "\n",
        "Usa os índices numéricos das linhas e colunas"
      ]
    },
    {
      "cell_type": "markdown",
      "metadata": {
        "id": "KMO8r5hRksEh"
      },
      "source": [
        "Selecionando o valor que está na linha 1 e coluna 2"
      ]
    },
    {
      "cell_type": "code",
      "metadata": {
        "colab": {
          "base_uri": "https://localhost:8080/"
        },
        "id": "n6IE3GRJkbMX",
        "outputId": "b1c43839-d8fa-469a-c722-e96b03ceffa2"
      },
      "source": [
        "df.iloc[0, 1]"
      ],
      "execution_count": null,
      "outputs": [
        {
          "output_type": "execute_result",
          "data": {
            "text/plain": [
              "2"
            ]
          },
          "metadata": {
            "tags": []
          },
          "execution_count": 63
        }
      ]
    },
    {
      "cell_type": "markdown",
      "metadata": {
        "id": "9oorZCB8lFUr"
      },
      "source": [
        "Selecionando os valores que estão nas linhas 3 e 1 e colunas 4 e 1"
      ]
    },
    {
      "cell_type": "code",
      "metadata": {
        "colab": {
          "base_uri": "https://localhost:8080/",
          "height": 111
        },
        "id": "jKgQl9-1kwm4",
        "outputId": "868ca78c-0c5e-40e2-94ab-084998f517df"
      },
      "source": [
        "df.iloc[[2, 0], [3, 0]]"
      ],
      "execution_count": null,
      "outputs": [
        {
          "output_type": "execute_result",
          "data": {
            "text/html": [
              "<div>\n",
              "<style scoped>\n",
              "    .dataframe tbody tr th:only-of-type {\n",
              "        vertical-align: middle;\n",
              "    }\n",
              "\n",
              "    .dataframe tbody tr th {\n",
              "        vertical-align: top;\n",
              "    }\n",
              "\n",
              "    .dataframe thead th {\n",
              "        text-align: right;\n",
              "    }\n",
              "</style>\n",
              "<table border=\"1\" class=\"dataframe\">\n",
              "  <thead>\n",
              "    <tr style=\"text-align: right;\">\n",
              "      <th></th>\n",
              "      <th>c4</th>\n",
              "      <th>c1</th>\n",
              "    </tr>\n",
              "  </thead>\n",
              "  <tbody>\n",
              "    <tr>\n",
              "      <th>l3</th>\n",
              "      <td>12</td>\n",
              "      <td>9</td>\n",
              "    </tr>\n",
              "    <tr>\n",
              "      <th>l1</th>\n",
              "      <td>4</td>\n",
              "      <td>1</td>\n",
              "    </tr>\n",
              "  </tbody>\n",
              "</table>\n",
              "</div>"
            ],
            "text/plain": [
              "    c4  c1\n",
              "l3  12   9\n",
              "l1   4   1"
            ]
          },
          "metadata": {
            "tags": []
          },
          "execution_count": 64
        }
      ]
    },
    {
      "cell_type": "markdown",
      "metadata": {
        "id": "k167rAbBtK9x"
      },
      "source": [
        "##AULA EXTRA 5"
      ]
    },
    {
      "cell_type": "markdown",
      "metadata": {
        "id": "RHpSNsAbtwvl"
      },
      "source": [
        "Métodos de Interpolação"
      ]
    },
    {
      "cell_type": "markdown",
      "metadata": {
        "id": "geNRDqHOtMKP"
      },
      "source": [
        "###Importando os pacotes"
      ]
    },
    {
      "cell_type": "code",
      "metadata": {
        "id": "qf47nbtJnGUf"
      },
      "source": [
        "import pandas as pd"
      ],
      "execution_count": null,
      "outputs": []
    },
    {
      "cell_type": "markdown",
      "metadata": {
        "id": "WQsWMH7PtQoG"
      },
      "source": [
        "###Criando uma *Series* simples"
      ]
    },
    {
      "cell_type": "code",
      "metadata": {
        "colab": {
          "base_uri": "https://localhost:8080/"
        },
        "id": "49dD91zHtP0D",
        "outputId": "b54c0fbb-bc66-4716-8381-67568224061d"
      },
      "source": [
        "data = [0.5, None, None, 0.52, 0.54, None, None, 0.59, 0.6, None, 0.7]\n",
        "s = pd.Series(data)\n",
        "s"
      ],
      "execution_count": null,
      "outputs": [
        {
          "output_type": "execute_result",
          "data": {
            "text/plain": [
              "0     0.50\n",
              "1      NaN\n",
              "2      NaN\n",
              "3     0.52\n",
              "4     0.54\n",
              "5      NaN\n",
              "6      NaN\n",
              "7     0.59\n",
              "8     0.60\n",
              "9      NaN\n",
              "10    0.70\n",
              "dtype: float64"
            ]
          },
          "metadata": {
            "tags": []
          },
          "execution_count": 66
        }
      ]
    },
    {
      "cell_type": "code",
      "metadata": {
        "colab": {
          "base_uri": "https://localhost:8080/"
        },
        "id": "CGb965SotZmD",
        "outputId": "57ca2f12-ecb6-4dc4-be62-1fad26b7dc3d"
      },
      "source": [
        "s.fillna(0)"
      ],
      "execution_count": null,
      "outputs": [
        {
          "output_type": "execute_result",
          "data": {
            "text/plain": [
              "0     0.50\n",
              "1     0.00\n",
              "2     0.00\n",
              "3     0.52\n",
              "4     0.54\n",
              "5     0.00\n",
              "6     0.00\n",
              "7     0.59\n",
              "8     0.60\n",
              "9     0.00\n",
              "10    0.70\n",
              "dtype: float64"
            ]
          },
          "metadata": {
            "tags": []
          },
          "execution_count": 67
        }
      ]
    },
    {
      "cell_type": "code",
      "metadata": {
        "colab": {
          "base_uri": "https://localhost:8080/"
        },
        "id": "N-5D63fbtb41",
        "outputId": "5ee950ab-a814-4e59-f0ec-35f7054b72ca"
      },
      "source": [
        "s"
      ],
      "execution_count": null,
      "outputs": [
        {
          "output_type": "execute_result",
          "data": {
            "text/plain": [
              "0     0.50\n",
              "1      NaN\n",
              "2      NaN\n",
              "3     0.52\n",
              "4     0.54\n",
              "5      NaN\n",
              "6      NaN\n",
              "7     0.59\n",
              "8     0.60\n",
              "9      NaN\n",
              "10    0.70\n",
              "dtype: float64"
            ]
          },
          "metadata": {
            "tags": []
          },
          "execution_count": 68
        }
      ]
    },
    {
      "cell_type": "code",
      "metadata": {
        "colab": {
          "base_uri": "https://localhost:8080/"
        },
        "id": "LxcjYVI8tjs7",
        "outputId": "d4da8c70-26c1-476d-b58d-2a655152ee8c"
      },
      "source": [
        "s.fillna(method='ffill')"
      ],
      "execution_count": null,
      "outputs": [
        {
          "output_type": "execute_result",
          "data": {
            "text/plain": [
              "0     0.50\n",
              "1     0.50\n",
              "2     0.50\n",
              "3     0.52\n",
              "4     0.54\n",
              "5     0.54\n",
              "6     0.54\n",
              "7     0.59\n",
              "8     0.60\n",
              "9     0.60\n",
              "10    0.70\n",
              "dtype: float64"
            ]
          },
          "metadata": {
            "tags": []
          },
          "execution_count": 69
        }
      ]
    },
    {
      "cell_type": "code",
      "metadata": {
        "colab": {
          "base_uri": "https://localhost:8080/"
        },
        "id": "nl7mubGmtl7T",
        "outputId": "85253e5e-b132-4e99-e805-e7509be15941"
      },
      "source": [
        "s"
      ],
      "execution_count": null,
      "outputs": [
        {
          "output_type": "execute_result",
          "data": {
            "text/plain": [
              "0     0.50\n",
              "1      NaN\n",
              "2      NaN\n",
              "3     0.52\n",
              "4     0.54\n",
              "5      NaN\n",
              "6      NaN\n",
              "7     0.59\n",
              "8     0.60\n",
              "9      NaN\n",
              "10    0.70\n",
              "dtype: float64"
            ]
          },
          "metadata": {
            "tags": []
          },
          "execution_count": 70
        }
      ]
    },
    {
      "cell_type": "code",
      "metadata": {
        "colab": {
          "base_uri": "https://localhost:8080/"
        },
        "id": "2Vd2rMK7t1RT",
        "outputId": "58b7f674-e878-4a37-8e19-7b19f54ea7db"
      },
      "source": [
        "s.fillna(method='bfill')"
      ],
      "execution_count": null,
      "outputs": [
        {
          "output_type": "execute_result",
          "data": {
            "text/plain": [
              "0     0.50\n",
              "1     0.52\n",
              "2     0.52\n",
              "3     0.52\n",
              "4     0.54\n",
              "5     0.59\n",
              "6     0.59\n",
              "7     0.59\n",
              "8     0.60\n",
              "9     0.70\n",
              "10    0.70\n",
              "dtype: float64"
            ]
          },
          "metadata": {
            "tags": []
          },
          "execution_count": 71
        }
      ]
    },
    {
      "cell_type": "code",
      "metadata": {
        "colab": {
          "base_uri": "https://localhost:8080/"
        },
        "id": "xK9-1bHjt2hz",
        "outputId": "8a326802-2763-4ee9-9dd5-e1562900d7c5"
      },
      "source": [
        "s"
      ],
      "execution_count": null,
      "outputs": [
        {
          "output_type": "execute_result",
          "data": {
            "text/plain": [
              "0     0.50\n",
              "1      NaN\n",
              "2      NaN\n",
              "3     0.52\n",
              "4     0.54\n",
              "5      NaN\n",
              "6      NaN\n",
              "7     0.59\n",
              "8     0.60\n",
              "9      NaN\n",
              "10    0.70\n",
              "dtype: float64"
            ]
          },
          "metadata": {
            "tags": []
          },
          "execution_count": 72
        }
      ]
    },
    {
      "cell_type": "code",
      "metadata": {
        "colab": {
          "base_uri": "https://localhost:8080/"
        },
        "id": "aAYE9X9kt_gM",
        "outputId": "93010643-6cce-49a7-e9ec-13942fbe427f"
      },
      "source": [
        "s.fillna(s.mean())"
      ],
      "execution_count": null,
      "outputs": [
        {
          "output_type": "execute_result",
          "data": {
            "text/plain": [
              "0     0.500\n",
              "1     0.575\n",
              "2     0.575\n",
              "3     0.520\n",
              "4     0.540\n",
              "5     0.575\n",
              "6     0.575\n",
              "7     0.590\n",
              "8     0.600\n",
              "9     0.575\n",
              "10    0.700\n",
              "dtype: float64"
            ]
          },
          "metadata": {
            "tags": []
          },
          "execution_count": 73
        }
      ]
    },
    {
      "cell_type": "code",
      "metadata": {
        "colab": {
          "base_uri": "https://localhost:8080/"
        },
        "id": "4VkGWIJnuCAj",
        "outputId": "1c4b9654-5bce-492d-bdc5-9d6cf001d42c"
      },
      "source": [
        "s"
      ],
      "execution_count": null,
      "outputs": [
        {
          "output_type": "execute_result",
          "data": {
            "text/plain": [
              "0     0.50\n",
              "1      NaN\n",
              "2      NaN\n",
              "3     0.52\n",
              "4     0.54\n",
              "5      NaN\n",
              "6      NaN\n",
              "7     0.59\n",
              "8     0.60\n",
              "9      NaN\n",
              "10    0.70\n",
              "dtype: float64"
            ]
          },
          "metadata": {
            "tags": []
          },
          "execution_count": 74
        }
      ]
    },
    {
      "cell_type": "code",
      "metadata": {
        "colab": {
          "base_uri": "https://localhost:8080/"
        },
        "id": "kxbJwH_duQI4",
        "outputId": "f6b882fc-5602-4a13-bafd-ff7da2791920"
      },
      "source": [
        "s.fillna(method='ffill', limit=1)"
      ],
      "execution_count": null,
      "outputs": [
        {
          "output_type": "execute_result",
          "data": {
            "text/plain": [
              "0     0.50\n",
              "1     0.50\n",
              "2      NaN\n",
              "3     0.52\n",
              "4     0.54\n",
              "5     0.54\n",
              "6      NaN\n",
              "7     0.59\n",
              "8     0.60\n",
              "9     0.60\n",
              "10    0.70\n",
              "dtype: float64"
            ]
          },
          "metadata": {
            "tags": []
          },
          "execution_count": 75
        }
      ]
    },
    {
      "cell_type": "code",
      "metadata": {
        "id": "HtuDBPmyuUqR"
      },
      "source": [
        "s1 = s.fillna(method='ffill', limit=1)"
      ],
      "execution_count": null,
      "outputs": []
    },
    {
      "cell_type": "code",
      "metadata": {
        "colab": {
          "base_uri": "https://localhost:8080/"
        },
        "id": "vGfv0T8oukHJ",
        "outputId": "723d1a06-9a49-4c92-9f51-2c6afc36537a"
      },
      "source": [
        "s1"
      ],
      "execution_count": null,
      "outputs": [
        {
          "output_type": "execute_result",
          "data": {
            "text/plain": [
              "0     0.50\n",
              "1     0.50\n",
              "2      NaN\n",
              "3     0.52\n",
              "4     0.54\n",
              "5     0.54\n",
              "6      NaN\n",
              "7     0.59\n",
              "8     0.60\n",
              "9     0.60\n",
              "10    0.70\n",
              "dtype: float64"
            ]
          },
          "metadata": {
            "tags": []
          },
          "execution_count": 77
        }
      ]
    },
    {
      "cell_type": "code",
      "metadata": {
        "colab": {
          "base_uri": "https://localhost:8080/"
        },
        "id": "2mGkZECHulBj",
        "outputId": "4928f44c-9829-4f3b-9eae-32f76287b343"
      },
      "source": [
        "s1.fillna(method='bfill', limit=1)"
      ],
      "execution_count": null,
      "outputs": [
        {
          "output_type": "execute_result",
          "data": {
            "text/plain": [
              "0     0.50\n",
              "1     0.50\n",
              "2     0.52\n",
              "3     0.52\n",
              "4     0.54\n",
              "5     0.54\n",
              "6     0.59\n",
              "7     0.59\n",
              "8     0.60\n",
              "9     0.60\n",
              "10    0.70\n",
              "dtype: float64"
            ]
          },
          "metadata": {
            "tags": []
          },
          "execution_count": 78
        }
      ]
    },
    {
      "cell_type": "markdown",
      "metadata": {
        "id": "RIUbN9iOw2ga"
      },
      "source": [
        "##AULA EXTRA 6"
      ]
    },
    {
      "cell_type": "markdown",
      "metadata": {
        "id": "nRq-tdTuw3kQ"
      },
      "source": [
        "Contadores"
      ]
    },
    {
      "cell_type": "markdown",
      "metadata": {
        "id": "yVhxtU-Lw-ut"
      },
      "source": [
        "###Importando as bibliotecas"
      ]
    },
    {
      "cell_type": "code",
      "metadata": {
        "id": "8mW7Jx1Z2k5e"
      },
      "source": [
        "import pandas as pd"
      ],
      "execution_count": null,
      "outputs": []
    },
    {
      "cell_type": "markdown",
      "metadata": {
        "id": "XnbHJsIdxD_m"
      },
      "source": [
        "###Criando uma *Series* simples"
      ]
    },
    {
      "cell_type": "code",
      "metadata": {
        "colab": {
          "base_uri": "https://localhost:8080/"
        },
        "id": "gyntqqJSxDeC",
        "outputId": "cf6a6d82-779b-41ee-8477-03c3d67b2916"
      },
      "source": [
        "s = pd.Series(list('asdadeadesdasesda'))\n",
        "s"
      ],
      "execution_count": null,
      "outputs": [
        {
          "output_type": "execute_result",
          "data": {
            "text/plain": [
              "0     a\n",
              "1     s\n",
              "2     d\n",
              "3     a\n",
              "4     d\n",
              "5     e\n",
              "6     a\n",
              "7     d\n",
              "8     e\n",
              "9     s\n",
              "10    d\n",
              "11    a\n",
              "12    s\n",
              "13    e\n",
              "14    s\n",
              "15    d\n",
              "16    a\n",
              "dtype: object"
            ]
          },
          "metadata": {
            "tags": []
          },
          "execution_count": 80
        }
      ]
    },
    {
      "cell_type": "markdown",
      "metadata": {
        "id": "cuXh7CjGyB__"
      },
      "source": [
        "Identificando os valores únicos dessa *Series*"
      ]
    },
    {
      "cell_type": "code",
      "metadata": {
        "colab": {
          "base_uri": "https://localhost:8080/"
        },
        "id": "MkQJ748ExLBJ",
        "outputId": "c8cfcd97-cc4d-4ab4-af31-ebf710ad964f"
      },
      "source": [
        "s.unique()"
      ],
      "execution_count": null,
      "outputs": [
        {
          "output_type": "execute_result",
          "data": {
            "text/plain": [
              "array(['a', 's', 'd', 'e'], dtype=object)"
            ]
          },
          "metadata": {
            "tags": []
          },
          "execution_count": 81
        }
      ]
    },
    {
      "cell_type": "markdown",
      "metadata": {
        "id": "wofwdHUwyFyt"
      },
      "source": [
        "Identificando a frequência simples desses valores únicos"
      ]
    },
    {
      "cell_type": "code",
      "metadata": {
        "colab": {
          "base_uri": "https://localhost:8080/"
        },
        "id": "pTkUShhixNGJ",
        "outputId": "675a7895-a0d8-4289-aef8-e4e96d797748"
      },
      "source": [
        "s.value_counts()"
      ],
      "execution_count": null,
      "outputs": [
        {
          "output_type": "execute_result",
          "data": {
            "text/plain": [
              "a    5\n",
              "d    5\n",
              "s    4\n",
              "e    3\n",
              "dtype: int64"
            ]
          },
          "metadata": {
            "tags": []
          },
          "execution_count": 82
        }
      ]
    },
    {
      "cell_type": "markdown",
      "metadata": {
        "id": "VvJe7sbRyJ0N"
      },
      "source": [
        "Fazendo o mesmo para um *DataFrame*"
      ]
    },
    {
      "cell_type": "markdown",
      "metadata": {
        "id": "rWkc_ccbyS7s"
      },
      "source": [
        "###Carregando uma base de dados"
      ]
    },
    {
      "cell_type": "code",
      "metadata": {
        "colab": {
          "base_uri": "https://localhost:8080/",
          "height": 204
        },
        "id": "j1eaMTjHxQTx",
        "outputId": "ac138cd6-14c2-41cc-a7a4-d2596f267020"
      },
      "source": [
        "dados = pd.read_csv('/content/drive/MyDrive/Curso Alura/Python Pandas: Tratando e Analisando Dados/dados/aluguel.csv', sep=';')\n",
        "dados.head()"
      ],
      "execution_count": null,
      "outputs": [
        {
          "output_type": "execute_result",
          "data": {
            "text/html": [
              "<div>\n",
              "<style scoped>\n",
              "    .dataframe tbody tr th:only-of-type {\n",
              "        vertical-align: middle;\n",
              "    }\n",
              "\n",
              "    .dataframe tbody tr th {\n",
              "        vertical-align: top;\n",
              "    }\n",
              "\n",
              "    .dataframe thead th {\n",
              "        text-align: right;\n",
              "    }\n",
              "</style>\n",
              "<table border=\"1\" class=\"dataframe\">\n",
              "  <thead>\n",
              "    <tr style=\"text-align: right;\">\n",
              "      <th></th>\n",
              "      <th>Tipo</th>\n",
              "      <th>Bairro</th>\n",
              "      <th>Quartos</th>\n",
              "      <th>Vagas</th>\n",
              "      <th>Suites</th>\n",
              "      <th>Area</th>\n",
              "      <th>Valor</th>\n",
              "      <th>Condominio</th>\n",
              "      <th>IPTU</th>\n",
              "    </tr>\n",
              "  </thead>\n",
              "  <tbody>\n",
              "    <tr>\n",
              "      <th>0</th>\n",
              "      <td>Quitinete</td>\n",
              "      <td>Copacabana</td>\n",
              "      <td>1</td>\n",
              "      <td>0</td>\n",
              "      <td>0</td>\n",
              "      <td>40</td>\n",
              "      <td>1700.0</td>\n",
              "      <td>500.0</td>\n",
              "      <td>60.0</td>\n",
              "    </tr>\n",
              "    <tr>\n",
              "      <th>1</th>\n",
              "      <td>Casa</td>\n",
              "      <td>Jardim Botânico</td>\n",
              "      <td>2</td>\n",
              "      <td>0</td>\n",
              "      <td>1</td>\n",
              "      <td>100</td>\n",
              "      <td>7000.0</td>\n",
              "      <td>NaN</td>\n",
              "      <td>NaN</td>\n",
              "    </tr>\n",
              "    <tr>\n",
              "      <th>2</th>\n",
              "      <td>Conjunto Comercial/Sala</td>\n",
              "      <td>Barra da Tijuca</td>\n",
              "      <td>0</td>\n",
              "      <td>4</td>\n",
              "      <td>0</td>\n",
              "      <td>150</td>\n",
              "      <td>5200.0</td>\n",
              "      <td>4020.0</td>\n",
              "      <td>1111.0</td>\n",
              "    </tr>\n",
              "    <tr>\n",
              "      <th>3</th>\n",
              "      <td>Apartamento</td>\n",
              "      <td>Centro</td>\n",
              "      <td>1</td>\n",
              "      <td>0</td>\n",
              "      <td>0</td>\n",
              "      <td>15</td>\n",
              "      <td>800.0</td>\n",
              "      <td>390.0</td>\n",
              "      <td>20.0</td>\n",
              "    </tr>\n",
              "    <tr>\n",
              "      <th>4</th>\n",
              "      <td>Apartamento</td>\n",
              "      <td>Higienópolis</td>\n",
              "      <td>1</td>\n",
              "      <td>0</td>\n",
              "      <td>0</td>\n",
              "      <td>48</td>\n",
              "      <td>800.0</td>\n",
              "      <td>230.0</td>\n",
              "      <td>NaN</td>\n",
              "    </tr>\n",
              "  </tbody>\n",
              "</table>\n",
              "</div>"
            ],
            "text/plain": [
              "                      Tipo           Bairro  ...  Condominio    IPTU\n",
              "0                Quitinete       Copacabana  ...       500.0    60.0\n",
              "1                     Casa  Jardim Botânico  ...         NaN     NaN\n",
              "2  Conjunto Comercial/Sala  Barra da Tijuca  ...      4020.0  1111.0\n",
              "3              Apartamento           Centro  ...       390.0    20.0\n",
              "4              Apartamento     Higienópolis  ...       230.0     NaN\n",
              "\n",
              "[5 rows x 9 columns]"
            ]
          },
          "metadata": {
            "tags": []
          },
          "execution_count": 83
        }
      ]
    },
    {
      "cell_type": "code",
      "metadata": {
        "colab": {
          "base_uri": "https://localhost:8080/"
        },
        "id": "XhPGGszvxn2B",
        "outputId": "1f9592c9-c3ef-40e6-be74-91d270abd9df"
      },
      "source": [
        "dados.Tipo.unique()"
      ],
      "execution_count": null,
      "outputs": [
        {
          "output_type": "execute_result",
          "data": {
            "text/plain": [
              "array(['Quitinete', 'Casa', 'Conjunto Comercial/Sala', 'Apartamento',\n",
              "       'Casa de Condomínio', 'Prédio Inteiro', 'Flat', 'Loja/Salão',\n",
              "       'Galpão/Depósito/Armazém', 'Casa Comercial', 'Casa de Vila',\n",
              "       'Terreno Padrão', 'Box/Garagem', 'Loft',\n",
              "       'Loja Shopping/ Ct Comercial', 'Chácara', 'Loteamento/Condomínio',\n",
              "       'Sítio', 'Pousada/Chalé', 'Studio', 'Hotel', 'Indústria'],\n",
              "      dtype=object)"
            ]
          },
          "metadata": {
            "tags": []
          },
          "execution_count": 84
        }
      ]
    },
    {
      "cell_type": "code",
      "metadata": {
        "colab": {
          "base_uri": "https://localhost:8080/"
        },
        "id": "7ETBbDBIxrWo",
        "outputId": "0dc76f2b-02f6-4162-85df-c9b026f881bc"
      },
      "source": [
        "dados.Tipo.value_counts()"
      ],
      "execution_count": null,
      "outputs": [
        {
          "output_type": "execute_result",
          "data": {
            "text/plain": [
              "Apartamento                    19532\n",
              "Conjunto Comercial/Sala         6815\n",
              "Loja/Salão                      1426\n",
              "Casa de Condomínio               996\n",
              "Casa                             967\n",
              "Quitinete                        836\n",
              "Galpão/Depósito/Armazém          623\n",
              "Flat                             476\n",
              "Prédio Inteiro                   301\n",
              "Casa Comercial                   265\n",
              "Casa de Vila                     249\n",
              "Loja Shopping/ Ct Comercial      247\n",
              "Box/Garagem                       82\n",
              "Terreno Padrão                    70\n",
              "Loft                              51\n",
              "Sítio                             10\n",
              "Loteamento/Condomínio              5\n",
              "Studio                             4\n",
              "Hotel                              2\n",
              "Chácara                            1\n",
              "Indústria                          1\n",
              "Pousada/Chalé                      1\n",
              "Name: Tipo, dtype: int64"
            ]
          },
          "metadata": {
            "tags": []
          },
          "execution_count": 85
        }
      ]
    },
    {
      "cell_type": "markdown",
      "metadata": {
        "id": "rHqYW8T_0hXl"
      },
      "source": [
        "**Atividade Aula Extra 6**"
      ]
    },
    {
      "cell_type": "markdown",
      "metadata": {
        "id": "T0-D8np80kbF"
      },
      "source": [
        "Suponha que estejamos testando as moedas que serão utilizadas por árbitros de futebol nas competições da Copa do Mundo. Atualmente, estas moedas são personalizadas e utilizadas em certos momentos dos jogos para decidir, na sorte, uma disputa. Nosso objetivo é verificar se as moedas que serão utilizadas nas competições não sejam viciadas.\n",
        "\n",
        "Para isso testes foram realizados com cinco moedas e os resultados foram os seguintes:"
      ]
    },
    {
      "cell_type": "code",
      "metadata": {
        "id": "OXGmn4dJyjdC"
      },
      "source": [
        "m1 = 'CCcCCccCCCccCcCccCcCcCCCcCCcccCCcCcCcCcccCCcCcccCc'\n",
        "m2 = 'CCCCCccCccCcCCCCccCccccCccCccCCcCccCcCcCCcCccCccCc'\n",
        "m3 = 'CccCCccCcCCCCCCCCCCcccCccCCCCCCccCCCcccCCCcCCcccCC'\n",
        "m4 = 'cCCccCCccCCccCCccccCcCcCcCcCcCcCCCCccccCCCcCCcCCCC'\n",
        "m5 = 'CCCcCcCcCcCCCcCCcCcCCccCcCCcccCccCCcCcCcCcCcccccCc'"
      ],
      "execution_count": null,
      "outputs": []
    },
    {
      "cell_type": "markdown",
      "metadata": {
        "id": "3Dn6tDXl0pJV"
      },
      "source": [
        "Acima, temos o resultado de 50 lançamentos de cada moeda (m1, m2, m3, m4 e m5), onde c representa a ocorrência do evento CARA e C representa a ocorrência do evento COROA.\n",
        "\n",
        "Para tirarmos nossas conclusões, precisamos montar o seguinte DataFrame:"
      ]
    },
    {
      "cell_type": "markdown",
      "metadata": {
        "id": "1LMXuHEP0xNm"
      },
      "source": [
        "![image.png](data:image/png;base64,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)"
      ]
    },
    {
      "cell_type": "markdown",
      "metadata": {
        "id": "BmTFdFgg00dm"
      },
      "source": [
        "Onde Freq. C e Freq. c são, respectivamente, as frequências de COROAS e de CARAS em cada teste."
      ]
    },
    {
      "cell_type": "code",
      "metadata": {
        "colab": {
          "base_uri": "https://localhost:8080/",
          "height": 204
        },
        "id": "qoL-Yj8Lyjvx",
        "outputId": "ae3f2001-df24-4fd8-f32c-8f28e6957b82"
      },
      "source": [
        "eventos = {'m1': list(m1),\n",
        "           'm2': list(m2),\n",
        "           'm3': list(m3),\n",
        "           'm4': list(m4), \n",
        "           'm5': list(m5)}\n",
        "moedas = pd.DataFrame(eventos)\n",
        "moedas.head()"
      ],
      "execution_count": null,
      "outputs": [
        {
          "output_type": "execute_result",
          "data": {
            "text/html": [
              "<div>\n",
              "<style scoped>\n",
              "    .dataframe tbody tr th:only-of-type {\n",
              "        vertical-align: middle;\n",
              "    }\n",
              "\n",
              "    .dataframe tbody tr th {\n",
              "        vertical-align: top;\n",
              "    }\n",
              "\n",
              "    .dataframe thead th {\n",
              "        text-align: right;\n",
              "    }\n",
              "</style>\n",
              "<table border=\"1\" class=\"dataframe\">\n",
              "  <thead>\n",
              "    <tr style=\"text-align: right;\">\n",
              "      <th></th>\n",
              "      <th>m1</th>\n",
              "      <th>m2</th>\n",
              "      <th>m3</th>\n",
              "      <th>m4</th>\n",
              "      <th>m5</th>\n",
              "    </tr>\n",
              "  </thead>\n",
              "  <tbody>\n",
              "    <tr>\n",
              "      <th>0</th>\n",
              "      <td>C</td>\n",
              "      <td>C</td>\n",
              "      <td>C</td>\n",
              "      <td>c</td>\n",
              "      <td>C</td>\n",
              "    </tr>\n",
              "    <tr>\n",
              "      <th>1</th>\n",
              "      <td>C</td>\n",
              "      <td>C</td>\n",
              "      <td>c</td>\n",
              "      <td>C</td>\n",
              "      <td>C</td>\n",
              "    </tr>\n",
              "    <tr>\n",
              "      <th>2</th>\n",
              "      <td>c</td>\n",
              "      <td>C</td>\n",
              "      <td>c</td>\n",
              "      <td>C</td>\n",
              "      <td>C</td>\n",
              "    </tr>\n",
              "    <tr>\n",
              "      <th>3</th>\n",
              "      <td>C</td>\n",
              "      <td>C</td>\n",
              "      <td>C</td>\n",
              "      <td>c</td>\n",
              "      <td>c</td>\n",
              "    </tr>\n",
              "    <tr>\n",
              "      <th>4</th>\n",
              "      <td>C</td>\n",
              "      <td>C</td>\n",
              "      <td>C</td>\n",
              "      <td>c</td>\n",
              "      <td>C</td>\n",
              "    </tr>\n",
              "  </tbody>\n",
              "</table>\n",
              "</div>"
            ],
            "text/plain": [
              "  m1 m2 m3 m4 m5\n",
              "0  C  C  C  c  C\n",
              "1  C  C  c  C  C\n",
              "2  c  C  c  C  C\n",
              "3  C  C  C  c  c\n",
              "4  C  C  C  c  C"
            ]
          },
          "metadata": {
            "tags": []
          },
          "execution_count": 87
        }
      ]
    },
    {
      "cell_type": "code",
      "metadata": {
        "colab": {
          "base_uri": "https://localhost:8080/",
          "height": 111
        },
        "id": "d5Yis9qdyzCx",
        "outputId": "1bb5ada8-dc2e-4d7d-f6dd-27863cf4621f"
      },
      "source": [
        "df = pd.DataFrame(data=['Coroa', 'Cara'], \n",
        "                  index=['C', 'c'],\n",
        "                  columns=['Faces'])\n",
        "df"
      ],
      "execution_count": null,
      "outputs": [
        {
          "output_type": "execute_result",
          "data": {
            "text/html": [
              "<div>\n",
              "<style scoped>\n",
              "    .dataframe tbody tr th:only-of-type {\n",
              "        vertical-align: middle;\n",
              "    }\n",
              "\n",
              "    .dataframe tbody tr th {\n",
              "        vertical-align: top;\n",
              "    }\n",
              "\n",
              "    .dataframe thead th {\n",
              "        text-align: right;\n",
              "    }\n",
              "</style>\n",
              "<table border=\"1\" class=\"dataframe\">\n",
              "  <thead>\n",
              "    <tr style=\"text-align: right;\">\n",
              "      <th></th>\n",
              "      <th>Faces</th>\n",
              "    </tr>\n",
              "  </thead>\n",
              "  <tbody>\n",
              "    <tr>\n",
              "      <th>C</th>\n",
              "      <td>Coroa</td>\n",
              "    </tr>\n",
              "    <tr>\n",
              "      <th>c</th>\n",
              "      <td>Cara</td>\n",
              "    </tr>\n",
              "  </tbody>\n",
              "</table>\n",
              "</div>"
            ],
            "text/plain": [
              "   Faces\n",
              "C  Coroa\n",
              "c   Cara"
            ]
          },
          "metadata": {
            "tags": []
          },
          "execution_count": 88
        }
      ]
    },
    {
      "cell_type": "code",
      "metadata": {
        "id": "WwAOe4QizX-x"
      },
      "source": [
        "for m in moedas:\n",
        "    df = pd.concat([df, moedas[m].value_counts()], axis=1)"
      ],
      "execution_count": null,
      "outputs": []
    },
    {
      "cell_type": "code",
      "metadata": {
        "colab": {
          "base_uri": "https://localhost:8080/",
          "height": 111
        },
        "id": "ERRSt4OczfTZ",
        "outputId": "43d06a4f-4405-4613-8ec9-60b352914d3d"
      },
      "source": [
        "df"
      ],
      "execution_count": null,
      "outputs": [
        {
          "output_type": "execute_result",
          "data": {
            "text/html": [
              "<div>\n",
              "<style scoped>\n",
              "    .dataframe tbody tr th:only-of-type {\n",
              "        vertical-align: middle;\n",
              "    }\n",
              "\n",
              "    .dataframe tbody tr th {\n",
              "        vertical-align: top;\n",
              "    }\n",
              "\n",
              "    .dataframe thead th {\n",
              "        text-align: right;\n",
              "    }\n",
              "</style>\n",
              "<table border=\"1\" class=\"dataframe\">\n",
              "  <thead>\n",
              "    <tr style=\"text-align: right;\">\n",
              "      <th></th>\n",
              "      <th>Faces</th>\n",
              "      <th>m1</th>\n",
              "      <th>m2</th>\n",
              "      <th>m3</th>\n",
              "      <th>m4</th>\n",
              "      <th>m5</th>\n",
              "    </tr>\n",
              "  </thead>\n",
              "  <tbody>\n",
              "    <tr>\n",
              "      <th>C</th>\n",
              "      <td>Coroa</td>\n",
              "      <td>25</td>\n",
              "      <td>24</td>\n",
              "      <td>31</td>\n",
              "      <td>27</td>\n",
              "      <td>25</td>\n",
              "    </tr>\n",
              "    <tr>\n",
              "      <th>c</th>\n",
              "      <td>Cara</td>\n",
              "      <td>25</td>\n",
              "      <td>26</td>\n",
              "      <td>19</td>\n",
              "      <td>23</td>\n",
              "      <td>25</td>\n",
              "    </tr>\n",
              "  </tbody>\n",
              "</table>\n",
              "</div>"
            ],
            "text/plain": [
              "   Faces  m1  m2  m3  m4  m5\n",
              "C  Coroa  25  24  31  27  25\n",
              "c   Cara  25  26  19  23  25"
            ]
          },
          "metadata": {
            "tags": []
          },
          "execution_count": 90
        }
      ]
    },
    {
      "cell_type": "markdown",
      "metadata": {
        "id": "AC9bnUBV8Jo1"
      },
      "source": [
        "##AULA EXTRA 7"
      ]
    },
    {
      "cell_type": "markdown",
      "metadata": {
        "id": "kMOq4KT28K91"
      },
      "source": [
        "Criando Faixas de Valor"
      ]
    },
    {
      "cell_type": "markdown",
      "metadata": {
        "id": "qcbXDoOm8QAV"
      },
      "source": [
        "###Importando os pacotes"
      ]
    },
    {
      "cell_type": "code",
      "metadata": {
        "id": "C4zfRijv8KMh"
      },
      "source": [
        "import pandas as pd"
      ],
      "execution_count": null,
      "outputs": []
    },
    {
      "cell_type": "markdown",
      "metadata": {
        "id": "fEubgzFZ8SCF"
      },
      "source": [
        "###Carregando a base de dados"
      ]
    },
    {
      "cell_type": "code",
      "metadata": {
        "colab": {
          "base_uri": "https://localhost:8080/",
          "height": 204
        },
        "id": "Ta5zKe9j8PgY",
        "outputId": "ff733bef-fb91-457a-b23e-aef096eb0415"
      },
      "source": [
        "dados = pd.read_csv('/content/drive/MyDrive/Curso Alura/Python Pandas: Tratando e Analisando Dados/dados/aluguel_modificado.csv', sep=';')\n",
        "dados.head()"
      ],
      "execution_count": null,
      "outputs": [
        {
          "output_type": "execute_result",
          "data": {
            "text/html": [
              "<div>\n",
              "<style scoped>\n",
              "    .dataframe tbody tr th:only-of-type {\n",
              "        vertical-align: middle;\n",
              "    }\n",
              "\n",
              "    .dataframe tbody tr th {\n",
              "        vertical-align: top;\n",
              "    }\n",
              "\n",
              "    .dataframe thead th {\n",
              "        text-align: right;\n",
              "    }\n",
              "</style>\n",
              "<table border=\"1\" class=\"dataframe\">\n",
              "  <thead>\n",
              "    <tr style=\"text-align: right;\">\n",
              "      <th></th>\n",
              "      <th>Tipo</th>\n",
              "      <th>Bairro</th>\n",
              "      <th>Quartos</th>\n",
              "      <th>Vagas</th>\n",
              "      <th>Suites</th>\n",
              "      <th>Area</th>\n",
              "      <th>Valor</th>\n",
              "      <th>Condominio</th>\n",
              "      <th>IPTU</th>\n",
              "      <th>Valor m2</th>\n",
              "      <th>Tipo Agregado</th>\n",
              "    </tr>\n",
              "  </thead>\n",
              "  <tbody>\n",
              "    <tr>\n",
              "      <th>0</th>\n",
              "      <td>Quitinete</td>\n",
              "      <td>Copacabana</td>\n",
              "      <td>1</td>\n",
              "      <td>0</td>\n",
              "      <td>0</td>\n",
              "      <td>40</td>\n",
              "      <td>1700.0</td>\n",
              "      <td>500.0</td>\n",
              "      <td>60.0</td>\n",
              "      <td>42.50</td>\n",
              "      <td>Apartamento</td>\n",
              "    </tr>\n",
              "    <tr>\n",
              "      <th>1</th>\n",
              "      <td>Casa</td>\n",
              "      <td>Jardim Botânico</td>\n",
              "      <td>2</td>\n",
              "      <td>0</td>\n",
              "      <td>1</td>\n",
              "      <td>100</td>\n",
              "      <td>7000.0</td>\n",
              "      <td>0.0</td>\n",
              "      <td>0.0</td>\n",
              "      <td>70.00</td>\n",
              "      <td>Casa</td>\n",
              "    </tr>\n",
              "    <tr>\n",
              "      <th>2</th>\n",
              "      <td>Apartamento</td>\n",
              "      <td>Centro</td>\n",
              "      <td>1</td>\n",
              "      <td>0</td>\n",
              "      <td>0</td>\n",
              "      <td>15</td>\n",
              "      <td>800.0</td>\n",
              "      <td>390.0</td>\n",
              "      <td>20.0</td>\n",
              "      <td>53.33</td>\n",
              "      <td>Apartamento</td>\n",
              "    </tr>\n",
              "    <tr>\n",
              "      <th>3</th>\n",
              "      <td>Apartamento</td>\n",
              "      <td>Higienópolis</td>\n",
              "      <td>1</td>\n",
              "      <td>0</td>\n",
              "      <td>0</td>\n",
              "      <td>48</td>\n",
              "      <td>800.0</td>\n",
              "      <td>230.0</td>\n",
              "      <td>0.0</td>\n",
              "      <td>16.67</td>\n",
              "      <td>Apartamento</td>\n",
              "    </tr>\n",
              "    <tr>\n",
              "      <th>4</th>\n",
              "      <td>Apartamento</td>\n",
              "      <td>Cachambi</td>\n",
              "      <td>2</td>\n",
              "      <td>0</td>\n",
              "      <td>0</td>\n",
              "      <td>50</td>\n",
              "      <td>1300.0</td>\n",
              "      <td>301.0</td>\n",
              "      <td>17.0</td>\n",
              "      <td>26.00</td>\n",
              "      <td>Apartamento</td>\n",
              "    </tr>\n",
              "  </tbody>\n",
              "</table>\n",
              "</div>"
            ],
            "text/plain": [
              "          Tipo           Bairro  Quartos  ...  IPTU  Valor m2  Tipo Agregado\n",
              "0    Quitinete       Copacabana        1  ...  60.0     42.50    Apartamento\n",
              "1         Casa  Jardim Botânico        2  ...   0.0     70.00           Casa\n",
              "2  Apartamento           Centro        1  ...  20.0     53.33    Apartamento\n",
              "3  Apartamento     Higienópolis        1  ...   0.0     16.67    Apartamento\n",
              "4  Apartamento         Cachambi        2  ...  17.0     26.00    Apartamento\n",
              "\n",
              "[5 rows x 11 columns]"
            ]
          },
          "metadata": {
            "tags": []
          },
          "execution_count": 93
        }
      ]
    },
    {
      "cell_type": "markdown",
      "metadata": {
        "id": "nhN5aAlF9VqF"
      },
      "source": [
        "Faixas de valor - Quartos\n",
        "1.   1 e 2\n",
        "2.   3 e 4\n",
        "3.   5 e 6\n",
        "4.   7 ou mais\n",
        "\n"
      ]
    },
    {
      "cell_type": "markdown",
      "metadata": {
        "id": "MNuD374X_54q"
      },
      "source": [
        "Usando o método cut()\n",
        "[Documentação](https://pandas.pydata.org/pandas-docs/stable/reference/api/pandas.cut.html)"
      ]
    },
    {
      "cell_type": "code",
      "metadata": {
        "id": "iBuhvNlE8dmg"
      },
      "source": [
        "classes = [0, 2, 4, 6, 100]"
      ],
      "execution_count": null,
      "outputs": []
    },
    {
      "cell_type": "code",
      "metadata": {
        "id": "9aiQCh8v9hK3"
      },
      "source": [
        "quartos = pd.cut(dados.Quartos, bins=classes)"
      ],
      "execution_count": null,
      "outputs": []
    },
    {
      "cell_type": "code",
      "metadata": {
        "colab": {
          "base_uri": "https://localhost:8080/"
        },
        "id": "csBM583C9tSR",
        "outputId": "2ad8f171-e647-4227-ddf6-142b43193577"
      },
      "source": [
        "quartos"
      ],
      "execution_count": null,
      "outputs": [
        {
          "output_type": "execute_result",
          "data": {
            "text/plain": [
              "0        (0.0, 2.0]\n",
              "1        (0.0, 2.0]\n",
              "2        (0.0, 2.0]\n",
              "3        (0.0, 2.0]\n",
              "4        (0.0, 2.0]\n",
              "            ...    \n",
              "21821    (0.0, 2.0]\n",
              "21822           NaN\n",
              "21823    (2.0, 4.0]\n",
              "21824    (0.0, 2.0]\n",
              "21825    (0.0, 2.0]\n",
              "Name: Quartos, Length: 21826, dtype: category\n",
              "Categories (4, interval[int64]): [(0, 2] < (2, 4] < (4, 6] < (6, 100]]"
            ]
          },
          "metadata": {
            "tags": []
          },
          "execution_count": 96
        }
      ]
    },
    {
      "cell_type": "code",
      "metadata": {
        "colab": {
          "base_uri": "https://localhost:8080/"
        },
        "id": "xVtLoJms9uQg",
        "outputId": "ebed2f55-de22-4f34-cd11-3bc72eefc761"
      },
      "source": [
        "pd.value_counts(quartos)"
      ],
      "execution_count": null,
      "outputs": [
        {
          "output_type": "execute_result",
          "data": {
            "text/plain": [
              "(0, 2]      11250\n",
              "(2, 4]       9681\n",
              "(4, 6]        686\n",
              "(6, 100]       50\n",
              "Name: Quartos, dtype: int64"
            ]
          },
          "metadata": {
            "tags": []
          },
          "execution_count": 97
        }
      ]
    },
    {
      "cell_type": "code",
      "metadata": {
        "id": "cQHAibp3-YFQ"
      },
      "source": [
        "labels = ['1 e 2 quartos', '3 e 4 quartos', '5 e 6 quartos', '7 quartos ou mais']"
      ],
      "execution_count": null,
      "outputs": []
    },
    {
      "cell_type": "code",
      "metadata": {
        "id": "d1OjBLFx-sjI"
      },
      "source": [
        "quartos = pd.cut(dados.Quartos, bins=classes, labels=labels)"
      ],
      "execution_count": null,
      "outputs": []
    },
    {
      "cell_type": "code",
      "metadata": {
        "colab": {
          "base_uri": "https://localhost:8080/"
        },
        "id": "g_26QGwR-xe3",
        "outputId": "a7f73762-ca7d-4b60-8566-e50ef6e1813a"
      },
      "source": [
        "pd.value_counts(quartos)"
      ],
      "execution_count": null,
      "outputs": [
        {
          "output_type": "execute_result",
          "data": {
            "text/plain": [
              "1 e 2 quartos        11250\n",
              "3 e 4 quartos         9681\n",
              "5 e 6 quartos          686\n",
              "7 quartos ou mais       50\n",
              "Name: Quartos, dtype: int64"
            ]
          },
          "metadata": {
            "tags": []
          },
          "execution_count": 102
        }
      ]
    },
    {
      "cell_type": "markdown",
      "metadata": {
        "id": "nkEfEf6n_L0Q"
      },
      "source": [
        "Observe que há registros cujo número de quartos é 0."
      ]
    },
    {
      "cell_type": "code",
      "metadata": {
        "colab": {
          "base_uri": "https://localhost:8080/"
        },
        "id": "9MD9180a-zXH",
        "outputId": "35c0a24e-982a-4066-899c-3a31d9534450"
      },
      "source": [
        "dados.Quartos.min()"
      ],
      "execution_count": null,
      "outputs": [
        {
          "output_type": "execute_result",
          "data": {
            "text/plain": [
              "0"
            ]
          },
          "metadata": {
            "tags": []
          },
          "execution_count": 103
        }
      ]
    },
    {
      "cell_type": "markdown",
      "metadata": {
        "id": "NgovoQOa_T5N"
      },
      "source": [
        "Porém, não estamos incluindo esses registros na frequência. Podemos fazer isso, da forma:"
      ]
    },
    {
      "cell_type": "code",
      "metadata": {
        "id": "ZA0BmX74_Srg"
      },
      "source": [
        "labels = ['0, 1 e 2 quartos', '3 e 4 quartos', '5 e 6 quartos', '7 quartos ou mais']"
      ],
      "execution_count": null,
      "outputs": []
    },
    {
      "cell_type": "code",
      "metadata": {
        "id": "20XPDefy_c_G"
      },
      "source": [
        "quartos = pd.cut(dados.Quartos, bins=classes, labels=labels, include_lowest=True)"
      ],
      "execution_count": null,
      "outputs": []
    },
    {
      "cell_type": "code",
      "metadata": {
        "colab": {
          "base_uri": "https://localhost:8080/"
        },
        "id": "LNwQxiMl_geS",
        "outputId": "da926d51-2bee-4200-9156-2b50c48d0211"
      },
      "source": [
        "pd.value_counts(quartos)"
      ],
      "execution_count": null,
      "outputs": [
        {
          "output_type": "execute_result",
          "data": {
            "text/plain": [
              "0, 1 e 2 quartos     11409\n",
              "3 e 4 quartos         9681\n",
              "5 e 6 quartos          686\n",
              "7 quartos ou mais       50\n",
              "Name: Quartos, dtype: int64"
            ]
          },
          "metadata": {
            "tags": []
          },
          "execution_count": 106
        }
      ]
    },
    {
      "cell_type": "markdown",
      "metadata": {
        "id": "j-75mWic-gqX"
      },
      "source": [
        "##AULA EXTRA 8"
      ]
    },
    {
      "cell_type": "markdown",
      "metadata": {
        "id": "U9t2xAsi-lgb"
      },
      "source": [
        "Outliers"
      ]
    },
    {
      "cell_type": "markdown",
      "metadata": {
        "id": "_xr20LqP-nPk"
      },
      "source": [
        "###Exercício Estatísticas do box-plot"
      ]
    },
    {
      "cell_type": "markdown",
      "metadata": {
        "id": "WsXdGnc6-tV0"
      },
      "source": [
        "**Importando os pacotes**"
      ]
    },
    {
      "cell_type": "code",
      "metadata": {
        "id": "fJbkUQg1AYng"
      },
      "source": [
        "import pandas as pd"
      ],
      "execution_count": null,
      "outputs": []
    },
    {
      "cell_type": "markdown",
      "metadata": {
        "id": "aq_GecvV-yAv"
      },
      "source": [
        "**Carregando a base de dados**"
      ]
    },
    {
      "cell_type": "code",
      "metadata": {
        "colab": {
          "base_uri": "https://localhost:8080/",
          "height": 204
        },
        "id": "ETV0ltZf-w6l",
        "outputId": "787c437e-53d7-4dd9-c6e0-c7aa330d8c79"
      },
      "source": [
        "dados_amostra = pd.read_csv('/content/drive/MyDrive/Curso Alura/Python Pandas: Tratando e Analisando Dados/extras/dados/aluguel_amostra.csv', sep=';')\n",
        "dados_amostra.head()"
      ],
      "execution_count": null,
      "outputs": [
        {
          "output_type": "execute_result",
          "data": {
            "text/html": [
              "<div>\n",
              "<style scoped>\n",
              "    .dataframe tbody tr th:only-of-type {\n",
              "        vertical-align: middle;\n",
              "    }\n",
              "\n",
              "    .dataframe tbody tr th {\n",
              "        vertical-align: top;\n",
              "    }\n",
              "\n",
              "    .dataframe thead th {\n",
              "        text-align: right;\n",
              "    }\n",
              "</style>\n",
              "<table border=\"1\" class=\"dataframe\">\n",
              "  <thead>\n",
              "    <tr style=\"text-align: right;\">\n",
              "      <th></th>\n",
              "      <th>Tipo</th>\n",
              "      <th>Bairro</th>\n",
              "      <th>Quartos</th>\n",
              "      <th>Vagas</th>\n",
              "      <th>Suites</th>\n",
              "      <th>Area</th>\n",
              "      <th>Valor</th>\n",
              "      <th>Condominio</th>\n",
              "      <th>IPTU</th>\n",
              "      <th>Valor m2</th>\n",
              "      <th>Tipo Agregado</th>\n",
              "    </tr>\n",
              "  </thead>\n",
              "  <tbody>\n",
              "    <tr>\n",
              "      <th>0</th>\n",
              "      <td>Apartamento</td>\n",
              "      <td>Recreio dos Bandeirantes</td>\n",
              "      <td>3</td>\n",
              "      <td>2</td>\n",
              "      <td>1</td>\n",
              "      <td>320</td>\n",
              "      <td>3200.0</td>\n",
              "      <td>1319.0</td>\n",
              "      <td>0.0</td>\n",
              "      <td>10.00</td>\n",
              "      <td>Apartamento</td>\n",
              "    </tr>\n",
              "    <tr>\n",
              "      <th>1</th>\n",
              "      <td>Apartamento</td>\n",
              "      <td>Maracanã</td>\n",
              "      <td>2</td>\n",
              "      <td>0</td>\n",
              "      <td>0</td>\n",
              "      <td>59</td>\n",
              "      <td>800.0</td>\n",
              "      <td>725.0</td>\n",
              "      <td>47.0</td>\n",
              "      <td>13.56</td>\n",
              "      <td>Apartamento</td>\n",
              "    </tr>\n",
              "    <tr>\n",
              "      <th>2</th>\n",
              "      <td>Apartamento</td>\n",
              "      <td>Leblon</td>\n",
              "      <td>3</td>\n",
              "      <td>2</td>\n",
              "      <td>1</td>\n",
              "      <td>147</td>\n",
              "      <td>7500.0</td>\n",
              "      <td>1000.0</td>\n",
              "      <td>381.0</td>\n",
              "      <td>51.02</td>\n",
              "      <td>Apartamento</td>\n",
              "    </tr>\n",
              "    <tr>\n",
              "      <th>3</th>\n",
              "      <td>Apartamento</td>\n",
              "      <td>São Conrado</td>\n",
              "      <td>3</td>\n",
              "      <td>3</td>\n",
              "      <td>3</td>\n",
              "      <td>270</td>\n",
              "      <td>14999.0</td>\n",
              "      <td>2800.0</td>\n",
              "      <td>1200.0</td>\n",
              "      <td>55.55</td>\n",
              "      <td>Apartamento</td>\n",
              "    </tr>\n",
              "    <tr>\n",
              "      <th>4</th>\n",
              "      <td>Apartamento</td>\n",
              "      <td>Tijuca</td>\n",
              "      <td>2</td>\n",
              "      <td>1</td>\n",
              "      <td>0</td>\n",
              "      <td>65</td>\n",
              "      <td>1200.0</td>\n",
              "      <td>640.0</td>\n",
              "      <td>97.0</td>\n",
              "      <td>18.46</td>\n",
              "      <td>Apartamento</td>\n",
              "    </tr>\n",
              "  </tbody>\n",
              "</table>\n",
              "</div>"
            ],
            "text/plain": [
              "          Tipo                    Bairro  ...  Valor m2  Tipo Agregado\n",
              "0  Apartamento  Recreio dos Bandeirantes  ...     10.00    Apartamento\n",
              "1  Apartamento                  Maracanã  ...     13.56    Apartamento\n",
              "2  Apartamento                    Leblon  ...     51.02    Apartamento\n",
              "3  Apartamento               São Conrado  ...     55.55    Apartamento\n",
              "4  Apartamento                    Tijuca  ...     18.46    Apartamento\n",
              "\n",
              "[5 rows x 11 columns]"
            ]
          },
          "metadata": {
            "tags": []
          },
          "execution_count": 2
        }
      ]
    },
    {
      "cell_type": "markdown",
      "metadata": {
        "id": "LxMu8JN5_BUy"
      },
      "source": [
        "Nosso objetivo neste exercício é obter o conjunto de estatísticas representado na figura acima. Para isso, utilize a base de dados *aluguel_amostra.csv* para realizar suas análises utilizando como variável alvo o Valor m2 (valor do metro quadrado). Lembrando que Q1 representa o 1º quartil e Q3 o 3º quartil, selecione o item com a resposta correta (considere somente duas casas decimais)."
      ]
    },
    {
      "cell_type": "code",
      "metadata": {
        "id": "voJjr-XQ-8lg"
      },
      "source": [
        "Q1 = dados_amostra['Valor m2'].quantile(.25).round(2)\n",
        "Q3 = dados_amostra['Valor m2'].quantile(.75).round(2)\n",
        "IIQ = (Q3 - Q1).round(2)\n",
        "limite_inferior = (Q1 - 1.5*IIQ).round(2)\n",
        "limite_superior = (Q3 + 1.5*IIQ).round(2)"
      ],
      "execution_count": null,
      "outputs": []
    },
    {
      "cell_type": "code",
      "metadata": {
        "colab": {
          "base_uri": "https://localhost:8080/"
        },
        "id": "E0bfSPr2_hA2",
        "outputId": "e9213330-0855-436a-9835-6de58c527ed3"
      },
      "source": [
        "print(f'[Q1] -> {Q1}')\n",
        "print(f'[Q3] -> {Q3}')\n",
        "print(f'[IIQ] -> {IIQ}')\n",
        "print(f'[Q1 - 1.5*IIQ] -> {limite_inferior}')\n",
        "print(f'[Q3 + 1.5*IIQ] -> {limite_superior}')"
      ],
      "execution_count": null,
      "outputs": [
        {
          "output_type": "stream",
          "text": [
            "[Q1] -> 21.25\n",
            "[Q3] -> 42.31\n",
            "[IIQ] -> 21.06\n",
            "[Q1 - 1.5*IIQ] -> -10.34\n",
            "[Q3 + 1.5*IIQ] -> 73.9\n"
          ],
          "name": "stdout"
        }
      ]
    },
    {
      "cell_type": "markdown",
      "metadata": {
        "id": "_6YwMD98Ew6V"
      },
      "source": [
        "###Mais sobre Gráficos"
      ]
    },
    {
      "cell_type": "markdown",
      "metadata": {
        "id": "YmJOD5VmFCU8"
      },
      "source": [
        "**Importando os pacotes**"
      ]
    },
    {
      "cell_type": "code",
      "metadata": {
        "id": "bliviaoD_zTP"
      },
      "source": [
        "import pandas as pd\n",
        "import matplotlib.pyplot as plt\n",
        "plt.rc('figure', figsize=(15,8))"
      ],
      "execution_count": null,
      "outputs": []
    },
    {
      "cell_type": "markdown",
      "metadata": {
        "id": "9AeP6I5VFGgZ"
      },
      "source": [
        "**Carregando a base de dados**"
      ]
    },
    {
      "cell_type": "code",
      "metadata": {
        "id": "A-u_k4G4E_DA"
      },
      "source": [
        "dados = pd.read_csv('/content/drive/MyDrive/Curso Alura/Python Pandas: Tratando e Analisando Dados/dados/aluguel_residencial_sem_outliers.csv',\n",
        "                  sep=';')"
      ],
      "execution_count": null,
      "outputs": []
    },
    {
      "cell_type": "code",
      "metadata": {
        "colab": {
          "base_uri": "https://localhost:8080/",
          "height": 204
        },
        "id": "Lk43Wf5RFRrf",
        "outputId": "dbc1d169-1ace-4057-b7e8-a2cd89f0f44b"
      },
      "source": [
        "dados.head()"
      ],
      "execution_count": null,
      "outputs": [
        {
          "output_type": "execute_result",
          "data": {
            "text/html": [
              "<div>\n",
              "<style scoped>\n",
              "    .dataframe tbody tr th:only-of-type {\n",
              "        vertical-align: middle;\n",
              "    }\n",
              "\n",
              "    .dataframe tbody tr th {\n",
              "        vertical-align: top;\n",
              "    }\n",
              "\n",
              "    .dataframe thead th {\n",
              "        text-align: right;\n",
              "    }\n",
              "</style>\n",
              "<table border=\"1\" class=\"dataframe\">\n",
              "  <thead>\n",
              "    <tr style=\"text-align: right;\">\n",
              "      <th></th>\n",
              "      <th>Tipo</th>\n",
              "      <th>Bairro</th>\n",
              "      <th>Quartos</th>\n",
              "      <th>Vagas</th>\n",
              "      <th>Suites</th>\n",
              "      <th>Area</th>\n",
              "      <th>Valor</th>\n",
              "      <th>Condominio</th>\n",
              "      <th>IPTU</th>\n",
              "      <th>Valor m2</th>\n",
              "      <th>Tipo Agregado</th>\n",
              "    </tr>\n",
              "  </thead>\n",
              "  <tbody>\n",
              "    <tr>\n",
              "      <th>0</th>\n",
              "      <td>Apartamento</td>\n",
              "      <td>Centro</td>\n",
              "      <td>1</td>\n",
              "      <td>0</td>\n",
              "      <td>0</td>\n",
              "      <td>15</td>\n",
              "      <td>800.0</td>\n",
              "      <td>390.0</td>\n",
              "      <td>20.0</td>\n",
              "      <td>53.33</td>\n",
              "      <td>Apartamento</td>\n",
              "    </tr>\n",
              "    <tr>\n",
              "      <th>1</th>\n",
              "      <td>Apartamento</td>\n",
              "      <td>Higienópolis</td>\n",
              "      <td>1</td>\n",
              "      <td>0</td>\n",
              "      <td>0</td>\n",
              "      <td>48</td>\n",
              "      <td>800.0</td>\n",
              "      <td>230.0</td>\n",
              "      <td>0.0</td>\n",
              "      <td>16.67</td>\n",
              "      <td>Apartamento</td>\n",
              "    </tr>\n",
              "    <tr>\n",
              "      <th>2</th>\n",
              "      <td>Apartamento</td>\n",
              "      <td>Cachambi</td>\n",
              "      <td>2</td>\n",
              "      <td>0</td>\n",
              "      <td>0</td>\n",
              "      <td>50</td>\n",
              "      <td>1300.0</td>\n",
              "      <td>301.0</td>\n",
              "      <td>17.0</td>\n",
              "      <td>26.00</td>\n",
              "      <td>Apartamento</td>\n",
              "    </tr>\n",
              "    <tr>\n",
              "      <th>3</th>\n",
              "      <td>Apartamento</td>\n",
              "      <td>Grajaú</td>\n",
              "      <td>2</td>\n",
              "      <td>1</td>\n",
              "      <td>0</td>\n",
              "      <td>70</td>\n",
              "      <td>1500.0</td>\n",
              "      <td>642.0</td>\n",
              "      <td>74.0</td>\n",
              "      <td>21.43</td>\n",
              "      <td>Apartamento</td>\n",
              "    </tr>\n",
              "    <tr>\n",
              "      <th>4</th>\n",
              "      <td>Apartamento</td>\n",
              "      <td>Lins de Vasconcelos</td>\n",
              "      <td>3</td>\n",
              "      <td>1</td>\n",
              "      <td>1</td>\n",
              "      <td>90</td>\n",
              "      <td>1500.0</td>\n",
              "      <td>455.0</td>\n",
              "      <td>14.0</td>\n",
              "      <td>16.67</td>\n",
              "      <td>Apartamento</td>\n",
              "    </tr>\n",
              "  </tbody>\n",
              "</table>\n",
              "</div>"
            ],
            "text/plain": [
              "          Tipo               Bairro  Quartos  ...  IPTU  Valor m2  Tipo Agregado\n",
              "0  Apartamento               Centro        1  ...  20.0     53.33    Apartamento\n",
              "1  Apartamento         Higienópolis        1  ...   0.0     16.67    Apartamento\n",
              "2  Apartamento             Cachambi        2  ...  17.0     26.00    Apartamento\n",
              "3  Apartamento               Grajaú        2  ...  74.0     21.43    Apartamento\n",
              "4  Apartamento  Lins de Vasconcelos        3  ...  14.0     16.67    Apartamento\n",
              "\n",
              "[5 rows x 11 columns]"
            ]
          },
          "metadata": {
            "tags": []
          },
          "execution_count": 10
        }
      ]
    },
    {
      "cell_type": "markdown",
      "metadata": {
        "id": "cPF19FD7FYOp"
      },
      "source": [
        "**Criando os gráficos**"
      ]
    },
    {
      "cell_type": "code",
      "metadata": {
        "colab": {
          "base_uri": "https://localhost:8080/",
          "height": 34
        },
        "id": "0zVv08-0FS62",
        "outputId": "2b18fd02-1e5d-45b8-e4f2-a81bbd639673"
      },
      "source": [
        "area = plt.figure()"
      ],
      "execution_count": null,
      "outputs": [
        {
          "output_type": "display_data",
          "data": {
            "text/plain": [
              "<Figure size 1080x576 with 0 Axes>"
            ]
          },
          "metadata": {
            "tags": []
          }
        }
      ]
    },
    {
      "cell_type": "code",
      "metadata": {
        "id": "GlUMn6E_FbpG"
      },
      "source": [
        "g1 = area.add_subplot(2,2,1)\n",
        "g2 = area.add_subplot(2,2,2)\n",
        "g3 = area.add_subplot(2,2,3)\n",
        "g4 = area.add_subplot(2,2,4)"
      ],
      "execution_count": null,
      "outputs": []
    },
    {
      "cell_type": "code",
      "metadata": {
        "colab": {
          "base_uri": "https://localhost:8080/"
        },
        "id": "i1D0XFJSFktW",
        "outputId": "872fba70-3349-4e70-ccb9-42b99181c025"
      },
      "source": [
        "g1.scatter(dados.Valor, dados.Area)\n",
        "g1.set_title('Valor X Área')\n",
        "\n",
        "g2.hist(dados.Valor)\n",
        "g2.set_title('Histograma do Valor')\n",
        "\n",
        "dados_g3 = dados.Valor.sample(100) #criando uma amostra aleatória\n",
        "dados_g3.index = range(dados_g3.shape[0]) #refazendo o index\n",
        "g3.plot(dados_g3)\n",
        "g3.set_title('Amostra (Valor)')\n",
        "\n",
        "grupo_g4 = dados.groupby('Tipo')['Valor']\n",
        "label = grupo_g4.mean().index\n",
        "valores = grupo_g4.mean().values\n",
        "g4.bar(label, valores)\n",
        "g4.set_title('Valor Médio por Tipo')"
      ],
      "execution_count": null,
      "outputs": [
        {
          "output_type": "execute_result",
          "data": {
            "text/plain": [
              "Text(0.5, 1.0, 'Valor Médio por Tipo')"
            ]
          },
          "metadata": {
            "tags": []
          },
          "execution_count": 18
        }
      ]
    },
    {
      "cell_type": "code",
      "metadata": {
        "colab": {
          "base_uri": "https://localhost:8080/",
          "height": 499
        },
        "id": "1lu_G-csFxA_",
        "outputId": "45b427d8-0501-4677-871d-ce11dcf17bbd"
      },
      "source": [
        "area"
      ],
      "execution_count": null,
      "outputs": [
        {
          "output_type": "execute_result",
          "data": {
            "image/png": "[encoded data removed]",
            "text/plain": [
              "<Figure size 1080x576 with 4 Axes>"
            ]
          },
          "metadata": {
            "tags": []
          },
          "execution_count": 19
        }
      ]
    },
    {
      "cell_type": "code",
      "metadata": {
        "id": "ngpaYAhbHeWd"
      },
      "source": [
        "area.savefig('/content/drive/MyDrive/Curso Alura/Python Pandas: Tratando e Analisando Dados/extras/grafico.png',\n",
        "             dpi=300,\n",
        "             bbox_inches='tight')"
      ],
      "execution_count": null,
      "outputs": []
    },
    {
      "cell_type": "markdown",
      "metadata": {
        "id": "lNUMCjbXICyL"
      },
      "source": [
        "###Exercício biblioteca matplotlib"
      ]
    },
    {
      "cell_type": "markdown",
      "metadata": {
        "id": "-rcKO43BIJm7"
      },
      "source": [
        "Vamos testar nosso conhecimento sobre o pacote matplotlib. Considere neste exercício o arquivo aluguel_amostra.csv e indique nas opções abaixo qual o código necessário para gerar os gráficos da figura a seguir:\n",
        "\n",
        "![image.png](data:image/png;base64,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)\n",
        "\n",
        "Neste exercício, estamos apresentando o gráfico de pizza que pode ser obtido com a aplicação do método pie(), de matplotlib."
      ]
    },
    {
      "cell_type": "markdown",
      "metadata": {
        "id": "gISeZt12KtC7"
      },
      "source": [
        "https://matplotlib.org/stable/api/_as_gen/matplotlib.pyplot.pie.html"
      ]
    },
    {
      "cell_type": "markdown",
      "metadata": {
        "id": "HYJR2WGrITNp"
      },
      "source": [
        "**Importando os pacotes**"
      ]
    },
    {
      "cell_type": "code",
      "metadata": {
        "id": "9iruqebvHwrP"
      },
      "source": [
        "import pandas as pd\n",
        "import matplotlib.pyplot as plt\n",
        "plt.rc('figure', figsize = (15, 7))"
      ],
      "execution_count": null,
      "outputs": []
    },
    {
      "cell_type": "markdown",
      "metadata": {
        "id": "iZZdkgODIZaQ"
      },
      "source": [
        "**Carregando a base de dados**"
      ]
    },
    {
      "cell_type": "code",
      "metadata": {
        "colab": {
          "base_uri": "https://localhost:8080/",
          "height": 204
        },
        "id": "zppLpZ7nIWUu",
        "outputId": "e9403820-6d1f-4866-9385-eb33f0f6fa30"
      },
      "source": [
        "dados_amostra = pd.read_csv('/content/drive/MyDrive/Curso Alura/Python Pandas: Tratando e Analisando Dados/extras/dados/aluguel_amostra.csv', sep=';')\n",
        "dados_amostra.head()"
      ],
      "execution_count": null,
      "outputs": [
        {
          "output_type": "execute_result",
          "data": {
            "text/html": [
              "<div>\n",
              "<style scoped>\n",
              "    .dataframe tbody tr th:only-of-type {\n",
              "        vertical-align: middle;\n",
              "    }\n",
              "\n",
              "    .dataframe tbody tr th {\n",
              "        vertical-align: top;\n",
              "    }\n",
              "\n",
              "    .dataframe thead th {\n",
              "        text-align: right;\n",
              "    }\n",
              "</style>\n",
              "<table border=\"1\" class=\"dataframe\">\n",
              "  <thead>\n",
              "    <tr style=\"text-align: right;\">\n",
              "      <th></th>\n",
              "      <th>Tipo</th>\n",
              "      <th>Bairro</th>\n",
              "      <th>Quartos</th>\n",
              "      <th>Vagas</th>\n",
              "      <th>Suites</th>\n",
              "      <th>Area</th>\n",
              "      <th>Valor</th>\n",
              "      <th>Condominio</th>\n",
              "      <th>IPTU</th>\n",
              "      <th>Valor m2</th>\n",
              "      <th>Tipo Agregado</th>\n",
              "    </tr>\n",
              "  </thead>\n",
              "  <tbody>\n",
              "    <tr>\n",
              "      <th>0</th>\n",
              "      <td>Apartamento</td>\n",
              "      <td>Recreio dos Bandeirantes</td>\n",
              "      <td>3</td>\n",
              "      <td>2</td>\n",
              "      <td>1</td>\n",
              "      <td>320</td>\n",
              "      <td>3200.0</td>\n",
              "      <td>1319.0</td>\n",
              "      <td>0.0</td>\n",
              "      <td>10.00</td>\n",
              "      <td>Apartamento</td>\n",
              "    </tr>\n",
              "    <tr>\n",
              "      <th>1</th>\n",
              "      <td>Apartamento</td>\n",
              "      <td>Maracanã</td>\n",
              "      <td>2</td>\n",
              "      <td>0</td>\n",
              "      <td>0</td>\n",
              "      <td>59</td>\n",
              "      <td>800.0</td>\n",
              "      <td>725.0</td>\n",
              "      <td>47.0</td>\n",
              "      <td>13.56</td>\n",
              "      <td>Apartamento</td>\n",
              "    </tr>\n",
              "    <tr>\n",
              "      <th>2</th>\n",
              "      <td>Apartamento</td>\n",
              "      <td>Leblon</td>\n",
              "      <td>3</td>\n",
              "      <td>2</td>\n",
              "      <td>1</td>\n",
              "      <td>147</td>\n",
              "      <td>7500.0</td>\n",
              "      <td>1000.0</td>\n",
              "      <td>381.0</td>\n",
              "      <td>51.02</td>\n",
              "      <td>Apartamento</td>\n",
              "    </tr>\n",
              "    <tr>\n",
              "      <th>3</th>\n",
              "      <td>Apartamento</td>\n",
              "      <td>São Conrado</td>\n",
              "      <td>3</td>\n",
              "      <td>3</td>\n",
              "      <td>3</td>\n",
              "      <td>270</td>\n",
              "      <td>14999.0</td>\n",
              "      <td>2800.0</td>\n",
              "      <td>1200.0</td>\n",
              "      <td>55.55</td>\n",
              "      <td>Apartamento</td>\n",
              "    </tr>\n",
              "    <tr>\n",
              "      <th>4</th>\n",
              "      <td>Apartamento</td>\n",
              "      <td>Tijuca</td>\n",
              "      <td>2</td>\n",
              "      <td>1</td>\n",
              "      <td>0</td>\n",
              "      <td>65</td>\n",
              "      <td>1200.0</td>\n",
              "      <td>640.0</td>\n",
              "      <td>97.0</td>\n",
              "      <td>18.46</td>\n",
              "      <td>Apartamento</td>\n",
              "    </tr>\n",
              "  </tbody>\n",
              "</table>\n",
              "</div>"
            ],
            "text/plain": [
              "          Tipo                    Bairro  ...  Valor m2  Tipo Agregado\n",
              "0  Apartamento  Recreio dos Bandeirantes  ...     10.00    Apartamento\n",
              "1  Apartamento                  Maracanã  ...     13.56    Apartamento\n",
              "2  Apartamento                    Leblon  ...     51.02    Apartamento\n",
              "3  Apartamento               São Conrado  ...     55.55    Apartamento\n",
              "4  Apartamento                    Tijuca  ...     18.46    Apartamento\n",
              "\n",
              "[5 rows x 11 columns]"
            ]
          },
          "metadata": {
            "tags": []
          },
          "execution_count": 24
        }
      ]
    },
    {
      "cell_type": "code",
      "metadata": {
        "colab": {
          "base_uri": "https://localhost:8080/",
          "height": 34
        },
        "id": "4ojrhDzkIbrd",
        "outputId": "53046f6d-74bf-4dd4-ac8e-8249e7b40040"
      },
      "source": [
        "area_amostra = plt.figure()"
      ],
      "execution_count": null,
      "outputs": [
        {
          "output_type": "display_data",
          "data": {
            "text/plain": [
              "<Figure size 1080x504 with 0 Axes>"
            ]
          },
          "metadata": {
            "tags": []
          }
        }
      ]
    },
    {
      "cell_type": "code",
      "metadata": {
        "id": "Aa0MYpQiIrGG"
      },
      "source": [
        "g1 = area_amostra.add_subplot(1,2,1)\n",
        "g2 = area_amostra.add_subplot(1,2,2)"
      ],
      "execution_count": null,
      "outputs": []
    },
    {
      "cell_type": "code",
      "metadata": {
        "colab": {
          "base_uri": "https://localhost:8080/"
        },
        "id": "STTiLfxYI8NN",
        "outputId": "ec7835aa-56cf-445b-a21c-628e051af6b5"
      },
      "source": [
        "grupo1 = dados_amostra.groupby('Tipo Agregado')['Valor']\n",
        "label1 = grupo1.count().index\n",
        "valores1 = grupo1.count().values\n",
        "g1.pie(valores1, labels=label1, autopct='%1.1f%%')\n",
        "g1.set_title('Total de Imóveis por Tipo Agregado')\n",
        "\n",
        "grupo2 = dados_amostra.groupby('Tipo')['Valor']\n",
        "label2 = grupo2.count().index\n",
        "valores2 = grupo2.count().values\n",
        "g2.pie(valores2, labels=label2, autopct='%1.1f%%', explode=(.1, .1, .1, .1, .1))\n",
        "g2.set_title('Total de Imóveis por Tipo')"
      ],
      "execution_count": null,
      "outputs": [
        {
          "output_type": "execute_result",
          "data": {
            "text/plain": [
              "Text(0.5, 1.0, 'Total de Imóveis por Tipo')"
            ]
          },
          "metadata": {
            "tags": []
          },
          "execution_count": 43
        }
      ]
    },
    {
      "cell_type": "code",
      "metadata": {
        "colab": {
          "base_uri": "https://localhost:8080/",
          "height": 427
        },
        "id": "lmnOTjYyJ69d",
        "outputId": "9b95c007-b2dd-4cc3-96b6-a43d9aa8d97b"
      },
      "source": [
        "area_amostra"
      ],
      "execution_count": null,
      "outputs": [
        {
          "output_type": "execute_result",
          "data": {
            "image/png": "[encoded data removed]",
            "text/plain": [
              "<Figure size 1080x504 with 2 Axes>"
            ]
          },
          "metadata": {
            "tags": []
          },
          "execution_count": 44
        }
      ]
    }
  ]
}