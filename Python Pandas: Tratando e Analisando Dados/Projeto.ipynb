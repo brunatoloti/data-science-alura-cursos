{
  "nbformat": 4,
  "nbformat_minor": 0,
  "metadata": {
    "colab": {
      "name": "Projeto.ipynb",
      "provenance": [],
      "collapsed_sections": [],
      "mount_file_id": "12VOKw9Bh54fykxYlDPaa2immPQbaNrB3",
      "authorship_tag": "ABX9TyOiualQgQxaVkNUJZi2/4HZ",
      "include_colab_link": true
    },
    "kernelspec": {
      "name": "python3",
      "display_name": "Python 3"
    },
    "language_info": {
      "name": "python"
    }
  },
  "cells": [
    {
      "cell_type": "markdown",
      "metadata": {
        "id": "view-in-github",
        "colab_type": "text"
      },
      "source": [
        "<a href=\"https://colab.research.google.com/github/brunatoloti/data-science-alura-cursos/blob/main/Python%20Pandas%3A%20Tratando%20e%20Analisando%20Dados/Projeto.ipynb\" target=\"_parent\"><img src=\"https://colab.research.google.com/assets/colab-badge.svg\" alt=\"Open In Colab\"/></a>"
      ]
    },
    {
      "cell_type": "markdown",
      "metadata": {
        "id": "XkTHim8wxY6f"
      },
      "source": [
        "#PYTHON PANDAS: TRATANDO E ANALISANDO DADOS"
      ]
    },
    {
      "cell_type": "markdown",
      "metadata": {
        "id": "ar3mIt5LxgNX"
      },
      "source": [
        "###Importando os pacotes"
      ]
    },
    {
      "cell_type": "code",
      "metadata": {
        "id": "ahjKGz8fwcBw"
      },
      "source": [
        "import pandas as pd"
      ],
      "execution_count": null,
      "outputs": []
    },
    {
      "cell_type": "markdown",
      "metadata": {
        "id": "-LnhAQ4Cxt2x"
      },
      "source": [
        "###Carregando a base de dados\n",
        "\n",
        "Base de dados fornecida pelo curso."
      ]
    },
    {
      "cell_type": "code",
      "metadata": {
        "colab": {
          "base_uri": "https://localhost:8080/",
          "height": 419
        },
        "id": "fXkLAnSUxqO3",
        "outputId": "e28570e8-1c42-459e-ef0e-cc683270cdf0"
      },
      "source": [
        "dados = pd.read_csv('/content/drive/MyDrive/Curso Alura/Python Pandas: Tratando e Analisando Dados/dados/aluguel.csv', sep=';')\n",
        "dados"
      ],
      "execution_count": null,
      "outputs": [
        {
          "output_type": "execute_result",
          "data": {
            "text/html": [
              "<div>\n",
              "<style scoped>\n",
              "    .dataframe tbody tr th:only-of-type {\n",
              "        vertical-align: middle;\n",
              "    }\n",
              "\n",
              "    .dataframe tbody tr th {\n",
              "        vertical-align: top;\n",
              "    }\n",
              "\n",
              "    .dataframe thead th {\n",
              "        text-align: right;\n",
              "    }\n",
              "</style>\n",
              "<table border=\"1\" class=\"dataframe\">\n",
              "  <thead>\n",
              "    <tr style=\"text-align: right;\">\n",
              "      <th></th>\n",
              "      <th>Tipo</th>\n",
              "      <th>Bairro</th>\n",
              "      <th>Quartos</th>\n",
              "      <th>Vagas</th>\n",
              "      <th>Suites</th>\n",
              "      <th>Area</th>\n",
              "      <th>Valor</th>\n",
              "      <th>Condominio</th>\n",
              "      <th>IPTU</th>\n",
              "    </tr>\n",
              "  </thead>\n",
              "  <tbody>\n",
              "    <tr>\n",
              "      <th>0</th>\n",
              "      <td>Quitinete</td>\n",
              "      <td>Copacabana</td>\n",
              "      <td>1</td>\n",
              "      <td>0</td>\n",
              "      <td>0</td>\n",
              "      <td>40</td>\n",
              "      <td>1700.0</td>\n",
              "      <td>500.0</td>\n",
              "      <td>60.0</td>\n",
              "    </tr>\n",
              "    <tr>\n",
              "      <th>1</th>\n",
              "      <td>Casa</td>\n",
              "      <td>Jardim Botânico</td>\n",
              "      <td>2</td>\n",
              "      <td>0</td>\n",
              "      <td>1</td>\n",
              "      <td>100</td>\n",
              "      <td>7000.0</td>\n",
              "      <td>NaN</td>\n",
              "      <td>NaN</td>\n",
              "    </tr>\n",
              "    <tr>\n",
              "      <th>2</th>\n",
              "      <td>Conjunto Comercial/Sala</td>\n",
              "      <td>Barra da Tijuca</td>\n",
              "      <td>0</td>\n",
              "      <td>4</td>\n",
              "      <td>0</td>\n",
              "      <td>150</td>\n",
              "      <td>5200.0</td>\n",
              "      <td>4020.0</td>\n",
              "      <td>1111.0</td>\n",
              "    </tr>\n",
              "    <tr>\n",
              "      <th>3</th>\n",
              "      <td>Apartamento</td>\n",
              "      <td>Centro</td>\n",
              "      <td>1</td>\n",
              "      <td>0</td>\n",
              "      <td>0</td>\n",
              "      <td>15</td>\n",
              "      <td>800.0</td>\n",
              "      <td>390.0</td>\n",
              "      <td>20.0</td>\n",
              "    </tr>\n",
              "    <tr>\n",
              "      <th>4</th>\n",
              "      <td>Apartamento</td>\n",
              "      <td>Higienópolis</td>\n",
              "      <td>1</td>\n",
              "      <td>0</td>\n",
              "      <td>0</td>\n",
              "      <td>48</td>\n",
              "      <td>800.0</td>\n",
              "      <td>230.0</td>\n",
              "      <td>NaN</td>\n",
              "    </tr>\n",
              "    <tr>\n",
              "      <th>...</th>\n",
              "      <td>...</td>\n",
              "      <td>...</td>\n",
              "      <td>...</td>\n",
              "      <td>...</td>\n",
              "      <td>...</td>\n",
              "      <td>...</td>\n",
              "      <td>...</td>\n",
              "      <td>...</td>\n",
              "      <td>...</td>\n",
              "    </tr>\n",
              "    <tr>\n",
              "      <th>32955</th>\n",
              "      <td>Quitinete</td>\n",
              "      <td>Centro</td>\n",
              "      <td>0</td>\n",
              "      <td>0</td>\n",
              "      <td>0</td>\n",
              "      <td>27</td>\n",
              "      <td>800.0</td>\n",
              "      <td>350.0</td>\n",
              "      <td>25.0</td>\n",
              "    </tr>\n",
              "    <tr>\n",
              "      <th>32956</th>\n",
              "      <td>Apartamento</td>\n",
              "      <td>Jacarepaguá</td>\n",
              "      <td>3</td>\n",
              "      <td>1</td>\n",
              "      <td>2</td>\n",
              "      <td>78</td>\n",
              "      <td>1800.0</td>\n",
              "      <td>800.0</td>\n",
              "      <td>40.0</td>\n",
              "    </tr>\n",
              "    <tr>\n",
              "      <th>32957</th>\n",
              "      <td>Apartamento</td>\n",
              "      <td>São Francisco Xavier</td>\n",
              "      <td>2</td>\n",
              "      <td>1</td>\n",
              "      <td>0</td>\n",
              "      <td>48</td>\n",
              "      <td>1400.0</td>\n",
              "      <td>509.0</td>\n",
              "      <td>37.0</td>\n",
              "    </tr>\n",
              "    <tr>\n",
              "      <th>32958</th>\n",
              "      <td>Apartamento</td>\n",
              "      <td>Leblon</td>\n",
              "      <td>2</td>\n",
              "      <td>0</td>\n",
              "      <td>0</td>\n",
              "      <td>70</td>\n",
              "      <td>3000.0</td>\n",
              "      <td>760.0</td>\n",
              "      <td>NaN</td>\n",
              "    </tr>\n",
              "    <tr>\n",
              "      <th>32959</th>\n",
              "      <td>Conjunto Comercial/Sala</td>\n",
              "      <td>Centro</td>\n",
              "      <td>0</td>\n",
              "      <td>0</td>\n",
              "      <td>0</td>\n",
              "      <td>250</td>\n",
              "      <td>6500.0</td>\n",
              "      <td>4206.0</td>\n",
              "      <td>1109.0</td>\n",
              "    </tr>\n",
              "  </tbody>\n",
              "</table>\n",
              "<p>32960 rows × 9 columns</p>\n",
              "</div>"
            ],
            "text/plain": [
              "                          Tipo                Bairro  ...  Condominio    IPTU\n",
              "0                    Quitinete            Copacabana  ...       500.0    60.0\n",
              "1                         Casa       Jardim Botânico  ...         NaN     NaN\n",
              "2      Conjunto Comercial/Sala       Barra da Tijuca  ...      4020.0  1111.0\n",
              "3                  Apartamento                Centro  ...       390.0    20.0\n",
              "4                  Apartamento          Higienópolis  ...       230.0     NaN\n",
              "...                        ...                   ...  ...         ...     ...\n",
              "32955                Quitinete                Centro  ...       350.0    25.0\n",
              "32956              Apartamento           Jacarepaguá  ...       800.0    40.0\n",
              "32957              Apartamento  São Francisco Xavier  ...       509.0    37.0\n",
              "32958              Apartamento                Leblon  ...       760.0     NaN\n",
              "32959  Conjunto Comercial/Sala                Centro  ...      4206.0  1109.0\n",
              "\n",
              "[32960 rows x 9 columns]"
            ]
          },
          "metadata": {
            "tags": []
          },
          "execution_count": 2
        }
      ]
    },
    {
      "cell_type": "code",
      "metadata": {
        "colab": {
          "base_uri": "https://localhost:8080/"
        },
        "id": "GpMMEB_TyCUI",
        "outputId": "edc42055-1ae9-4530-acb6-4974c1223d03"
      },
      "source": [
        "type(dados)"
      ],
      "execution_count": null,
      "outputs": [
        {
          "output_type": "execute_result",
          "data": {
            "text/plain": [
              "pandas.core.frame.DataFrame"
            ]
          },
          "metadata": {
            "tags": []
          },
          "execution_count": 3
        }
      ]
    },
    {
      "cell_type": "code",
      "metadata": {
        "colab": {
          "base_uri": "https://localhost:8080/"
        },
        "id": "Tg_UNejjyhg_",
        "outputId": "56bfa64e-6baa-4eb8-f1ad-1e7040bddb44"
      },
      "source": [
        "dados.info()"
      ],
      "execution_count": null,
      "outputs": [
        {
          "output_type": "stream",
          "text": [
            "<class 'pandas.core.frame.DataFrame'>\n",
            "RangeIndex: 32960 entries, 0 to 32959\n",
            "Data columns (total 9 columns):\n",
            " #   Column      Non-Null Count  Dtype  \n",
            "---  ------      --------------  -----  \n",
            " 0   Tipo        32960 non-null  object \n",
            " 1   Bairro      32960 non-null  object \n",
            " 2   Quartos     32960 non-null  int64  \n",
            " 3   Vagas       32960 non-null  int64  \n",
            " 4   Suites      32960 non-null  int64  \n",
            " 5   Area        32960 non-null  int64  \n",
            " 6   Valor       32943 non-null  float64\n",
            " 7   Condominio  28867 non-null  float64\n",
            " 8   IPTU        22723 non-null  float64\n",
            "dtypes: float64(3), int64(4), object(2)\n",
            "memory usage: 2.3+ MB\n"
          ],
          "name": "stdout"
        }
      ]
    },
    {
      "cell_type": "code",
      "metadata": {
        "colab": {
          "base_uri": "https://localhost:8080/",
          "height": 204
        },
        "id": "ZnqemdoPyl63",
        "outputId": "ecaee3ae-e175-4ae4-d9b6-cd724d694f8a"
      },
      "source": [
        "dados.head()"
      ],
      "execution_count": null,
      "outputs": [
        {
          "output_type": "execute_result",
          "data": {
            "text/html": [
              "<div>\n",
              "<style scoped>\n",
              "    .dataframe tbody tr th:only-of-type {\n",
              "        vertical-align: middle;\n",
              "    }\n",
              "\n",
              "    .dataframe tbody tr th {\n",
              "        vertical-align: top;\n",
              "    }\n",
              "\n",
              "    .dataframe thead th {\n",
              "        text-align: right;\n",
              "    }\n",
              "</style>\n",
              "<table border=\"1\" class=\"dataframe\">\n",
              "  <thead>\n",
              "    <tr style=\"text-align: right;\">\n",
              "      <th></th>\n",
              "      <th>Tipo</th>\n",
              "      <th>Bairro</th>\n",
              "      <th>Quartos</th>\n",
              "      <th>Vagas</th>\n",
              "      <th>Suites</th>\n",
              "      <th>Area</th>\n",
              "      <th>Valor</th>\n",
              "      <th>Condominio</th>\n",
              "      <th>IPTU</th>\n",
              "    </tr>\n",
              "  </thead>\n",
              "  <tbody>\n",
              "    <tr>\n",
              "      <th>0</th>\n",
              "      <td>Quitinete</td>\n",
              "      <td>Copacabana</td>\n",
              "      <td>1</td>\n",
              "      <td>0</td>\n",
              "      <td>0</td>\n",
              "      <td>40</td>\n",
              "      <td>1700.0</td>\n",
              "      <td>500.0</td>\n",
              "      <td>60.0</td>\n",
              "    </tr>\n",
              "    <tr>\n",
              "      <th>1</th>\n",
              "      <td>Casa</td>\n",
              "      <td>Jardim Botânico</td>\n",
              "      <td>2</td>\n",
              "      <td>0</td>\n",
              "      <td>1</td>\n",
              "      <td>100</td>\n",
              "      <td>7000.0</td>\n",
              "      <td>NaN</td>\n",
              "      <td>NaN</td>\n",
              "    </tr>\n",
              "    <tr>\n",
              "      <th>2</th>\n",
              "      <td>Conjunto Comercial/Sala</td>\n",
              "      <td>Barra da Tijuca</td>\n",
              "      <td>0</td>\n",
              "      <td>4</td>\n",
              "      <td>0</td>\n",
              "      <td>150</td>\n",
              "      <td>5200.0</td>\n",
              "      <td>4020.0</td>\n",
              "      <td>1111.0</td>\n",
              "    </tr>\n",
              "    <tr>\n",
              "      <th>3</th>\n",
              "      <td>Apartamento</td>\n",
              "      <td>Centro</td>\n",
              "      <td>1</td>\n",
              "      <td>0</td>\n",
              "      <td>0</td>\n",
              "      <td>15</td>\n",
              "      <td>800.0</td>\n",
              "      <td>390.0</td>\n",
              "      <td>20.0</td>\n",
              "    </tr>\n",
              "    <tr>\n",
              "      <th>4</th>\n",
              "      <td>Apartamento</td>\n",
              "      <td>Higienópolis</td>\n",
              "      <td>1</td>\n",
              "      <td>0</td>\n",
              "      <td>0</td>\n",
              "      <td>48</td>\n",
              "      <td>800.0</td>\n",
              "      <td>230.0</td>\n",
              "      <td>NaN</td>\n",
              "    </tr>\n",
              "  </tbody>\n",
              "</table>\n",
              "</div>"
            ],
            "text/plain": [
              "                      Tipo           Bairro  ...  Condominio    IPTU\n",
              "0                Quitinete       Copacabana  ...       500.0    60.0\n",
              "1                     Casa  Jardim Botânico  ...         NaN     NaN\n",
              "2  Conjunto Comercial/Sala  Barra da Tijuca  ...      4020.0  1111.0\n",
              "3              Apartamento           Centro  ...       390.0    20.0\n",
              "4              Apartamento     Higienópolis  ...       230.0     NaN\n",
              "\n",
              "[5 rows x 9 columns]"
            ]
          },
          "metadata": {
            "tags": []
          },
          "execution_count": 5
        }
      ]
    },
    {
      "cell_type": "markdown",
      "metadata": {
        "id": "kxklEvA3wGUl"
      },
      "source": [
        "###Informações gerais sobre a base de dados"
      ]
    },
    {
      "cell_type": "code",
      "metadata": {
        "id": "o-xioo67y3NO",
        "colab": {
          "base_uri": "https://localhost:8080/"
        },
        "outputId": "905a5076-3183-4190-c2a5-713dcaf9968b"
      },
      "source": [
        "dados.dtypes"
      ],
      "execution_count": null,
      "outputs": [
        {
          "output_type": "execute_result",
          "data": {
            "text/plain": [
              "Tipo           object\n",
              "Bairro         object\n",
              "Quartos         int64\n",
              "Vagas           int64\n",
              "Suites          int64\n",
              "Area            int64\n",
              "Valor         float64\n",
              "Condominio    float64\n",
              "IPTU          float64\n",
              "dtype: object"
            ]
          },
          "metadata": {
            "tags": []
          },
          "execution_count": 6
        }
      ]
    },
    {
      "cell_type": "code",
      "metadata": {
        "colab": {
          "base_uri": "https://localhost:8080/",
          "height": 328
        },
        "id": "6Gpeh6BswOWJ",
        "outputId": "33797c31-d12b-4b12-c2b7-4aeee63a0085"
      },
      "source": [
        "tipos_de_dados = pd.DataFrame(dados.dtypes, columns=['Tipos de Dados'])\n",
        "tipos_de_dados.columns.name = 'Variáveis'\n",
        "tipos_de_dados"
      ],
      "execution_count": null,
      "outputs": [
        {
          "output_type": "execute_result",
          "data": {
            "text/html": [
              "<div>\n",
              "<style scoped>\n",
              "    .dataframe tbody tr th:only-of-type {\n",
              "        vertical-align: middle;\n",
              "    }\n",
              "\n",
              "    .dataframe tbody tr th {\n",
              "        vertical-align: top;\n",
              "    }\n",
              "\n",
              "    .dataframe thead th {\n",
              "        text-align: right;\n",
              "    }\n",
              "</style>\n",
              "<table border=\"1\" class=\"dataframe\">\n",
              "  <thead>\n",
              "    <tr style=\"text-align: right;\">\n",
              "      <th>Variáveis</th>\n",
              "      <th>Tipos de Dados</th>\n",
              "    </tr>\n",
              "  </thead>\n",
              "  <tbody>\n",
              "    <tr>\n",
              "      <th>Tipo</th>\n",
              "      <td>object</td>\n",
              "    </tr>\n",
              "    <tr>\n",
              "      <th>Bairro</th>\n",
              "      <td>object</td>\n",
              "    </tr>\n",
              "    <tr>\n",
              "      <th>Quartos</th>\n",
              "      <td>int64</td>\n",
              "    </tr>\n",
              "    <tr>\n",
              "      <th>Vagas</th>\n",
              "      <td>int64</td>\n",
              "    </tr>\n",
              "    <tr>\n",
              "      <th>Suites</th>\n",
              "      <td>int64</td>\n",
              "    </tr>\n",
              "    <tr>\n",
              "      <th>Area</th>\n",
              "      <td>int64</td>\n",
              "    </tr>\n",
              "    <tr>\n",
              "      <th>Valor</th>\n",
              "      <td>float64</td>\n",
              "    </tr>\n",
              "    <tr>\n",
              "      <th>Condominio</th>\n",
              "      <td>float64</td>\n",
              "    </tr>\n",
              "    <tr>\n",
              "      <th>IPTU</th>\n",
              "      <td>float64</td>\n",
              "    </tr>\n",
              "  </tbody>\n",
              "</table>\n",
              "</div>"
            ],
            "text/plain": [
              "Variáveis  Tipos de Dados\n",
              "Tipo               object\n",
              "Bairro             object\n",
              "Quartos             int64\n",
              "Vagas               int64\n",
              "Suites              int64\n",
              "Area                int64\n",
              "Valor             float64\n",
              "Condominio        float64\n",
              "IPTU              float64"
            ]
          },
          "metadata": {
            "tags": []
          },
          "execution_count": 7
        }
      ]
    },
    {
      "cell_type": "code",
      "metadata": {
        "colab": {
          "base_uri": "https://localhost:8080/"
        },
        "id": "VnWPKDY7waJ4",
        "outputId": "d7e36f78-5313-47cd-bf7b-e737cf07fb41"
      },
      "source": [
        "print(f\"Número de registros ou linhas (imóveis) do nosso dataframe é: {dados.shape[0]}\")\n",
        "print(f\"Número de variáveis ou colunas do nosso dataframe é: {dados.shape[1]}\")"
      ],
      "execution_count": null,
      "outputs": [
        {
          "output_type": "stream",
          "text": [
            "Número de registros ou linhas (imóveis) do nosso dataframe é: 32960\n",
            "Número de variáveis ou colunas do nosso dataframe é: 9\n"
          ],
          "name": "stdout"
        }
      ]
    },
    {
      "cell_type": "markdown",
      "metadata": {
        "id": "rR6Pcbu_U_uM"
      },
      "source": [
        "###Tipos de Imóveis"
      ]
    },
    {
      "cell_type": "markdown",
      "metadata": {
        "id": "W9FVjU4NVZ78"
      },
      "source": [
        "**Visualizando a coluna *Tipo* do dataframe.**\n",
        "\n",
        "Essa coluna possui todos os tipos de imóveis dos nossos dados."
      ]
    },
    {
      "cell_type": "code",
      "metadata": {
        "id": "eU_GcRGiw2Vp",
        "colab": {
          "base_uri": "https://localhost:8080/"
        },
        "outputId": "6b62fb83-7173-4d30-ee0c-4f6cae48e88e"
      },
      "source": [
        "dados.Tipo"
      ],
      "execution_count": null,
      "outputs": [
        {
          "output_type": "execute_result",
          "data": {
            "text/plain": [
              "0                      Quitinete\n",
              "1                           Casa\n",
              "2        Conjunto Comercial/Sala\n",
              "3                    Apartamento\n",
              "4                    Apartamento\n",
              "                  ...           \n",
              "32955                  Quitinete\n",
              "32956                Apartamento\n",
              "32957                Apartamento\n",
              "32958                Apartamento\n",
              "32959    Conjunto Comercial/Sala\n",
              "Name: Tipo, Length: 32960, dtype: object"
            ]
          },
          "metadata": {
            "tags": []
          },
          "execution_count": 9
        }
      ]
    },
    {
      "cell_type": "code",
      "metadata": {
        "id": "0ipRrAGBVVrs"
      },
      "source": [
        "tipo_de_imovel = dados.Tipo"
      ],
      "execution_count": null,
      "outputs": []
    },
    {
      "cell_type": "code",
      "metadata": {
        "colab": {
          "base_uri": "https://localhost:8080/"
        },
        "id": "PFkkv_8UVmer",
        "outputId": "20dde9fe-e340-49e2-c102-cedcd4982a34"
      },
      "source": [
        "type(tipo_de_imovel)"
      ],
      "execution_count": null,
      "outputs": [
        {
          "output_type": "execute_result",
          "data": {
            "text/plain": [
              "pandas.core.series.Series"
            ]
          },
          "metadata": {
            "tags": []
          },
          "execution_count": 11
        }
      ]
    },
    {
      "cell_type": "markdown",
      "metadata": {
        "id": "qW_56LCUV5VG"
      },
      "source": [
        "**Identificando os tipos de imóveis únicos que possuimos nessa *Series*.**"
      ]
    },
    {
      "cell_type": "markdown",
      "metadata": {
        "id": "KRLOmPC5WEVT"
      },
      "source": [
        "\n",
        "\n",
        "**1.   Usando o método *drop_duplicates()* com *inplace=False* na *Series***\n",
        "\n",
        "O método *drop_duplicates()* é usado para remoção de linhas duplicadas em um *DataFrame* ou *Series*.\n",
        "\n"
      ]
    },
    {
      "cell_type": "code",
      "metadata": {
        "colab": {
          "base_uri": "https://localhost:8080/"
        },
        "id": "IeEPAfyDVoas",
        "outputId": "2b5da0c5-9e4b-4460-9a8e-08e1ab2f833d"
      },
      "source": [
        "tipo_de_imovel.drop_duplicates()"
      ],
      "execution_count": null,
      "outputs": [
        {
          "output_type": "execute_result",
          "data": {
            "text/plain": [
              "0                          Quitinete\n",
              "1                               Casa\n",
              "2            Conjunto Comercial/Sala\n",
              "3                        Apartamento\n",
              "7                 Casa de Condomínio\n",
              "16                    Prédio Inteiro\n",
              "17                              Flat\n",
              "29                        Loja/Salão\n",
              "80           Galpão/Depósito/Armazém\n",
              "83                    Casa Comercial\n",
              "117                     Casa de Vila\n",
              "159                   Terreno Padrão\n",
              "207                      Box/Garagem\n",
              "347                             Loft\n",
              "589      Loja Shopping/ Ct Comercial\n",
              "2157                         Chácara\n",
              "3354           Loteamento/Condomínio\n",
              "4379                           Sítio\n",
              "4721                   Pousada/Chalé\n",
              "6983                          Studio\n",
              "9687                           Hotel\n",
              "23614                      Indústria\n",
              "Name: Tipo, dtype: object"
            ]
          },
          "metadata": {
            "tags": []
          },
          "execution_count": 12
        }
      ]
    },
    {
      "cell_type": "markdown",
      "metadata": {
        "id": "1vvB1_FkWZpl"
      },
      "source": [
        "\n",
        "\n",
        "**2.   Usando o método *unique()* na *Series***\n",
        "\n"
      ]
    },
    {
      "cell_type": "code",
      "metadata": {
        "colab": {
          "base_uri": "https://localhost:8080/"
        },
        "id": "mEb4oXSUWMzz",
        "outputId": "8ff281f2-5b5f-4648-d3eb-0e71220f47da"
      },
      "source": [
        "tipo_de_imovel.unique()"
      ],
      "execution_count": null,
      "outputs": [
        {
          "output_type": "execute_result",
          "data": {
            "text/plain": [
              "array(['Quitinete', 'Casa', 'Conjunto Comercial/Sala', 'Apartamento',\n",
              "       'Casa de Condomínio', 'Prédio Inteiro', 'Flat', 'Loja/Salão',\n",
              "       'Galpão/Depósito/Armazém', 'Casa Comercial', 'Casa de Vila',\n",
              "       'Terreno Padrão', 'Box/Garagem', 'Loft',\n",
              "       'Loja Shopping/ Ct Comercial', 'Chácara', 'Loteamento/Condomínio',\n",
              "       'Sítio', 'Pousada/Chalé', 'Studio', 'Hotel', 'Indústria'],\n",
              "      dtype=object)"
            ]
          },
          "metadata": {
            "tags": []
          },
          "execution_count": 13
        }
      ]
    },
    {
      "cell_type": "markdown",
      "metadata": {
        "id": "Jsq_VajEXIcM"
      },
      "source": [
        "**Organizando a visualização**"
      ]
    },
    {
      "cell_type": "code",
      "metadata": {
        "colab": {
          "base_uri": "https://localhost:8080/",
          "height": 731
        },
        "id": "6ph8WY40WhMU",
        "outputId": "c27fee05-a9be-4dbc-daa3-6a8b3c27f035"
      },
      "source": [
        "tipo_de_imovel = pd.DataFrame(tipo_de_imovel.drop_duplicates())\n",
        "tipo_de_imovel"
      ],
      "execution_count": null,
      "outputs": [
        {
          "output_type": "execute_result",
          "data": {
            "text/html": [
              "<div>\n",
              "<style scoped>\n",
              "    .dataframe tbody tr th:only-of-type {\n",
              "        vertical-align: middle;\n",
              "    }\n",
              "\n",
              "    .dataframe tbody tr th {\n",
              "        vertical-align: top;\n",
              "    }\n",
              "\n",
              "    .dataframe thead th {\n",
              "        text-align: right;\n",
              "    }\n",
              "</style>\n",
              "<table border=\"1\" class=\"dataframe\">\n",
              "  <thead>\n",
              "    <tr style=\"text-align: right;\">\n",
              "      <th></th>\n",
              "      <th>Tipo</th>\n",
              "    </tr>\n",
              "  </thead>\n",
              "  <tbody>\n",
              "    <tr>\n",
              "      <th>0</th>\n",
              "      <td>Quitinete</td>\n",
              "    </tr>\n",
              "    <tr>\n",
              "      <th>1</th>\n",
              "      <td>Casa</td>\n",
              "    </tr>\n",
              "    <tr>\n",
              "      <th>2</th>\n",
              "      <td>Conjunto Comercial/Sala</td>\n",
              "    </tr>\n",
              "    <tr>\n",
              "      <th>3</th>\n",
              "      <td>Apartamento</td>\n",
              "    </tr>\n",
              "    <tr>\n",
              "      <th>7</th>\n",
              "      <td>Casa de Condomínio</td>\n",
              "    </tr>\n",
              "    <tr>\n",
              "      <th>16</th>\n",
              "      <td>Prédio Inteiro</td>\n",
              "    </tr>\n",
              "    <tr>\n",
              "      <th>17</th>\n",
              "      <td>Flat</td>\n",
              "    </tr>\n",
              "    <tr>\n",
              "      <th>29</th>\n",
              "      <td>Loja/Salão</td>\n",
              "    </tr>\n",
              "    <tr>\n",
              "      <th>80</th>\n",
              "      <td>Galpão/Depósito/Armazém</td>\n",
              "    </tr>\n",
              "    <tr>\n",
              "      <th>83</th>\n",
              "      <td>Casa Comercial</td>\n",
              "    </tr>\n",
              "    <tr>\n",
              "      <th>117</th>\n",
              "      <td>Casa de Vila</td>\n",
              "    </tr>\n",
              "    <tr>\n",
              "      <th>159</th>\n",
              "      <td>Terreno Padrão</td>\n",
              "    </tr>\n",
              "    <tr>\n",
              "      <th>207</th>\n",
              "      <td>Box/Garagem</td>\n",
              "    </tr>\n",
              "    <tr>\n",
              "      <th>347</th>\n",
              "      <td>Loft</td>\n",
              "    </tr>\n",
              "    <tr>\n",
              "      <th>589</th>\n",
              "      <td>Loja Shopping/ Ct Comercial</td>\n",
              "    </tr>\n",
              "    <tr>\n",
              "      <th>2157</th>\n",
              "      <td>Chácara</td>\n",
              "    </tr>\n",
              "    <tr>\n",
              "      <th>3354</th>\n",
              "      <td>Loteamento/Condomínio</td>\n",
              "    </tr>\n",
              "    <tr>\n",
              "      <th>4379</th>\n",
              "      <td>Sítio</td>\n",
              "    </tr>\n",
              "    <tr>\n",
              "      <th>4721</th>\n",
              "      <td>Pousada/Chalé</td>\n",
              "    </tr>\n",
              "    <tr>\n",
              "      <th>6983</th>\n",
              "      <td>Studio</td>\n",
              "    </tr>\n",
              "    <tr>\n",
              "      <th>9687</th>\n",
              "      <td>Hotel</td>\n",
              "    </tr>\n",
              "    <tr>\n",
              "      <th>23614</th>\n",
              "      <td>Indústria</td>\n",
              "    </tr>\n",
              "  </tbody>\n",
              "</table>\n",
              "</div>"
            ],
            "text/plain": [
              "                              Tipo\n",
              "0                        Quitinete\n",
              "1                             Casa\n",
              "2          Conjunto Comercial/Sala\n",
              "3                      Apartamento\n",
              "7               Casa de Condomínio\n",
              "16                  Prédio Inteiro\n",
              "17                            Flat\n",
              "29                      Loja/Salão\n",
              "80         Galpão/Depósito/Armazém\n",
              "83                  Casa Comercial\n",
              "117                   Casa de Vila\n",
              "159                 Terreno Padrão\n",
              "207                    Box/Garagem\n",
              "347                           Loft\n",
              "589    Loja Shopping/ Ct Comercial\n",
              "2157                       Chácara\n",
              "3354         Loteamento/Condomínio\n",
              "4379                         Sítio\n",
              "4721                 Pousada/Chalé\n",
              "6983                        Studio\n",
              "9687                         Hotel\n",
              "23614                    Indústria"
            ]
          },
          "metadata": {
            "tags": []
          },
          "execution_count": 14
        }
      ]
    },
    {
      "cell_type": "markdown",
      "metadata": {
        "id": "u89mmXZPXrj1"
      },
      "source": [
        "Modificando o index do *DataFrame* criado."
      ]
    },
    {
      "cell_type": "code",
      "metadata": {
        "id": "YvtgnFO_YQY7"
      },
      "source": [
        "tipo_de_imovel.index = range(tipo_de_imovel.shape[0])"
      ],
      "execution_count": null,
      "outputs": []
    },
    {
      "cell_type": "code",
      "metadata": {
        "colab": {
          "base_uri": "https://localhost:8080/",
          "height": 731
        },
        "id": "0Cv9GuMaYj0k",
        "outputId": "356e7db2-9587-4c45-9686-d7309a90f8e8"
      },
      "source": [
        "tipo_de_imovel"
      ],
      "execution_count": null,
      "outputs": [
        {
          "output_type": "execute_result",
          "data": {
            "text/html": [
              "<div>\n",
              "<style scoped>\n",
              "    .dataframe tbody tr th:only-of-type {\n",
              "        vertical-align: middle;\n",
              "    }\n",
              "\n",
              "    .dataframe tbody tr th {\n",
              "        vertical-align: top;\n",
              "    }\n",
              "\n",
              "    .dataframe thead th {\n",
              "        text-align: right;\n",
              "    }\n",
              "</style>\n",
              "<table border=\"1\" class=\"dataframe\">\n",
              "  <thead>\n",
              "    <tr style=\"text-align: right;\">\n",
              "      <th></th>\n",
              "      <th>Tipo</th>\n",
              "    </tr>\n",
              "  </thead>\n",
              "  <tbody>\n",
              "    <tr>\n",
              "      <th>0</th>\n",
              "      <td>Quitinete</td>\n",
              "    </tr>\n",
              "    <tr>\n",
              "      <th>1</th>\n",
              "      <td>Casa</td>\n",
              "    </tr>\n",
              "    <tr>\n",
              "      <th>2</th>\n",
              "      <td>Conjunto Comercial/Sala</td>\n",
              "    </tr>\n",
              "    <tr>\n",
              "      <th>3</th>\n",
              "      <td>Apartamento</td>\n",
              "    </tr>\n",
              "    <tr>\n",
              "      <th>4</th>\n",
              "      <td>Casa de Condomínio</td>\n",
              "    </tr>\n",
              "    <tr>\n",
              "      <th>5</th>\n",
              "      <td>Prédio Inteiro</td>\n",
              "    </tr>\n",
              "    <tr>\n",
              "      <th>6</th>\n",
              "      <td>Flat</td>\n",
              "    </tr>\n",
              "    <tr>\n",
              "      <th>7</th>\n",
              "      <td>Loja/Salão</td>\n",
              "    </tr>\n",
              "    <tr>\n",
              "      <th>8</th>\n",
              "      <td>Galpão/Depósito/Armazém</td>\n",
              "    </tr>\n",
              "    <tr>\n",
              "      <th>9</th>\n",
              "      <td>Casa Comercial</td>\n",
              "    </tr>\n",
              "    <tr>\n",
              "      <th>10</th>\n",
              "      <td>Casa de Vila</td>\n",
              "    </tr>\n",
              "    <tr>\n",
              "      <th>11</th>\n",
              "      <td>Terreno Padrão</td>\n",
              "    </tr>\n",
              "    <tr>\n",
              "      <th>12</th>\n",
              "      <td>Box/Garagem</td>\n",
              "    </tr>\n",
              "    <tr>\n",
              "      <th>13</th>\n",
              "      <td>Loft</td>\n",
              "    </tr>\n",
              "    <tr>\n",
              "      <th>14</th>\n",
              "      <td>Loja Shopping/ Ct Comercial</td>\n",
              "    </tr>\n",
              "    <tr>\n",
              "      <th>15</th>\n",
              "      <td>Chácara</td>\n",
              "    </tr>\n",
              "    <tr>\n",
              "      <th>16</th>\n",
              "      <td>Loteamento/Condomínio</td>\n",
              "    </tr>\n",
              "    <tr>\n",
              "      <th>17</th>\n",
              "      <td>Sítio</td>\n",
              "    </tr>\n",
              "    <tr>\n",
              "      <th>18</th>\n",
              "      <td>Pousada/Chalé</td>\n",
              "    </tr>\n",
              "    <tr>\n",
              "      <th>19</th>\n",
              "      <td>Studio</td>\n",
              "    </tr>\n",
              "    <tr>\n",
              "      <th>20</th>\n",
              "      <td>Hotel</td>\n",
              "    </tr>\n",
              "    <tr>\n",
              "      <th>21</th>\n",
              "      <td>Indústria</td>\n",
              "    </tr>\n",
              "  </tbody>\n",
              "</table>\n",
              "</div>"
            ],
            "text/plain": [
              "                           Tipo\n",
              "0                     Quitinete\n",
              "1                          Casa\n",
              "2       Conjunto Comercial/Sala\n",
              "3                   Apartamento\n",
              "4            Casa de Condomínio\n",
              "5                Prédio Inteiro\n",
              "6                          Flat\n",
              "7                    Loja/Salão\n",
              "8       Galpão/Depósito/Armazém\n",
              "9                Casa Comercial\n",
              "10                 Casa de Vila\n",
              "11               Terreno Padrão\n",
              "12                  Box/Garagem\n",
              "13                         Loft\n",
              "14  Loja Shopping/ Ct Comercial\n",
              "15                      Chácara\n",
              "16        Loteamento/Condomínio\n",
              "17                        Sítio\n",
              "18                Pousada/Chalé\n",
              "19                       Studio\n",
              "20                        Hotel\n",
              "21                    Indústria"
            ]
          },
          "metadata": {
            "tags": []
          },
          "execution_count": 16
        }
      ]
    },
    {
      "cell_type": "code",
      "metadata": {
        "id": "MJgzivf7Ykni"
      },
      "source": [
        "tipo_de_imovel.columns.name = 'ID'"
      ],
      "execution_count": null,
      "outputs": []
    },
    {
      "cell_type": "code",
      "metadata": {
        "colab": {
          "base_uri": "https://localhost:8080/",
          "height": 731
        },
        "id": "fl3hfmszYroj",
        "outputId": "e097f0ab-8caa-4b30-fd35-05f6d28cc043"
      },
      "source": [
        "tipo_de_imovel"
      ],
      "execution_count": null,
      "outputs": [
        {
          "output_type": "execute_result",
          "data": {
            "text/html": [
              "<div>\n",
              "<style scoped>\n",
              "    .dataframe tbody tr th:only-of-type {\n",
              "        vertical-align: middle;\n",
              "    }\n",
              "\n",
              "    .dataframe tbody tr th {\n",
              "        vertical-align: top;\n",
              "    }\n",
              "\n",
              "    .dataframe thead th {\n",
              "        text-align: right;\n",
              "    }\n",
              "</style>\n",
              "<table border=\"1\" class=\"dataframe\">\n",
              "  <thead>\n",
              "    <tr style=\"text-align: right;\">\n",
              "      <th>ID</th>\n",
              "      <th>Tipo</th>\n",
              "    </tr>\n",
              "  </thead>\n",
              "  <tbody>\n",
              "    <tr>\n",
              "      <th>0</th>\n",
              "      <td>Quitinete</td>\n",
              "    </tr>\n",
              "    <tr>\n",
              "      <th>1</th>\n",
              "      <td>Casa</td>\n",
              "    </tr>\n",
              "    <tr>\n",
              "      <th>2</th>\n",
              "      <td>Conjunto Comercial/Sala</td>\n",
              "    </tr>\n",
              "    <tr>\n",
              "      <th>3</th>\n",
              "      <td>Apartamento</td>\n",
              "    </tr>\n",
              "    <tr>\n",
              "      <th>4</th>\n",
              "      <td>Casa de Condomínio</td>\n",
              "    </tr>\n",
              "    <tr>\n",
              "      <th>5</th>\n",
              "      <td>Prédio Inteiro</td>\n",
              "    </tr>\n",
              "    <tr>\n",
              "      <th>6</th>\n",
              "      <td>Flat</td>\n",
              "    </tr>\n",
              "    <tr>\n",
              "      <th>7</th>\n",
              "      <td>Loja/Salão</td>\n",
              "    </tr>\n",
              "    <tr>\n",
              "      <th>8</th>\n",
              "      <td>Galpão/Depósito/Armazém</td>\n",
              "    </tr>\n",
              "    <tr>\n",
              "      <th>9</th>\n",
              "      <td>Casa Comercial</td>\n",
              "    </tr>\n",
              "    <tr>\n",
              "      <th>10</th>\n",
              "      <td>Casa de Vila</td>\n",
              "    </tr>\n",
              "    <tr>\n",
              "      <th>11</th>\n",
              "      <td>Terreno Padrão</td>\n",
              "    </tr>\n",
              "    <tr>\n",
              "      <th>12</th>\n",
              "      <td>Box/Garagem</td>\n",
              "    </tr>\n",
              "    <tr>\n",
              "      <th>13</th>\n",
              "      <td>Loft</td>\n",
              "    </tr>\n",
              "    <tr>\n",
              "      <th>14</th>\n",
              "      <td>Loja Shopping/ Ct Comercial</td>\n",
              "    </tr>\n",
              "    <tr>\n",
              "      <th>15</th>\n",
              "      <td>Chácara</td>\n",
              "    </tr>\n",
              "    <tr>\n",
              "      <th>16</th>\n",
              "      <td>Loteamento/Condomínio</td>\n",
              "    </tr>\n",
              "    <tr>\n",
              "      <th>17</th>\n",
              "      <td>Sítio</td>\n",
              "    </tr>\n",
              "    <tr>\n",
              "      <th>18</th>\n",
              "      <td>Pousada/Chalé</td>\n",
              "    </tr>\n",
              "    <tr>\n",
              "      <th>19</th>\n",
              "      <td>Studio</td>\n",
              "    </tr>\n",
              "    <tr>\n",
              "      <th>20</th>\n",
              "      <td>Hotel</td>\n",
              "    </tr>\n",
              "    <tr>\n",
              "      <th>21</th>\n",
              "      <td>Indústria</td>\n",
              "    </tr>\n",
              "  </tbody>\n",
              "</table>\n",
              "</div>"
            ],
            "text/plain": [
              "ID                         Tipo\n",
              "0                     Quitinete\n",
              "1                          Casa\n",
              "2       Conjunto Comercial/Sala\n",
              "3                   Apartamento\n",
              "4            Casa de Condomínio\n",
              "5                Prédio Inteiro\n",
              "6                          Flat\n",
              "7                    Loja/Salão\n",
              "8       Galpão/Depósito/Armazém\n",
              "9                Casa Comercial\n",
              "10                 Casa de Vila\n",
              "11               Terreno Padrão\n",
              "12                  Box/Garagem\n",
              "13                         Loft\n",
              "14  Loja Shopping/ Ct Comercial\n",
              "15                      Chácara\n",
              "16        Loteamento/Condomínio\n",
              "17                        Sítio\n",
              "18                Pousada/Chalé\n",
              "19                       Studio\n",
              "20                        Hotel\n",
              "21                    Indústria"
            ]
          },
          "metadata": {
            "tags": []
          },
          "execution_count": 18
        }
      ]
    },
    {
      "cell_type": "markdown",
      "metadata": {
        "id": "AA8MDSzPgj6j"
      },
      "source": [
        "###Imóveis Residenciais"
      ]
    },
    {
      "cell_type": "markdown",
      "metadata": {
        "id": "85pK6QncgmxK"
      },
      "source": [
        "**Filtrando nosso *DataFrame* para lidarmos apenas com imóveis residenciais.**"
      ]
    },
    {
      "cell_type": "code",
      "metadata": {
        "id": "0xRIF6wgYstj",
        "colab": {
          "base_uri": "https://localhost:8080/"
        },
        "outputId": "470c6b3d-4532-4cc0-c4ed-a6b331038e80"
      },
      "source": [
        "list(dados.Tipo.drop_duplicates())"
      ],
      "execution_count": null,
      "outputs": [
        {
          "output_type": "execute_result",
          "data": {
            "text/plain": [
              "['Quitinete',\n",
              " 'Casa',\n",
              " 'Conjunto Comercial/Sala',\n",
              " 'Apartamento',\n",
              " 'Casa de Condomínio',\n",
              " 'Prédio Inteiro',\n",
              " 'Flat',\n",
              " 'Loja/Salão',\n",
              " 'Galpão/Depósito/Armazém',\n",
              " 'Casa Comercial',\n",
              " 'Casa de Vila',\n",
              " 'Terreno Padrão',\n",
              " 'Box/Garagem',\n",
              " 'Loft',\n",
              " 'Loja Shopping/ Ct Comercial',\n",
              " 'Chácara',\n",
              " 'Loteamento/Condomínio',\n",
              " 'Sítio',\n",
              " 'Pousada/Chalé',\n",
              " 'Studio',\n",
              " 'Hotel',\n",
              " 'Indústria']"
            ]
          },
          "metadata": {
            "tags": []
          },
          "execution_count": 19
        }
      ]
    },
    {
      "cell_type": "code",
      "metadata": {
        "id": "4kii1UPehIZy"
      },
      "source": [
        "residencial = ['Quitinete',\n",
        " 'Casa',\n",
        " 'Apartamento',\n",
        " 'Casa de Condomínio',\n",
        " 'Casa de Vila']"
      ],
      "execution_count": null,
      "outputs": []
    },
    {
      "cell_type": "code",
      "metadata": {
        "colab": {
          "base_uri": "https://localhost:8080/"
        },
        "id": "CXT2LkB2hVDp",
        "outputId": "58454187-9ec2-4269-9a08-55c84d964d0c"
      },
      "source": [
        "residencial"
      ],
      "execution_count": null,
      "outputs": [
        {
          "output_type": "execute_result",
          "data": {
            "text/plain": [
              "['Quitinete', 'Casa', 'Apartamento', 'Casa de Condomínio', 'Casa de Vila']"
            ]
          },
          "metadata": {
            "tags": []
          },
          "execution_count": 21
        }
      ]
    },
    {
      "cell_type": "code",
      "metadata": {
        "colab": {
          "base_uri": "https://localhost:8080/",
          "height": 359
        },
        "id": "g7ArVeBFhWIZ",
        "outputId": "df858b0a-678c-40fc-baeb-1f31007ac925"
      },
      "source": [
        "dados.head(10)"
      ],
      "execution_count": null,
      "outputs": [
        {
          "output_type": "execute_result",
          "data": {
            "text/html": [
              "<div>\n",
              "<style scoped>\n",
              "    .dataframe tbody tr th:only-of-type {\n",
              "        vertical-align: middle;\n",
              "    }\n",
              "\n",
              "    .dataframe tbody tr th {\n",
              "        vertical-align: top;\n",
              "    }\n",
              "\n",
              "    .dataframe thead th {\n",
              "        text-align: right;\n",
              "    }\n",
              "</style>\n",
              "<table border=\"1\" class=\"dataframe\">\n",
              "  <thead>\n",
              "    <tr style=\"text-align: right;\">\n",
              "      <th></th>\n",
              "      <th>Tipo</th>\n",
              "      <th>Bairro</th>\n",
              "      <th>Quartos</th>\n",
              "      <th>Vagas</th>\n",
              "      <th>Suites</th>\n",
              "      <th>Area</th>\n",
              "      <th>Valor</th>\n",
              "      <th>Condominio</th>\n",
              "      <th>IPTU</th>\n",
              "    </tr>\n",
              "  </thead>\n",
              "  <tbody>\n",
              "    <tr>\n",
              "      <th>0</th>\n",
              "      <td>Quitinete</td>\n",
              "      <td>Copacabana</td>\n",
              "      <td>1</td>\n",
              "      <td>0</td>\n",
              "      <td>0</td>\n",
              "      <td>40</td>\n",
              "      <td>1700.0</td>\n",
              "      <td>500.0</td>\n",
              "      <td>60.0</td>\n",
              "    </tr>\n",
              "    <tr>\n",
              "      <th>1</th>\n",
              "      <td>Casa</td>\n",
              "      <td>Jardim Botânico</td>\n",
              "      <td>2</td>\n",
              "      <td>0</td>\n",
              "      <td>1</td>\n",
              "      <td>100</td>\n",
              "      <td>7000.0</td>\n",
              "      <td>NaN</td>\n",
              "      <td>NaN</td>\n",
              "    </tr>\n",
              "    <tr>\n",
              "      <th>2</th>\n",
              "      <td>Conjunto Comercial/Sala</td>\n",
              "      <td>Barra da Tijuca</td>\n",
              "      <td>0</td>\n",
              "      <td>4</td>\n",
              "      <td>0</td>\n",
              "      <td>150</td>\n",
              "      <td>5200.0</td>\n",
              "      <td>4020.0</td>\n",
              "      <td>1111.0</td>\n",
              "    </tr>\n",
              "    <tr>\n",
              "      <th>3</th>\n",
              "      <td>Apartamento</td>\n",
              "      <td>Centro</td>\n",
              "      <td>1</td>\n",
              "      <td>0</td>\n",
              "      <td>0</td>\n",
              "      <td>15</td>\n",
              "      <td>800.0</td>\n",
              "      <td>390.0</td>\n",
              "      <td>20.0</td>\n",
              "    </tr>\n",
              "    <tr>\n",
              "      <th>4</th>\n",
              "      <td>Apartamento</td>\n",
              "      <td>Higienópolis</td>\n",
              "      <td>1</td>\n",
              "      <td>0</td>\n",
              "      <td>0</td>\n",
              "      <td>48</td>\n",
              "      <td>800.0</td>\n",
              "      <td>230.0</td>\n",
              "      <td>NaN</td>\n",
              "    </tr>\n",
              "    <tr>\n",
              "      <th>5</th>\n",
              "      <td>Apartamento</td>\n",
              "      <td>Vista Alegre</td>\n",
              "      <td>3</td>\n",
              "      <td>1</td>\n",
              "      <td>0</td>\n",
              "      <td>70</td>\n",
              "      <td>1200.0</td>\n",
              "      <td>NaN</td>\n",
              "      <td>NaN</td>\n",
              "    </tr>\n",
              "    <tr>\n",
              "      <th>6</th>\n",
              "      <td>Apartamento</td>\n",
              "      <td>Cachambi</td>\n",
              "      <td>2</td>\n",
              "      <td>0</td>\n",
              "      <td>0</td>\n",
              "      <td>50</td>\n",
              "      <td>1300.0</td>\n",
              "      <td>301.0</td>\n",
              "      <td>17.0</td>\n",
              "    </tr>\n",
              "    <tr>\n",
              "      <th>7</th>\n",
              "      <td>Casa de Condomínio</td>\n",
              "      <td>Barra da Tijuca</td>\n",
              "      <td>5</td>\n",
              "      <td>4</td>\n",
              "      <td>5</td>\n",
              "      <td>750</td>\n",
              "      <td>22000.0</td>\n",
              "      <td>NaN</td>\n",
              "      <td>NaN</td>\n",
              "    </tr>\n",
              "    <tr>\n",
              "      <th>8</th>\n",
              "      <td>Casa de Condomínio</td>\n",
              "      <td>Ramos</td>\n",
              "      <td>2</td>\n",
              "      <td>2</td>\n",
              "      <td>0</td>\n",
              "      <td>65</td>\n",
              "      <td>1000.0</td>\n",
              "      <td>NaN</td>\n",
              "      <td>NaN</td>\n",
              "    </tr>\n",
              "    <tr>\n",
              "      <th>9</th>\n",
              "      <td>Conjunto Comercial/Sala</td>\n",
              "      <td>Centro</td>\n",
              "      <td>0</td>\n",
              "      <td>3</td>\n",
              "      <td>0</td>\n",
              "      <td>695</td>\n",
              "      <td>35000.0</td>\n",
              "      <td>19193.0</td>\n",
              "      <td>3030.0</td>\n",
              "    </tr>\n",
              "  </tbody>\n",
              "</table>\n",
              "</div>"
            ],
            "text/plain": [
              "                      Tipo           Bairro  ...  Condominio    IPTU\n",
              "0                Quitinete       Copacabana  ...       500.0    60.0\n",
              "1                     Casa  Jardim Botânico  ...         NaN     NaN\n",
              "2  Conjunto Comercial/Sala  Barra da Tijuca  ...      4020.0  1111.0\n",
              "3              Apartamento           Centro  ...       390.0    20.0\n",
              "4              Apartamento     Higienópolis  ...       230.0     NaN\n",
              "5              Apartamento     Vista Alegre  ...         NaN     NaN\n",
              "6              Apartamento         Cachambi  ...       301.0    17.0\n",
              "7       Casa de Condomínio  Barra da Tijuca  ...         NaN     NaN\n",
              "8       Casa de Condomínio            Ramos  ...         NaN     NaN\n",
              "9  Conjunto Comercial/Sala           Centro  ...     19193.0  3030.0\n",
              "\n",
              "[10 rows x 9 columns]"
            ]
          },
          "metadata": {
            "tags": []
          },
          "execution_count": 22
        }
      ]
    },
    {
      "cell_type": "code",
      "metadata": {
        "colab": {
          "base_uri": "https://localhost:8080/"
        },
        "id": "ZatndPiphefJ",
        "outputId": "05e616e7-9d7c-4b86-c502-93afe7fd7248"
      },
      "source": [
        "selecao = dados['Tipo'].isin(residencial)\n",
        "selecao"
      ],
      "execution_count": null,
      "outputs": [
        {
          "output_type": "execute_result",
          "data": {
            "text/plain": [
              "0         True\n",
              "1         True\n",
              "2        False\n",
              "3         True\n",
              "4         True\n",
              "         ...  \n",
              "32955     True\n",
              "32956     True\n",
              "32957     True\n",
              "32958     True\n",
              "32959    False\n",
              "Name: Tipo, Length: 32960, dtype: bool"
            ]
          },
          "metadata": {
            "tags": []
          },
          "execution_count": 23
        }
      ]
    },
    {
      "cell_type": "code",
      "metadata": {
        "colab": {
          "base_uri": "https://localhost:8080/",
          "height": 419
        },
        "id": "_q2uyxqahi0Y",
        "outputId": "3767fe9a-4f1c-4dfc-b257-fb780a3a8a6e"
      },
      "source": [
        "dados_residencial = dados[selecao]\n",
        "dados_residencial"
      ],
      "execution_count": null,
      "outputs": [
        {
          "output_type": "execute_result",
          "data": {
            "text/html": [
              "<div>\n",
              "<style scoped>\n",
              "    .dataframe tbody tr th:only-of-type {\n",
              "        vertical-align: middle;\n",
              "    }\n",
              "\n",
              "    .dataframe tbody tr th {\n",
              "        vertical-align: top;\n",
              "    }\n",
              "\n",
              "    .dataframe thead th {\n",
              "        text-align: right;\n",
              "    }\n",
              "</style>\n",
              "<table border=\"1\" class=\"dataframe\">\n",
              "  <thead>\n",
              "    <tr style=\"text-align: right;\">\n",
              "      <th></th>\n",
              "      <th>Tipo</th>\n",
              "      <th>Bairro</th>\n",
              "      <th>Quartos</th>\n",
              "      <th>Vagas</th>\n",
              "      <th>Suites</th>\n",
              "      <th>Area</th>\n",
              "      <th>Valor</th>\n",
              "      <th>Condominio</th>\n",
              "      <th>IPTU</th>\n",
              "    </tr>\n",
              "  </thead>\n",
              "  <tbody>\n",
              "    <tr>\n",
              "      <th>0</th>\n",
              "      <td>Quitinete</td>\n",
              "      <td>Copacabana</td>\n",
              "      <td>1</td>\n",
              "      <td>0</td>\n",
              "      <td>0</td>\n",
              "      <td>40</td>\n",
              "      <td>1700.0</td>\n",
              "      <td>500.0</td>\n",
              "      <td>60.0</td>\n",
              "    </tr>\n",
              "    <tr>\n",
              "      <th>1</th>\n",
              "      <td>Casa</td>\n",
              "      <td>Jardim Botânico</td>\n",
              "      <td>2</td>\n",
              "      <td>0</td>\n",
              "      <td>1</td>\n",
              "      <td>100</td>\n",
              "      <td>7000.0</td>\n",
              "      <td>NaN</td>\n",
              "      <td>NaN</td>\n",
              "    </tr>\n",
              "    <tr>\n",
              "      <th>3</th>\n",
              "      <td>Apartamento</td>\n",
              "      <td>Centro</td>\n",
              "      <td>1</td>\n",
              "      <td>0</td>\n",
              "      <td>0</td>\n",
              "      <td>15</td>\n",
              "      <td>800.0</td>\n",
              "      <td>390.0</td>\n",
              "      <td>20.0</td>\n",
              "    </tr>\n",
              "    <tr>\n",
              "      <th>4</th>\n",
              "      <td>Apartamento</td>\n",
              "      <td>Higienópolis</td>\n",
              "      <td>1</td>\n",
              "      <td>0</td>\n",
              "      <td>0</td>\n",
              "      <td>48</td>\n",
              "      <td>800.0</td>\n",
              "      <td>230.0</td>\n",
              "      <td>NaN</td>\n",
              "    </tr>\n",
              "    <tr>\n",
              "      <th>5</th>\n",
              "      <td>Apartamento</td>\n",
              "      <td>Vista Alegre</td>\n",
              "      <td>3</td>\n",
              "      <td>1</td>\n",
              "      <td>0</td>\n",
              "      <td>70</td>\n",
              "      <td>1200.0</td>\n",
              "      <td>NaN</td>\n",
              "      <td>NaN</td>\n",
              "    </tr>\n",
              "    <tr>\n",
              "      <th>...</th>\n",
              "      <td>...</td>\n",
              "      <td>...</td>\n",
              "      <td>...</td>\n",
              "      <td>...</td>\n",
              "      <td>...</td>\n",
              "      <td>...</td>\n",
              "      <td>...</td>\n",
              "      <td>...</td>\n",
              "      <td>...</td>\n",
              "    </tr>\n",
              "    <tr>\n",
              "      <th>32953</th>\n",
              "      <td>Apartamento</td>\n",
              "      <td>Méier</td>\n",
              "      <td>2</td>\n",
              "      <td>0</td>\n",
              "      <td>0</td>\n",
              "      <td>70</td>\n",
              "      <td>900.0</td>\n",
              "      <td>490.0</td>\n",
              "      <td>48.0</td>\n",
              "    </tr>\n",
              "    <tr>\n",
              "      <th>32955</th>\n",
              "      <td>Quitinete</td>\n",
              "      <td>Centro</td>\n",
              "      <td>0</td>\n",
              "      <td>0</td>\n",
              "      <td>0</td>\n",
              "      <td>27</td>\n",
              "      <td>800.0</td>\n",
              "      <td>350.0</td>\n",
              "      <td>25.0</td>\n",
              "    </tr>\n",
              "    <tr>\n",
              "      <th>32956</th>\n",
              "      <td>Apartamento</td>\n",
              "      <td>Jacarepaguá</td>\n",
              "      <td>3</td>\n",
              "      <td>1</td>\n",
              "      <td>2</td>\n",
              "      <td>78</td>\n",
              "      <td>1800.0</td>\n",
              "      <td>800.0</td>\n",
              "      <td>40.0</td>\n",
              "    </tr>\n",
              "    <tr>\n",
              "      <th>32957</th>\n",
              "      <td>Apartamento</td>\n",
              "      <td>São Francisco Xavier</td>\n",
              "      <td>2</td>\n",
              "      <td>1</td>\n",
              "      <td>0</td>\n",
              "      <td>48</td>\n",
              "      <td>1400.0</td>\n",
              "      <td>509.0</td>\n",
              "      <td>37.0</td>\n",
              "    </tr>\n",
              "    <tr>\n",
              "      <th>32958</th>\n",
              "      <td>Apartamento</td>\n",
              "      <td>Leblon</td>\n",
              "      <td>2</td>\n",
              "      <td>0</td>\n",
              "      <td>0</td>\n",
              "      <td>70</td>\n",
              "      <td>3000.0</td>\n",
              "      <td>760.0</td>\n",
              "      <td>NaN</td>\n",
              "    </tr>\n",
              "  </tbody>\n",
              "</table>\n",
              "<p>22580 rows × 9 columns</p>\n",
              "</div>"
            ],
            "text/plain": [
              "              Tipo                Bairro  Quartos  ...   Valor  Condominio  IPTU\n",
              "0        Quitinete            Copacabana        1  ...  1700.0       500.0  60.0\n",
              "1             Casa       Jardim Botânico        2  ...  7000.0         NaN   NaN\n",
              "3      Apartamento                Centro        1  ...   800.0       390.0  20.0\n",
              "4      Apartamento          Higienópolis        1  ...   800.0       230.0   NaN\n",
              "5      Apartamento          Vista Alegre        3  ...  1200.0         NaN   NaN\n",
              "...            ...                   ...      ...  ...     ...         ...   ...\n",
              "32953  Apartamento                 Méier        2  ...   900.0       490.0  48.0\n",
              "32955    Quitinete                Centro        0  ...   800.0       350.0  25.0\n",
              "32956  Apartamento           Jacarepaguá        3  ...  1800.0       800.0  40.0\n",
              "32957  Apartamento  São Francisco Xavier        2  ...  1400.0       509.0  37.0\n",
              "32958  Apartamento                Leblon        2  ...  3000.0       760.0   NaN\n",
              "\n",
              "[22580 rows x 9 columns]"
            ]
          },
          "metadata": {
            "tags": []
          },
          "execution_count": 24
        }
      ]
    },
    {
      "cell_type": "markdown",
      "metadata": {
        "id": "YNyZfSEXiEeD"
      },
      "source": [
        "Verificando se, de fato, a filtragem funcionou."
      ]
    },
    {
      "cell_type": "code",
      "metadata": {
        "colab": {
          "base_uri": "https://localhost:8080/"
        },
        "id": "2Y0mf5Bgh8iK",
        "outputId": "a77fe315-4888-47df-8935-9bee65cac1a4"
      },
      "source": [
        "list(dados_residencial['Tipo'].drop_duplicates())"
      ],
      "execution_count": null,
      "outputs": [
        {
          "output_type": "execute_result",
          "data": {
            "text/plain": [
              "['Quitinete', 'Casa', 'Apartamento', 'Casa de Condomínio', 'Casa de Vila']"
            ]
          },
          "metadata": {
            "tags": []
          },
          "execution_count": 25
        }
      ]
    },
    {
      "cell_type": "markdown",
      "metadata": {
        "id": "bTKI8UjziMrr"
      },
      "source": [
        "Verificando quantas linhas a menos esse *DataFrame* dados_residencial possui em relação ao *DataFrame* dados."
      ]
    },
    {
      "cell_type": "code",
      "metadata": {
        "colab": {
          "base_uri": "https://localhost:8080/"
        },
        "id": "2DGFhceCiKUS",
        "outputId": "3949596b-b0ed-41fd-a679-606b3612d3df"
      },
      "source": [
        "dados.shape[0] - dados_residencial.shape[0]"
      ],
      "execution_count": null,
      "outputs": [
        {
          "output_type": "execute_result",
          "data": {
            "text/plain": [
              "10380"
            ]
          },
          "metadata": {
            "tags": []
          },
          "execution_count": 26
        }
      ]
    },
    {
      "cell_type": "markdown",
      "metadata": {
        "id": "Z_tNiiNDioVk"
      },
      "source": [
        "Reconstruindo o index desse *DataFrame* dados_residencial."
      ]
    },
    {
      "cell_type": "code",
      "metadata": {
        "colab": {
          "base_uri": "https://localhost:8080/",
          "height": 419
        },
        "id": "sYLWDRaKijHa",
        "outputId": "33dce3b3-a422-4d73-eb15-ad333b1f671a"
      },
      "source": [
        "dados_residencial.index = range(dados_residencial.shape[0])\n",
        "dados_residencial"
      ],
      "execution_count": null,
      "outputs": [
        {
          "output_type": "execute_result",
          "data": {
            "text/html": [
              "<div>\n",
              "<style scoped>\n",
              "    .dataframe tbody tr th:only-of-type {\n",
              "        vertical-align: middle;\n",
              "    }\n",
              "\n",
              "    .dataframe tbody tr th {\n",
              "        vertical-align: top;\n",
              "    }\n",
              "\n",
              "    .dataframe thead th {\n",
              "        text-align: right;\n",
              "    }\n",
              "</style>\n",
              "<table border=\"1\" class=\"dataframe\">\n",
              "  <thead>\n",
              "    <tr style=\"text-align: right;\">\n",
              "      <th></th>\n",
              "      <th>Tipo</th>\n",
              "      <th>Bairro</th>\n",
              "      <th>Quartos</th>\n",
              "      <th>Vagas</th>\n",
              "      <th>Suites</th>\n",
              "      <th>Area</th>\n",
              "      <th>Valor</th>\n",
              "      <th>Condominio</th>\n",
              "      <th>IPTU</th>\n",
              "    </tr>\n",
              "  </thead>\n",
              "  <tbody>\n",
              "    <tr>\n",
              "      <th>0</th>\n",
              "      <td>Quitinete</td>\n",
              "      <td>Copacabana</td>\n",
              "      <td>1</td>\n",
              "      <td>0</td>\n",
              "      <td>0</td>\n",
              "      <td>40</td>\n",
              "      <td>1700.0</td>\n",
              "      <td>500.0</td>\n",
              "      <td>60.0</td>\n",
              "    </tr>\n",
              "    <tr>\n",
              "      <th>1</th>\n",
              "      <td>Casa</td>\n",
              "      <td>Jardim Botânico</td>\n",
              "      <td>2</td>\n",
              "      <td>0</td>\n",
              "      <td>1</td>\n",
              "      <td>100</td>\n",
              "      <td>7000.0</td>\n",
              "      <td>NaN</td>\n",
              "      <td>NaN</td>\n",
              "    </tr>\n",
              "    <tr>\n",
              "      <th>2</th>\n",
              "      <td>Apartamento</td>\n",
              "      <td>Centro</td>\n",
              "      <td>1</td>\n",
              "      <td>0</td>\n",
              "      <td>0</td>\n",
              "      <td>15</td>\n",
              "      <td>800.0</td>\n",
              "      <td>390.0</td>\n",
              "      <td>20.0</td>\n",
              "    </tr>\n",
              "    <tr>\n",
              "      <th>3</th>\n",
              "      <td>Apartamento</td>\n",
              "      <td>Higienópolis</td>\n",
              "      <td>1</td>\n",
              "      <td>0</td>\n",
              "      <td>0</td>\n",
              "      <td>48</td>\n",
              "      <td>800.0</td>\n",
              "      <td>230.0</td>\n",
              "      <td>NaN</td>\n",
              "    </tr>\n",
              "    <tr>\n",
              "      <th>4</th>\n",
              "      <td>Apartamento</td>\n",
              "      <td>Vista Alegre</td>\n",
              "      <td>3</td>\n",
              "      <td>1</td>\n",
              "      <td>0</td>\n",
              "      <td>70</td>\n",
              "      <td>1200.0</td>\n",
              "      <td>NaN</td>\n",
              "      <td>NaN</td>\n",
              "    </tr>\n",
              "    <tr>\n",
              "      <th>...</th>\n",
              "      <td>...</td>\n",
              "      <td>...</td>\n",
              "      <td>...</td>\n",
              "      <td>...</td>\n",
              "      <td>...</td>\n",
              "      <td>...</td>\n",
              "      <td>...</td>\n",
              "      <td>...</td>\n",
              "      <td>...</td>\n",
              "    </tr>\n",
              "    <tr>\n",
              "      <th>22575</th>\n",
              "      <td>Apartamento</td>\n",
              "      <td>Méier</td>\n",
              "      <td>2</td>\n",
              "      <td>0</td>\n",
              "      <td>0</td>\n",
              "      <td>70</td>\n",
              "      <td>900.0</td>\n",
              "      <td>490.0</td>\n",
              "      <td>48.0</td>\n",
              "    </tr>\n",
              "    <tr>\n",
              "      <th>22576</th>\n",
              "      <td>Quitinete</td>\n",
              "      <td>Centro</td>\n",
              "      <td>0</td>\n",
              "      <td>0</td>\n",
              "      <td>0</td>\n",
              "      <td>27</td>\n",
              "      <td>800.0</td>\n",
              "      <td>350.0</td>\n",
              "      <td>25.0</td>\n",
              "    </tr>\n",
              "    <tr>\n",
              "      <th>22577</th>\n",
              "      <td>Apartamento</td>\n",
              "      <td>Jacarepaguá</td>\n",
              "      <td>3</td>\n",
              "      <td>1</td>\n",
              "      <td>2</td>\n",
              "      <td>78</td>\n",
              "      <td>1800.0</td>\n",
              "      <td>800.0</td>\n",
              "      <td>40.0</td>\n",
              "    </tr>\n",
              "    <tr>\n",
              "      <th>22578</th>\n",
              "      <td>Apartamento</td>\n",
              "      <td>São Francisco Xavier</td>\n",
              "      <td>2</td>\n",
              "      <td>1</td>\n",
              "      <td>0</td>\n",
              "      <td>48</td>\n",
              "      <td>1400.0</td>\n",
              "      <td>509.0</td>\n",
              "      <td>37.0</td>\n",
              "    </tr>\n",
              "    <tr>\n",
              "      <th>22579</th>\n",
              "      <td>Apartamento</td>\n",
              "      <td>Leblon</td>\n",
              "      <td>2</td>\n",
              "      <td>0</td>\n",
              "      <td>0</td>\n",
              "      <td>70</td>\n",
              "      <td>3000.0</td>\n",
              "      <td>760.0</td>\n",
              "      <td>NaN</td>\n",
              "    </tr>\n",
              "  </tbody>\n",
              "</table>\n",
              "<p>22580 rows × 9 columns</p>\n",
              "</div>"
            ],
            "text/plain": [
              "              Tipo                Bairro  Quartos  ...   Valor  Condominio  IPTU\n",
              "0        Quitinete            Copacabana        1  ...  1700.0       500.0  60.0\n",
              "1             Casa       Jardim Botânico        2  ...  7000.0         NaN   NaN\n",
              "2      Apartamento                Centro        1  ...   800.0       390.0  20.0\n",
              "3      Apartamento          Higienópolis        1  ...   800.0       230.0   NaN\n",
              "4      Apartamento          Vista Alegre        3  ...  1200.0         NaN   NaN\n",
              "...            ...                   ...      ...  ...     ...         ...   ...\n",
              "22575  Apartamento                 Méier        2  ...   900.0       490.0  48.0\n",
              "22576    Quitinete                Centro        0  ...   800.0       350.0  25.0\n",
              "22577  Apartamento           Jacarepaguá        3  ...  1800.0       800.0  40.0\n",
              "22578  Apartamento  São Francisco Xavier        2  ...  1400.0       509.0  37.0\n",
              "22579  Apartamento                Leblon        2  ...  3000.0       760.0   NaN\n",
              "\n",
              "[22580 rows x 9 columns]"
            ]
          },
          "metadata": {
            "tags": []
          },
          "execution_count": 27
        }
      ]
    },
    {
      "cell_type": "markdown",
      "metadata": {
        "id": "qrkA3vyHjidq"
      },
      "source": [
        "**Exportando o novo *DataFrame* para um arquivo csv.**"
      ]
    },
    {
      "cell_type": "code",
      "metadata": {
        "id": "iUQbSiJSjQzy"
      },
      "source": [
        "dados_residencial.to_csv('/content/drive/MyDrive/Curso Alura/Python Pandas: Tratando e Analisando Dados/dados/aluguel_residencial.csv', \n",
        "                         sep=';', index=False)"
      ],
      "execution_count": null,
      "outputs": []
    },
    {
      "cell_type": "markdown",
      "metadata": {
        "id": "mEoqwNPOdlSz"
      },
      "source": [
        "###Seleções e Frequências"
      ]
    },
    {
      "cell_type": "code",
      "metadata": {
        "colab": {
          "base_uri": "https://localhost:8080/",
          "height": 419
        },
        "id": "vrQCUwlVeJ10",
        "outputId": "d701dea2-23dd-44c4-ad40-11b5dab9bbc8"
      },
      "source": [
        "dados = dados_residencial.copy()\n",
        "dados"
      ],
      "execution_count": null,
      "outputs": [
        {
          "output_type": "execute_result",
          "data": {
            "text/html": [
              "<div>\n",
              "<style scoped>\n",
              "    .dataframe tbody tr th:only-of-type {\n",
              "        vertical-align: middle;\n",
              "    }\n",
              "\n",
              "    .dataframe tbody tr th {\n",
              "        vertical-align: top;\n",
              "    }\n",
              "\n",
              "    .dataframe thead th {\n",
              "        text-align: right;\n",
              "    }\n",
              "</style>\n",
              "<table border=\"1\" class=\"dataframe\">\n",
              "  <thead>\n",
              "    <tr style=\"text-align: right;\">\n",
              "      <th></th>\n",
              "      <th>Tipo</th>\n",
              "      <th>Bairro</th>\n",
              "      <th>Quartos</th>\n",
              "      <th>Vagas</th>\n",
              "      <th>Suites</th>\n",
              "      <th>Area</th>\n",
              "      <th>Valor</th>\n",
              "      <th>Condominio</th>\n",
              "      <th>IPTU</th>\n",
              "    </tr>\n",
              "  </thead>\n",
              "  <tbody>\n",
              "    <tr>\n",
              "      <th>0</th>\n",
              "      <td>Quitinete</td>\n",
              "      <td>Copacabana</td>\n",
              "      <td>1</td>\n",
              "      <td>0</td>\n",
              "      <td>0</td>\n",
              "      <td>40</td>\n",
              "      <td>1700.0</td>\n",
              "      <td>500.0</td>\n",
              "      <td>60.0</td>\n",
              "    </tr>\n",
              "    <tr>\n",
              "      <th>1</th>\n",
              "      <td>Casa</td>\n",
              "      <td>Jardim Botânico</td>\n",
              "      <td>2</td>\n",
              "      <td>0</td>\n",
              "      <td>1</td>\n",
              "      <td>100</td>\n",
              "      <td>7000.0</td>\n",
              "      <td>NaN</td>\n",
              "      <td>NaN</td>\n",
              "    </tr>\n",
              "    <tr>\n",
              "      <th>2</th>\n",
              "      <td>Apartamento</td>\n",
              "      <td>Centro</td>\n",
              "      <td>1</td>\n",
              "      <td>0</td>\n",
              "      <td>0</td>\n",
              "      <td>15</td>\n",
              "      <td>800.0</td>\n",
              "      <td>390.0</td>\n",
              "      <td>20.0</td>\n",
              "    </tr>\n",
              "    <tr>\n",
              "      <th>3</th>\n",
              "      <td>Apartamento</td>\n",
              "      <td>Higienópolis</td>\n",
              "      <td>1</td>\n",
              "      <td>0</td>\n",
              "      <td>0</td>\n",
              "      <td>48</td>\n",
              "      <td>800.0</td>\n",
              "      <td>230.0</td>\n",
              "      <td>NaN</td>\n",
              "    </tr>\n",
              "    <tr>\n",
              "      <th>4</th>\n",
              "      <td>Apartamento</td>\n",
              "      <td>Vista Alegre</td>\n",
              "      <td>3</td>\n",
              "      <td>1</td>\n",
              "      <td>0</td>\n",
              "      <td>70</td>\n",
              "      <td>1200.0</td>\n",
              "      <td>NaN</td>\n",
              "      <td>NaN</td>\n",
              "    </tr>\n",
              "    <tr>\n",
              "      <th>...</th>\n",
              "      <td>...</td>\n",
              "      <td>...</td>\n",
              "      <td>...</td>\n",
              "      <td>...</td>\n",
              "      <td>...</td>\n",
              "      <td>...</td>\n",
              "      <td>...</td>\n",
              "      <td>...</td>\n",
              "      <td>...</td>\n",
              "    </tr>\n",
              "    <tr>\n",
              "      <th>22575</th>\n",
              "      <td>Apartamento</td>\n",
              "      <td>Méier</td>\n",
              "      <td>2</td>\n",
              "      <td>0</td>\n",
              "      <td>0</td>\n",
              "      <td>70</td>\n",
              "      <td>900.0</td>\n",
              "      <td>490.0</td>\n",
              "      <td>48.0</td>\n",
              "    </tr>\n",
              "    <tr>\n",
              "      <th>22576</th>\n",
              "      <td>Quitinete</td>\n",
              "      <td>Centro</td>\n",
              "      <td>0</td>\n",
              "      <td>0</td>\n",
              "      <td>0</td>\n",
              "      <td>27</td>\n",
              "      <td>800.0</td>\n",
              "      <td>350.0</td>\n",
              "      <td>25.0</td>\n",
              "    </tr>\n",
              "    <tr>\n",
              "      <th>22577</th>\n",
              "      <td>Apartamento</td>\n",
              "      <td>Jacarepaguá</td>\n",
              "      <td>3</td>\n",
              "      <td>1</td>\n",
              "      <td>2</td>\n",
              "      <td>78</td>\n",
              "      <td>1800.0</td>\n",
              "      <td>800.0</td>\n",
              "      <td>40.0</td>\n",
              "    </tr>\n",
              "    <tr>\n",
              "      <th>22578</th>\n",
              "      <td>Apartamento</td>\n",
              "      <td>São Francisco Xavier</td>\n",
              "      <td>2</td>\n",
              "      <td>1</td>\n",
              "      <td>0</td>\n",
              "      <td>48</td>\n",
              "      <td>1400.0</td>\n",
              "      <td>509.0</td>\n",
              "      <td>37.0</td>\n",
              "    </tr>\n",
              "    <tr>\n",
              "      <th>22579</th>\n",
              "      <td>Apartamento</td>\n",
              "      <td>Leblon</td>\n",
              "      <td>2</td>\n",
              "      <td>0</td>\n",
              "      <td>0</td>\n",
              "      <td>70</td>\n",
              "      <td>3000.0</td>\n",
              "      <td>760.0</td>\n",
              "      <td>NaN</td>\n",
              "    </tr>\n",
              "  </tbody>\n",
              "</table>\n",
              "<p>22580 rows × 9 columns</p>\n",
              "</div>"
            ],
            "text/plain": [
              "              Tipo                Bairro  Quartos  ...   Valor  Condominio  IPTU\n",
              "0        Quitinete            Copacabana        1  ...  1700.0       500.0  60.0\n",
              "1             Casa       Jardim Botânico        2  ...  7000.0         NaN   NaN\n",
              "2      Apartamento                Centro        1  ...   800.0       390.0  20.0\n",
              "3      Apartamento          Higienópolis        1  ...   800.0       230.0   NaN\n",
              "4      Apartamento          Vista Alegre        3  ...  1200.0         NaN   NaN\n",
              "...            ...                   ...      ...  ...     ...         ...   ...\n",
              "22575  Apartamento                 Méier        2  ...   900.0       490.0  48.0\n",
              "22576    Quitinete                Centro        0  ...   800.0       350.0  25.0\n",
              "22577  Apartamento           Jacarepaguá        3  ...  1800.0       800.0  40.0\n",
              "22578  Apartamento  São Francisco Xavier        2  ...  1400.0       509.0  37.0\n",
              "22579  Apartamento                Leblon        2  ...  3000.0       760.0   NaN\n",
              "\n",
              "[22580 rows x 9 columns]"
            ]
          },
          "metadata": {
            "tags": []
          },
          "execution_count": 29
        }
      ]
    },
    {
      "cell_type": "markdown",
      "metadata": {
        "id": "TiIGeQRHdpUt"
      },
      "source": [
        "**Selecionando somente os imóveis classificados com tipo *Apartamento* e obtendo a frequência destes na base**"
      ]
    },
    {
      "cell_type": "code",
      "metadata": {
        "colab": {
          "base_uri": "https://localhost:8080/"
        },
        "id": "MEtEfsFeelAl",
        "outputId": "e1d33cb2-3a28-419a-eab6-8e0753ca96ab"
      },
      "source": [
        "selecao = dados['Tipo'] == 'Apartamento'\n",
        "n1 = dados[selecao].shape[0]\n",
        "n1"
      ],
      "execution_count": null,
      "outputs": [
        {
          "output_type": "execute_result",
          "data": {
            "text/plain": [
              "19532"
            ]
          },
          "metadata": {
            "tags": []
          },
          "execution_count": 30
        }
      ]
    },
    {
      "cell_type": "markdown",
      "metadata": {
        "id": "WmV42hFadvvU"
      },
      "source": [
        "**Selecionando os imóveis classificados com tipos *Casa*, *Casa de Condomínio* e *Casa de Vila* e obtendo a frequência destes na base**"
      ]
    },
    {
      "cell_type": "code",
      "metadata": {
        "colab": {
          "base_uri": "https://localhost:8080/"
        },
        "id": "DPSwL-QXfagr",
        "outputId": "f49f40de-0d29-477f-eb63-041378c1e1bd"
      },
      "source": [
        "selecao = (dados['Tipo'] == 'Casa') | (dados['Tipo'] == 'Casa de Condomínio') | (dados['Tipo'] == 'Casa de Vila')\n",
        "n2 = dados[selecao].shape[0]\n",
        "n2"
      ],
      "execution_count": null,
      "outputs": [
        {
          "output_type": "execute_result",
          "data": {
            "text/plain": [
              "2212"
            ]
          },
          "metadata": {
            "tags": []
          },
          "execution_count": 31
        }
      ]
    },
    {
      "cell_type": "markdown",
      "metadata": {
        "id": "S1WQBXGfd53L"
      },
      "source": [
        "**Selecionando os imóveis com área entre 60 e 100 metros quadrados, incluindo os limites e obtendo a frequência destes na base**"
      ]
    },
    {
      "cell_type": "code",
      "metadata": {
        "colab": {
          "base_uri": "https://localhost:8080/"
        },
        "id": "QDoYs9rwfyaa",
        "outputId": "fc83a7cd-3c7c-4c9a-b39d-930fe5460260"
      },
      "source": [
        "selecao = (dados['Area'] >= 60) & (dados['Area'] <= 100)\n",
        "n3 = dados[selecao].shape[0]\n",
        "n3"
      ],
      "execution_count": null,
      "outputs": [
        {
          "output_type": "execute_result",
          "data": {
            "text/plain": [
              "8719"
            ]
          },
          "metadata": {
            "tags": []
          },
          "execution_count": 32
        }
      ]
    },
    {
      "cell_type": "markdown",
      "metadata": {
        "id": "GqygGMsaeA96"
      },
      "source": [
        "**Selecionando os imóveis que tenham, pelo menos, 4 quartos e aluguel menor que R$ 2.000,00 e obtendo a frequência destes na base**"
      ]
    },
    {
      "cell_type": "code",
      "metadata": {
        "id": "vQbALgdtkKeB",
        "colab": {
          "base_uri": "https://localhost:8080/"
        },
        "outputId": "d60d6df3-4591-424f-87ae-825c9366e95c"
      },
      "source": [
        "selecao = (dados['Quartos'] >= 4) & (dados['Valor'] < 2000)\n",
        "n4 = dados[selecao].shape[0]\n",
        "n4"
      ],
      "execution_count": null,
      "outputs": [
        {
          "output_type": "execute_result",
          "data": {
            "text/plain": [
              "41"
            ]
          },
          "metadata": {
            "tags": []
          },
          "execution_count": 33
        }
      ]
    },
    {
      "cell_type": "code",
      "metadata": {
        "colab": {
          "base_uri": "https://localhost:8080/"
        },
        "id": "b3OTFL_ogYm4",
        "outputId": "314516cb-55c4-414d-fda6-800a517e8857"
      },
      "source": [
        "print(\"Nº de imóveis os imóveis classificados com tipo 'Apartamento'. -> {}\".format(n1))\n",
        "\n",
        "print(\"Nº de imóveis os imóveis classificados com tipos 'Casa', 'Casa de Condomínio' e 'Casa de Vila'. -> {}\".format(n2))\n",
        "\n",
        "print(\"Nº de imóveis os imóveis com área entre 60 e 100 metros quadrados, incluindo os limites. -> {}\".format(n3))\n",
        "\n",
        "print(\"Nº de imóveis os imóveis que tenham pelo menos 4 quartos e aluguel menor que R$ 2.000,00. -> {}\".format(n4))"
      ],
      "execution_count": null,
      "outputs": [
        {
          "output_type": "stream",
          "text": [
            "Nº de imóveis os imóveis classificados com tipo 'Apartamento'. -> 19532\n",
            "Nº de imóveis os imóveis classificados com tipos 'Casa', 'Casa de Condomínio' e 'Casa de Vila'. -> 2212\n",
            "Nº de imóveis os imóveis com área entre 60 e 100 metros quadrados, incluindo os limites. -> 8719\n",
            "Nº de imóveis os imóveis que tenham pelo menos 4 quartos e aluguel menor que R$ 2.000,00. -> 41\n"
          ],
          "name": "stdout"
        }
      ]
    },
    {
      "cell_type": "markdown",
      "metadata": {
        "id": "yHee56olmvuh"
      },
      "source": [
        "###Tratamento de Dados Faltantes"
      ]
    },
    {
      "cell_type": "code",
      "metadata": {
        "id": "ClQoH6sjiWYw",
        "colab": {
          "base_uri": "https://localhost:8080/",
          "height": 204
        },
        "outputId": "1d5487cf-4c52-477a-993d-148fa9a732b8"
      },
      "source": [
        "dados.head()"
      ],
      "execution_count": null,
      "outputs": [
        {
          "output_type": "execute_result",
          "data": {
            "text/html": [
              "<div>\n",
              "<style scoped>\n",
              "    .dataframe tbody tr th:only-of-type {\n",
              "        vertical-align: middle;\n",
              "    }\n",
              "\n",
              "    .dataframe tbody tr th {\n",
              "        vertical-align: top;\n",
              "    }\n",
              "\n",
              "    .dataframe thead th {\n",
              "        text-align: right;\n",
              "    }\n",
              "</style>\n",
              "<table border=\"1\" class=\"dataframe\">\n",
              "  <thead>\n",
              "    <tr style=\"text-align: right;\">\n",
              "      <th></th>\n",
              "      <th>Tipo</th>\n",
              "      <th>Bairro</th>\n",
              "      <th>Quartos</th>\n",
              "      <th>Vagas</th>\n",
              "      <th>Suites</th>\n",
              "      <th>Area</th>\n",
              "      <th>Valor</th>\n",
              "      <th>Condominio</th>\n",
              "      <th>IPTU</th>\n",
              "    </tr>\n",
              "  </thead>\n",
              "  <tbody>\n",
              "    <tr>\n",
              "      <th>0</th>\n",
              "      <td>Quitinete</td>\n",
              "      <td>Copacabana</td>\n",
              "      <td>1</td>\n",
              "      <td>0</td>\n",
              "      <td>0</td>\n",
              "      <td>40</td>\n",
              "      <td>1700.0</td>\n",
              "      <td>500.0</td>\n",
              "      <td>60.0</td>\n",
              "    </tr>\n",
              "    <tr>\n",
              "      <th>1</th>\n",
              "      <td>Casa</td>\n",
              "      <td>Jardim Botânico</td>\n",
              "      <td>2</td>\n",
              "      <td>0</td>\n",
              "      <td>1</td>\n",
              "      <td>100</td>\n",
              "      <td>7000.0</td>\n",
              "      <td>NaN</td>\n",
              "      <td>NaN</td>\n",
              "    </tr>\n",
              "    <tr>\n",
              "      <th>2</th>\n",
              "      <td>Apartamento</td>\n",
              "      <td>Centro</td>\n",
              "      <td>1</td>\n",
              "      <td>0</td>\n",
              "      <td>0</td>\n",
              "      <td>15</td>\n",
              "      <td>800.0</td>\n",
              "      <td>390.0</td>\n",
              "      <td>20.0</td>\n",
              "    </tr>\n",
              "    <tr>\n",
              "      <th>3</th>\n",
              "      <td>Apartamento</td>\n",
              "      <td>Higienópolis</td>\n",
              "      <td>1</td>\n",
              "      <td>0</td>\n",
              "      <td>0</td>\n",
              "      <td>48</td>\n",
              "      <td>800.0</td>\n",
              "      <td>230.0</td>\n",
              "      <td>NaN</td>\n",
              "    </tr>\n",
              "    <tr>\n",
              "      <th>4</th>\n",
              "      <td>Apartamento</td>\n",
              "      <td>Vista Alegre</td>\n",
              "      <td>3</td>\n",
              "      <td>1</td>\n",
              "      <td>0</td>\n",
              "      <td>70</td>\n",
              "      <td>1200.0</td>\n",
              "      <td>NaN</td>\n",
              "      <td>NaN</td>\n",
              "    </tr>\n",
              "  </tbody>\n",
              "</table>\n",
              "</div>"
            ],
            "text/plain": [
              "          Tipo           Bairro  Quartos  Vagas  ...  Area   Valor  Condominio  IPTU\n",
              "0    Quitinete       Copacabana        1      0  ...    40  1700.0       500.0  60.0\n",
              "1         Casa  Jardim Botânico        2      0  ...   100  7000.0         NaN   NaN\n",
              "2  Apartamento           Centro        1      0  ...    15   800.0       390.0  20.0\n",
              "3  Apartamento     Higienópolis        1      0  ...    48   800.0       230.0   NaN\n",
              "4  Apartamento     Vista Alegre        3      1  ...    70  1200.0         NaN   NaN\n",
              "\n",
              "[5 rows x 9 columns]"
            ]
          },
          "metadata": {
            "tags": []
          },
          "execution_count": 35
        }
      ]
    },
    {
      "cell_type": "markdown",
      "metadata": {
        "id": "2d0v4Q5BnUkn"
      },
      "source": [
        "Verificando valores nulos no *DataFrame*"
      ]
    },
    {
      "cell_type": "code",
      "metadata": {
        "colab": {
          "base_uri": "https://localhost:8080/"
        },
        "id": "Tk8tZ1lAnj2C",
        "outputId": "c9f075a7-4a2e-4ec7-afd7-3b2b24c5da75"
      },
      "source": [
        "dados.info()"
      ],
      "execution_count": null,
      "outputs": [
        {
          "output_type": "stream",
          "text": [
            "<class 'pandas.core.frame.DataFrame'>\n",
            "RangeIndex: 22580 entries, 0 to 22579\n",
            "Data columns (total 9 columns):\n",
            " #   Column      Non-Null Count  Dtype  \n",
            "---  ------      --------------  -----  \n",
            " 0   Tipo        22580 non-null  object \n",
            " 1   Bairro      22580 non-null  object \n",
            " 2   Quartos     22580 non-null  int64  \n",
            " 3   Vagas       22580 non-null  int64  \n",
            " 4   Suites      22580 non-null  int64  \n",
            " 5   Area        22580 non-null  int64  \n",
            " 6   Valor       22571 non-null  float64\n",
            " 7   Condominio  20765 non-null  float64\n",
            " 8   IPTU        15795 non-null  float64\n",
            "dtypes: float64(3), int64(4), object(2)\n",
            "memory usage: 1.6+ MB\n"
          ],
          "name": "stdout"
        }
      ]
    },
    {
      "cell_type": "markdown",
      "metadata": {
        "id": "FKPIz_O6nrFP"
      },
      "source": [
        "Por meio do método *info()*, conseguimos ver que as colunas *Tipo*, *Bairro*, *Quartos*, *Vagas*, *Suites* e *Area* não possuem valores nulos. Porém, as colunas *Valor*, *Condominio* e *IPTU* possuem."
      ]
    },
    {
      "cell_type": "markdown",
      "metadata": {
        "id": "z8IbaoWAoDXo"
      },
      "source": [
        "Mais facilmente, conseguimos ver a quantidade de valores nulos de cada coluna."
      ]
    },
    {
      "cell_type": "code",
      "metadata": {
        "colab": {
          "base_uri": "https://localhost:8080/"
        },
        "id": "hsVW80qHnGgm",
        "outputId": "76e4a5dd-3632-4e00-ce68-8c07210e13f7"
      },
      "source": [
        "dados.isnull().sum()"
      ],
      "execution_count": null,
      "outputs": [
        {
          "output_type": "execute_result",
          "data": {
            "text/plain": [
              "Tipo             0\n",
              "Bairro           0\n",
              "Quartos          0\n",
              "Vagas            0\n",
              "Suites           0\n",
              "Area             0\n",
              "Valor            9\n",
              "Condominio    1815\n",
              "IPTU          6785\n",
              "dtype: int64"
            ]
          },
          "metadata": {
            "tags": []
          },
          "execution_count": 37
        }
      ]
    },
    {
      "cell_type": "markdown",
      "metadata": {
        "id": "FCBcltbmoglu"
      },
      "source": [
        "Visualizando os 9 registros que possuem *Valor* nulo no *DataFrame*"
      ]
    },
    {
      "cell_type": "code",
      "metadata": {
        "colab": {
          "base_uri": "https://localhost:8080/",
          "height": 328
        },
        "id": "X6ID6ngMnTLG",
        "outputId": "be0b6218-23c7-4ec4-b238-31e209d88448"
      },
      "source": [
        "dados[dados['Valor'].isnull()]"
      ],
      "execution_count": null,
      "outputs": [
        {
          "output_type": "execute_result",
          "data": {
            "text/html": [
              "<div>\n",
              "<style scoped>\n",
              "    .dataframe tbody tr th:only-of-type {\n",
              "        vertical-align: middle;\n",
              "    }\n",
              "\n",
              "    .dataframe tbody tr th {\n",
              "        vertical-align: top;\n",
              "    }\n",
              "\n",
              "    .dataframe thead th {\n",
              "        text-align: right;\n",
              "    }\n",
              "</style>\n",
              "<table border=\"1\" class=\"dataframe\">\n",
              "  <thead>\n",
              "    <tr style=\"text-align: right;\">\n",
              "      <th></th>\n",
              "      <th>Tipo</th>\n",
              "      <th>Bairro</th>\n",
              "      <th>Quartos</th>\n",
              "      <th>Vagas</th>\n",
              "      <th>Suites</th>\n",
              "      <th>Area</th>\n",
              "      <th>Valor</th>\n",
              "      <th>Condominio</th>\n",
              "      <th>IPTU</th>\n",
              "    </tr>\n",
              "  </thead>\n",
              "  <tbody>\n",
              "    <tr>\n",
              "      <th>58</th>\n",
              "      <td>Apartamento</td>\n",
              "      <td>Barra da Tijuca</td>\n",
              "      <td>2</td>\n",
              "      <td>1</td>\n",
              "      <td>1</td>\n",
              "      <td>70</td>\n",
              "      <td>NaN</td>\n",
              "      <td>970.0</td>\n",
              "      <td>68.0</td>\n",
              "    </tr>\n",
              "    <tr>\n",
              "      <th>1492</th>\n",
              "      <td>Apartamento</td>\n",
              "      <td>Leme</td>\n",
              "      <td>2</td>\n",
              "      <td>0</td>\n",
              "      <td>0</td>\n",
              "      <td>75</td>\n",
              "      <td>NaN</td>\n",
              "      <td>878.0</td>\n",
              "      <td>NaN</td>\n",
              "    </tr>\n",
              "    <tr>\n",
              "      <th>1683</th>\n",
              "      <td>Casa</td>\n",
              "      <td>Campo Grande</td>\n",
              "      <td>3</td>\n",
              "      <td>4</td>\n",
              "      <td>3</td>\n",
              "      <td>363</td>\n",
              "      <td>NaN</td>\n",
              "      <td>NaN</td>\n",
              "      <td>NaN</td>\n",
              "    </tr>\n",
              "    <tr>\n",
              "      <th>2012</th>\n",
              "      <td>Apartamento</td>\n",
              "      <td>Botafogo</td>\n",
              "      <td>2</td>\n",
              "      <td>0</td>\n",
              "      <td>0</td>\n",
              "      <td>95</td>\n",
              "      <td>NaN</td>\n",
              "      <td>1010.0</td>\n",
              "      <td>170.0</td>\n",
              "    </tr>\n",
              "    <tr>\n",
              "      <th>2034</th>\n",
              "      <td>Apartamento</td>\n",
              "      <td>Copacabana</td>\n",
              "      <td>2</td>\n",
              "      <td>0</td>\n",
              "      <td>0</td>\n",
              "      <td>72</td>\n",
              "      <td>NaN</td>\n",
              "      <td>850.0</td>\n",
              "      <td>NaN</td>\n",
              "    </tr>\n",
              "    <tr>\n",
              "      <th>4941</th>\n",
              "      <td>Casa</td>\n",
              "      <td>Campo Grande</td>\n",
              "      <td>3</td>\n",
              "      <td>2</td>\n",
              "      <td>1</td>\n",
              "      <td>100</td>\n",
              "      <td>NaN</td>\n",
              "      <td>NaN</td>\n",
              "      <td>NaN</td>\n",
              "    </tr>\n",
              "    <tr>\n",
              "      <th>8568</th>\n",
              "      <td>Apartamento</td>\n",
              "      <td>Leme</td>\n",
              "      <td>2</td>\n",
              "      <td>0</td>\n",
              "      <td>1</td>\n",
              "      <td>75</td>\n",
              "      <td>NaN</td>\n",
              "      <td>878.0</td>\n",
              "      <td>NaN</td>\n",
              "    </tr>\n",
              "    <tr>\n",
              "      <th>8947</th>\n",
              "      <td>Apartamento</td>\n",
              "      <td>Glória</td>\n",
              "      <td>3</td>\n",
              "      <td>0</td>\n",
              "      <td>1</td>\n",
              "      <td>135</td>\n",
              "      <td>NaN</td>\n",
              "      <td>910.0</td>\n",
              "      <td>228.0</td>\n",
              "    </tr>\n",
              "    <tr>\n",
              "      <th>9149</th>\n",
              "      <td>Apartamento</td>\n",
              "      <td>Gávea</td>\n",
              "      <td>3</td>\n",
              "      <td>1</td>\n",
              "      <td>1</td>\n",
              "      <td>105</td>\n",
              "      <td>NaN</td>\n",
              "      <td>880.0</td>\n",
              "      <td>221.0</td>\n",
              "    </tr>\n",
              "  </tbody>\n",
              "</table>\n",
              "</div>"
            ],
            "text/plain": [
              "             Tipo           Bairro  Quartos  ...  Valor  Condominio   IPTU\n",
              "58    Apartamento  Barra da Tijuca        2  ...    NaN       970.0   68.0\n",
              "1492  Apartamento             Leme        2  ...    NaN       878.0    NaN\n",
              "1683         Casa     Campo Grande        3  ...    NaN         NaN    NaN\n",
              "2012  Apartamento         Botafogo        2  ...    NaN      1010.0  170.0\n",
              "2034  Apartamento       Copacabana        2  ...    NaN       850.0    NaN\n",
              "4941         Casa     Campo Grande        3  ...    NaN         NaN    NaN\n",
              "8568  Apartamento             Leme        2  ...    NaN       878.0    NaN\n",
              "8947  Apartamento           Glória        3  ...    NaN       910.0  228.0\n",
              "9149  Apartamento            Gávea        3  ...    NaN       880.0  221.0\n",
              "\n",
              "[9 rows x 9 columns]"
            ]
          },
          "metadata": {
            "tags": []
          },
          "execution_count": 38
        }
      ]
    },
    {
      "cell_type": "markdown",
      "metadata": {
        "id": "JrOa0G1toxK3"
      },
      "source": [
        "Não nos importa esses dados que possuem *Valor* nulo, portanto devemos remover esses registros do *DataFrame*."
      ]
    },
    {
      "cell_type": "code",
      "metadata": {
        "colab": {
          "base_uri": "https://localhost:8080/"
        },
        "id": "_XTruxN4on3-",
        "outputId": "bc09a805-ec70-4592-a527-59002d9fc2b2"
      },
      "source": [
        "A = dados.shape[0]\n",
        "dados.dropna(subset=['Valor'], inplace=True)\n",
        "B = dados.shape[0]\n",
        "A - B"
      ],
      "execution_count": null,
      "outputs": [
        {
          "output_type": "execute_result",
          "data": {
            "text/plain": [
              "9"
            ]
          },
          "metadata": {
            "tags": []
          },
          "execution_count": 39
        }
      ]
    },
    {
      "cell_type": "markdown",
      "metadata": {
        "id": "sVJuWZ1rpLrH"
      },
      "source": [
        "De fato, foram removidas 9 linhas. Podemos tentar visualizar os 9 registros como fizemos antes. Será retornado um *DataFrame* vazio."
      ]
    },
    {
      "cell_type": "code",
      "metadata": {
        "colab": {
          "base_uri": "https://localhost:8080/",
          "height": 49
        },
        "id": "7rNCk-YypHIc",
        "outputId": "a7a6fa4d-5e27-456e-fd5d-39a8b56574a1"
      },
      "source": [
        "dados[dados['Valor'].isnull()]"
      ],
      "execution_count": null,
      "outputs": [
        {
          "output_type": "execute_result",
          "data": {
            "text/html": [
              "<div>\n",
              "<style scoped>\n",
              "    .dataframe tbody tr th:only-of-type {\n",
              "        vertical-align: middle;\n",
              "    }\n",
              "\n",
              "    .dataframe tbody tr th {\n",
              "        vertical-align: top;\n",
              "    }\n",
              "\n",
              "    .dataframe thead th {\n",
              "        text-align: right;\n",
              "    }\n",
              "</style>\n",
              "<table border=\"1\" class=\"dataframe\">\n",
              "  <thead>\n",
              "    <tr style=\"text-align: right;\">\n",
              "      <th></th>\n",
              "      <th>Tipo</th>\n",
              "      <th>Bairro</th>\n",
              "      <th>Quartos</th>\n",
              "      <th>Vagas</th>\n",
              "      <th>Suites</th>\n",
              "      <th>Area</th>\n",
              "      <th>Valor</th>\n",
              "      <th>Condominio</th>\n",
              "      <th>IPTU</th>\n",
              "    </tr>\n",
              "  </thead>\n",
              "  <tbody>\n",
              "  </tbody>\n",
              "</table>\n",
              "</div>"
            ],
            "text/plain": [
              "Empty DataFrame\n",
              "Columns: [Tipo, Bairro, Quartos, Vagas, Suites, Area, Valor, Condominio, IPTU]\n",
              "Index: []"
            ]
          },
          "metadata": {
            "tags": []
          },
          "execution_count": 40
        }
      ]
    },
    {
      "cell_type": "markdown",
      "metadata": {
        "id": "wPIjUYn4p23P"
      },
      "source": [
        "**Tratando as colunas *Condominio* e *IPTU* que também possuem registros nulos.**"
      ]
    },
    {
      "cell_type": "markdown",
      "metadata": {
        "id": "1MNc80eEqAmv"
      },
      "source": [
        "\n",
        "\n",
        "*   Se o imóvel for do tipo apartamento e tiver valor de condomínio nulo, esse registro será removido.\n",
        "*   Se o imóvel não for do tipo apartamento e tiver valor de condomínio nulo, esse registro não será removido e o valor será preenchido com 0.\n",
        "*   Se o valor do IPTU for nulo, esse registro não será removido e o valor será preenchido com 0.\n"
      ]
    },
    {
      "cell_type": "markdown",
      "metadata": {
        "id": "QgMfYg2GriHB"
      },
      "source": [
        "Verificando quantos registros possuem valor de condomínio nulo no *DataFrame*."
      ]
    },
    {
      "cell_type": "code",
      "metadata": {
        "colab": {
          "base_uri": "https://localhost:8080/"
        },
        "id": "uxDJuLlkpWKl",
        "outputId": "4cbf497c-89fc-4827-9740-698f36ca615b"
      },
      "source": [
        "dados[dados['Condominio'].isnull()].shape[0]"
      ],
      "execution_count": null,
      "outputs": [
        {
          "output_type": "execute_result",
          "data": {
            "text/plain": [
              "1813"
            ]
          },
          "metadata": {
            "tags": []
          },
          "execution_count": 41
        }
      ]
    },
    {
      "cell_type": "markdown",
      "metadata": {
        "id": "VAtEKti-rpBH"
      },
      "source": [
        "Fazendo uma seleção onde o tipo de imóvel é apartamento e o valor do condomínio é nulo."
      ]
    },
    {
      "cell_type": "code",
      "metadata": {
        "id": "_12CEnncqc33"
      },
      "source": [
        "selecao = (dados['Tipo'] == 'Apartamento') & (dados['Condominio'].isnull())"
      ],
      "execution_count": null,
      "outputs": []
    },
    {
      "cell_type": "markdown",
      "metadata": {
        "id": "WYbQz3i9rwXX"
      },
      "source": [
        "Removendo os registros retornados por essa seleção do *DataFrame*."
      ]
    },
    {
      "cell_type": "code",
      "metadata": {
        "colab": {
          "base_uri": "https://localhost:8080/"
        },
        "id": "lyoPampSqpIs",
        "outputId": "7bd5f04d-595b-4ea0-df90-4725541c4d60"
      },
      "source": [
        "A = dados.shape[0]\n",
        "dados = dados[~selecao]\n",
        "B = dados.shape[0]\n",
        "A - B"
      ],
      "execution_count": null,
      "outputs": [
        {
          "output_type": "execute_result",
          "data": {
            "text/plain": [
              "745"
            ]
          },
          "metadata": {
            "tags": []
          },
          "execution_count": 43
        }
      ]
    },
    {
      "cell_type": "markdown",
      "metadata": {
        "id": "bDAIgf35r2m4"
      },
      "source": [
        "Foram removidos 745 registros.\n",
        "\n",
        "Verificando quantos registros nulos ainda temos com valor de condomínio nulo."
      ]
    },
    {
      "cell_type": "code",
      "metadata": {
        "colab": {
          "base_uri": "https://localhost:8080/"
        },
        "id": "oa2JwL4-qx0s",
        "outputId": "d7ad2915-1cee-448c-b2ac-4bccb18a946c"
      },
      "source": [
        "dados[dados['Condominio'].isnull()].shape[0]"
      ],
      "execution_count": null,
      "outputs": [
        {
          "output_type": "execute_result",
          "data": {
            "text/plain": [
              "1068"
            ]
          },
          "metadata": {
            "tags": []
          },
          "execution_count": 44
        }
      ]
    },
    {
      "cell_type": "markdown",
      "metadata": {
        "id": "slw6h-Lvr_WX"
      },
      "source": [
        "Preenchendo os valores nulos de condomínio (que restaram) e IPTU com 0."
      ]
    },
    {
      "cell_type": "code",
      "metadata": {
        "id": "8OV36Q4Wqz7M"
      },
      "source": [
        "dados = dados.fillna({'Condominio': 0, 'IPTU': 0})"
      ],
      "execution_count": null,
      "outputs": []
    },
    {
      "cell_type": "markdown",
      "metadata": {
        "id": "8BtkkcyFsMev"
      },
      "source": [
        "Verificando quantos registros possuem valores nulos no valor do condomínio e no valor de IPTU."
      ]
    },
    {
      "cell_type": "code",
      "metadata": {
        "colab": {
          "base_uri": "https://localhost:8080/"
        },
        "id": "MG09k9sWq7fk",
        "outputId": "6da659be-933b-49c3-ef8c-eb2ef8b09122"
      },
      "source": [
        "dados[dados['Condominio'].isnull()].shape[0]"
      ],
      "execution_count": null,
      "outputs": [
        {
          "output_type": "execute_result",
          "data": {
            "text/plain": [
              "0"
            ]
          },
          "metadata": {
            "tags": []
          },
          "execution_count": 46
        }
      ]
    },
    {
      "cell_type": "code",
      "metadata": {
        "colab": {
          "base_uri": "https://localhost:8080/"
        },
        "id": "N7bJ-M94rMME",
        "outputId": "d210c625-78b2-4251-a2f4-d6e05a9917f9"
      },
      "source": [
        "dados[dados['IPTU'].isnull()].shape[0]"
      ],
      "execution_count": null,
      "outputs": [
        {
          "output_type": "execute_result",
          "data": {
            "text/plain": [
              "0"
            ]
          },
          "metadata": {
            "tags": []
          },
          "execution_count": 47
        }
      ]
    },
    {
      "cell_type": "code",
      "metadata": {
        "colab": {
          "base_uri": "https://localhost:8080/"
        },
        "id": "ChCZRmCyrNXk",
        "outputId": "d22ae6a2-457e-4546-e8d0-397e40bda463"
      },
      "source": [
        "dados.info()"
      ],
      "execution_count": null,
      "outputs": [
        {
          "output_type": "stream",
          "text": [
            "<class 'pandas.core.frame.DataFrame'>\n",
            "Int64Index: 21826 entries, 0 to 22579\n",
            "Data columns (total 9 columns):\n",
            " #   Column      Non-Null Count  Dtype  \n",
            "---  ------      --------------  -----  \n",
            " 0   Tipo        21826 non-null  object \n",
            " 1   Bairro      21826 non-null  object \n",
            " 2   Quartos     21826 non-null  int64  \n",
            " 3   Vagas       21826 non-null  int64  \n",
            " 4   Suites      21826 non-null  int64  \n",
            " 5   Area        21826 non-null  int64  \n",
            " 6   Valor       21826 non-null  float64\n",
            " 7   Condominio  21826 non-null  float64\n",
            " 8   IPTU        21826 non-null  float64\n",
            "dtypes: float64(3), int64(4), object(2)\n",
            "memory usage: 1.7+ MB\n"
          ],
          "name": "stdout"
        }
      ]
    },
    {
      "cell_type": "markdown",
      "metadata": {
        "id": "sSVerVAjr7-8"
      },
      "source": [
        "###Criando novas variáveis"
      ]
    },
    {
      "cell_type": "code",
      "metadata": {
        "id": "OeoXYemCsocH",
        "colab": {
          "base_uri": "https://localhost:8080/",
          "height": 204
        },
        "outputId": "b50153df-c0a2-442d-a25b-be5e3bf04ec2"
      },
      "source": [
        "dados.head()"
      ],
      "execution_count": null,
      "outputs": [
        {
          "output_type": "execute_result",
          "data": {
            "text/html": [
              "<div>\n",
              "<style scoped>\n",
              "    .dataframe tbody tr th:only-of-type {\n",
              "        vertical-align: middle;\n",
              "    }\n",
              "\n",
              "    .dataframe tbody tr th {\n",
              "        vertical-align: top;\n",
              "    }\n",
              "\n",
              "    .dataframe thead th {\n",
              "        text-align: right;\n",
              "    }\n",
              "</style>\n",
              "<table border=\"1\" class=\"dataframe\">\n",
              "  <thead>\n",
              "    <tr style=\"text-align: right;\">\n",
              "      <th></th>\n",
              "      <th>Tipo</th>\n",
              "      <th>Bairro</th>\n",
              "      <th>Quartos</th>\n",
              "      <th>Vagas</th>\n",
              "      <th>Suites</th>\n",
              "      <th>Area</th>\n",
              "      <th>Valor</th>\n",
              "      <th>Condominio</th>\n",
              "      <th>IPTU</th>\n",
              "    </tr>\n",
              "  </thead>\n",
              "  <tbody>\n",
              "    <tr>\n",
              "      <th>0</th>\n",
              "      <td>Quitinete</td>\n",
              "      <td>Copacabana</td>\n",
              "      <td>1</td>\n",
              "      <td>0</td>\n",
              "      <td>0</td>\n",
              "      <td>40</td>\n",
              "      <td>1700.0</td>\n",
              "      <td>500.0</td>\n",
              "      <td>60.0</td>\n",
              "    </tr>\n",
              "    <tr>\n",
              "      <th>1</th>\n",
              "      <td>Casa</td>\n",
              "      <td>Jardim Botânico</td>\n",
              "      <td>2</td>\n",
              "      <td>0</td>\n",
              "      <td>1</td>\n",
              "      <td>100</td>\n",
              "      <td>7000.0</td>\n",
              "      <td>0.0</td>\n",
              "      <td>0.0</td>\n",
              "    </tr>\n",
              "    <tr>\n",
              "      <th>2</th>\n",
              "      <td>Apartamento</td>\n",
              "      <td>Centro</td>\n",
              "      <td>1</td>\n",
              "      <td>0</td>\n",
              "      <td>0</td>\n",
              "      <td>15</td>\n",
              "      <td>800.0</td>\n",
              "      <td>390.0</td>\n",
              "      <td>20.0</td>\n",
              "    </tr>\n",
              "    <tr>\n",
              "      <th>3</th>\n",
              "      <td>Apartamento</td>\n",
              "      <td>Higienópolis</td>\n",
              "      <td>1</td>\n",
              "      <td>0</td>\n",
              "      <td>0</td>\n",
              "      <td>48</td>\n",
              "      <td>800.0</td>\n",
              "      <td>230.0</td>\n",
              "      <td>0.0</td>\n",
              "    </tr>\n",
              "    <tr>\n",
              "      <th>5</th>\n",
              "      <td>Apartamento</td>\n",
              "      <td>Cachambi</td>\n",
              "      <td>2</td>\n",
              "      <td>0</td>\n",
              "      <td>0</td>\n",
              "      <td>50</td>\n",
              "      <td>1300.0</td>\n",
              "      <td>301.0</td>\n",
              "      <td>17.0</td>\n",
              "    </tr>\n",
              "  </tbody>\n",
              "</table>\n",
              "</div>"
            ],
            "text/plain": [
              "          Tipo           Bairro  Quartos  Vagas  ...  Area   Valor  Condominio  IPTU\n",
              "0    Quitinete       Copacabana        1      0  ...    40  1700.0       500.0  60.0\n",
              "1         Casa  Jardim Botânico        2      0  ...   100  7000.0         0.0   0.0\n",
              "2  Apartamento           Centro        1      0  ...    15   800.0       390.0  20.0\n",
              "3  Apartamento     Higienópolis        1      0  ...    48   800.0       230.0   0.0\n",
              "5  Apartamento         Cachambi        2      0  ...    50  1300.0       301.0  17.0\n",
              "\n",
              "[5 rows x 9 columns]"
            ]
          },
          "metadata": {
            "tags": []
          },
          "execution_count": 49
        }
      ]
    },
    {
      "cell_type": "markdown",
      "metadata": {
        "id": "AfV_jWtRsKTN"
      },
      "source": [
        "**Obtendo o valor bruto e criando uma nova coluna com esse valor**"
      ]
    },
    {
      "cell_type": "code",
      "metadata": {
        "id": "jJJ9Ha2Nsogm"
      },
      "source": [
        "dados['Valor Bruto'] = dados['Valor'] + dados['Condominio'] + dados['IPTU']"
      ],
      "execution_count": null,
      "outputs": []
    },
    {
      "cell_type": "code",
      "metadata": {
        "id": "IH_01Iiqsoi4",
        "colab": {
          "base_uri": "https://localhost:8080/",
          "height": 204
        },
        "outputId": "930879a5-ad1e-4fcd-8c3d-d06a750b26b2"
      },
      "source": [
        "dados.head()"
      ],
      "execution_count": null,
      "outputs": [
        {
          "output_type": "execute_result",
          "data": {
            "text/html": [
              "<div>\n",
              "<style scoped>\n",
              "    .dataframe tbody tr th:only-of-type {\n",
              "        vertical-align: middle;\n",
              "    }\n",
              "\n",
              "    .dataframe tbody tr th {\n",
              "        vertical-align: top;\n",
              "    }\n",
              "\n",
              "    .dataframe thead th {\n",
              "        text-align: right;\n",
              "    }\n",
              "</style>\n",
              "<table border=\"1\" class=\"dataframe\">\n",
              "  <thead>\n",
              "    <tr style=\"text-align: right;\">\n",
              "      <th></th>\n",
              "      <th>Tipo</th>\n",
              "      <th>Bairro</th>\n",
              "      <th>Quartos</th>\n",
              "      <th>Vagas</th>\n",
              "      <th>Suites</th>\n",
              "      <th>Area</th>\n",
              "      <th>Valor</th>\n",
              "      <th>Condominio</th>\n",
              "      <th>IPTU</th>\n",
              "      <th>Valor Bruto</th>\n",
              "    </tr>\n",
              "  </thead>\n",
              "  <tbody>\n",
              "    <tr>\n",
              "      <th>0</th>\n",
              "      <td>Quitinete</td>\n",
              "      <td>Copacabana</td>\n",
              "      <td>1</td>\n",
              "      <td>0</td>\n",
              "      <td>0</td>\n",
              "      <td>40</td>\n",
              "      <td>1700.0</td>\n",
              "      <td>500.0</td>\n",
              "      <td>60.0</td>\n",
              "      <td>2260.0</td>\n",
              "    </tr>\n",
              "    <tr>\n",
              "      <th>1</th>\n",
              "      <td>Casa</td>\n",
              "      <td>Jardim Botânico</td>\n",
              "      <td>2</td>\n",
              "      <td>0</td>\n",
              "      <td>1</td>\n",
              "      <td>100</td>\n",
              "      <td>7000.0</td>\n",
              "      <td>0.0</td>\n",
              "      <td>0.0</td>\n",
              "      <td>7000.0</td>\n",
              "    </tr>\n",
              "    <tr>\n",
              "      <th>2</th>\n",
              "      <td>Apartamento</td>\n",
              "      <td>Centro</td>\n",
              "      <td>1</td>\n",
              "      <td>0</td>\n",
              "      <td>0</td>\n",
              "      <td>15</td>\n",
              "      <td>800.0</td>\n",
              "      <td>390.0</td>\n",
              "      <td>20.0</td>\n",
              "      <td>1210.0</td>\n",
              "    </tr>\n",
              "    <tr>\n",
              "      <th>3</th>\n",
              "      <td>Apartamento</td>\n",
              "      <td>Higienópolis</td>\n",
              "      <td>1</td>\n",
              "      <td>0</td>\n",
              "      <td>0</td>\n",
              "      <td>48</td>\n",
              "      <td>800.0</td>\n",
              "      <td>230.0</td>\n",
              "      <td>0.0</td>\n",
              "      <td>1030.0</td>\n",
              "    </tr>\n",
              "    <tr>\n",
              "      <th>5</th>\n",
              "      <td>Apartamento</td>\n",
              "      <td>Cachambi</td>\n",
              "      <td>2</td>\n",
              "      <td>0</td>\n",
              "      <td>0</td>\n",
              "      <td>50</td>\n",
              "      <td>1300.0</td>\n",
              "      <td>301.0</td>\n",
              "      <td>17.0</td>\n",
              "      <td>1618.0</td>\n",
              "    </tr>\n",
              "  </tbody>\n",
              "</table>\n",
              "</div>"
            ],
            "text/plain": [
              "          Tipo           Bairro  Quartos  ...  Condominio  IPTU  Valor Bruto\n",
              "0    Quitinete       Copacabana        1  ...       500.0  60.0       2260.0\n",
              "1         Casa  Jardim Botânico        2  ...         0.0   0.0       7000.0\n",
              "2  Apartamento           Centro        1  ...       390.0  20.0       1210.0\n",
              "3  Apartamento     Higienópolis        1  ...       230.0   0.0       1030.0\n",
              "5  Apartamento         Cachambi        2  ...       301.0  17.0       1618.0\n",
              "\n",
              "[5 rows x 10 columns]"
            ]
          },
          "metadata": {
            "tags": []
          },
          "execution_count": 51
        }
      ]
    },
    {
      "cell_type": "markdown",
      "metadata": {
        "id": "Fxn290MYsa9U"
      },
      "source": [
        "**Obtendo o valor do aluguel por m²**"
      ]
    },
    {
      "cell_type": "code",
      "metadata": {
        "id": "m421VWOEs-VE"
      },
      "source": [
        "dados['Valor m2'] = dados['Valor']/dados['Area']"
      ],
      "execution_count": null,
      "outputs": []
    },
    {
      "cell_type": "code",
      "metadata": {
        "colab": {
          "base_uri": "https://localhost:8080/",
          "height": 204
        },
        "id": "l3HaUVDdsmbH",
        "outputId": "9db9b3e4-ff17-4ec5-b68d-bf9bc973cb28"
      },
      "source": [
        "dados.head()"
      ],
      "execution_count": null,
      "outputs": [
        {
          "output_type": "execute_result",
          "data": {
            "text/html": [
              "<div>\n",
              "<style scoped>\n",
              "    .dataframe tbody tr th:only-of-type {\n",
              "        vertical-align: middle;\n",
              "    }\n",
              "\n",
              "    .dataframe tbody tr th {\n",
              "        vertical-align: top;\n",
              "    }\n",
              "\n",
              "    .dataframe thead th {\n",
              "        text-align: right;\n",
              "    }\n",
              "</style>\n",
              "<table border=\"1\" class=\"dataframe\">\n",
              "  <thead>\n",
              "    <tr style=\"text-align: right;\">\n",
              "      <th></th>\n",
              "      <th>Tipo</th>\n",
              "      <th>Bairro</th>\n",
              "      <th>Quartos</th>\n",
              "      <th>Vagas</th>\n",
              "      <th>Suites</th>\n",
              "      <th>Area</th>\n",
              "      <th>Valor</th>\n",
              "      <th>Condominio</th>\n",
              "      <th>IPTU</th>\n",
              "      <th>Valor Bruto</th>\n",
              "      <th>Valor m2</th>\n",
              "    </tr>\n",
              "  </thead>\n",
              "  <tbody>\n",
              "    <tr>\n",
              "      <th>0</th>\n",
              "      <td>Quitinete</td>\n",
              "      <td>Copacabana</td>\n",
              "      <td>1</td>\n",
              "      <td>0</td>\n",
              "      <td>0</td>\n",
              "      <td>40</td>\n",
              "      <td>1700.0</td>\n",
              "      <td>500.0</td>\n",
              "      <td>60.0</td>\n",
              "      <td>2260.0</td>\n",
              "      <td>42.500000</td>\n",
              "    </tr>\n",
              "    <tr>\n",
              "      <th>1</th>\n",
              "      <td>Casa</td>\n",
              "      <td>Jardim Botânico</td>\n",
              "      <td>2</td>\n",
              "      <td>0</td>\n",
              "      <td>1</td>\n",
              "      <td>100</td>\n",
              "      <td>7000.0</td>\n",
              "      <td>0.0</td>\n",
              "      <td>0.0</td>\n",
              "      <td>7000.0</td>\n",
              "      <td>70.000000</td>\n",
              "    </tr>\n",
              "    <tr>\n",
              "      <th>2</th>\n",
              "      <td>Apartamento</td>\n",
              "      <td>Centro</td>\n",
              "      <td>1</td>\n",
              "      <td>0</td>\n",
              "      <td>0</td>\n",
              "      <td>15</td>\n",
              "      <td>800.0</td>\n",
              "      <td>390.0</td>\n",
              "      <td>20.0</td>\n",
              "      <td>1210.0</td>\n",
              "      <td>53.333333</td>\n",
              "    </tr>\n",
              "    <tr>\n",
              "      <th>3</th>\n",
              "      <td>Apartamento</td>\n",
              "      <td>Higienópolis</td>\n",
              "      <td>1</td>\n",
              "      <td>0</td>\n",
              "      <td>0</td>\n",
              "      <td>48</td>\n",
              "      <td>800.0</td>\n",
              "      <td>230.0</td>\n",
              "      <td>0.0</td>\n",
              "      <td>1030.0</td>\n",
              "      <td>16.666667</td>\n",
              "    </tr>\n",
              "    <tr>\n",
              "      <th>5</th>\n",
              "      <td>Apartamento</td>\n",
              "      <td>Cachambi</td>\n",
              "      <td>2</td>\n",
              "      <td>0</td>\n",
              "      <td>0</td>\n",
              "      <td>50</td>\n",
              "      <td>1300.0</td>\n",
              "      <td>301.0</td>\n",
              "      <td>17.0</td>\n",
              "      <td>1618.0</td>\n",
              "      <td>26.000000</td>\n",
              "    </tr>\n",
              "  </tbody>\n",
              "</table>\n",
              "</div>"
            ],
            "text/plain": [
              "          Tipo           Bairro  Quartos  ...  IPTU  Valor Bruto   Valor m2\n",
              "0    Quitinete       Copacabana        1  ...  60.0       2260.0  42.500000\n",
              "1         Casa  Jardim Botânico        2  ...   0.0       7000.0  70.000000\n",
              "2  Apartamento           Centro        1  ...  20.0       1210.0  53.333333\n",
              "3  Apartamento     Higienópolis        1  ...   0.0       1030.0  16.666667\n",
              "5  Apartamento         Cachambi        2  ...  17.0       1618.0  26.000000\n",
              "\n",
              "[5 rows x 11 columns]"
            ]
          },
          "metadata": {
            "tags": []
          },
          "execution_count": 53
        }
      ]
    },
    {
      "cell_type": "code",
      "metadata": {
        "colab": {
          "base_uri": "https://localhost:8080/",
          "height": 204
        },
        "id": "A_xjmHYcsoc7",
        "outputId": "cda27386-b936-46d3-ab19-0f754d56ee0e"
      },
      "source": [
        "dados['Valor m2'] = dados['Valor m2'].round(2)\n",
        "dados.head()"
      ],
      "execution_count": null,
      "outputs": [
        {
          "output_type": "execute_result",
          "data": {
            "text/html": [
              "<div>\n",
              "<style scoped>\n",
              "    .dataframe tbody tr th:only-of-type {\n",
              "        vertical-align: middle;\n",
              "    }\n",
              "\n",
              "    .dataframe tbody tr th {\n",
              "        vertical-align: top;\n",
              "    }\n",
              "\n",
              "    .dataframe thead th {\n",
              "        text-align: right;\n",
              "    }\n",
              "</style>\n",
              "<table border=\"1\" class=\"dataframe\">\n",
              "  <thead>\n",
              "    <tr style=\"text-align: right;\">\n",
              "      <th></th>\n",
              "      <th>Tipo</th>\n",
              "      <th>Bairro</th>\n",
              "      <th>Quartos</th>\n",
              "      <th>Vagas</th>\n",
              "      <th>Suites</th>\n",
              "      <th>Area</th>\n",
              "      <th>Valor</th>\n",
              "      <th>Condominio</th>\n",
              "      <th>IPTU</th>\n",
              "      <th>Valor Bruto</th>\n",
              "      <th>Valor m2</th>\n",
              "    </tr>\n",
              "  </thead>\n",
              "  <tbody>\n",
              "    <tr>\n",
              "      <th>0</th>\n",
              "      <td>Quitinete</td>\n",
              "      <td>Copacabana</td>\n",
              "      <td>1</td>\n",
              "      <td>0</td>\n",
              "      <td>0</td>\n",
              "      <td>40</td>\n",
              "      <td>1700.0</td>\n",
              "      <td>500.0</td>\n",
              "      <td>60.0</td>\n",
              "      <td>2260.0</td>\n",
              "      <td>42.50</td>\n",
              "    </tr>\n",
              "    <tr>\n",
              "      <th>1</th>\n",
              "      <td>Casa</td>\n",
              "      <td>Jardim Botânico</td>\n",
              "      <td>2</td>\n",
              "      <td>0</td>\n",
              "      <td>1</td>\n",
              "      <td>100</td>\n",
              "      <td>7000.0</td>\n",
              "      <td>0.0</td>\n",
              "      <td>0.0</td>\n",
              "      <td>7000.0</td>\n",
              "      <td>70.00</td>\n",
              "    </tr>\n",
              "    <tr>\n",
              "      <th>2</th>\n",
              "      <td>Apartamento</td>\n",
              "      <td>Centro</td>\n",
              "      <td>1</td>\n",
              "      <td>0</td>\n",
              "      <td>0</td>\n",
              "      <td>15</td>\n",
              "      <td>800.0</td>\n",
              "      <td>390.0</td>\n",
              "      <td>20.0</td>\n",
              "      <td>1210.0</td>\n",
              "      <td>53.33</td>\n",
              "    </tr>\n",
              "    <tr>\n",
              "      <th>3</th>\n",
              "      <td>Apartamento</td>\n",
              "      <td>Higienópolis</td>\n",
              "      <td>1</td>\n",
              "      <td>0</td>\n",
              "      <td>0</td>\n",
              "      <td>48</td>\n",
              "      <td>800.0</td>\n",
              "      <td>230.0</td>\n",
              "      <td>0.0</td>\n",
              "      <td>1030.0</td>\n",
              "      <td>16.67</td>\n",
              "    </tr>\n",
              "    <tr>\n",
              "      <th>5</th>\n",
              "      <td>Apartamento</td>\n",
              "      <td>Cachambi</td>\n",
              "      <td>2</td>\n",
              "      <td>0</td>\n",
              "      <td>0</td>\n",
              "      <td>50</td>\n",
              "      <td>1300.0</td>\n",
              "      <td>301.0</td>\n",
              "      <td>17.0</td>\n",
              "      <td>1618.0</td>\n",
              "      <td>26.00</td>\n",
              "    </tr>\n",
              "  </tbody>\n",
              "</table>\n",
              "</div>"
            ],
            "text/plain": [
              "          Tipo           Bairro  Quartos  ...  IPTU  Valor Bruto  Valor m2\n",
              "0    Quitinete       Copacabana        1  ...  60.0       2260.0     42.50\n",
              "1         Casa  Jardim Botânico        2  ...   0.0       7000.0     70.00\n",
              "2  Apartamento           Centro        1  ...  20.0       1210.0     53.33\n",
              "3  Apartamento     Higienópolis        1  ...   0.0       1030.0     16.67\n",
              "5  Apartamento         Cachambi        2  ...  17.0       1618.0     26.00\n",
              "\n",
              "[5 rows x 11 columns]"
            ]
          },
          "metadata": {
            "tags": []
          },
          "execution_count": 54
        }
      ]
    },
    {
      "cell_type": "markdown",
      "metadata": {
        "id": "S_Mdjg9js0cu"
      },
      "source": [
        "**Obtendo o valor bruto por m²**"
      ]
    },
    {
      "cell_type": "code",
      "metadata": {
        "id": "sjJiQK5WsxgD"
      },
      "source": [
        "dados['Valor Bruto m2'] = (dados['Valor Bruto']/dados['Area']).round(2)"
      ],
      "execution_count": null,
      "outputs": []
    },
    {
      "cell_type": "code",
      "metadata": {
        "colab": {
          "base_uri": "https://localhost:8080/",
          "height": 204
        },
        "id": "9c4Wypw8s7cC",
        "outputId": "cfae3512-ef89-4044-a97f-50a7f1da90d6"
      },
      "source": [
        "dados.head()"
      ],
      "execution_count": null,
      "outputs": [
        {
          "output_type": "execute_result",
          "data": {
            "text/html": [
              "<div>\n",
              "<style scoped>\n",
              "    .dataframe tbody tr th:only-of-type {\n",
              "        vertical-align: middle;\n",
              "    }\n",
              "\n",
              "    .dataframe tbody tr th {\n",
              "        vertical-align: top;\n",
              "    }\n",
              "\n",
              "    .dataframe thead th {\n",
              "        text-align: right;\n",
              "    }\n",
              "</style>\n",
              "<table border=\"1\" class=\"dataframe\">\n",
              "  <thead>\n",
              "    <tr style=\"text-align: right;\">\n",
              "      <th></th>\n",
              "      <th>Tipo</th>\n",
              "      <th>Bairro</th>\n",
              "      <th>Quartos</th>\n",
              "      <th>Vagas</th>\n",
              "      <th>Suites</th>\n",
              "      <th>Area</th>\n",
              "      <th>Valor</th>\n",
              "      <th>Condominio</th>\n",
              "      <th>IPTU</th>\n",
              "      <th>Valor Bruto</th>\n",
              "      <th>Valor m2</th>\n",
              "      <th>Valor Bruto m2</th>\n",
              "    </tr>\n",
              "  </thead>\n",
              "  <tbody>\n",
              "    <tr>\n",
              "      <th>0</th>\n",
              "      <td>Quitinete</td>\n",
              "      <td>Copacabana</td>\n",
              "      <td>1</td>\n",
              "      <td>0</td>\n",
              "      <td>0</td>\n",
              "      <td>40</td>\n",
              "      <td>1700.0</td>\n",
              "      <td>500.0</td>\n",
              "      <td>60.0</td>\n",
              "      <td>2260.0</td>\n",
              "      <td>42.50</td>\n",
              "      <td>56.50</td>\n",
              "    </tr>\n",
              "    <tr>\n",
              "      <th>1</th>\n",
              "      <td>Casa</td>\n",
              "      <td>Jardim Botânico</td>\n",
              "      <td>2</td>\n",
              "      <td>0</td>\n",
              "      <td>1</td>\n",
              "      <td>100</td>\n",
              "      <td>7000.0</td>\n",
              "      <td>0.0</td>\n",
              "      <td>0.0</td>\n",
              "      <td>7000.0</td>\n",
              "      <td>70.00</td>\n",
              "      <td>70.00</td>\n",
              "    </tr>\n",
              "    <tr>\n",
              "      <th>2</th>\n",
              "      <td>Apartamento</td>\n",
              "      <td>Centro</td>\n",
              "      <td>1</td>\n",
              "      <td>0</td>\n",
              "      <td>0</td>\n",
              "      <td>15</td>\n",
              "      <td>800.0</td>\n",
              "      <td>390.0</td>\n",
              "      <td>20.0</td>\n",
              "      <td>1210.0</td>\n",
              "      <td>53.33</td>\n",
              "      <td>80.67</td>\n",
              "    </tr>\n",
              "    <tr>\n",
              "      <th>3</th>\n",
              "      <td>Apartamento</td>\n",
              "      <td>Higienópolis</td>\n",
              "      <td>1</td>\n",
              "      <td>0</td>\n",
              "      <td>0</td>\n",
              "      <td>48</td>\n",
              "      <td>800.0</td>\n",
              "      <td>230.0</td>\n",
              "      <td>0.0</td>\n",
              "      <td>1030.0</td>\n",
              "      <td>16.67</td>\n",
              "      <td>21.46</td>\n",
              "    </tr>\n",
              "    <tr>\n",
              "      <th>5</th>\n",
              "      <td>Apartamento</td>\n",
              "      <td>Cachambi</td>\n",
              "      <td>2</td>\n",
              "      <td>0</td>\n",
              "      <td>0</td>\n",
              "      <td>50</td>\n",
              "      <td>1300.0</td>\n",
              "      <td>301.0</td>\n",
              "      <td>17.0</td>\n",
              "      <td>1618.0</td>\n",
              "      <td>26.00</td>\n",
              "      <td>32.36</td>\n",
              "    </tr>\n",
              "  </tbody>\n",
              "</table>\n",
              "</div>"
            ],
            "text/plain": [
              "          Tipo           Bairro  Quartos  ...  Valor Bruto  Valor m2  Valor Bruto m2\n",
              "0    Quitinete       Copacabana        1  ...       2260.0     42.50           56.50\n",
              "1         Casa  Jardim Botânico        2  ...       7000.0     70.00           70.00\n",
              "2  Apartamento           Centro        1  ...       1210.0     53.33           80.67\n",
              "3  Apartamento     Higienópolis        1  ...       1030.0     16.67           21.46\n",
              "5  Apartamento         Cachambi        2  ...       1618.0     26.00           32.36\n",
              "\n",
              "[5 rows x 12 columns]"
            ]
          },
          "metadata": {
            "tags": []
          },
          "execution_count": 56
        }
      ]
    },
    {
      "cell_type": "markdown",
      "metadata": {
        "id": "Q8ZBADx2tYvI"
      },
      "source": [
        "**Criando uma nova coluna com o tipo do imóvel de forma agregada**"
      ]
    },
    {
      "cell_type": "markdown",
      "metadata": {
        "id": "NrkeWAdttl0r"
      },
      "source": [
        "\n",
        "\n",
        "*   Casa, Casa de Condomínio e Casa de Vila, de forma agregada, são do tipo Casa.\n",
        "*   O resto, de forma agregada, são do tipo Apartamento.\n",
        "\n"
      ]
    },
    {
      "cell_type": "code",
      "metadata": {
        "id": "HQXqDqdws8Gz"
      },
      "source": [
        "casa = ['Casa', 'Casa de Condomínio', 'Casa de Vila']"
      ],
      "execution_count": null,
      "outputs": []
    },
    {
      "cell_type": "code",
      "metadata": {
        "id": "W8KoqVf_tJsU"
      },
      "source": [
        "dados['Tipo Agregado'] = dados['Tipo'].apply(lambda x: 'Casa' if x in casa else 'Apartamento')"
      ],
      "execution_count": null,
      "outputs": []
    },
    {
      "cell_type": "code",
      "metadata": {
        "colab": {
          "base_uri": "https://localhost:8080/",
          "height": 427
        },
        "id": "N1B3-qgOtfYr",
        "outputId": "3bf709d7-5181-4377-fbdc-dd5e24fc68e7"
      },
      "source": [
        "dados.head(10)"
      ],
      "execution_count": null,
      "outputs": [
        {
          "output_type": "execute_result",
          "data": {
            "text/html": [
              "<div>\n",
              "<style scoped>\n",
              "    .dataframe tbody tr th:only-of-type {\n",
              "        vertical-align: middle;\n",
              "    }\n",
              "\n",
              "    .dataframe tbody tr th {\n",
              "        vertical-align: top;\n",
              "    }\n",
              "\n",
              "    .dataframe thead th {\n",
              "        text-align: right;\n",
              "    }\n",
              "</style>\n",
              "<table border=\"1\" class=\"dataframe\">\n",
              "  <thead>\n",
              "    <tr style=\"text-align: right;\">\n",
              "      <th></th>\n",
              "      <th>Tipo</th>\n",
              "      <th>Bairro</th>\n",
              "      <th>Quartos</th>\n",
              "      <th>Vagas</th>\n",
              "      <th>Suites</th>\n",
              "      <th>Area</th>\n",
              "      <th>Valor</th>\n",
              "      <th>Condominio</th>\n",
              "      <th>IPTU</th>\n",
              "      <th>Valor Bruto</th>\n",
              "      <th>Valor m2</th>\n",
              "      <th>Valor Bruto m2</th>\n",
              "      <th>Tipo Agregado</th>\n",
              "    </tr>\n",
              "  </thead>\n",
              "  <tbody>\n",
              "    <tr>\n",
              "      <th>0</th>\n",
              "      <td>Quitinete</td>\n",
              "      <td>Copacabana</td>\n",
              "      <td>1</td>\n",
              "      <td>0</td>\n",
              "      <td>0</td>\n",
              "      <td>40</td>\n",
              "      <td>1700.0</td>\n",
              "      <td>500.0</td>\n",
              "      <td>60.0</td>\n",
              "      <td>2260.0</td>\n",
              "      <td>42.50</td>\n",
              "      <td>56.50</td>\n",
              "      <td>Apartamento</td>\n",
              "    </tr>\n",
              "    <tr>\n",
              "      <th>1</th>\n",
              "      <td>Casa</td>\n",
              "      <td>Jardim Botânico</td>\n",
              "      <td>2</td>\n",
              "      <td>0</td>\n",
              "      <td>1</td>\n",
              "      <td>100</td>\n",
              "      <td>7000.0</td>\n",
              "      <td>0.0</td>\n",
              "      <td>0.0</td>\n",
              "      <td>7000.0</td>\n",
              "      <td>70.00</td>\n",
              "      <td>70.00</td>\n",
              "      <td>Casa</td>\n",
              "    </tr>\n",
              "    <tr>\n",
              "      <th>2</th>\n",
              "      <td>Apartamento</td>\n",
              "      <td>Centro</td>\n",
              "      <td>1</td>\n",
              "      <td>0</td>\n",
              "      <td>0</td>\n",
              "      <td>15</td>\n",
              "      <td>800.0</td>\n",
              "      <td>390.0</td>\n",
              "      <td>20.0</td>\n",
              "      <td>1210.0</td>\n",
              "      <td>53.33</td>\n",
              "      <td>80.67</td>\n",
              "      <td>Apartamento</td>\n",
              "    </tr>\n",
              "    <tr>\n",
              "      <th>3</th>\n",
              "      <td>Apartamento</td>\n",
              "      <td>Higienópolis</td>\n",
              "      <td>1</td>\n",
              "      <td>0</td>\n",
              "      <td>0</td>\n",
              "      <td>48</td>\n",
              "      <td>800.0</td>\n",
              "      <td>230.0</td>\n",
              "      <td>0.0</td>\n",
              "      <td>1030.0</td>\n",
              "      <td>16.67</td>\n",
              "      <td>21.46</td>\n",
              "      <td>Apartamento</td>\n",
              "    </tr>\n",
              "    <tr>\n",
              "      <th>5</th>\n",
              "      <td>Apartamento</td>\n",
              "      <td>Cachambi</td>\n",
              "      <td>2</td>\n",
              "      <td>0</td>\n",
              "      <td>0</td>\n",
              "      <td>50</td>\n",
              "      <td>1300.0</td>\n",
              "      <td>301.0</td>\n",
              "      <td>17.0</td>\n",
              "      <td>1618.0</td>\n",
              "      <td>26.00</td>\n",
              "      <td>32.36</td>\n",
              "      <td>Apartamento</td>\n",
              "    </tr>\n",
              "    <tr>\n",
              "      <th>6</th>\n",
              "      <td>Casa de Condomínio</td>\n",
              "      <td>Barra da Tijuca</td>\n",
              "      <td>5</td>\n",
              "      <td>4</td>\n",
              "      <td>5</td>\n",
              "      <td>750</td>\n",
              "      <td>22000.0</td>\n",
              "      <td>0.0</td>\n",
              "      <td>0.0</td>\n",
              "      <td>22000.0</td>\n",
              "      <td>29.33</td>\n",
              "      <td>29.33</td>\n",
              "      <td>Casa</td>\n",
              "    </tr>\n",
              "    <tr>\n",
              "      <th>7</th>\n",
              "      <td>Casa de Condomínio</td>\n",
              "      <td>Ramos</td>\n",
              "      <td>2</td>\n",
              "      <td>2</td>\n",
              "      <td>0</td>\n",
              "      <td>65</td>\n",
              "      <td>1000.0</td>\n",
              "      <td>0.0</td>\n",
              "      <td>0.0</td>\n",
              "      <td>1000.0</td>\n",
              "      <td>15.38</td>\n",
              "      <td>15.38</td>\n",
              "      <td>Casa</td>\n",
              "    </tr>\n",
              "    <tr>\n",
              "      <th>9</th>\n",
              "      <td>Apartamento</td>\n",
              "      <td>Grajaú</td>\n",
              "      <td>2</td>\n",
              "      <td>1</td>\n",
              "      <td>0</td>\n",
              "      <td>70</td>\n",
              "      <td>1500.0</td>\n",
              "      <td>642.0</td>\n",
              "      <td>74.0</td>\n",
              "      <td>2216.0</td>\n",
              "      <td>21.43</td>\n",
              "      <td>31.66</td>\n",
              "      <td>Apartamento</td>\n",
              "    </tr>\n",
              "    <tr>\n",
              "      <th>10</th>\n",
              "      <td>Apartamento</td>\n",
              "      <td>Lins de Vasconcelos</td>\n",
              "      <td>3</td>\n",
              "      <td>1</td>\n",
              "      <td>1</td>\n",
              "      <td>90</td>\n",
              "      <td>1500.0</td>\n",
              "      <td>455.0</td>\n",
              "      <td>14.0</td>\n",
              "      <td>1969.0</td>\n",
              "      <td>16.67</td>\n",
              "      <td>21.88</td>\n",
              "      <td>Apartamento</td>\n",
              "    </tr>\n",
              "    <tr>\n",
              "      <th>11</th>\n",
              "      <td>Apartamento</td>\n",
              "      <td>Copacabana</td>\n",
              "      <td>1</td>\n",
              "      <td>0</td>\n",
              "      <td>1</td>\n",
              "      <td>40</td>\n",
              "      <td>2000.0</td>\n",
              "      <td>561.0</td>\n",
              "      <td>50.0</td>\n",
              "      <td>2611.0</td>\n",
              "      <td>50.00</td>\n",
              "      <td>65.28</td>\n",
              "      <td>Apartamento</td>\n",
              "    </tr>\n",
              "  </tbody>\n",
              "</table>\n",
              "</div>"
            ],
            "text/plain": [
              "                  Tipo               Bairro  ...  Valor Bruto m2  Tipo Agregado\n",
              "0            Quitinete           Copacabana  ...           56.50    Apartamento\n",
              "1                 Casa      Jardim Botânico  ...           70.00           Casa\n",
              "2          Apartamento               Centro  ...           80.67    Apartamento\n",
              "3          Apartamento         Higienópolis  ...           21.46    Apartamento\n",
              "5          Apartamento             Cachambi  ...           32.36    Apartamento\n",
              "6   Casa de Condomínio      Barra da Tijuca  ...           29.33           Casa\n",
              "7   Casa de Condomínio                Ramos  ...           15.38           Casa\n",
              "9          Apartamento               Grajaú  ...           31.66    Apartamento\n",
              "10         Apartamento  Lins de Vasconcelos  ...           21.88    Apartamento\n",
              "11         Apartamento           Copacabana  ...           65.28    Apartamento\n",
              "\n",
              "[10 rows x 13 columns]"
            ]
          },
          "metadata": {
            "tags": []
          },
          "execution_count": 59
        }
      ]
    },
    {
      "cell_type": "markdown",
      "metadata": {
        "id": "d0deKaDcvFbd"
      },
      "source": [
        "**Como as variáveis *Valor Bruto* e *Valor Bruto m2* não são muito confiáveis por conta que para muitos registros o valor do IPTU não foi informado, podemos remover essas colunas**"
      ]
    },
    {
      "cell_type": "markdown",
      "metadata": {
        "id": "1n1iR-CDwVE9"
      },
      "source": [
        "Para vermos algumas formas de remover colunas, antes de remover do *DataFrame* de fato, podemos contruir um *DataFrame* auxiliar."
      ]
    },
    {
      "cell_type": "code",
      "metadata": {
        "colab": {
          "base_uri": "https://localhost:8080/",
          "height": 204
        },
        "id": "UIWeavoytgdq",
        "outputId": "1d1ea1e3-0e2c-4ff8-9f78-280cb1bb2bb2"
      },
      "source": [
        "dados_aux = pd.DataFrame(dados[['Tipo Agregado', 'Valor m2', 'Valor Bruto', 'Valor Bruto m2']])\n",
        "dados_aux.head()"
      ],
      "execution_count": null,
      "outputs": [
        {
          "output_type": "execute_result",
          "data": {
            "text/html": [
              "<div>\n",
              "<style scoped>\n",
              "    .dataframe tbody tr th:only-of-type {\n",
              "        vertical-align: middle;\n",
              "    }\n",
              "\n",
              "    .dataframe tbody tr th {\n",
              "        vertical-align: top;\n",
              "    }\n",
              "\n",
              "    .dataframe thead th {\n",
              "        text-align: right;\n",
              "    }\n",
              "</style>\n",
              "<table border=\"1\" class=\"dataframe\">\n",
              "  <thead>\n",
              "    <tr style=\"text-align: right;\">\n",
              "      <th></th>\n",
              "      <th>Tipo Agregado</th>\n",
              "      <th>Valor m2</th>\n",
              "      <th>Valor Bruto</th>\n",
              "      <th>Valor Bruto m2</th>\n",
              "    </tr>\n",
              "  </thead>\n",
              "  <tbody>\n",
              "    <tr>\n",
              "      <th>0</th>\n",
              "      <td>Apartamento</td>\n",
              "      <td>42.50</td>\n",
              "      <td>2260.0</td>\n",
              "      <td>56.50</td>\n",
              "    </tr>\n",
              "    <tr>\n",
              "      <th>1</th>\n",
              "      <td>Casa</td>\n",
              "      <td>70.00</td>\n",
              "      <td>7000.0</td>\n",
              "      <td>70.00</td>\n",
              "    </tr>\n",
              "    <tr>\n",
              "      <th>2</th>\n",
              "      <td>Apartamento</td>\n",
              "      <td>53.33</td>\n",
              "      <td>1210.0</td>\n",
              "      <td>80.67</td>\n",
              "    </tr>\n",
              "    <tr>\n",
              "      <th>3</th>\n",
              "      <td>Apartamento</td>\n",
              "      <td>16.67</td>\n",
              "      <td>1030.0</td>\n",
              "      <td>21.46</td>\n",
              "    </tr>\n",
              "    <tr>\n",
              "      <th>5</th>\n",
              "      <td>Apartamento</td>\n",
              "      <td>26.00</td>\n",
              "      <td>1618.0</td>\n",
              "      <td>32.36</td>\n",
              "    </tr>\n",
              "  </tbody>\n",
              "</table>\n",
              "</div>"
            ],
            "text/plain": [
              "  Tipo Agregado  Valor m2  Valor Bruto  Valor Bruto m2\n",
              "0   Apartamento     42.50       2260.0           56.50\n",
              "1          Casa     70.00       7000.0           70.00\n",
              "2   Apartamento     53.33       1210.0           80.67\n",
              "3   Apartamento     16.67       1030.0           21.46\n",
              "5   Apartamento     26.00       1618.0           32.36"
            ]
          },
          "metadata": {
            "tags": []
          },
          "execution_count": 60
        }
      ]
    },
    {
      "cell_type": "markdown",
      "metadata": {
        "id": "YRx3AjX2vn0-"
      },
      "source": [
        "Forma 1"
      ]
    },
    {
      "cell_type": "code",
      "metadata": {
        "id": "kcJsUwDNuEGb"
      },
      "source": [
        "del dados_aux['Valor Bruto']"
      ],
      "execution_count": null,
      "outputs": []
    },
    {
      "cell_type": "code",
      "metadata": {
        "colab": {
          "base_uri": "https://localhost:8080/",
          "height": 204
        },
        "id": "_1GfxtmjuEIj",
        "outputId": "f8eaf757-a090-4324-809f-0d4b14608918"
      },
      "source": [
        "dados_aux.head()"
      ],
      "execution_count": null,
      "outputs": [
        {
          "output_type": "execute_result",
          "data": {
            "text/html": [
              "<div>\n",
              "<style scoped>\n",
              "    .dataframe tbody tr th:only-of-type {\n",
              "        vertical-align: middle;\n",
              "    }\n",
              "\n",
              "    .dataframe tbody tr th {\n",
              "        vertical-align: top;\n",
              "    }\n",
              "\n",
              "    .dataframe thead th {\n",
              "        text-align: right;\n",
              "    }\n",
              "</style>\n",
              "<table border=\"1\" class=\"dataframe\">\n",
              "  <thead>\n",
              "    <tr style=\"text-align: right;\">\n",
              "      <th></th>\n",
              "      <th>Tipo Agregado</th>\n",
              "      <th>Valor m2</th>\n",
              "      <th>Valor Bruto m2</th>\n",
              "    </tr>\n",
              "  </thead>\n",
              "  <tbody>\n",
              "    <tr>\n",
              "      <th>0</th>\n",
              "      <td>Apartamento</td>\n",
              "      <td>42.50</td>\n",
              "      <td>56.50</td>\n",
              "    </tr>\n",
              "    <tr>\n",
              "      <th>1</th>\n",
              "      <td>Casa</td>\n",
              "      <td>70.00</td>\n",
              "      <td>70.00</td>\n",
              "    </tr>\n",
              "    <tr>\n",
              "      <th>2</th>\n",
              "      <td>Apartamento</td>\n",
              "      <td>53.33</td>\n",
              "      <td>80.67</td>\n",
              "    </tr>\n",
              "    <tr>\n",
              "      <th>3</th>\n",
              "      <td>Apartamento</td>\n",
              "      <td>16.67</td>\n",
              "      <td>21.46</td>\n",
              "    </tr>\n",
              "    <tr>\n",
              "      <th>5</th>\n",
              "      <td>Apartamento</td>\n",
              "      <td>26.00</td>\n",
              "      <td>32.36</td>\n",
              "    </tr>\n",
              "  </tbody>\n",
              "</table>\n",
              "</div>"
            ],
            "text/plain": [
              "  Tipo Agregado  Valor m2  Valor Bruto m2\n",
              "0   Apartamento     42.50           56.50\n",
              "1          Casa     70.00           70.00\n",
              "2   Apartamento     53.33           80.67\n",
              "3   Apartamento     16.67           21.46\n",
              "5   Apartamento     26.00           32.36"
            ]
          },
          "metadata": {
            "tags": []
          },
          "execution_count": 62
        }
      ]
    },
    {
      "cell_type": "markdown",
      "metadata": {
        "id": "57ejXySrvtXw"
      },
      "source": [
        "Forma 2"
      ]
    },
    {
      "cell_type": "code",
      "metadata": {
        "colab": {
          "base_uri": "https://localhost:8080/"
        },
        "id": "3e04FjxUu5AS",
        "outputId": "eacd83c8-1931-48d9-d15a-5d856c1d85ef"
      },
      "source": [
        "dados_aux.pop('Valor Bruto m2')"
      ],
      "execution_count": null,
      "outputs": [
        {
          "output_type": "execute_result",
          "data": {
            "text/plain": [
              "0        56.50\n",
              "1        70.00\n",
              "2        80.67\n",
              "3        21.46\n",
              "5        32.36\n",
              "         ...  \n",
              "22575    20.54\n",
              "22576    43.52\n",
              "22577    33.85\n",
              "22578    40.54\n",
              "22579    53.71\n",
              "Name: Valor Bruto m2, Length: 21826, dtype: float64"
            ]
          },
          "metadata": {
            "tags": []
          },
          "execution_count": 63
        }
      ]
    },
    {
      "cell_type": "code",
      "metadata": {
        "colab": {
          "base_uri": "https://localhost:8080/",
          "height": 204
        },
        "id": "PfLqhCQ4v8CK",
        "outputId": "0c1b21cd-1b4c-4495-dac7-481f009de8db"
      },
      "source": [
        "dados_aux.head()"
      ],
      "execution_count": null,
      "outputs": [
        {
          "output_type": "execute_result",
          "data": {
            "text/html": [
              "<div>\n",
              "<style scoped>\n",
              "    .dataframe tbody tr th:only-of-type {\n",
              "        vertical-align: middle;\n",
              "    }\n",
              "\n",
              "    .dataframe tbody tr th {\n",
              "        vertical-align: top;\n",
              "    }\n",
              "\n",
              "    .dataframe thead th {\n",
              "        text-align: right;\n",
              "    }\n",
              "</style>\n",
              "<table border=\"1\" class=\"dataframe\">\n",
              "  <thead>\n",
              "    <tr style=\"text-align: right;\">\n",
              "      <th></th>\n",
              "      <th>Tipo Agregado</th>\n",
              "      <th>Valor m2</th>\n",
              "    </tr>\n",
              "  </thead>\n",
              "  <tbody>\n",
              "    <tr>\n",
              "      <th>0</th>\n",
              "      <td>Apartamento</td>\n",
              "      <td>42.50</td>\n",
              "    </tr>\n",
              "    <tr>\n",
              "      <th>1</th>\n",
              "      <td>Casa</td>\n",
              "      <td>70.00</td>\n",
              "    </tr>\n",
              "    <tr>\n",
              "      <th>2</th>\n",
              "      <td>Apartamento</td>\n",
              "      <td>53.33</td>\n",
              "    </tr>\n",
              "    <tr>\n",
              "      <th>3</th>\n",
              "      <td>Apartamento</td>\n",
              "      <td>16.67</td>\n",
              "    </tr>\n",
              "    <tr>\n",
              "      <th>5</th>\n",
              "      <td>Apartamento</td>\n",
              "      <td>26.00</td>\n",
              "    </tr>\n",
              "  </tbody>\n",
              "</table>\n",
              "</div>"
            ],
            "text/plain": [
              "  Tipo Agregado  Valor m2\n",
              "0   Apartamento     42.50\n",
              "1          Casa     70.00\n",
              "2   Apartamento     53.33\n",
              "3   Apartamento     16.67\n",
              "5   Apartamento     26.00"
            ]
          },
          "metadata": {
            "tags": []
          },
          "execution_count": 64
        }
      ]
    },
    {
      "cell_type": "markdown",
      "metadata": {
        "id": "aLEKe6Xtv-7t"
      },
      "source": [
        "Forma 3 - E melhor forma!"
      ]
    },
    {
      "cell_type": "markdown",
      "metadata": {
        "id": "o9stMfTqwi2K"
      },
      "source": [
        "Removendo as colunas do *DataFrame* dados"
      ]
    },
    {
      "cell_type": "code",
      "metadata": {
        "colab": {
          "base_uri": "https://localhost:8080/",
          "height": 204
        },
        "id": "oU--jVoBv9wG",
        "outputId": "c1727c4e-3329-4186-ee31-f55ad70c49de"
      },
      "source": [
        "dados.drop(['Valor Bruto', 'Valor Bruto m2'], axis=1, inplace=True)\n",
        "dados.head()"
      ],
      "execution_count": null,
      "outputs": [
        {
          "output_type": "execute_result",
          "data": {
            "text/html": [
              "<div>\n",
              "<style scoped>\n",
              "    .dataframe tbody tr th:only-of-type {\n",
              "        vertical-align: middle;\n",
              "    }\n",
              "\n",
              "    .dataframe tbody tr th {\n",
              "        vertical-align: top;\n",
              "    }\n",
              "\n",
              "    .dataframe thead th {\n",
              "        text-align: right;\n",
              "    }\n",
              "</style>\n",
              "<table border=\"1\" class=\"dataframe\">\n",
              "  <thead>\n",
              "    <tr style=\"text-align: right;\">\n",
              "      <th></th>\n",
              "      <th>Tipo</th>\n",
              "      <th>Bairro</th>\n",
              "      <th>Quartos</th>\n",
              "      <th>Vagas</th>\n",
              "      <th>Suites</th>\n",
              "      <th>Area</th>\n",
              "      <th>Valor</th>\n",
              "      <th>Condominio</th>\n",
              "      <th>IPTU</th>\n",
              "      <th>Valor m2</th>\n",
              "      <th>Tipo Agregado</th>\n",
              "    </tr>\n",
              "  </thead>\n",
              "  <tbody>\n",
              "    <tr>\n",
              "      <th>0</th>\n",
              "      <td>Quitinete</td>\n",
              "      <td>Copacabana</td>\n",
              "      <td>1</td>\n",
              "      <td>0</td>\n",
              "      <td>0</td>\n",
              "      <td>40</td>\n",
              "      <td>1700.0</td>\n",
              "      <td>500.0</td>\n",
              "      <td>60.0</td>\n",
              "      <td>42.50</td>\n",
              "      <td>Apartamento</td>\n",
              "    </tr>\n",
              "    <tr>\n",
              "      <th>1</th>\n",
              "      <td>Casa</td>\n",
              "      <td>Jardim Botânico</td>\n",
              "      <td>2</td>\n",
              "      <td>0</td>\n",
              "      <td>1</td>\n",
              "      <td>100</td>\n",
              "      <td>7000.0</td>\n",
              "      <td>0.0</td>\n",
              "      <td>0.0</td>\n",
              "      <td>70.00</td>\n",
              "      <td>Casa</td>\n",
              "    </tr>\n",
              "    <tr>\n",
              "      <th>2</th>\n",
              "      <td>Apartamento</td>\n",
              "      <td>Centro</td>\n",
              "      <td>1</td>\n",
              "      <td>0</td>\n",
              "      <td>0</td>\n",
              "      <td>15</td>\n",
              "      <td>800.0</td>\n",
              "      <td>390.0</td>\n",
              "      <td>20.0</td>\n",
              "      <td>53.33</td>\n",
              "      <td>Apartamento</td>\n",
              "    </tr>\n",
              "    <tr>\n",
              "      <th>3</th>\n",
              "      <td>Apartamento</td>\n",
              "      <td>Higienópolis</td>\n",
              "      <td>1</td>\n",
              "      <td>0</td>\n",
              "      <td>0</td>\n",
              "      <td>48</td>\n",
              "      <td>800.0</td>\n",
              "      <td>230.0</td>\n",
              "      <td>0.0</td>\n",
              "      <td>16.67</td>\n",
              "      <td>Apartamento</td>\n",
              "    </tr>\n",
              "    <tr>\n",
              "      <th>5</th>\n",
              "      <td>Apartamento</td>\n",
              "      <td>Cachambi</td>\n",
              "      <td>2</td>\n",
              "      <td>0</td>\n",
              "      <td>0</td>\n",
              "      <td>50</td>\n",
              "      <td>1300.0</td>\n",
              "      <td>301.0</td>\n",
              "      <td>17.0</td>\n",
              "      <td>26.00</td>\n",
              "      <td>Apartamento</td>\n",
              "    </tr>\n",
              "  </tbody>\n",
              "</table>\n",
              "</div>"
            ],
            "text/plain": [
              "          Tipo           Bairro  Quartos  ...  IPTU  Valor m2  Tipo Agregado\n",
              "0    Quitinete       Copacabana        1  ...  60.0     42.50    Apartamento\n",
              "1         Casa  Jardim Botânico        2  ...   0.0     70.00           Casa\n",
              "2  Apartamento           Centro        1  ...  20.0     53.33    Apartamento\n",
              "3  Apartamento     Higienópolis        1  ...   0.0     16.67    Apartamento\n",
              "5  Apartamento         Cachambi        2  ...  17.0     26.00    Apartamento\n",
              "\n",
              "[5 rows x 11 columns]"
            ]
          },
          "metadata": {
            "tags": []
          },
          "execution_count": 65
        }
      ]
    },
    {
      "cell_type": "code",
      "metadata": {
        "id": "GbiD0aP68y22"
      },
      "source": [
        "dados.to_csv('/content/drive/MyDrive/Curso Alura/Python Pandas: Tratando e Analisando Dados/dados/aluguel_modificado.csv', sep=';', index=False)"
      ],
      "execution_count": null,
      "outputs": []
    },
    {
      "cell_type": "markdown",
      "metadata": {
        "id": "QqDOKgl6yO1h"
      },
      "source": [
        "###Criando Agrupamentos"
      ]
    },
    {
      "cell_type": "code",
      "metadata": {
        "id": "4Q3RhF-DwOqy",
        "colab": {
          "base_uri": "https://localhost:8080/",
          "height": 359
        },
        "outputId": "513f80dd-0daa-4ab5-ac34-6585025b5d30"
      },
      "source": [
        "dados.head(10)"
      ],
      "execution_count": null,
      "outputs": [
        {
          "output_type": "execute_result",
          "data": {
            "text/html": [
              "<div>\n",
              "<style scoped>\n",
              "    .dataframe tbody tr th:only-of-type {\n",
              "        vertical-align: middle;\n",
              "    }\n",
              "\n",
              "    .dataframe tbody tr th {\n",
              "        vertical-align: top;\n",
              "    }\n",
              "\n",
              "    .dataframe thead th {\n",
              "        text-align: right;\n",
              "    }\n",
              "</style>\n",
              "<table border=\"1\" class=\"dataframe\">\n",
              "  <thead>\n",
              "    <tr style=\"text-align: right;\">\n",
              "      <th></th>\n",
              "      <th>Tipo</th>\n",
              "      <th>Bairro</th>\n",
              "      <th>Quartos</th>\n",
              "      <th>Vagas</th>\n",
              "      <th>Suites</th>\n",
              "      <th>Area</th>\n",
              "      <th>Valor</th>\n",
              "      <th>Condominio</th>\n",
              "      <th>IPTU</th>\n",
              "      <th>Valor m2</th>\n",
              "      <th>Tipo Agregado</th>\n",
              "    </tr>\n",
              "  </thead>\n",
              "  <tbody>\n",
              "    <tr>\n",
              "      <th>0</th>\n",
              "      <td>Quitinete</td>\n",
              "      <td>Copacabana</td>\n",
              "      <td>1</td>\n",
              "      <td>0</td>\n",
              "      <td>0</td>\n",
              "      <td>40</td>\n",
              "      <td>1700.0</td>\n",
              "      <td>500.0</td>\n",
              "      <td>60.0</td>\n",
              "      <td>42.50</td>\n",
              "      <td>Apartamento</td>\n",
              "    </tr>\n",
              "    <tr>\n",
              "      <th>1</th>\n",
              "      <td>Casa</td>\n",
              "      <td>Jardim Botânico</td>\n",
              "      <td>2</td>\n",
              "      <td>0</td>\n",
              "      <td>1</td>\n",
              "      <td>100</td>\n",
              "      <td>7000.0</td>\n",
              "      <td>0.0</td>\n",
              "      <td>0.0</td>\n",
              "      <td>70.00</td>\n",
              "      <td>Casa</td>\n",
              "    </tr>\n",
              "    <tr>\n",
              "      <th>2</th>\n",
              "      <td>Apartamento</td>\n",
              "      <td>Centro</td>\n",
              "      <td>1</td>\n",
              "      <td>0</td>\n",
              "      <td>0</td>\n",
              "      <td>15</td>\n",
              "      <td>800.0</td>\n",
              "      <td>390.0</td>\n",
              "      <td>20.0</td>\n",
              "      <td>53.33</td>\n",
              "      <td>Apartamento</td>\n",
              "    </tr>\n",
              "    <tr>\n",
              "      <th>3</th>\n",
              "      <td>Apartamento</td>\n",
              "      <td>Higienópolis</td>\n",
              "      <td>1</td>\n",
              "      <td>0</td>\n",
              "      <td>0</td>\n",
              "      <td>48</td>\n",
              "      <td>800.0</td>\n",
              "      <td>230.0</td>\n",
              "      <td>0.0</td>\n",
              "      <td>16.67</td>\n",
              "      <td>Apartamento</td>\n",
              "    </tr>\n",
              "    <tr>\n",
              "      <th>5</th>\n",
              "      <td>Apartamento</td>\n",
              "      <td>Cachambi</td>\n",
              "      <td>2</td>\n",
              "      <td>0</td>\n",
              "      <td>0</td>\n",
              "      <td>50</td>\n",
              "      <td>1300.0</td>\n",
              "      <td>301.0</td>\n",
              "      <td>17.0</td>\n",
              "      <td>26.00</td>\n",
              "      <td>Apartamento</td>\n",
              "    </tr>\n",
              "    <tr>\n",
              "      <th>6</th>\n",
              "      <td>Casa de Condomínio</td>\n",
              "      <td>Barra da Tijuca</td>\n",
              "      <td>5</td>\n",
              "      <td>4</td>\n",
              "      <td>5</td>\n",
              "      <td>750</td>\n",
              "      <td>22000.0</td>\n",
              "      <td>0.0</td>\n",
              "      <td>0.0</td>\n",
              "      <td>29.33</td>\n",
              "      <td>Casa</td>\n",
              "    </tr>\n",
              "    <tr>\n",
              "      <th>7</th>\n",
              "      <td>Casa de Condomínio</td>\n",
              "      <td>Ramos</td>\n",
              "      <td>2</td>\n",
              "      <td>2</td>\n",
              "      <td>0</td>\n",
              "      <td>65</td>\n",
              "      <td>1000.0</td>\n",
              "      <td>0.0</td>\n",
              "      <td>0.0</td>\n",
              "      <td>15.38</td>\n",
              "      <td>Casa</td>\n",
              "    </tr>\n",
              "    <tr>\n",
              "      <th>9</th>\n",
              "      <td>Apartamento</td>\n",
              "      <td>Grajaú</td>\n",
              "      <td>2</td>\n",
              "      <td>1</td>\n",
              "      <td>0</td>\n",
              "      <td>70</td>\n",
              "      <td>1500.0</td>\n",
              "      <td>642.0</td>\n",
              "      <td>74.0</td>\n",
              "      <td>21.43</td>\n",
              "      <td>Apartamento</td>\n",
              "    </tr>\n",
              "    <tr>\n",
              "      <th>10</th>\n",
              "      <td>Apartamento</td>\n",
              "      <td>Lins de Vasconcelos</td>\n",
              "      <td>3</td>\n",
              "      <td>1</td>\n",
              "      <td>1</td>\n",
              "      <td>90</td>\n",
              "      <td>1500.0</td>\n",
              "      <td>455.0</td>\n",
              "      <td>14.0</td>\n",
              "      <td>16.67</td>\n",
              "      <td>Apartamento</td>\n",
              "    </tr>\n",
              "    <tr>\n",
              "      <th>11</th>\n",
              "      <td>Apartamento</td>\n",
              "      <td>Copacabana</td>\n",
              "      <td>1</td>\n",
              "      <td>0</td>\n",
              "      <td>1</td>\n",
              "      <td>40</td>\n",
              "      <td>2000.0</td>\n",
              "      <td>561.0</td>\n",
              "      <td>50.0</td>\n",
              "      <td>50.00</td>\n",
              "      <td>Apartamento</td>\n",
              "    </tr>\n",
              "  </tbody>\n",
              "</table>\n",
              "</div>"
            ],
            "text/plain": [
              "                  Tipo               Bairro  ...  Valor m2  Tipo Agregado\n",
              "0            Quitinete           Copacabana  ...     42.50    Apartamento\n",
              "1                 Casa      Jardim Botânico  ...     70.00           Casa\n",
              "2          Apartamento               Centro  ...     53.33    Apartamento\n",
              "3          Apartamento         Higienópolis  ...     16.67    Apartamento\n",
              "5          Apartamento             Cachambi  ...     26.00    Apartamento\n",
              "6   Casa de Condomínio      Barra da Tijuca  ...     29.33           Casa\n",
              "7   Casa de Condomínio                Ramos  ...     15.38           Casa\n",
              "9          Apartamento               Grajaú  ...     21.43    Apartamento\n",
              "10         Apartamento  Lins de Vasconcelos  ...     16.67    Apartamento\n",
              "11         Apartamento           Copacabana  ...     50.00    Apartamento\n",
              "\n",
              "[10 rows x 11 columns]"
            ]
          },
          "metadata": {
            "tags": []
          },
          "execution_count": 67
        }
      ]
    },
    {
      "cell_type": "markdown",
      "metadata": {
        "id": "RAogeOw0ysKu"
      },
      "source": [
        "**Obtendo a média dos valores de aluguel**"
      ]
    },
    {
      "cell_type": "code",
      "metadata": {
        "colab": {
          "base_uri": "https://localhost:8080/"
        },
        "id": "gDS2kNzAyTDz",
        "outputId": "dcdb2a7b-5b87-4552-ea80-f2c1c3eb7ca9"
      },
      "source": [
        "dados['Valor'].mean()"
      ],
      "execution_count": null,
      "outputs": [
        {
          "output_type": "execute_result",
          "data": {
            "text/plain": [
              "5046.172821405663"
            ]
          },
          "metadata": {
            "tags": []
          },
          "execution_count": 68
        }
      ]
    },
    {
      "cell_type": "markdown",
      "metadata": {
        "id": "S_TtiTR4y1Mu"
      },
      "source": [
        "**Obtendo a média de aluguel para alguns bairros**"
      ]
    },
    {
      "cell_type": "code",
      "metadata": {
        "id": "OaCBIEDnybkr"
      },
      "source": [
        "bairros = ['Barra da Tijuca', 'Copacabana', 'Ipanema', 'Leblon', 'Botafogo', 'Flamengo', 'Tijuca']\n",
        "selecao = dados['Bairro'].isin(bairros)\n",
        "dados_bairros = dados[selecao]"
      ],
      "execution_count": null,
      "outputs": []
    },
    {
      "cell_type": "code",
      "metadata": {
        "colab": {
          "base_uri": "https://localhost:8080/"
        },
        "id": "2XI4I6r2y6wr",
        "outputId": "cef50984-53a2-4d8b-82b6-047b69b5e5ff"
      },
      "source": [
        "dados_bairros['Bairro'].unique()"
      ],
      "execution_count": null,
      "outputs": [
        {
          "output_type": "execute_result",
          "data": {
            "text/plain": [
              "array(['Copacabana', 'Barra da Tijuca', 'Tijuca', 'Ipanema', 'Botafogo',\n",
              "       'Leblon', 'Flamengo'], dtype=object)"
            ]
          },
          "metadata": {
            "tags": []
          },
          "execution_count": 70
        }
      ]
    },
    {
      "cell_type": "code",
      "metadata": {
        "colab": {
          "base_uri": "https://localhost:8080/"
        },
        "id": "TlLFWbD_y-r8",
        "outputId": "0f9528ce-065a-422c-f552-00d5ae8e7319"
      },
      "source": [
        "grupo_bairro = dados_bairros.groupby(by='Bairro')\n",
        "grupo_bairro"
      ],
      "execution_count": null,
      "outputs": [
        {
          "output_type": "execute_result",
          "data": {
            "text/plain": [
              "<pandas.core.groupby.generic.DataFrameGroupBy object at 0x7f259eed5cd0>"
            ]
          },
          "metadata": {
            "tags": []
          },
          "execution_count": 71
        }
      ]
    },
    {
      "cell_type": "code",
      "metadata": {
        "colab": {
          "base_uri": "https://localhost:8080/"
        },
        "id": "WF66BVAwzJMb",
        "outputId": "5b1eb660-b4f9-43c1-e1a5-754b50e04dfc"
      },
      "source": [
        "grupo_bairro.groups"
      ],
      "execution_count": null,
      "outputs": [
        {
          "output_type": "execute_result",
          "data": {
            "text/plain": [
              "{'Barra da Tijuca': [6, 16, 18, 23, 32, 34, 37, 44, 45, 63, 64, 67, 71, 77, 82, 97, 111, 114, 116, 122, 136, 138, 142, 156, 159, 161, 171, 172, 180, 195, 198, 217, 224, 231, 234, 243, 246, 249, 254, 269, 275, 285, 287, 302, 303, 304, 306, 313, 319, 322, 336, 346, 347, 356, 371, 377, 379, 385, 391, 398, 400, 411, 423, 444, 445, 447, 448, 451, 461, 463, 474, 475, 477, 485, 488, 497, 508, 514, 518, 526, 553, 554, 555, 556, 559, 563, 568, 570, 571, 572, 601, 605, 606, 608, 612, 614, 619, 629, 640, 648, ...], 'Botafogo': [25, 50, 91, 92, 115, 124, 132, 140, 206, 210, 235, 345, 373, 426, 427, 512, 539, 541, 561, 611, 669, 706, 740, 777, 786, 846, 851, 885, 940, 949, 953, 1036, 1073, 1110, 1121, 1140, 1147, 1158, 1171, 1197, 1235, 1239, 1258, 1285, 1318, 1332, 1341, 1355, 1386, 1421, 1453, 1458, 1496, 1559, 1572, 1623, 1676, 1704, 1720, 1750, 1794, 1795, 1843, 1869, 1878, 1881, 1908, 1978, 1987, 2014, 2029, 2041, 2051, 2092, 2130, 2133, 2145, 2147, 2148, 2152, 2161, 2216, 2217, 2233, 2247, 2266, 2313, 2318, 2369, 2425, 2454, 2469, 2486, 2504, 2506, 2543, 2585, 2595, 2608, 2657, ...], 'Copacabana': [0, 11, 12, 13, 26, 27, 30, 33, 90, 95, 108, 113, 130, 135, 146, 148, 149, 157, 168, 181, 192, 201, 203, 216, 233, 259, 273, 286, 289, 292, 300, 301, 312, 318, 330, 338, 340, 359, 370, 376, 382, 383, 399, 407, 415, 437, 438, 449, 470, 472, 498, 499, 500, 511, 545, 547, 550, 573, 580, 589, 590, 600, 624, 628, 630, 633, 651, 670, 679, 687, 688, 699, 708, 710, 715, 722, 734, 751, 757, 760, 793, 832, 848, 860, 896, 906, 919, 923, 932, 937, 942, 944, 946, 947, 954, 977, 989, 990, 1009, 1018, ...], 'Flamengo': [81, 144, 228, 295, 332, 358, 367, 372, 380, 404, 433, 442, 454, 489, 560, 597, 638, 690, 747, 785, 819, 879, 911, 916, 925, 968, 993, 1074, 1129, 1159, 1168, 1244, 1269, 1276, 1397, 1436, 1439, 1549, 1555, 1568, 1579, 1589, 1599, 1647, 1650, 1730, 1746, 1813, 1816, 1889, 1899, 1927, 1996, 2030, 2067, 2072, 2098, 2288, 2297, 2335, 2345, 2383, 2406, 2435, 2447, 2499, 2534, 2605, 2606, 2615, 2619, 2644, 2671, 2703, 2714, 2783, 2791, 2796, 2855, 2859, 2953, 2967, 3011, 3030, 3048, 3069, 3131, 3182, 3197, 3224, 3226, 3235, 3273, 3359, 3386, 3423, 3502, 3508, 3520, 3529, ...], 'Ipanema': [21, 41, 42, 47, 54, 55, 76, 88, 96, 119, 126, 134, 147, 165, 185, 187, 226, 227, 240, 252, 255, 280, 294, 337, 349, 352, 381, 388, 397, 403, 416, 456, 494, 502, 530, 538, 551, 585, 592, 593, 594, 596, 607, 609, 632, 642, 646, 667, 668, 676, 692, 702, 711, 729, 731, 738, 746, 750, 752, 767, 768, 774, 778, 801, 805, 816, 824, 834, 836, 840, 853, 883, 884, 901, 913, 930, 931, 948, 952, 963, 976, 978, 996, 1012, 1014, 1023, 1031, 1040, 1052, 1057, 1063, 1079, 1080, 1082, 1084, 1088, 1090, 1108, 1116, 1122, ...], 'Leblon': [29, 62, 94, 101, 120, 139, 167, 173, 177, 223, 229, 258, 325, 326, 335, 363, 364, 406, 418, 432, 455, 460, 471, 476, 478, 482, 503, 510, 515, 524, 534, 566, 615, 617, 621, 658, 659, 678, 707, 724, 732, 754, 770, 796, 806, 843, 852, 857, 858, 863, 867, 892, 898, 924, 956, 958, 970, 985, 991, 1083, 1089, 1099, 1100, 1102, 1105, 1118, 1134, 1173, 1187, 1193, 1198, 1227, 1238, 1241, 1249, 1251, 1271, 1313, 1314, 1320, 1338, 1339, 1374, 1376, 1384, 1406, 1447, 1450, 1454, 1467, 1545, 1569, 1583, 1590, 1595, 1604, 1631, 1634, 1668, 1669, ...], 'Tijuca': [17, 20, 22, 84, 86, 131, 151, 155, 164, 170, 183, 188, 190, 194, 207, 212, 268, 348, 353, 365, 374, 450, 462, 481, 491, 519, 528, 542, 581, 584, 616, 618, 645, 655, 656, 673, 695, 759, 764, 765, 783, 797, 810, 815, 818, 820, 835, 862, 865, 875, 895, 899, 910, 950, 972, 994, 1001, 1016, 1019, 1050, 1061, 1068, 1091, 1150, 1211, 1214, 1232, 1298, 1312, 1410, 1470, 1475, 1498, 1520, 1573, 1577, 1607, 1609, 1618, 1625, 1680, 1685, 1707, 1729, 1753, 1755, 1769, 1782, 1804, 1833, 1837, 1845, 1875, 1885, 1886, 1891, 1922, 1932, 1956, 1967, ...]}"
            ]
          },
          "metadata": {
            "tags": []
          },
          "execution_count": 72
        }
      ]
    },
    {
      "cell_type": "markdown",
      "metadata": {
        "id": "lxsApHsL0G4-"
      },
      "source": [
        "Primeira forma"
      ]
    },
    {
      "cell_type": "code",
      "metadata": {
        "colab": {
          "base_uri": "https://localhost:8080/"
        },
        "id": "yucmMGvmzTT8",
        "outputId": "be41e01b-fdb5-4d40-922a-260b6e07fab0"
      },
      "source": [
        "for bairro, data in grupo_bairro:\n",
        "    print('{} - {}'.format(bairro, data.Valor.mean()))"
      ],
      "execution_count": null,
      "outputs": [
        {
          "output_type": "stream",
          "text": [
            "Barra da Tijuca - 7069.552938130986\n",
            "Botafogo - 8791.828178694159\n",
            "Copacabana - 4126.677004538578\n",
            "Flamengo - 4113.526610644258\n",
            "Ipanema - 9352.001133786847\n",
            "Leblon - 8746.344992050874\n",
            "Tijuca - 2043.52\n"
          ],
          "name": "stdout"
        }
      ]
    },
    {
      "cell_type": "markdown",
      "metadata": {
        "id": "0Bp3neAJ0I5Y"
      },
      "source": [
        "Segunda forma (muito mais simples)"
      ]
    },
    {
      "cell_type": "code",
      "metadata": {
        "colab": {
          "base_uri": "https://localhost:8080/"
        },
        "id": "W7ZMbTVqzpaD",
        "outputId": "d6bfd1f3-e61a-430f-a907-8aa66e9e2822"
      },
      "source": [
        "grupo_bairro['Valor'].mean().round(2)"
      ],
      "execution_count": null,
      "outputs": [
        {
          "output_type": "execute_result",
          "data": {
            "text/plain": [
              "Bairro\n",
              "Barra da Tijuca    7069.55\n",
              "Botafogo           8791.83\n",
              "Copacabana         4126.68\n",
              "Flamengo           4113.53\n",
              "Ipanema            9352.00\n",
              "Leblon             8746.34\n",
              "Tijuca             2043.52\n",
              "Name: Valor, dtype: float64"
            ]
          },
          "metadata": {
            "tags": []
          },
          "execution_count": 74
        }
      ]
    },
    {
      "cell_type": "code",
      "metadata": {
        "colab": {
          "base_uri": "https://localhost:8080/",
          "height": 297
        },
        "id": "9GjB6uxp0Odr",
        "outputId": "ad129562-2bb1-4bc9-ae3c-8b7854c85c62"
      },
      "source": [
        "grupo_bairro[['Valor', 'Condominio']].mean().round(2)"
      ],
      "execution_count": null,
      "outputs": [
        {
          "output_type": "execute_result",
          "data": {
            "text/html": [
              "<div>\n",
              "<style scoped>\n",
              "    .dataframe tbody tr th:only-of-type {\n",
              "        vertical-align: middle;\n",
              "    }\n",
              "\n",
              "    .dataframe tbody tr th {\n",
              "        vertical-align: top;\n",
              "    }\n",
              "\n",
              "    .dataframe thead th {\n",
              "        text-align: right;\n",
              "    }\n",
              "</style>\n",
              "<table border=\"1\" class=\"dataframe\">\n",
              "  <thead>\n",
              "    <tr style=\"text-align: right;\">\n",
              "      <th></th>\n",
              "      <th>Valor</th>\n",
              "      <th>Condominio</th>\n",
              "    </tr>\n",
              "    <tr>\n",
              "      <th>Bairro</th>\n",
              "      <th></th>\n",
              "      <th></th>\n",
              "    </tr>\n",
              "  </thead>\n",
              "  <tbody>\n",
              "    <tr>\n",
              "      <th>Barra da Tijuca</th>\n",
              "      <td>7069.55</td>\n",
              "      <td>3591.01</td>\n",
              "    </tr>\n",
              "    <tr>\n",
              "      <th>Botafogo</th>\n",
              "      <td>8791.83</td>\n",
              "      <td>976.28</td>\n",
              "    </tr>\n",
              "    <tr>\n",
              "      <th>Copacabana</th>\n",
              "      <td>4126.68</td>\n",
              "      <td>1148.68</td>\n",
              "    </tr>\n",
              "    <tr>\n",
              "      <th>Flamengo</th>\n",
              "      <td>4113.53</td>\n",
              "      <td>1102.15</td>\n",
              "    </tr>\n",
              "    <tr>\n",
              "      <th>Ipanema</th>\n",
              "      <td>9352.00</td>\n",
              "      <td>2244.44</td>\n",
              "    </tr>\n",
              "    <tr>\n",
              "      <th>Leblon</th>\n",
              "      <td>8746.34</td>\n",
              "      <td>2107.18</td>\n",
              "    </tr>\n",
              "    <tr>\n",
              "      <th>Tijuca</th>\n",
              "      <td>2043.52</td>\n",
              "      <td>711.69</td>\n",
              "    </tr>\n",
              "  </tbody>\n",
              "</table>\n",
              "</div>"
            ],
            "text/plain": [
              "                   Valor  Condominio\n",
              "Bairro                              \n",
              "Barra da Tijuca  7069.55     3591.01\n",
              "Botafogo         8791.83      976.28\n",
              "Copacabana       4126.68     1148.68\n",
              "Flamengo         4113.53     1102.15\n",
              "Ipanema          9352.00     2244.44\n",
              "Leblon           8746.34     2107.18\n",
              "Tijuca           2043.52      711.69"
            ]
          },
          "metadata": {
            "tags": []
          },
          "execution_count": 75
        }
      ]
    },
    {
      "cell_type": "markdown",
      "metadata": {
        "id": "bMaFRxCf03IX"
      },
      "source": [
        "###Estatísticas Descritivas"
      ]
    },
    {
      "cell_type": "markdown",
      "metadata": {
        "id": "ogPHQubn2mf2"
      },
      "source": [
        "**Fazendo para alguns bairros**"
      ]
    },
    {
      "cell_type": "code",
      "metadata": {
        "colab": {
          "base_uri": "https://localhost:8080/",
          "height": 297
        },
        "id": "jOBxgy5u0b9y",
        "outputId": "cd6a9790-2c10-48f2-be04-bdd775c12cd6"
      },
      "source": [
        "grupo_bairro['Valor'].describe().round(2)"
      ],
      "execution_count": null,
      "outputs": [
        {
          "output_type": "execute_result",
          "data": {
            "text/html": [
              "<div>\n",
              "<style scoped>\n",
              "    .dataframe tbody tr th:only-of-type {\n",
              "        vertical-align: middle;\n",
              "    }\n",
              "\n",
              "    .dataframe tbody tr th {\n",
              "        vertical-align: top;\n",
              "    }\n",
              "\n",
              "    .dataframe thead th {\n",
              "        text-align: right;\n",
              "    }\n",
              "</style>\n",
              "<table border=\"1\" class=\"dataframe\">\n",
              "  <thead>\n",
              "    <tr style=\"text-align: right;\">\n",
              "      <th></th>\n",
              "      <th>count</th>\n",
              "      <th>mean</th>\n",
              "      <th>std</th>\n",
              "      <th>min</th>\n",
              "      <th>25%</th>\n",
              "      <th>50%</th>\n",
              "      <th>75%</th>\n",
              "      <th>max</th>\n",
              "    </tr>\n",
              "    <tr>\n",
              "      <th>Bairro</th>\n",
              "      <th></th>\n",
              "      <th></th>\n",
              "      <th></th>\n",
              "      <th></th>\n",
              "      <th></th>\n",
              "      <th></th>\n",
              "      <th></th>\n",
              "      <th></th>\n",
              "    </tr>\n",
              "  </thead>\n",
              "  <tbody>\n",
              "    <tr>\n",
              "      <th>Barra da Tijuca</th>\n",
              "      <td>3863.0</td>\n",
              "      <td>7069.55</td>\n",
              "      <td>11874.15</td>\n",
              "      <td>800.0</td>\n",
              "      <td>2500.0</td>\n",
              "      <td>4500.0</td>\n",
              "      <td>8500.0</td>\n",
              "      <td>600000.0</td>\n",
              "    </tr>\n",
              "    <tr>\n",
              "      <th>Botafogo</th>\n",
              "      <td>873.0</td>\n",
              "      <td>8791.83</td>\n",
              "      <td>152202.41</td>\n",
              "      <td>700.0</td>\n",
              "      <td>2200.0</td>\n",
              "      <td>3000.0</td>\n",
              "      <td>4350.0</td>\n",
              "      <td>4500000.0</td>\n",
              "    </tr>\n",
              "    <tr>\n",
              "      <th>Copacabana</th>\n",
              "      <td>2644.0</td>\n",
              "      <td>4126.68</td>\n",
              "      <td>3611.41</td>\n",
              "      <td>100.0</td>\n",
              "      <td>2000.0</td>\n",
              "      <td>3000.0</td>\n",
              "      <td>4800.0</td>\n",
              "      <td>35000.0</td>\n",
              "    </tr>\n",
              "    <tr>\n",
              "      <th>Flamengo</th>\n",
              "      <td>714.0</td>\n",
              "      <td>4113.53</td>\n",
              "      <td>3839.13</td>\n",
              "      <td>800.0</td>\n",
              "      <td>1900.0</td>\n",
              "      <td>2900.0</td>\n",
              "      <td>4975.0</td>\n",
              "      <td>35000.0</td>\n",
              "    </tr>\n",
              "    <tr>\n",
              "      <th>Ipanema</th>\n",
              "      <td>1764.0</td>\n",
              "      <td>9352.00</td>\n",
              "      <td>8219.72</td>\n",
              "      <td>1200.0</td>\n",
              "      <td>4500.0</td>\n",
              "      <td>7000.0</td>\n",
              "      <td>11000.0</td>\n",
              "      <td>90000.0</td>\n",
              "    </tr>\n",
              "    <tr>\n",
              "      <th>Leblon</th>\n",
              "      <td>1258.0</td>\n",
              "      <td>8746.34</td>\n",
              "      <td>7004.04</td>\n",
              "      <td>100.0</td>\n",
              "      <td>4500.0</td>\n",
              "      <td>7000.0</td>\n",
              "      <td>10500.0</td>\n",
              "      <td>100000.0</td>\n",
              "    </tr>\n",
              "    <tr>\n",
              "      <th>Tijuca</th>\n",
              "      <td>1100.0</td>\n",
              "      <td>2043.52</td>\n",
              "      <td>1664.34</td>\n",
              "      <td>750.0</td>\n",
              "      <td>1500.0</td>\n",
              "      <td>1800.0</td>\n",
              "      <td>2300.0</td>\n",
              "      <td>45000.0</td>\n",
              "    </tr>\n",
              "  </tbody>\n",
              "</table>\n",
              "</div>"
            ],
            "text/plain": [
              "                  count     mean        std  ...     50%      75%        max\n",
              "Bairro                                       ...                            \n",
              "Barra da Tijuca  3863.0  7069.55   11874.15  ...  4500.0   8500.0   600000.0\n",
              "Botafogo          873.0  8791.83  152202.41  ...  3000.0   4350.0  4500000.0\n",
              "Copacabana       2644.0  4126.68    3611.41  ...  3000.0   4800.0    35000.0\n",
              "Flamengo          714.0  4113.53    3839.13  ...  2900.0   4975.0    35000.0\n",
              "Ipanema          1764.0  9352.00    8219.72  ...  7000.0  11000.0    90000.0\n",
              "Leblon           1258.0  8746.34    7004.04  ...  7000.0  10500.0   100000.0\n",
              "Tijuca           1100.0  2043.52    1664.34  ...  1800.0   2300.0    45000.0\n",
              "\n",
              "[7 rows x 8 columns]"
            ]
          },
          "metadata": {
            "tags": []
          },
          "execution_count": 76
        }
      ]
    },
    {
      "cell_type": "markdown",
      "metadata": {
        "id": "2_ZZ5Byl1VRf"
      },
      "source": [
        "Rapidamente perceberemos alguns problemas: percebmos que o desvio padrão(std) apresenta uma variação muito grande no caso de Botafogo, o mesmo ocorre para Barra da Tijuca. No caso de valor máximo, perceberemos valores estranhos também; segundo a tabela, existem imóveis disponíveis em Botafogo com a locação de 4500000.0."
      ]
    },
    {
      "cell_type": "code",
      "metadata": {
        "colab": {
          "base_uri": "https://localhost:8080/",
          "height": 297
        },
        "id": "hENAj6Zr09Dr",
        "outputId": "56552528-f7c9-4748-9c1b-3a3b538630d0"
      },
      "source": [
        "grupo_bairro['Valor'].aggregate(['min', 'max']).rename(columns = {'min': 'Mínimo',\n",
        "                                                                         'max': 'Máximo'})"
      ],
      "execution_count": null,
      "outputs": [
        {
          "output_type": "execute_result",
          "data": {
            "text/html": [
              "<div>\n",
              "<style scoped>\n",
              "    .dataframe tbody tr th:only-of-type {\n",
              "        vertical-align: middle;\n",
              "    }\n",
              "\n",
              "    .dataframe tbody tr th {\n",
              "        vertical-align: top;\n",
              "    }\n",
              "\n",
              "    .dataframe thead th {\n",
              "        text-align: right;\n",
              "    }\n",
              "</style>\n",
              "<table border=\"1\" class=\"dataframe\">\n",
              "  <thead>\n",
              "    <tr style=\"text-align: right;\">\n",
              "      <th></th>\n",
              "      <th>Mínimo</th>\n",
              "      <th>Máximo</th>\n",
              "    </tr>\n",
              "    <tr>\n",
              "      <th>Bairro</th>\n",
              "      <th></th>\n",
              "      <th></th>\n",
              "    </tr>\n",
              "  </thead>\n",
              "  <tbody>\n",
              "    <tr>\n",
              "      <th>Barra da Tijuca</th>\n",
              "      <td>800.0</td>\n",
              "      <td>600000.0</td>\n",
              "    </tr>\n",
              "    <tr>\n",
              "      <th>Botafogo</th>\n",
              "      <td>700.0</td>\n",
              "      <td>4500000.0</td>\n",
              "    </tr>\n",
              "    <tr>\n",
              "      <th>Copacabana</th>\n",
              "      <td>100.0</td>\n",
              "      <td>35000.0</td>\n",
              "    </tr>\n",
              "    <tr>\n",
              "      <th>Flamengo</th>\n",
              "      <td>800.0</td>\n",
              "      <td>35000.0</td>\n",
              "    </tr>\n",
              "    <tr>\n",
              "      <th>Ipanema</th>\n",
              "      <td>1200.0</td>\n",
              "      <td>90000.0</td>\n",
              "    </tr>\n",
              "    <tr>\n",
              "      <th>Leblon</th>\n",
              "      <td>100.0</td>\n",
              "      <td>100000.0</td>\n",
              "    </tr>\n",
              "    <tr>\n",
              "      <th>Tijuca</th>\n",
              "      <td>750.0</td>\n",
              "      <td>45000.0</td>\n",
              "    </tr>\n",
              "  </tbody>\n",
              "</table>\n",
              "</div>"
            ],
            "text/plain": [
              "                 Mínimo     Máximo\n",
              "Bairro                            \n",
              "Barra da Tijuca   800.0   600000.0\n",
              "Botafogo          700.0  4500000.0\n",
              "Copacabana        100.0    35000.0\n",
              "Flamengo          800.0    35000.0\n",
              "Ipanema          1200.0    90000.0\n",
              "Leblon            100.0   100000.0\n",
              "Tijuca            750.0    45000.0"
            ]
          },
          "metadata": {
            "tags": []
          },
          "execution_count": 77
        }
      ]
    },
    {
      "cell_type": "markdown",
      "metadata": {
        "id": "94W2A1HW2pc3"
      },
      "source": [
        "**Fazendo para todos os bairros**"
      ]
    },
    {
      "cell_type": "code",
      "metadata": {
        "colab": {
          "base_uri": "https://localhost:8080/"
        },
        "id": "J2F31_NF2Rpg",
        "outputId": "afb0d5e4-8a7e-4d72-8837-89095a28eb09"
      },
      "source": [
        "dados_agrupamento = dados.groupby(by='Bairro')\n",
        "dados_agrupamento"
      ],
      "execution_count": null,
      "outputs": [
        {
          "output_type": "execute_result",
          "data": {
            "text/plain": [
              "<pandas.core.groupby.generic.DataFrameGroupBy object at 0x7f259e3ab250>"
            ]
          },
          "metadata": {
            "tags": []
          },
          "execution_count": 78
        }
      ]
    },
    {
      "cell_type": "code",
      "metadata": {
        "colab": {
          "base_uri": "https://localhost:8080/",
          "height": 450
        },
        "id": "tuVqTRur2Fhv",
        "outputId": "2f2b877c-b5e4-4b01-e18b-9d6394bb14ad"
      },
      "source": [
        "dados_agrupamento['Valor'].describe().round(2)"
      ],
      "execution_count": null,
      "outputs": [
        {
          "output_type": "execute_result",
          "data": {
            "text/html": [
              "<div>\n",
              "<style scoped>\n",
              "    .dataframe tbody tr th:only-of-type {\n",
              "        vertical-align: middle;\n",
              "    }\n",
              "\n",
              "    .dataframe tbody tr th {\n",
              "        vertical-align: top;\n",
              "    }\n",
              "\n",
              "    .dataframe thead th {\n",
              "        text-align: right;\n",
              "    }\n",
              "</style>\n",
              "<table border=\"1\" class=\"dataframe\">\n",
              "  <thead>\n",
              "    <tr style=\"text-align: right;\">\n",
              "      <th></th>\n",
              "      <th>count</th>\n",
              "      <th>mean</th>\n",
              "      <th>std</th>\n",
              "      <th>min</th>\n",
              "      <th>25%</th>\n",
              "      <th>50%</th>\n",
              "      <th>75%</th>\n",
              "      <th>max</th>\n",
              "    </tr>\n",
              "    <tr>\n",
              "      <th>Bairro</th>\n",
              "      <th></th>\n",
              "      <th></th>\n",
              "      <th></th>\n",
              "      <th></th>\n",
              "      <th></th>\n",
              "      <th></th>\n",
              "      <th></th>\n",
              "      <th></th>\n",
              "    </tr>\n",
              "  </thead>\n",
              "  <tbody>\n",
              "    <tr>\n",
              "      <th>Abolição</th>\n",
              "      <td>15.0</td>\n",
              "      <td>1195.33</td>\n",
              "      <td>425.32</td>\n",
              "      <td>800.0</td>\n",
              "      <td>900.0</td>\n",
              "      <td>1180.0</td>\n",
              "      <td>1200.0</td>\n",
              "      <td>2300.0</td>\n",
              "    </tr>\n",
              "    <tr>\n",
              "      <th>Alto da Boa Vista</th>\n",
              "      <td>6.0</td>\n",
              "      <td>3966.67</td>\n",
              "      <td>5513.59</td>\n",
              "      <td>600.0</td>\n",
              "      <td>1150.0</td>\n",
              "      <td>1725.0</td>\n",
              "      <td>3275.0</td>\n",
              "      <td>15000.0</td>\n",
              "    </tr>\n",
              "    <tr>\n",
              "      <th>Anchieta</th>\n",
              "      <td>4.0</td>\n",
              "      <td>875.00</td>\n",
              "      <td>132.29</td>\n",
              "      <td>700.0</td>\n",
              "      <td>812.5</td>\n",
              "      <td>900.0</td>\n",
              "      <td>962.5</td>\n",
              "      <td>1000.0</td>\n",
              "    </tr>\n",
              "    <tr>\n",
              "      <th>Andaraí</th>\n",
              "      <td>97.0</td>\n",
              "      <td>1464.71</td>\n",
              "      <td>408.11</td>\n",
              "      <td>700.0</td>\n",
              "      <td>1200.0</td>\n",
              "      <td>1400.0</td>\n",
              "      <td>1650.0</td>\n",
              "      <td>2950.0</td>\n",
              "    </tr>\n",
              "    <tr>\n",
              "      <th>Anil</th>\n",
              "      <td>71.0</td>\n",
              "      <td>2048.87</td>\n",
              "      <td>1523.97</td>\n",
              "      <td>300.0</td>\n",
              "      <td>1100.0</td>\n",
              "      <td>1500.0</td>\n",
              "      <td>2675.0</td>\n",
              "      <td>7000.0</td>\n",
              "    </tr>\n",
              "    <tr>\n",
              "      <th>...</th>\n",
              "      <td>...</td>\n",
              "      <td>...</td>\n",
              "      <td>...</td>\n",
              "      <td>...</td>\n",
              "      <td>...</td>\n",
              "      <td>...</td>\n",
              "      <td>...</td>\n",
              "      <td>...</td>\n",
              "    </tr>\n",
              "    <tr>\n",
              "      <th>Vila Valqueire</th>\n",
              "      <td>48.0</td>\n",
              "      <td>1769.58</td>\n",
              "      <td>2203.01</td>\n",
              "      <td>800.0</td>\n",
              "      <td>1000.0</td>\n",
              "      <td>1250.0</td>\n",
              "      <td>1700.0</td>\n",
              "      <td>16000.0</td>\n",
              "    </tr>\n",
              "    <tr>\n",
              "      <th>Vila da Penha</th>\n",
              "      <td>104.0</td>\n",
              "      <td>1260.58</td>\n",
              "      <td>644.66</td>\n",
              "      <td>450.0</td>\n",
              "      <td>900.0</td>\n",
              "      <td>1100.0</td>\n",
              "      <td>1302.5</td>\n",
              "      <td>4500.0</td>\n",
              "    </tr>\n",
              "    <tr>\n",
              "      <th>Vista Alegre</th>\n",
              "      <td>16.0</td>\n",
              "      <td>1114.38</td>\n",
              "      <td>199.60</td>\n",
              "      <td>700.0</td>\n",
              "      <td>1012.5</td>\n",
              "      <td>1200.0</td>\n",
              "      <td>1225.0</td>\n",
              "      <td>1400.0</td>\n",
              "    </tr>\n",
              "    <tr>\n",
              "      <th>Zumbi</th>\n",
              "      <td>2.0</td>\n",
              "      <td>2150.00</td>\n",
              "      <td>777.82</td>\n",
              "      <td>1600.0</td>\n",
              "      <td>1875.0</td>\n",
              "      <td>2150.0</td>\n",
              "      <td>2425.0</td>\n",
              "      <td>2700.0</td>\n",
              "    </tr>\n",
              "    <tr>\n",
              "      <th>Água Santa</th>\n",
              "      <td>9.0</td>\n",
              "      <td>861.11</td>\n",
              "      <td>174.60</td>\n",
              "      <td>600.0</td>\n",
              "      <td>800.0</td>\n",
              "      <td>850.0</td>\n",
              "      <td>950.0</td>\n",
              "      <td>1200.0</td>\n",
              "    </tr>\n",
              "  </tbody>\n",
              "</table>\n",
              "<p>152 rows × 8 columns</p>\n",
              "</div>"
            ],
            "text/plain": [
              "                   count     mean      std  ...     50%     75%      max\n",
              "Bairro                                      ...                         \n",
              "Abolição            15.0  1195.33   425.32  ...  1180.0  1200.0   2300.0\n",
              "Alto da Boa Vista    6.0  3966.67  5513.59  ...  1725.0  3275.0  15000.0\n",
              "Anchieta             4.0   875.00   132.29  ...   900.0   962.5   1000.0\n",
              "Andaraí             97.0  1464.71   408.11  ...  1400.0  1650.0   2950.0\n",
              "Anil                71.0  2048.87  1523.97  ...  1500.0  2675.0   7000.0\n",
              "...                  ...      ...      ...  ...     ...     ...      ...\n",
              "Vila Valqueire      48.0  1769.58  2203.01  ...  1250.0  1700.0  16000.0\n",
              "Vila da Penha      104.0  1260.58   644.66  ...  1100.0  1302.5   4500.0\n",
              "Vista Alegre        16.0  1114.38   199.60  ...  1200.0  1225.0   1400.0\n",
              "Zumbi                2.0  2150.00   777.82  ...  2150.0  2425.0   2700.0\n",
              "Água Santa           9.0   861.11   174.60  ...   850.0   950.0   1200.0\n",
              "\n",
              "[152 rows x 8 columns]"
            ]
          },
          "metadata": {
            "tags": []
          },
          "execution_count": 79
        }
      ]
    },
    {
      "cell_type": "code",
      "metadata": {
        "colab": {
          "base_uri": "https://localhost:8080/",
          "height": 450
        },
        "id": "FLaqqQX51oUL",
        "outputId": "e2015c1b-79ac-4576-caa2-85a2b1aa560b"
      },
      "source": [
        "dados_agrupamento['Valor'].aggregate(['min', 'max']).rename(columns = {'min': 'Mínimo',\n",
        "                                                                         'max': 'Máximo'})"
      ],
      "execution_count": null,
      "outputs": [
        {
          "output_type": "execute_result",
          "data": {
            "text/html": [
              "<div>\n",
              "<style scoped>\n",
              "    .dataframe tbody tr th:only-of-type {\n",
              "        vertical-align: middle;\n",
              "    }\n",
              "\n",
              "    .dataframe tbody tr th {\n",
              "        vertical-align: top;\n",
              "    }\n",
              "\n",
              "    .dataframe thead th {\n",
              "        text-align: right;\n",
              "    }\n",
              "</style>\n",
              "<table border=\"1\" class=\"dataframe\">\n",
              "  <thead>\n",
              "    <tr style=\"text-align: right;\">\n",
              "      <th></th>\n",
              "      <th>Mínimo</th>\n",
              "      <th>Máximo</th>\n",
              "    </tr>\n",
              "    <tr>\n",
              "      <th>Bairro</th>\n",
              "      <th></th>\n",
              "      <th></th>\n",
              "    </tr>\n",
              "  </thead>\n",
              "  <tbody>\n",
              "    <tr>\n",
              "      <th>Abolição</th>\n",
              "      <td>800.0</td>\n",
              "      <td>2300.0</td>\n",
              "    </tr>\n",
              "    <tr>\n",
              "      <th>Alto da Boa Vista</th>\n",
              "      <td>600.0</td>\n",
              "      <td>15000.0</td>\n",
              "    </tr>\n",
              "    <tr>\n",
              "      <th>Anchieta</th>\n",
              "      <td>700.0</td>\n",
              "      <td>1000.0</td>\n",
              "    </tr>\n",
              "    <tr>\n",
              "      <th>Andaraí</th>\n",
              "      <td>700.0</td>\n",
              "      <td>2950.0</td>\n",
              "    </tr>\n",
              "    <tr>\n",
              "      <th>Anil</th>\n",
              "      <td>300.0</td>\n",
              "      <td>7000.0</td>\n",
              "    </tr>\n",
              "    <tr>\n",
              "      <th>...</th>\n",
              "      <td>...</td>\n",
              "      <td>...</td>\n",
              "    </tr>\n",
              "    <tr>\n",
              "      <th>Vila Valqueire</th>\n",
              "      <td>800.0</td>\n",
              "      <td>16000.0</td>\n",
              "    </tr>\n",
              "    <tr>\n",
              "      <th>Vila da Penha</th>\n",
              "      <td>450.0</td>\n",
              "      <td>4500.0</td>\n",
              "    </tr>\n",
              "    <tr>\n",
              "      <th>Vista Alegre</th>\n",
              "      <td>700.0</td>\n",
              "      <td>1400.0</td>\n",
              "    </tr>\n",
              "    <tr>\n",
              "      <th>Zumbi</th>\n",
              "      <td>1600.0</td>\n",
              "      <td>2700.0</td>\n",
              "    </tr>\n",
              "    <tr>\n",
              "      <th>Água Santa</th>\n",
              "      <td>600.0</td>\n",
              "      <td>1200.0</td>\n",
              "    </tr>\n",
              "  </tbody>\n",
              "</table>\n",
              "<p>152 rows × 2 columns</p>\n",
              "</div>"
            ],
            "text/plain": [
              "                   Mínimo   Máximo\n",
              "Bairro                            \n",
              "Abolição            800.0   2300.0\n",
              "Alto da Boa Vista   600.0  15000.0\n",
              "Anchieta            700.0   1000.0\n",
              "Andaraí             700.0   2950.0\n",
              "Anil                300.0   7000.0\n",
              "...                   ...      ...\n",
              "Vila Valqueire      800.0  16000.0\n",
              "Vila da Penha       450.0   4500.0\n",
              "Vista Alegre        700.0   1400.0\n",
              "Zumbi              1600.0   2700.0\n",
              "Água Santa          600.0   1200.0\n",
              "\n",
              "[152 rows x 2 columns]"
            ]
          },
          "metadata": {
            "tags": []
          },
          "execution_count": 80
        }
      ]
    },
    {
      "cell_type": "markdown",
      "metadata": {
        "id": "NayuXG-Z2so3"
      },
      "source": [
        "Observe que, fazendo para todos os bairros, a visualização não fica muito boa. Note que só percebemos valores estranhos, mais precisamente, quando estávamos analisando poucos bairros.\n",
        "\n",
        "Para facilitar, podemos fazer análises gráficas!"
      ]
    },
    {
      "cell_type": "markdown",
      "metadata": {
        "id": "ScaBRkLh3GSO"
      },
      "source": [
        "**Fazendo análises gráficas**"
      ]
    },
    {
      "cell_type": "markdown",
      "metadata": {
        "id": "xh0fKNeW3It2"
      },
      "source": [
        "Para isso, usaremos a biblioteca maplotlib"
      ]
    },
    {
      "cell_type": "code",
      "metadata": {
        "id": "b96IMgIl2kdr"
      },
      "source": [
        "%matplotlib inline\n",
        "import matplotlib.pyplot as plt\n",
        "plt.rc('figure', figsize=(20,10))"
      ],
      "execution_count": null,
      "outputs": []
    },
    {
      "cell_type": "markdown",
      "metadata": {
        "id": "SjtzCpxG4FIe"
      },
      "source": [
        "Para todos os bairros"
      ]
    },
    {
      "cell_type": "code",
      "metadata": {
        "colab": {
          "base_uri": "https://localhost:8080/",
          "height": 748
        },
        "id": "0Z34zPf03N2Y",
        "outputId": "5e5f48a6-a877-4420-fb08-b233be66eb0f"
      },
      "source": [
        "fig = dados_agrupamento['Valor'].mean().plot.bar(color='blue')\n",
        "fig.set_ylabel('Valor Médio do Aluguel')\n",
        "fig.set_xlabel('Bairro')\n",
        "fig.set_title('Valor Médio do Aluguel por Bairro', {'fontsize': 22})"
      ],
      "execution_count": null,
      "outputs": [
        {
          "output_type": "execute_result",
          "data": {
            "text/plain": [
              "Text(0.5, 1.0, 'Valor Médio do Aluguel por Bairro')"
            ]
          },
          "metadata": {
            "tags": []
          },
          "execution_count": 82
        },
        {
          "output_type": "display_data",
          "data": {
            "image/png": "[encoded data removed]",
            "text/plain": [
              "<Figure size 1440x720 with 1 Axes>"
            ]
          },
          "metadata": {
            "tags": [],
            "needs_background": "light"
          }
        }
      ]
    },
    {
      "cell_type": "code",
      "metadata": {
        "colab": {
          "base_uri": "https://localhost:8080/",
          "height": 763
        },
        "id": "R2zeEfLB6_-z",
        "outputId": "f40d896c-3759-4b8d-b6e9-88c56051148b"
      },
      "source": [
        "fig = dados_agrupamento['Valor'].max().plot.bar(color='blue')\n",
        "fig.set_ylabel('Valor Máximo do Aluguel')\n",
        "fig.set_xlabel('Bairro')\n",
        "fig.set_title('Valor Máximo do Aluguel por Bairro', {'fontsize': 22})"
      ],
      "execution_count": null,
      "outputs": [
        {
          "output_type": "execute_result",
          "data": {
            "text/plain": [
              "Text(0.5, 1.0, 'Valor Máximo do Aluguel por Bairro')"
            ]
          },
          "metadata": {
            "tags": []
          },
          "execution_count": 83
        },
        {
          "output_type": "display_data",
          "data": {
            "image/png": "[encoded data removed]",
            "text/plain": [
              "<Figure size 1440x720 with 1 Axes>"
            ]
          },
          "metadata": {
            "tags": [],
            "needs_background": "light"
          }
        }
      ]
    },
    {
      "cell_type": "markdown",
      "metadata": {
        "id": "ru0ahhQL7Fc8"
      },
      "source": [
        "Vendo o valor máximo, principalmente, conseguimos notar alguns valores atípicos em alguns bairros, em especial, o bairro Botafogo (que já tínhamos visto no describe())."
      ]
    },
    {
      "cell_type": "markdown",
      "metadata": {
        "id": "rLv2YORy4G8N"
      },
      "source": [
        "Para apenas alguns bairros"
      ]
    },
    {
      "cell_type": "code",
      "metadata": {
        "colab": {
          "base_uri": "https://localhost:8080/",
          "height": 677
        },
        "id": "MIe2ORkk3hzi",
        "outputId": "ae73c6d4-7c76-4394-983d-b54d9a8ab39f"
      },
      "source": [
        "fig = grupo_bairro['Valor'].mean().plot.bar(color='blue')\n",
        "fig.set_ylabel('Valor Médio do Aluguel')\n",
        "fig.set_xlabel('Bairro')\n",
        "fig.set_title('Valor Médio do Aluguel por Bairro', {'fontsize': 22})"
      ],
      "execution_count": null,
      "outputs": [
        {
          "output_type": "execute_result",
          "data": {
            "text/plain": [
              "Text(0.5, 1.0, 'Valor Médio do Aluguel por Bairro')"
            ]
          },
          "metadata": {
            "tags": []
          },
          "execution_count": 84
        },
        {
          "output_type": "display_data",
          "data": {
            "image/png": "[encoded data removed]",
            "text/plain": [
              "<Figure size 1440x720 with 1 Axes>"
            ]
          },
          "metadata": {
            "tags": [],
            "needs_background": "light"
          }
        }
      ]
    },
    {
      "cell_type": "code",
      "metadata": {
        "colab": {
          "base_uri": "https://localhost:8080/",
          "height": 688
        },
        "id": "kggaOd5A4L0y",
        "outputId": "6e53eb69-3a4a-48b6-ac8f-84562b03ff19"
      },
      "source": [
        "fig = grupo_bairro['Valor'].max().plot.bar(color='blue')\n",
        "fig.set_ylabel('Valor Máximo do Aluguel')\n",
        "fig.set_xlabel('Bairro')\n",
        "fig.set_title('Valor Máximo do Aluguel por Bairro', {'fontsize': 22})"
      ],
      "execution_count": null,
      "outputs": [
        {
          "output_type": "execute_result",
          "data": {
            "text/plain": [
              "Text(0.5, 1.0, 'Valor Máximo do Aluguel por Bairro')"
            ]
          },
          "metadata": {
            "tags": []
          },
          "execution_count": 85
        },
        {
          "output_type": "display_data",
          "data": {
            "image/png": "[encoded data removed]",
            "text/plain": [
              "<Figure size 1440x720 with 1 Axes>"
            ]
          },
          "metadata": {
            "tags": [],
            "needs_background": "light"
          }
        }
      ]
    },
    {
      "cell_type": "markdown",
      "metadata": {
        "id": "asCBPNjK7cWu"
      },
      "source": [
        "Vendo o valor máximo, principalmente, conseguimos notar alguns valores atípicos em alguns bairros, em especial, o bairro Botafogo (que já tínhamos visto no describe())."
      ]
    },
    {
      "cell_type": "markdown",
      "metadata": {
        "id": "Nu0i-lLB6U8V"
      },
      "source": [
        "###Identificando e Removendo Outliers"
      ]
    },
    {
      "cell_type": "markdown",
      "metadata": {
        "id": "CuDFVfIL6ajB"
      },
      "source": [
        "![image.png](data:image/png;base64,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)"
      ]
    },
    {
      "cell_type": "markdown",
      "metadata": {
        "id": "Gjy1aQ-26t9G"
      },
      "source": [
        "O Box-plot possui a seguinte configuração: temos uma mediana, em que dividimos os dados em 50%, para a direita e esquerda, igualmente. Teremos o Q1, que se refere ao primeiro quartil e parte em 25% e 75%, já o Q3 parte os dados em 75% e 25%. A diferente entre Q3 e Q1 gera o intervalo interquartirico, isto é, as estatísticas que geraremos para realizar o corte de outliers."
      ]
    },
    {
      "cell_type": "code",
      "metadata": {
        "id": "6FeGBJMH66hU"
      },
      "source": [
        "plt.rc('figure', figsize = (14,6))"
      ],
      "execution_count": null,
      "outputs": []
    },
    {
      "cell_type": "markdown",
      "metadata": {
        "id": "C1dJaZx19YxA"
      },
      "source": [
        "**Gerando o boxplot da variável *Valor* do *DataFrame* dados**"
      ]
    },
    {
      "cell_type": "code",
      "metadata": {
        "id": "QAPWXSVs7Xcx",
        "colab": {
          "base_uri": "https://localhost:8080/",
          "height": 402
        },
        "outputId": "2693795e-894d-4b99-d187-73c5310c7278"
      },
      "source": [
        "dados.boxplot(['Valor'])"
      ],
      "execution_count": null,
      "outputs": [
        {
          "output_type": "execute_result",
          "data": {
            "text/plain": [
              "<matplotlib.axes._subplots.AxesSubplot at 0x7f259737d7d0>"
            ]
          },
          "metadata": {
            "tags": []
          },
          "execution_count": 88
        },
        {
          "output_type": "display_data",
          "data": {
            "image/png": "[encoded data removed]",
            "text/plain": [
              "<Figure size 1008x432 with 1 Axes>"
            ]
          },
          "metadata": {
            "tags": [],
            "needs_background": "light"
          }
        }
      ]
    },
    {
      "cell_type": "markdown",
      "metadata": {
        "id": "eY4KVlPB9D6t"
      },
      "source": [
        "Foi gerado o box-plot, mas a visualização está comprometida, afinal ele está invertido e só vemos os dados discrepantes. \n",
        "\n",
        "Vejamos esses valores, realizando uma seleção no *DataFrame*."
      ]
    },
    {
      "cell_type": "code",
      "metadata": {
        "colab": {
          "base_uri": "https://localhost:8080/",
          "height": 204
        },
        "id": "kJoeiXnV60UJ",
        "outputId": "f9245122-24c1-4573-dbe4-b73b18df569a"
      },
      "source": [
        "dados[dados['Valor'] >= 500000]"
      ],
      "execution_count": null,
      "outputs": [
        {
          "output_type": "execute_result",
          "data": {
            "text/html": [
              "<div>\n",
              "<style scoped>\n",
              "    .dataframe tbody tr th:only-of-type {\n",
              "        vertical-align: middle;\n",
              "    }\n",
              "\n",
              "    .dataframe tbody tr th {\n",
              "        vertical-align: top;\n",
              "    }\n",
              "\n",
              "    .dataframe thead th {\n",
              "        text-align: right;\n",
              "    }\n",
              "</style>\n",
              "<table border=\"1\" class=\"dataframe\">\n",
              "  <thead>\n",
              "    <tr style=\"text-align: right;\">\n",
              "      <th></th>\n",
              "      <th>Tipo</th>\n",
              "      <th>Bairro</th>\n",
              "      <th>Quartos</th>\n",
              "      <th>Vagas</th>\n",
              "      <th>Suites</th>\n",
              "      <th>Area</th>\n",
              "      <th>Valor</th>\n",
              "      <th>Condominio</th>\n",
              "      <th>IPTU</th>\n",
              "      <th>Valor m2</th>\n",
              "      <th>Tipo Agregado</th>\n",
              "    </tr>\n",
              "  </thead>\n",
              "  <tbody>\n",
              "    <tr>\n",
              "      <th>7894</th>\n",
              "      <td>Apartamento</td>\n",
              "      <td>Barra da Tijuca</td>\n",
              "      <td>1</td>\n",
              "      <td>1</td>\n",
              "      <td>0</td>\n",
              "      <td>65</td>\n",
              "      <td>600000.0</td>\n",
              "      <td>980.0</td>\n",
              "      <td>120.0</td>\n",
              "      <td>9230.77</td>\n",
              "      <td>Apartamento</td>\n",
              "    </tr>\n",
              "    <tr>\n",
              "      <th>11013</th>\n",
              "      <td>Casa de Condomínio</td>\n",
              "      <td>Freguesia (Jacarepaguá)</td>\n",
              "      <td>4</td>\n",
              "      <td>2</td>\n",
              "      <td>3</td>\n",
              "      <td>163</td>\n",
              "      <td>800000.0</td>\n",
              "      <td>900.0</td>\n",
              "      <td>0.0</td>\n",
              "      <td>4907.98</td>\n",
              "      <td>Casa</td>\n",
              "    </tr>\n",
              "    <tr>\n",
              "      <th>13099</th>\n",
              "      <td>Apartamento</td>\n",
              "      <td>Freguesia (Jacarepaguá)</td>\n",
              "      <td>2</td>\n",
              "      <td>2</td>\n",
              "      <td>1</td>\n",
              "      <td>150</td>\n",
              "      <td>550000.0</td>\n",
              "      <td>850.0</td>\n",
              "      <td>150.0</td>\n",
              "      <td>3666.67</td>\n",
              "      <td>Apartamento</td>\n",
              "    </tr>\n",
              "    <tr>\n",
              "      <th>14325</th>\n",
              "      <td>Apartamento</td>\n",
              "      <td>Recreio dos Bandeirantes</td>\n",
              "      <td>3</td>\n",
              "      <td>2</td>\n",
              "      <td>1</td>\n",
              "      <td>167</td>\n",
              "      <td>1250000.0</td>\n",
              "      <td>1186.0</td>\n",
              "      <td>320.0</td>\n",
              "      <td>7485.03</td>\n",
              "      <td>Apartamento</td>\n",
              "    </tr>\n",
              "    <tr>\n",
              "      <th>16056</th>\n",
              "      <td>Apartamento</td>\n",
              "      <td>Botafogo</td>\n",
              "      <td>4</td>\n",
              "      <td>1</td>\n",
              "      <td>1</td>\n",
              "      <td>300</td>\n",
              "      <td>4500000.0</td>\n",
              "      <td>1100.0</td>\n",
              "      <td>0.0</td>\n",
              "      <td>15000.00</td>\n",
              "      <td>Apartamento</td>\n",
              "    </tr>\n",
              "  </tbody>\n",
              "</table>\n",
              "</div>"
            ],
            "text/plain": [
              "                     Tipo                    Bairro  ...  Valor m2  Tipo Agregado\n",
              "7894          Apartamento           Barra da Tijuca  ...   9230.77    Apartamento\n",
              "11013  Casa de Condomínio   Freguesia (Jacarepaguá)  ...   4907.98           Casa\n",
              "13099         Apartamento   Freguesia (Jacarepaguá)  ...   3666.67    Apartamento\n",
              "14325         Apartamento  Recreio dos Bandeirantes  ...   7485.03    Apartamento\n",
              "16056         Apartamento                  Botafogo  ...  15000.00    Apartamento\n",
              "\n",
              "[5 rows x 11 columns]"
            ]
          },
          "metadata": {
            "tags": []
          },
          "execution_count": 89
        }
      ]
    },
    {
      "cell_type": "markdown",
      "metadata": {
        "id": "XZNrIRFR7nSF"
      },
      "source": [
        "**Calculando os quartis**"
      ]
    },
    {
      "cell_type": "code",
      "metadata": {
        "id": "ay3kQ15n7IV6"
      },
      "source": [
        "valor = dados['Valor']"
      ],
      "execution_count": null,
      "outputs": []
    },
    {
      "cell_type": "code",
      "metadata": {
        "id": "edQrw8xy7abY"
      },
      "source": [
        "Q1 = valor.quantile(.25)\n",
        "Q3 = valor.quantile(.75)\n",
        "IIQ = Q3 - Q1\n",
        "limite_inferior = Q1 - 1.5*IIQ\n",
        "limite_superior = Q3 + 1.5*IIQ"
      ],
      "execution_count": null,
      "outputs": []
    },
    {
      "cell_type": "markdown",
      "metadata": {
        "id": "D3eTorwT8GVM"
      },
      "source": [
        "**Selecionando apenas os valores que estão dentro desses dois limites, limite inferior e limite superior**"
      ]
    },
    {
      "cell_type": "code",
      "metadata": {
        "id": "3keEJ8ox7-Ch"
      },
      "source": [
        "selecao = (valor >= limite_inferior) & (valor <= limite_superior)\n",
        "dados_novo = dados[selecao]"
      ],
      "execution_count": null,
      "outputs": []
    },
    {
      "cell_type": "code",
      "metadata": {
        "colab": {
          "base_uri": "https://localhost:8080/",
          "height": 391
        },
        "id": "Ea54qpwI8Xgo",
        "outputId": "e28a521f-9aa8-4bda-9b38-8cb37b0b61de"
      },
      "source": [
        "dados_novo.boxplot(['Valor'])"
      ],
      "execution_count": null,
      "outputs": [
        {
          "output_type": "execute_result",
          "data": {
            "text/plain": [
              "<matplotlib.axes._subplots.AxesSubplot at 0x7f259721c810>"
            ]
          },
          "metadata": {
            "tags": []
          },
          "execution_count": 93
        },
        {
          "output_type": "display_data",
          "data": {
            "image/png": "[encoded data removed]",
            "text/plain": [
              "<Figure size 1008x432 with 1 Axes>"
            ]
          },
          "metadata": {
            "tags": [],
            "needs_background": "light"
          }
        }
      ]
    },
    {
      "cell_type": "markdown",
      "metadata": {
        "id": "FgvM8HZy9s3N"
      },
      "source": [
        "Agora temos uma visualização muito mais interessante, e estamos trabalhando com novos dados, portanto outra medianas e quartis. Com isso, são elegidos novos valores como sendo discrepantes. Como cientistas de dados, devemos analisar essa informação atentamente. Nosso box-plot indica que temos dados discrepantes de 10000 de aluguel, mas em nosso banco de dados realmente existem imóveis de alto padrão que apresentam esse valor. É recomendado que se analise outras variáveis para chegar em um resultado mais preciso."
      ]
    },
    {
      "cell_type": "markdown",
      "metadata": {
        "id": "2rDoePHD96J_"
      },
      "source": [
        "**Gerando histogramas**"
      ]
    },
    {
      "cell_type": "markdown",
      "metadata": {
        "id": "7fvBQq-I99Y0"
      },
      "source": [
        "Tanto para o *DataFrame* dados, quanto para o *DataFrame* dados_novo, que possui os valores dentro dos limites calculados."
      ]
    },
    {
      "cell_type": "code",
      "metadata": {
        "colab": {
          "base_uri": "https://localhost:8080/",
          "height": 810
        },
        "id": "Tb_ws9yu8cpA",
        "outputId": "0fb65afe-54c6-4bde-a1b0-135b6e1b9186"
      },
      "source": [
        "dados.hist(['Valor'])\n",
        "dados_novo.hist(['Valor'])"
      ],
      "execution_count": null,
      "outputs": [
        {
          "output_type": "execute_result",
          "data": {
            "text/plain": [
              "array([[<matplotlib.axes._subplots.AxesSubplot object at 0x7f259712f310>]],\n",
              "      dtype=object)"
            ]
          },
          "metadata": {
            "tags": []
          },
          "execution_count": 94
        },
        {
          "output_type": "display_data",
          "data": {
            "image/png": "[encoded data removed]",
            "text/plain": [
              "<Figure size 1008x432 with 1 Axes>"
            ]
          },
          "metadata": {
            "tags": [],
            "needs_background": "light"
          }
        },
        {
          "output_type": "display_data",
          "data": {
            "image/png": "[encoded data removed]",
            "text/plain": [
              "<Figure size 1008x432 with 1 Axes>"
            ]
          },
          "metadata": {
            "tags": [],
            "needs_background": "light"
          }
        }
      ]
    },
    {
      "cell_type": "markdown",
      "metadata": {
        "id": "mRJzYvg5AcVN"
      },
      "source": [
        "**Usando a mesma metodologia de remoção de outliers feita anteriormente, agora desagrupando os dados e fazendo uma análise modular**"
      ]
    },
    {
      "cell_type": "code",
      "metadata": {
        "colab": {
          "base_uri": "https://localhost:8080/",
          "height": 491
        },
        "id": "3uofHXVy86A2",
        "outputId": "bda6a063-f07d-4635-c51a-dfd69fd6b63d"
      },
      "source": [
        "dados.boxplot(['Valor'], by=['Tipo'])"
      ],
      "execution_count": null,
      "outputs": [
        {
          "output_type": "stream",
          "text": [
            "/usr/local/lib/python3.7/dist-packages/numpy/core/_asarray.py:83: VisibleDeprecationWarning: Creating an ndarray from ragged nested sequences (which is a list-or-tuple of lists-or-tuples-or ndarrays with different lengths or shapes) is deprecated. If you meant to do this, you must specify 'dtype=object' when creating the ndarray\n",
            "  return array(a, dtype, copy=False, order=order)\n"
          ],
          "name": "stderr"
        },
        {
          "output_type": "execute_result",
          "data": {
            "text/plain": [
              "<matplotlib.axes._subplots.AxesSubplot at 0x7f259712f110>"
            ]
          },
          "metadata": {
            "tags": []
          },
          "execution_count": 96
        },
        {
          "output_type": "display_data",
          "data": {
            "image/png": "[encoded data removed]",
            "text/plain": [
              "<Figure size 1008x432 with 1 Axes>"
            ]
          },
          "metadata": {
            "tags": [],
            "needs_background": "light"
          }
        }
      ]
    },
    {
      "cell_type": "markdown",
      "metadata": {
        "id": "LCc8GVg2DVeZ"
      },
      "source": [
        "Obtivemos um box-plot pautado por tipo de imóvel, tais como apartamento, casa, casa de vila e assim por diante. Podemos ter informações discrepantes para um tipo de imóvel que não estão em outro, e isso pode atrapalhar nossa análise caso todos os dados sejam analisados de maneira conjunta. Temos comportamentos diferentes em cada tipo de imóvel, como locações caras para condomínios de alto padrão que nunca se aplicariam a uma quitinete."
      ]
    },
    {
      "cell_type": "markdown",
      "metadata": {
        "id": "BHVUWgwUDelc"
      },
      "source": [
        "Por esse motivo, vamos fazer uma análise por tipo de imóvel, analisando de forma independente a distribuição de cada tipo. Dessa forma, os valores de um tipo não afeta os outros tipos."
      ]
    },
    {
      "cell_type": "code",
      "metadata": {
        "colab": {
          "base_uri": "https://localhost:8080/"
        },
        "id": "rkiLnpnIAquE",
        "outputId": "fa81e6c0-4122-4103-9c35-2879dac50c27"
      },
      "source": [
        "grupo_tipo = dados.groupby('Tipo')['Valor']\n",
        "grupo_tipo"
      ],
      "execution_count": null,
      "outputs": [
        {
          "output_type": "execute_result",
          "data": {
            "text/plain": [
              "<pandas.core.groupby.generic.SeriesGroupBy object at 0x7f2596f27450>"
            ]
          },
          "metadata": {
            "tags": []
          },
          "execution_count": 99
        }
      ]
    },
    {
      "cell_type": "code",
      "metadata": {
        "id": "5ZXqxG2FA9vY"
      },
      "source": [
        "Q1 = grupo_tipo.quantile(.25)\n",
        "Q3 = grupo_tipo.quantile(.75)\n",
        "IIQ = Q3 - Q1\n",
        "limite_inferior = Q1 - 1.5*IIQ\n",
        "limite_superior = Q3 + 1.5*IIQ"
      ],
      "execution_count": null,
      "outputs": []
    },
    {
      "cell_type": "code",
      "metadata": {
        "colab": {
          "base_uri": "https://localhost:8080/"
        },
        "id": "6k_R6jToBQU4",
        "outputId": "2af026a4-5550-49bc-e46a-87a4cb589729"
      },
      "source": [
        "Q1"
      ],
      "execution_count": null,
      "outputs": [
        {
          "output_type": "execute_result",
          "data": {
            "text/plain": [
              "Tipo\n",
              "Apartamento           1700.0\n",
              "Casa                  1100.0\n",
              "Casa de Condomínio    4000.0\n",
              "Casa de Vila           750.0\n",
              "Quitinete              900.0\n",
              "Name: Valor, dtype: float64"
            ]
          },
          "metadata": {
            "tags": []
          },
          "execution_count": 101
        }
      ]
    },
    {
      "cell_type": "code",
      "metadata": {
        "colab": {
          "base_uri": "https://localhost:8080/"
        },
        "id": "fOIQ48ZDBRa4",
        "outputId": "62bde8fa-e9f9-4b50-e9ac-cc30ea87069f"
      },
      "source": [
        "Q3"
      ],
      "execution_count": null,
      "outputs": [
        {
          "output_type": "execute_result",
          "data": {
            "text/plain": [
              "Tipo\n",
              "Apartamento            5000.0\n",
              "Casa                   9800.0\n",
              "Casa de Condomínio    15250.0\n",
              "Casa de Vila           1800.0\n",
              "Quitinete              1500.0\n",
              "Name: Valor, dtype: float64"
            ]
          },
          "metadata": {
            "tags": []
          },
          "execution_count": 102
        }
      ]
    },
    {
      "cell_type": "code",
      "metadata": {
        "colab": {
          "base_uri": "https://localhost:8080/"
        },
        "id": "KxMFMRglBUtg",
        "outputId": "dcfb57d7-cbfb-4c29-88f0-b342415d1f64"
      },
      "source": [
        "IIQ"
      ],
      "execution_count": null,
      "outputs": [
        {
          "output_type": "execute_result",
          "data": {
            "text/plain": [
              "Tipo\n",
              "Apartamento            3300.0\n",
              "Casa                   8700.0\n",
              "Casa de Condomínio    11250.0\n",
              "Casa de Vila           1050.0\n",
              "Quitinete               600.0\n",
              "Name: Valor, dtype: float64"
            ]
          },
          "metadata": {
            "tags": []
          },
          "execution_count": 103
        }
      ]
    },
    {
      "cell_type": "code",
      "metadata": {
        "colab": {
          "base_uri": "https://localhost:8080/"
        },
        "id": "XlmQbVPkBWmn",
        "outputId": "d0de2221-f89b-4b56-c215-ffa6e5ff5900"
      },
      "source": [
        "limite_inferior"
      ],
      "execution_count": null,
      "outputs": [
        {
          "output_type": "execute_result",
          "data": {
            "text/plain": [
              "Tipo\n",
              "Apartamento           -3250.0\n",
              "Casa                 -11950.0\n",
              "Casa de Condomínio   -12875.0\n",
              "Casa de Vila           -825.0\n",
              "Quitinete                 0.0\n",
              "Name: Valor, dtype: float64"
            ]
          },
          "metadata": {
            "tags": []
          },
          "execution_count": 104
        }
      ]
    },
    {
      "cell_type": "code",
      "metadata": {
        "colab": {
          "base_uri": "https://localhost:8080/"
        },
        "id": "ryv0bI3cBXl_",
        "outputId": "854b91fc-481d-461a-df49-4703552dba62"
      },
      "source": [
        "limite_superior"
      ],
      "execution_count": null,
      "outputs": [
        {
          "output_type": "execute_result",
          "data": {
            "text/plain": [
              "Tipo\n",
              "Apartamento            9950.0\n",
              "Casa                  22850.0\n",
              "Casa de Condomínio    32125.0\n",
              "Casa de Vila           3375.0\n",
              "Quitinete              2400.0\n",
              "Name: Valor, dtype: float64"
            ]
          },
          "metadata": {
            "tags": []
          },
          "execution_count": 105
        }
      ]
    },
    {
      "cell_type": "code",
      "metadata": {
        "colab": {
          "base_uri": "https://localhost:8080/"
        },
        "id": "FKxI0FyJBYUA",
        "outputId": "5366736d-06f6-4b91-dfd1-2e25314c096d"
      },
      "source": [
        "limite_superior['Apartamento']"
      ],
      "execution_count": null,
      "outputs": [
        {
          "output_type": "execute_result",
          "data": {
            "text/plain": [
              "9950.0"
            ]
          },
          "metadata": {
            "tags": []
          },
          "execution_count": 106
        }
      ]
    },
    {
      "cell_type": "code",
      "metadata": {
        "id": "enwxS9y9Bccd"
      },
      "source": [
        "dados_novo = pd.DataFrame()\n",
        "for tipo in grupo_tipo.groups.keys():\n",
        "    eh_tipo = dados['Tipo'] == tipo\n",
        "    eh_dentro_limite = (dados['Valor'] >= limite_inferior[tipo]) & (dados['Valor'] <= limite_superior[tipo])\n",
        "    selecao = eh_tipo & eh_dentro_limite\n",
        "    dados_selecao = dados[selecao]\n",
        "    dados_novo = pd.concat([dados_novo, dados_selecao])"
      ],
      "execution_count": null,
      "outputs": []
    },
    {
      "cell_type": "code",
      "metadata": {
        "colab": {
          "base_uri": "https://localhost:8080/",
          "height": 491
        },
        "id": "yem5lGZlCuLm",
        "outputId": "6145da43-52ee-4b02-969c-28736cfcb0f9"
      },
      "source": [
        "dados_novo.boxplot(['Valor'], by=['Tipo'])"
      ],
      "execution_count": null,
      "outputs": [
        {
          "output_type": "stream",
          "text": [
            "/usr/local/lib/python3.7/dist-packages/numpy/core/_asarray.py:83: VisibleDeprecationWarning: Creating an ndarray from ragged nested sequences (which is a list-or-tuple of lists-or-tuples-or ndarrays with different lengths or shapes) is deprecated. If you meant to do this, you must specify 'dtype=object' when creating the ndarray\n",
            "  return array(a, dtype, copy=False, order=order)\n"
          ],
          "name": "stderr"
        },
        {
          "output_type": "execute_result",
          "data": {
            "text/plain": [
              "<matplotlib.axes._subplots.AxesSubplot at 0x7f2596bb10d0>"
            ]
          },
          "metadata": {
            "tags": []
          },
          "execution_count": 108
        },
        {
          "output_type": "display_data",
          "data": {
            "image/png": "[encoded data removed]",
            "text/plain": [
              "<Figure size 1008x432 with 1 Axes>"
            ]
          },
          "metadata": {
            "tags": [],
            "needs_background": "light"
          }
        }
      ]
    },
    {
      "cell_type": "code",
      "metadata": {
        "id": "Q6YnwIOSC2BP"
      },
      "source": [
        "dados_novo.to_csv('/content/drive/MyDrive/Curso Alura/Python Pandas: Tratando e Analisando Dados/dados/aluguel_residencial_sem_outliers.csv',\n",
        "                  sep=';',\n",
        "                  index=False)"
      ],
      "execution_count": null,
      "outputs": []
    }
  ]
}